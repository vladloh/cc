{
 "cells": [
  {
   "cell_type": "code",
   "execution_count": 1,
   "metadata": {},
   "outputs": [],
   "source": [
    "import pandas as pd\n",
    "import numpy as np\n",
    "\n",
    "import torch\n",
    "from torch.utils.data import DataLoader, Dataset\n",
    "from torch import nn\n",
    "from torch.nn import functional as F\n",
    "\n",
    "from torchnlp.word_to_vector import FastText\n",
    "\n",
    "\n",
    "import json\n",
    "import re\n"
   ]
  },
  {
   "cell_type": "code",
   "execution_count": 8,
   "metadata": {},
   "outputs": [],
   "source": [
    "# df = pd.read_csv('../data/lenta-ru-news.csv')\n",
    "# with open('../data/lenta-texts.json', 'w') as f:\n",
    "#     json.dump([{'text':i} for i in df.text], f)"
   ]
  },
  {
   "cell_type": "code",
   "execution_count": 2,
   "metadata": {},
   "outputs": [],
   "source": [
    "def preprocess(text):\n",
    "    return ' '.join(re.findall(r'[А-я]+', text))"
   ]
  },
  {
   "cell_type": "code",
   "execution_count": 5,
   "metadata": {},
   "outputs": [],
   "source": []
  },
  {
   "cell_type": "code",
   "execution_count": 8,
   "metadata": {},
   "outputs": [],
   "source": [
    "def pad(vectors, pad_len):\n",
    "    vectors = vectors[:pad_len]\n",
    "    return np.row_stack([vectors, np.zeros((pad_len - len(vectors), 300))])"
   ]
  },
  {
   "cell_type": "code",
   "execution_count": 9,
   "metadata": {},
   "outputs": [],
   "source": [
    "def clear_data(json_texts):\n",
    "    texts = []\n",
    "    for text in json_texts:\n",
    "        try:\n",
    "            preprocessed = preprocess(text['text'])\n",
    "        except TypeError as e:\n",
    "            continue\n",
    "        if len(preprocessed.split()) > 100:\n",
    "            preprocessed = ' '.join([i for i in preprocessed.split() if len(i) > 3])\n",
    "        try:\n",
    "            text = vectorize(preprocessed)\n",
    "        except ValueError as e:\n",
    "            continue\n",
    "        text = pad(text, 60)\n",
    "        texts.append(text)\n",
    "    return np.stack(texts, axis=0)"
   ]
  },
  {
   "cell_type": "code",
   "execution_count": 10,
   "metadata": {},
   "outputs": [],
   "source": [
    "class FasttextSet(Dataset):\n",
    "    def __init__(self, cosmo, nocosmo):\n",
    "        '''\n",
    "        data - json file name\n",
    "        '''\n",
    "        with open(cosmo, 'r') as f:\n",
    "            self.cosmo = json.load(f)\n",
    "        self.cosmo = clear_data(self.cosmo)\n",
    "        with open(nocosmo, 'r') as f:\n",
    "            self.nocosmo = json.load(f)[:100000]\n",
    "        self.nocosmo = clear_data(self.nocosmo)\n",
    "    \n",
    "    def __len__(self):\n",
    "        return int(5e4)\n",
    "    \n",
    "    def __getitem__(self, ind):\n",
    "        \n",
    "        if ind%2 == 0:\n",
    "            return self.cosmo[np.random.randint(len(self.cosmo))], self.cosmo[np.random.randint(len(self.cosmo))], 1\n",
    "        return self.cosmo[np.random.randint(len(self.cosmo))], self.nocosmo[np.random.randint(len(self.nocosmo))], 0\n"
   ]
  },
  {
   "cell_type": "code",
   "execution_count": null,
   "metadata": {},
   "outputs": [],
   "source": [
    "memLoader = DataLoader(FasttextSet('../data/mem_big.json', '../data/lenta-texts.json'), batch_size=32, shuffle=True)"
   ]
  },
  {
   "cell_type": "code",
   "execution_count": 91,
   "metadata": {},
   "outputs": [],
   "source": [
    "class SimilarityNet(nn.Module):\n",
    "    def __init__(self, ):\n",
    "        super(SimilarityNet, self).__init__()\n",
    "        self.process = nn.Sequential(\n",
    "            nn.Conv1d(300, 256, 15, padding=7),\n",
    "            nn.BatchNorm1d(256),\n",
    "            nn.LeakyReLU(0.05),\n",
    "            nn.Conv1d(256, 128, 9, padding=4),\n",
    "            nn.BatchNorm1d(128),\n",
    "            nn.LeakyReLU(0.05),\n",
    "            nn.Conv1d(128, 64, 5, padding=2),\n",
    "            nn.BatchNorm1d(64),\n",
    "            nn.LeakyReLU(0.05),\n",
    "        )\n",
    "        \n",
    "        self.compare = nn.Sequential(\n",
    "            nn.Conv1d(128, 64, 5, padding=2),\n",
    "            nn.BatchNorm1d(64),\n",
    "            nn.LeakyReLU(0.05),\n",
    "            nn.Conv1d(64, 32, 3, padding=1),\n",
    "            nn.BatchNorm1d(32),\n",
    "            nn.LeakyReLU(0.05),\n",
    "            nn.Conv1d(32, 1, 3, padding=1),\n",
    "        )\n",
    "        \n",
    "    def forward(self, x1, x2):\n",
    "        x1 = self.process(x1)\n",
    "        x2 = self.process(x2)\n",
    "        x = torch.cat([x1, x2], dim=1)\n",
    "        x = torch.sigmoid(self.compare(x))\n",
    "        return x"
   ]
  },
  {
   "cell_type": "code",
   "execution_count": 92,
   "metadata": {},
   "outputs": [],
   "source": [
    "simnet = SimilarityNet().float()"
   ]
  },
  {
   "cell_type": "code",
   "execution_count": 93,
   "metadata": {},
   "outputs": [],
   "source": [
    "batch = next(iter(memLoader)).permute(0, 2, 1).float()"
   ]
  },
  {
   "cell_type": "code",
   "execution_count": null,
   "metadata": {},
   "outputs": [],
   "source": []
  },
  {
   "cell_type": "code",
   "execution_count": 94,
   "metadata": {},
   "outputs": [
    {
     "data": {
      "text/plain": [
       "torch.Size([32, 1, 60])"
      ]
     },
     "execution_count": 94,
     "metadata": {},
     "output_type": "execute_result"
    }
   ],
   "source": [
    "simnet(batch, batch).shape"
   ]
  },
  {
   "cell_type": "code",
   "execution_count": null,
   "metadata": {},
   "outputs": [],
   "source": []
  },
  {
   "cell_type": "code",
   "execution_count": null,
   "metadata": {},
   "outputs": [],
   "source": []
  },
  {
   "cell_type": "code",
   "execution_count": null,
   "metadata": {},
   "outputs": [],
   "source": []
  },
  {
   "cell_type": "code",
   "execution_count": null,
   "metadata": {},
   "outputs": [],
   "source": []
  },
  {
   "cell_type": "code",
   "execution_count": null,
   "metadata": {},
   "outputs": [],
   "source": []
  }
 ],
 "metadata": {
  "kernelspec": {
   "display_name": "Python 3",
   "language": "python",
   "name": "python3"
  },
  "language_info": {
   "codemirror_mode": {
    "name": "ipython",
    "version": 3
   },
   "file_extension": ".py",
   "mimetype": "text/x-python",
   "name": "python",
   "nbconvert_exporter": "python",
   "pygments_lexer": "ipython3",
   "version": "3.5.2"
  }
 },
 "nbformat": 4,
 "nbformat_minor": 2
}
