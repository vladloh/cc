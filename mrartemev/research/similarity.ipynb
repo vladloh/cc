{
 "cells": [
  {
   "cell_type": "code",
   "execution_count": 1,
   "metadata": {},
   "outputs": [],
   "source": [
    "import torch\n",
    "from torch.utils.data import DataLoader, Dataset\n",
    "from torch import nn\n",
    "from torch.nn import functional as F\n",
    "\n",
    "from torchnlp.word_to_vector import FastText\n",
    "\n",
    "\n",
    "import json\n",
    "import re\n",
    "\n",
    "import numpy as np\n"
   ]
  },
  {
   "cell_type": "code",
   "execution_count": 2,
   "metadata": {},
   "outputs": [],
   "source": [
    "# !pip3 install gensim"
   ]
  },
  {
   "cell_type": "code",
   "execution_count": 26,
   "metadata": {},
   "outputs": [],
   "source": [
    "# mem = []\n",
    "# for line in open('../data/mem.json', 'r'):\n",
    "#     mem.append(json.loads(line))\n"
   ]
  },
  {
   "cell_type": "code",
   "execution_count": 35,
   "metadata": {},
   "outputs": [],
   "source": [
    "def preprocess(text):\n",
    "    return ' '.join([i for i in re.findall(r'[А-я]+', text) if len(i) > 3])"
   ]
  },
  {
   "cell_type": "code",
   "execution_count": 29,
   "metadata": {},
   "outputs": [],
   "source": [
    "from gensim.models.wrappers import FastText\n",
    "\n",
    "model = FastText.load_fasttext_format('../data/cc.ru.300.bin')"
   ]
  },
  {
   "cell_type": "code",
   "execution_count": 36,
   "metadata": {},
   "outputs": [],
   "source": [
    "def vectorize(text):\n",
    "    text = text.split(' ')\n",
    "    return np.row_stack([model.wv[word] for word in text])"
   ]
  },
  {
   "cell_type": "code",
   "execution_count": 59,
   "metadata": {},
   "outputs": [],
   "source": [
    "def pad(vectors, pad_len):\n",
    "    vectors = vectors[:pad_len]\n",
    "    return np.row_stack([vectors, np.zeros((pad_len - len(vectors), 300))])"
   ]
  },
  {
   "cell_type": "code",
   "execution_count": 60,
   "metadata": {},
   "outputs": [],
   "source": [
    "class FasttextSet(Dataset):\n",
    "    def __init__(self, data):\n",
    "        '''\n",
    "        data - json file name\n",
    "        '''\n",
    "        with open(data, 'r') as f:\n",
    "            self.texts = json.load(f)\n",
    "        self.texts = [preprocess(text['text']) for text in self.texts]\n",
    "        self.texts = [vectorize(text) for text in self.texts]\n",
    "    \n",
    "    def __len__(self):\n",
    "        return len(self.texts)\n",
    "    \n",
    "    def __getitem__(self, ind):\n",
    "        return pad(self.texts[ind], 60)"
   ]
  },
  {
   "cell_type": "code",
   "execution_count": 61,
   "metadata": {},
   "outputs": [],
   "source": [
    "memLoader = DataLoader(FasttextSet('../data/mem_smol.json'), batch_size=32, shuffle=True)"
   ]
  },
  {
   "cell_type": "code",
   "execution_count": 91,
   "metadata": {},
   "outputs": [],
   "source": [
    "class SimilarityNet(nn.Module):\n",
    "    def __init__(self, ):\n",
    "        super(SimilarityNet, self).__init__()\n",
    "        self.process = nn.Sequential(\n",
    "            nn.Conv1d(300, 256, 15, padding=7),\n",
    "            nn.BatchNorm1d(256),\n",
    "            nn.LeakyReLU(0.05),\n",
    "            nn.Conv1d(256, 128, 9, padding=4),\n",
    "            nn.BatchNorm1d(128),\n",
    "            nn.LeakyReLU(0.05),\n",
    "            nn.Conv1d(128, 64, 5, padding=2),\n",
    "            nn.BatchNorm1d(64),\n",
    "            nn.LeakyReLU(0.05),\n",
    "        )\n",
    "        \n",
    "        self.compare = nn.Sequential(\n",
    "            nn.Conv1d(128, 64, 5, padding=2),\n",
    "            nn.BatchNorm1d(64),\n",
    "            nn.LeakyReLU(0.05),\n",
    "            nn.Conv1d(64, 32, 3, padding=1),\n",
    "            nn.BatchNorm1d(32),\n",
    "            nn.LeakyReLU(0.05),\n",
    "            nn.Conv1d(32, 1, 3, padding=1),\n",
    "        )\n",
    "        \n",
    "    def forward(self, x1, x2):\n",
    "        x1 = self.process(x1)\n",
    "        x2 = self.process(x2)\n",
    "        x = torch.cat([x1, x2], dim=1)\n",
    "        x = torch.sigmoid(self.compare(x))\n",
    "        return x"
   ]
  },
  {
   "cell_type": "code",
   "execution_count": 92,
   "metadata": {},
   "outputs": [],
   "source": [
    "simnet = SimilarityNet().float()"
   ]
  },
  {
   "cell_type": "code",
   "execution_count": 93,
   "metadata": {},
   "outputs": [],
   "source": [
    "batch = next(iter(memLoader)).permute(0, 2, 1).float()"
   ]
  },
  {
   "cell_type": "code",
   "execution_count": null,
   "metadata": {},
   "outputs": [],
   "source": []
  },
  {
   "cell_type": "code",
   "execution_count": 94,
   "metadata": {},
   "outputs": [
    {
     "data": {
      "text/plain": [
       "torch.Size([32, 1, 60])"
      ]
     },
     "execution_count": 94,
     "metadata": {},
     "output_type": "execute_result"
    }
   ],
   "source": [
    "simnet(batch, batch).shape"
   ]
  },
  {
   "cell_type": "code",
   "execution_count": null,
   "metadata": {},
   "outputs": [],
   "source": []
  }
 ],
 "metadata": {
  "kernelspec": {
   "display_name": "Python 3",
   "language": "python",
   "name": "python3"
  },
  "language_info": {
   "codemirror_mode": {
    "name": "ipython",
    "version": 3
   },
   "file_extension": ".py",
   "mimetype": "text/x-python",
   "name": "python",
   "nbconvert_exporter": "python",
   "pygments_lexer": "ipython3",
   "version": "3.5.2"
  }
 },
 "nbformat": 4,
 "nbformat_minor": 2
}
