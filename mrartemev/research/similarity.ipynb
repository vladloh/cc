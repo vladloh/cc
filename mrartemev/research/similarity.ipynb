{
 "cells": [
  {
   "cell_type": "code",
   "execution_count": 1,
   "metadata": {},
   "outputs": [],
   "source": [
    "import torch\n",
    "from torch.utils.data import DataLoader, Dataset\n",
    "from torch import nn\n",
    "from torch.nn import functional as F\n",
    "\n",
    "import json\n",
    "import re\n",
    "\n",
    "import numpy as np\n",
    "\n",
    "from tqdm import tqdm_notebook\n",
    "\n",
    "import matplotlib.pyplot as plt\n",
    "%matplotlib inline"
   ]
  },
  {
   "cell_type": "code",
   "execution_count": 2,
   "metadata": {},
   "outputs": [],
   "source": [
    "# !pip3 install pymorphy2[fast]\n",
    "# !pip3 install gensim\n",
    "# !pip3 install torchtext"
   ]
  },
  {
   "cell_type": "code",
   "execution_count": 4,
   "metadata": {},
   "outputs": [],
   "source": [
    "import pymorphy2\n",
    "\n",
    "morph = pymorphy2.MorphAnalyzer()\n",
    "\n",
    "def normal_form(word):\n",
    "    return morph.parse(word)[0].normal_form"
   ]
  },
  {
   "cell_type": "code",
   "execution_count": 5,
   "metadata": {},
   "outputs": [],
   "source": [
    "# import pandas as pd\n",
    "\n",
    "# df = pd.read_csv('../data/lenta-ru-news.csv')\n",
    "# with open('../data/lenta-texts.json', 'w') as f:\n",
    "#     json.dump([{'text':i} for i in df.title], f)"
   ]
  },
  {
   "cell_type": "code",
   "execution_count": 6,
   "metadata": {},
   "outputs": [],
   "source": [
    "# with open('../data/lenta-texts.json', 'r') as f:\n",
    "#     q = json.load(f)\n",
    "# with open('../data/lenta-texts-small.json', 'w') as f:\n",
    "#     json.dump(q[-10000:], f)\n",
    "\n",
    "# with open('../data/lenta-texts-small.json', 'r') as f:\n",
    "#     q = json.load(f)\n",
    "# with open('../data/lenta-texts-small-val.json', 'w') as f:\n",
    "#     json.dump(q[-100:], f)\n",
    "\n",
    "# with open('../data/mem_big.json', 'r') as f:\n",
    "#     q = json.load(f)\n",
    "# print(len(q))\n",
    "# with open('../data/mem-val.json', 'w') as f:\n",
    "#     json.dump(q[-100:], f)\n"
   ]
  },
  {
   "cell_type": "code",
   "execution_count": null,
   "metadata": {},
   "outputs": [],
   "source": []
  },
  {
   "cell_type": "code",
   "execution_count": 7,
   "metadata": {},
   "outputs": [],
   "source": [
    "def preprocess(text):\n",
    "    return ' '.join([normal_form(i) for i in re.findall(r'[А-я]+', text) if len(i) > 2])"
   ]
  },
  {
   "cell_type": "code",
   "execution_count": 8,
   "metadata": {},
   "outputs": [],
   "source": [
    "import torchtext.vocab as vocab\n",
    "\n",
    "vectors = vocab.Vectors('../data/ruwiki_20180420_100d.txt') # file created by gensim\n"
   ]
  },
  {
   "cell_type": "code",
   "execution_count": 10,
   "metadata": {},
   "outputs": [],
   "source": [
    "PAD_IDX = len(vectors.stoi) - 2\n",
    "UNK_IDX = len(vectors.stoi) - 1\n",
    "TOTAL_EMBS = len(vectors)"
   ]
  },
  {
   "cell_type": "code",
   "execution_count": 11,
   "metadata": {},
   "outputs": [],
   "source": [
    "def vectorize(text):\n",
    "    text = preprocess(text['text'])\n",
    "    inds = []\n",
    "    if len(text.split()) < 5:\n",
    "        return None\n",
    "    for word in text.split():\n",
    "        try:\n",
    "            inds.append(vectors.stoi[word])\n",
    "        except KeyError:\n",
    "            inds.append(UNK_IDX)\n",
    "    if len(inds) < 5:\n",
    "        return None\n",
    "    while len(inds) < 90:\n",
    "        inds.append(PAD_IDX)\n",
    "    return inds[:90]"
   ]
  },
  {
   "cell_type": "code",
   "execution_count": 12,
   "metadata": {},
   "outputs": [],
   "source": [
    "def vectorize_all(texts):\n",
    "    ans = []\n",
    "    for text in tqdm_notebook(texts):\n",
    "        try:\n",
    "            vec = vectorize(text)\n",
    "        except Exception as e:\n",
    "            continue\n",
    "        if vec:\n",
    "            ans.append(vec)\n",
    "    return ans"
   ]
  },
  {
   "cell_type": "code",
   "execution_count": 13,
   "metadata": {},
   "outputs": [],
   "source": [
    "class FasttextSet(Dataset):\n",
    "    def __init__(self, cosmo, nocosmo):\n",
    "        '''\n",
    "        data - json file name\n",
    "        '''\n",
    "        with open(nocosmo, 'r') as f:\n",
    "            self.nocosmo = json.load(f)\n",
    "        self.nocosmo = vectorize_all(self.nocosmo)\n",
    "\n",
    "        with open(cosmo, 'r') as f:\n",
    "            self.cosmo = json.load(f)\n",
    "        self.cosmo = vectorize_all(self.cosmo)\n",
    "    \n",
    "    def __len__(self):\n",
    "        return int(5e4)\n",
    "    \n",
    "    def __getitem__(self, ind):\n",
    "        \n",
    "        if ind%2 == 0:\n",
    "            return torch.Tensor(self.cosmo[np.random.randint(len(self.cosmo))]).long(), \\\n",
    "                    torch.Tensor(self.cosmo[np.random.randint(len(self.cosmo))]).long(), 1\n",
    "        return torch.Tensor(self.cosmo[np.random.randint(len(self.cosmo))]).long(), \\\n",
    "                torch.Tensor(self.nocosmo[np.random.randint(len(self.nocosmo))]).long(), 0\n"
   ]
  },
  {
   "cell_type": "code",
   "execution_count": 14,
   "metadata": {},
   "outputs": [
    {
     "data": {
      "application/vnd.jupyter.widget-view+json": {
       "model_id": "0c7347b31e46412895c0092df8c1396b",
       "version_major": 2,
       "version_minor": 0
      },
      "text/plain": [
       "HBox(children=(IntProgress(value=0, max=10000), HTML(value='')))"
      ]
     },
     "metadata": {},
     "output_type": "display_data"
    },
    {
     "name": "stdout",
     "output_type": "stream",
     "text": [
      "\n"
     ]
    },
    {
     "data": {
      "application/vnd.jupyter.widget-view+json": {
       "model_id": "3bd498a1884248e5b2ed659c22f4d4b7",
       "version_major": 2,
       "version_minor": 0
      },
      "text/plain": [
       "HBox(children=(IntProgress(value=0, max=9900), HTML(value='')))"
      ]
     },
     "metadata": {},
     "output_type": "display_data"
    },
    {
     "name": "stdout",
     "output_type": "stream",
     "text": [
      "\n"
     ]
    }
   ],
   "source": [
    "memLoader = DataLoader(FasttextSet('../data/mem_big.json', '../data/lenta-texts-small.json'),\n",
    "                       batch_size=32, shuffle=True)"
   ]
  },
  {
   "cell_type": "code",
   "execution_count": 15,
   "metadata": {},
   "outputs": [
    {
     "data": {
      "application/vnd.jupyter.widget-view+json": {
       "model_id": "45901ebfca324a9a92c09dc6f70aeae1",
       "version_major": 2,
       "version_minor": 0
      },
      "text/plain": [
       "HBox(children=(IntProgress(value=0), HTML(value='')))"
      ]
     },
     "metadata": {},
     "output_type": "display_data"
    },
    {
     "name": "stdout",
     "output_type": "stream",
     "text": [
      "\n"
     ]
    },
    {
     "data": {
      "application/vnd.jupyter.widget-view+json": {
       "model_id": "f828a03547934106be5421a87d7a6fff",
       "version_major": 2,
       "version_minor": 0
      },
      "text/plain": [
       "HBox(children=(IntProgress(value=0), HTML(value='')))"
      ]
     },
     "metadata": {},
     "output_type": "display_data"
    },
    {
     "name": "stdout",
     "output_type": "stream",
     "text": [
      "\n"
     ]
    }
   ],
   "source": [
    "memLoader_val = DataLoader(FasttextSet('../data/mem-val.json', '../data/lenta-texts-small-val.json'),\n",
    "                           batch_size=32, shuffle=True)"
   ]
  },
  {
   "cell_type": "code",
   "execution_count": null,
   "metadata": {},
   "outputs": [],
   "source": []
  },
  {
   "cell_type": "code",
   "execution_count": 16,
   "metadata": {},
   "outputs": [],
   "source": [
    "class SimilarityNet(nn.Module):\n",
    "    def __init__(self, ):\n",
    "        super(SimilarityNet, self).__init__()\n",
    "        self.embs = nn.Embedding(len(vectors), embedding_dim=100, padding_idx=PAD_IDX).from_pretrained(\n",
    "            torch.FloatTensor(vectors.vectors)\n",
    "        )\n",
    "        self.process = nn.Sequential(\n",
    "            nn.Conv1d(100, 100, 15),\n",
    "            nn.BatchNorm1d(100),\n",
    "            nn.LeakyReLU(0.05),\n",
    "            nn.Conv1d(100, 64, 9),\n",
    "            nn.BatchNorm1d(64),\n",
    "            nn.LeakyReLU(0.05),\n",
    "        )\n",
    "        \n",
    "        self.compare = nn.Sequential(\n",
    "            nn.Conv1d(128, 64, 9),\n",
    "            nn.BatchNorm1d(64),\n",
    "            nn.LeakyReLU(0.05),\n",
    "            nn.Conv1d(64, 32, 5),\n",
    "            nn.BatchNorm1d(32),\n",
    "            nn.LeakyReLU(0.05),\n",
    "            nn.Conv1d(32, 32, 5),\n",
    "            nn.BatchNorm1d(32),\n",
    "            nn.LeakyReLU(0.05),\n",
    "        )\n",
    "        self.compare_fc = nn.Sequential(\n",
    "            nn.Linear(32, 1),\n",
    "#             nn.Sigmoid()\n",
    "        )\n",
    "        \n",
    "    def forward(self, x1, x2):\n",
    "        x1 = self.process(self.embs(x1).permute(0, 2, 1))\n",
    "        x2 = self.process(self.embs(x2).permute(0, 2, 1))\n",
    "        x = torch.cat([x1, x2], dim=1)\n",
    "        x = self.compare(x)\n",
    "        x = torch.mean(x, dim=-1)\n",
    "        return self.compare_fc(x)"
   ]
  },
  {
   "cell_type": "code",
   "execution_count": 17,
   "metadata": {},
   "outputs": [],
   "source": [
    "simnet = SimilarityNet()\n",
    "criterion = nn.BCEWithLogitsLoss()\n",
    "optim = torch.optim.Adam(simnet.parameters())"
   ]
  },
  {
   "cell_type": "code",
   "execution_count": 18,
   "metadata": {},
   "outputs": [
    {
     "data": {
      "application/vnd.jupyter.widget-view+json": {
       "model_id": "68e0229700004661b5aef10acd424a8d",
       "version_major": 2,
       "version_minor": 0
      },
      "text/plain": [
       "HBox(children=(IntProgress(value=0, max=1563), HTML(value='')))"
      ]
     },
     "metadata": {},
     "output_type": "display_data"
    },
    {
     "name": "stdout",
     "output_type": "stream",
     "text": [
      "\n"
     ]
    }
   ],
   "source": [
    "train_losses = []\n",
    "\n",
    "for x1, x2, target in tqdm_notebook(memLoader):\n",
    "    optim.zero_grad()\n",
    "    pred = simnet(x1, x2)\n",
    "    loss = criterion(pred, target.unsqueeze(1).float())\n",
    "    train_losses.append(loss.item())\n",
    "    loss.backward()\n",
    "    optim.step()\n",
    "    "
   ]
  },
  {
   "cell_type": "code",
   "execution_count": 19,
   "metadata": {},
   "outputs": [
    {
     "data": {
      "text/plain": [
       "[<matplotlib.lines.Line2D at 0x7f526d3774e0>]"
      ]
     },
     "execution_count": 19,
     "metadata": {},
     "output_type": "execute_result"
    },
    {
     "data": {
      "image/png": "[encoded data removed]",
      "text/plain": [
       "<Figure size 432x288 with 1 Axes>"
      ]
     },
     "metadata": {
      "needs_background": "light"
     },
     "output_type": "display_data"
    }
   ],
   "source": [
    "plt.plot(train_losses)"
   ]
  },
  {
   "cell_type": "code",
   "execution_count": 20,
   "metadata": {},
   "outputs": [
    {
     "data": {
      "application/vnd.jupyter.widget-view+json": {
       "model_id": "20b10547c55e4cf8adb5e08008004be7",
       "version_major": 2,
       "version_minor": 0
      },
      "text/plain": [
       "HBox(children=(IntProgress(value=0, max=1563), HTML(value='')))"
      ]
     },
     "metadata": {},
     "output_type": "display_data"
    },
    {
     "name": "stdout",
     "output_type": "stream",
     "text": [
      "\n"
     ]
    }
   ],
   "source": [
    "def sigmoid(x):\n",
    "    return 1 / (1 + np.exp(-x))\n",
    "\n",
    "\n",
    "y_true = []\n",
    "y_pred = []\n",
    "\n",
    "for x1, x2, target in tqdm_notebook(memLoader_val):\n",
    "    pred = simnet(x1, x2)\n",
    "    for i, j in zip(pred.squeeze().detach().numpy(), target.detach().numpy()):\n",
    "        y_pred.append(sigmoid(i))\n",
    "        y_true.append(j)\n",
    "        "
   ]
  },
  {
   "cell_type": "code",
   "execution_count": 21,
   "metadata": {},
   "outputs": [
    {
     "data": {
      "text/plain": [
       "0.9982771936"
      ]
     },
     "execution_count": 21,
     "metadata": {},
     "output_type": "execute_result"
    }
   ],
   "source": [
    "from sklearn.metrics import roc_auc_score\n",
    "\n",
    "roc_auc_score(y_true, y_pred)"
   ]
  },
  {
   "cell_type": "code",
   "execution_count": null,
   "metadata": {},
   "outputs": [],
   "source": []
  },
  {
   "cell_type": "code",
   "execution_count": null,
   "metadata": {},
   "outputs": [],
   "source": []
  },
  {
   "cell_type": "code",
   "execution_count": 22,
   "metadata": {},
   "outputs": [],
   "source": [
    "with open('../data/mem-val.json', 'r') as f:\n",
    "    c = json.load(f)\n",
    "with open('../data/lenta-texts-small-val.json', 'r') as f:\n",
    "    l = json.load(f)\n",
    "    "
   ]
  },
  {
   "cell_type": "code",
   "execution_count": 38,
   "metadata": {},
   "outputs": [
    {
     "data": {
      "text/plain": [
       "{'text': 'ФБР готовится к\\xa0кибер-войне и\\xa0терактам в\\xa0канун 2000\\xa0года'}"
      ]
     },
     "execution_count": 38,
     "metadata": {},
     "output_type": "execute_result"
    }
   ],
   "source": [
    "l[50]"
   ]
  },
  {
   "cell_type": "code",
   "execution_count": 40,
   "metadata": {},
   "outputs": [
    {
     "data": {
      "text/plain": [
       "{'text': 'отдел маркетинга #cosmopolitan_russia считает, что сегодня пятница!;)'}"
      ]
     },
     "execution_count": 40,
     "metadata": {},
     "output_type": "execute_result"
    }
   ],
   "source": [
    "c[50]"
   ]
  },
  {
   "cell_type": "code",
   "execution_count": 30,
   "metadata": {},
   "outputs": [],
   "source": [
    "def test_strs(x1, x2):\n",
    "    x1 = torch.Tensor(vectorize(x1)).long().unsqueeze(0)\n",
    "    x2 = torch.Tensor(vectorize(x2)).long().unsqueeze(0)\n",
    "    ans = sigmoid(simnet(x1, x2).item())\n",
    "    return ans"
   ]
  },
  {
   "cell_type": "code",
   "execution_count": 43,
   "metadata": {},
   "outputs": [
    {
     "data": {
      "text/plain": [
       "0.5634875684116093"
      ]
     },
     "execution_count": 43,
     "metadata": {},
     "output_type": "execute_result"
    }
   ],
   "source": [
    "test_strs({'text' : 'Лавров ответил на публикацию разговора Трампа и Зеленского наставлением от мамы'},\n",
    "          {'text' : 'Лавров ответил на публикацию разговора Трампа и Зеленского наставлением от мамы'})\n"
   ]
  },
  {
   "cell_type": "code",
   "execution_count": null,
   "metadata": {},
   "outputs": [],
   "source": []
  },
  {
   "cell_type": "code",
   "execution_count": null,
   "metadata": {},
   "outputs": [],
   "source": []
  },
  {
   "cell_type": "code",
   "execution_count": null,
   "metadata": {},
   "outputs": [],
   "source": []
  },
  {
   "cell_type": "code",
   "execution_count": null,
   "metadata": {},
   "outputs": [],
   "source": [
    "simnet.parameters"
   ]
  },
  {
   "cell_type": "code",
   "execution_count": 30,
   "metadata": {},
   "outputs": [
    {
     "data": {
      "text/plain": [
       "torch.Size([32, 1])"
      ]
     },
     "execution_count": 30,
     "metadata": {},
     "output_type": "execute_result"
    }
   ],
   "source": [
    "simnet(batch[0], batch[1]).shape"
   ]
  },
  {
   "cell_type": "code",
   "execution_count": 37,
   "metadata": {},
   "outputs": [],
   "source": [
    "input = torch.randn(3, requires_grad=True)\n",
    "target = torch.empty(3).random_(2)\n"
   ]
  },
  {
   "cell_type": "code",
   "execution_count": 38,
   "metadata": {},
   "outputs": [
    {
     "data": {
      "text/plain": [
       "tensor([ 0.0399, -0.7024,  2.8633], requires_grad=True)"
      ]
     },
     "execution_count": 38,
     "metadata": {},
     "output_type": "execute_result"
    }
   ],
   "source": [
    "input"
   ]
  },
  {
   "cell_type": "code",
   "execution_count": 39,
   "metadata": {},
   "outputs": [
    {
     "data": {
      "text/plain": [
       "tensor([0., 0., 0.])"
      ]
     },
     "execution_count": 39,
     "metadata": {},
     "output_type": "execute_result"
    }
   ],
   "source": [
    "target"
   ]
  },
  {
   "cell_type": "code",
   "execution_count": null,
   "metadata": {},
   "outputs": [],
   "source": []
  }
 ],
 "metadata": {
  "kernelspec": {
   "display_name": "Python 3",
   "language": "python",
   "name": "python3"
  },
  "language_info": {
   "codemirror_mode": {
    "name": "ipython",
    "version": 3
   },
   "file_extension": ".py",
   "mimetype": "text/x-python",
   "name": "python",
   "nbconvert_exporter": "python",
   "pygments_lexer": "ipython3",
   "version": "3.5.2"
  }
 },
 "nbformat": 4,
 "nbformat_minor": 2
}
