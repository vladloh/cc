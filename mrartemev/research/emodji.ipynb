{
 "cells": [
  {
   "cell_type": "code",
   "execution_count": 1,
   "metadata": {},
   "outputs": [],
   "source": [
    "import torch\n",
    "from torch.utils.data import DataLoader, Dataset\n",
    "from torch import nn\n",
    "from torch.nn import functional as F\n",
    "\n",
    "import json\n",
    "import re\n",
    "\n",
    "import numpy as np\n",
    "import itertools\n",
    "from collections import Counter, defaultdict\n",
    "\n",
    "from tqdm import tqdm_notebook\n",
    "\n",
    "\n",
    "import matplotlib.pyplot as plt\n",
    "%matplotlib inline"
   ]
  },
  {
   "cell_type": "code",
   "execution_count": 2,
   "metadata": {},
   "outputs": [],
   "source": [
    "# !pip3 install pymorphy2[fast]\n",
    "# !pip3 install gensim\n",
    "# !pip3 install torchtext\n",
    "# !pip3 install emoji\n"
   ]
  },
  {
   "cell_type": "code",
   "execution_count": 3,
   "metadata": {},
   "outputs": [
    {
     "name": "stdout",
     "output_type": "stream",
     "text": [
      "BbrqRksHkTN.json\t    lenta-texts-small-val.json\r\n",
      "agentgirl.json\t\t    lenta-texts-small.json\r\n",
      "anastasia.hm.json\t    lenta-texts.json\r\n",
      "anastasiya_golovinova.json  mariakakdela.json\r\n",
      "boyechik.json\t\t    mem-train.json\r\n",
      "buzova.json\t\t    mem-val.json\r\n",
      "cc.ru.300.bin\t\t    mem.json\r\n",
      "ekaterinakoba.json\t    mem2.json\r\n",
      "face_morphing.ipynb.json    mem_big.json\r\n",
      "funastacia.json\t\t    mem_smol.json\r\n",
      "joined-emoji-train.json     mem_with_likes.json\r\n",
      "joined-emoji-val.json\t    navalny.json\r\n",
      "joined-emoji.json\t    ntv.json\r\n",
      "joined.json\t\t    portnyagin.json\r\n",
      "karinakross.json\t    ruwiki_20180420_100d.txt\r\n",
      "katusha_adushkina.json\t    savchuk.json\r\n",
      "klavacoca.json\t\t    sofia_stuzhuk.json\r\n",
      "klyukina.json\t\t    tvrain.json\r\n",
      "lenta-ru-news.csv\r\n"
     ]
    }
   ],
   "source": [
    "!ls ../data"
   ]
  },
  {
   "cell_type": "code",
   "execution_count": 4,
   "metadata": {},
   "outputs": [
    {
     "data": {
      "application/vnd.jupyter.widget-view+json": {
       "model_id": "3581902e820b427dacd34dcd3c13312c",
       "version_major": 2,
       "version_minor": 0
      },
      "text/plain": [
       "HBox(children=(IntProgress(value=0, max=15), HTML(value='')))"
      ]
     },
     "metadata": {},
     "output_type": "display_data"
    },
    {
     "name": "stdout",
     "output_type": "stream",
     "text": [
      "\n",
      "39928\n"
     ]
    }
   ],
   "source": [
    "import random\n",
    "\n",
    "texts = []\n",
    "\n",
    "for file in tqdm_notebook(['savchuk.json', 'funastacia.json',\n",
    "                           'anastasia.hm.json', 'mem_big.json',\n",
    "                           'klavacoca.json', 'karinakross.json', 'buzova.json',\n",
    "                           'agentgirl.json', 'klyukina.json',\n",
    "                           'katusha_adushkina.json', 'mariakakdela.json',\n",
    "                           'BbrqRksHkTN.json', 'sofia_stuzhuk.json',\n",
    "                           'anastasiya_golovinova.json', 'ekaterinakoba.json']):\n",
    "    with open('../data/' + file, 'r') as f:\n",
    "        temp_file = json.load(f)\n",
    "        for text in temp_file:\n",
    "            texts.append({'text' : text['text']})\n",
    "print(len(texts))\n",
    "random.shuffle(texts)\n",
    "with open('../data/joined-emoji-val.json', 'w') as f:\n",
    "    json.dump(texts[:500], f)\n",
    "    \n",
    "with open('../data/joined-emoji-train.json', 'w') as f:\n",
    "    json.dump(texts[500:], f)"
   ]
  },
  {
   "cell_type": "code",
   "execution_count": null,
   "metadata": {},
   "outputs": [],
   "source": []
  },
  {
   "cell_type": "code",
   "execution_count": 5,
   "metadata": {},
   "outputs": [],
   "source": [
    "import pymorphy2\n",
    "\n",
    "morph = pymorphy2.MorphAnalyzer()\n",
    "\n",
    "def normal_form(word):\n",
    "    return morph.parse(word)[0].normal_form"
   ]
  },
  {
   "cell_type": "code",
   "execution_count": 6,
   "metadata": {},
   "outputs": [],
   "source": [
    "import emoji\n",
    "\n",
    "def find_emoji(text):\n",
    "    emojis = []\n",
    "    for character in text:\n",
    "        if character in emoji.UNICODE_EMOJI:\n",
    "            emojis.append(character)\n",
    "    return emojis\n",
    "\n",
    "def char_is_emoji(character):\n",
    "    return character in emoji.UNICODE_EMOJI\n"
   ]
  },
  {
   "cell_type": "code",
   "execution_count": 7,
   "metadata": {},
   "outputs": [],
   "source": [
    "def preprocess(text):\n",
    "    return ' '.join([normal_form(i) for i in re.findall(r'[А-я]+', text) if len(i) > 2])"
   ]
  },
  {
   "cell_type": "code",
   "execution_count": 8,
   "metadata": {},
   "outputs": [],
   "source": [
    "import torchtext.vocab as vocab\n",
    "\n",
    "vectors = vocab.Vectors('../data/ruwiki_20180420_100d.txt') # file created by gensim\n"
   ]
  },
  {
   "cell_type": "code",
   "execution_count": 9,
   "metadata": {},
   "outputs": [],
   "source": [
    "PAD_IDX = len(vectors.stoi) - 2\n",
    "UNK_IDX = len(vectors.stoi) - 1\n",
    "TOTAL_EMBS = len(vectors)"
   ]
  },
  {
   "cell_type": "code",
   "execution_count": 10,
   "metadata": {},
   "outputs": [],
   "source": [
    "def vectorize_text_only(text):\n",
    "    try:\n",
    "        text = preprocess(text['text'])\n",
    "    except TypeError as e:\n",
    "        return None\n",
    "    inds = []\n",
    "    if len(text.split()) < 3:\n",
    "        return None\n",
    "    for word in text.split():\n",
    "        try:\n",
    "            inds.append(vectors.stoi[word])\n",
    "        except KeyError:\n",
    "            inds.append(UNK_IDX)\n",
    "    if len(inds) < 2:\n",
    "        return None\n",
    "    while len(inds) < 90:\n",
    "        inds.append(PAD_IDX)\n",
    "    return inds[:90]\n"
   ]
  },
  {
   "cell_type": "code",
   "execution_count": 11,
   "metadata": {},
   "outputs": [],
   "source": [
    "def vectorize(text):\n",
    "    emojis = find_emoji(text['text'])\n",
    "    if len(emojis) == 0:\n",
    "        return None, None\n",
    "    try:\n",
    "        text = preprocess(text['text'])\n",
    "    except TypeError as e:\n",
    "        return None, None\n",
    "    inds = []\n",
    "    if len(text.split()) < 3:\n",
    "        return None, None\n",
    "    for word in text.split():\n",
    "        try:\n",
    "            inds.append(vectors.stoi[word])\n",
    "        except KeyError:\n",
    "            inds.append(UNK_IDX)\n",
    "    if len(inds) < 2:\n",
    "        return None, None\n",
    "    while len(inds) < 90:\n",
    "        inds.append(PAD_IDX)\n",
    "    return inds[:90], emojis"
   ]
  },
  {
   "cell_type": "code",
   "execution_count": 12,
   "metadata": {},
   "outputs": [],
   "source": [
    "def vectorize_all(texts):\n",
    "    ans = []\n",
    "    emojis = []\n",
    "    for text in tqdm_notebook(texts):\n",
    "        try:\n",
    "            vec, ems = vectorize(text)\n",
    "        except Exception as e:\n",
    "            continue\n",
    "        if vec:\n",
    "            ans.append(vec)\n",
    "            emojis.append(ems)\n",
    "    return ans, emojis"
   ]
  },
  {
   "cell_type": "code",
   "execution_count": 13,
   "metadata": {},
   "outputs": [
    {
     "data": {
      "application/vnd.jupyter.widget-view+json": {
       "model_id": "dcf1c1734af948e69754afc7dd033b29",
       "version_major": 2,
       "version_minor": 0
      },
      "text/plain": [
       "HBox(children=(IntProgress(value=0, max=39428), HTML(value='')))"
      ]
     },
     "metadata": {},
     "output_type": "display_data"
    },
    {
     "name": "stdout",
     "output_type": "stream",
     "text": [
      "\n"
     ]
    }
   ],
   "source": [
    "with open('../data/joined-emoji-train.json', 'r') as f:\n",
    "    cosmo = json.load(f)\n",
    "cosmo, emojis = vectorize_all(cosmo)\n"
   ]
  },
  {
   "cell_type": "code",
   "execution_count": 14,
   "metadata": {},
   "outputs": [],
   "source": [
    "# e2num = Counter(itertools.chain.from_iterable(emojis))\n",
    "# e2i = defaultdict(lambda:632)\n",
    "# c = 0\n",
    "# for ind, e in enumerate(e2num):\n",
    "#     if e2num[e[0]] > 3:\n",
    "#         e2i[e[0]] = c\n",
    "#         c+=1\n",
    "#     else:\n",
    "#         print(e, end=' ')\n",
    "\n",
    "# i2e = defaultdict(lambda:'❓')\n",
    "# for e, i in e2i.items():\n",
    "#     i2e[i] = e\n"
   ]
  },
  {
   "cell_type": "code",
   "execution_count": null,
   "metadata": {},
   "outputs": [],
   "source": []
  },
  {
   "cell_type": "code",
   "execution_count": 15,
   "metadata": {},
   "outputs": [
    {
     "name": "stdout",
     "output_type": "stream",
     "text": [
      "🍢 😗 🐫 🏵 🌗 🛷 🕞 🐓 🔖 🚈 ⛩ 🦇 🏭 🗒 🇿 🌂 🏳 🧗 👢 🧾 🧑 🕸 🚐 🔳 📇 🚃 🏇 🐪 📣 🤮 🎍 🔧 🛣 🐩 ⛺ 🎏 🧣 🥙 🏴 ⚪ 🎲 🍠 🌜 🤬 🖍 🎻 🦌 🚆 🚉 ☯ 🕰 🚜 📅 🃏 🕐 🎰 🙎 🌓 ✒ 🧔 🤠 🦓 🚒 🥦 🏕 🕍 🌩 🎫 👡 💿 🍈 🥚 🆗 🧤 🗨 🆘 🐁 📆 🔑 🖇 📀 ⏯ 🧂 🧞 🥖 🛵 🌕 🦷 🐚 ☂ 🤝 🔌 🗡 🦈 🥜 🦂 🧵 🎽 🐊 🐮 🧹 ⤵ 🐜 🚰 🐖 🥩 🥵 🚌 🧷 🚅 🇾 🕉 🥼 🌦 ◀ 🔂 🌆 🥀 🤥 🚔 👝 🦕 🛰 🐺 🥋 🦛 🧴 🏚 🦎 🔗 🕓 🔨 📐 ⛓ 🌵 🐏 🏣 📮 🗝 🧩 📛 🎮 🧶 ↗ 🏪 🛶 ⏳ 🥢 🎛 🥬 🌔 🦞 🛌 🦑 🆓 🔁 🛋 📧 🇰 🧁 ◽ 🇴 🔀 🔎 🐄 🛡 ⛏ 🍞 🖌 💲 🌋 📈 👔 🍵 🤹 🔚 🔋 🏓 🎱 📟 🎷 🌛 🔵 🤾 🔃 🕙 🚼 ⬛ ♾ 🎠 🤲 🔷 🦍 💾 🐛 🦹 🚣 📼 😦 👤 ✏ 🚑 🐗 🗳 ™ 🤡 🤛 🦚 🌖 ♨ ✴ 🐀 🚵 🔒 🛒 🚷 ❕ 🥫 😾 💒 ⬅ 🔰 👴 Ⓜ ⛴ 📳 🚪 🐲 🖋 📉 🚹 📰 🛎 💺 🇻 🏢 🥕 🚺 📻 🦰 🧜 🎚 🔕 🏁 ⚒ 🔩 ☢ 🇶 🏜 🕑 ⬜ 📜 🏈 🥃 🏦 🖊 🌘 🕷 📘 👮 🔉 🧥 🛀 🏸 📎 🤼 🔛 📄 🎗 🚦 🧺 📬 🎋 🏑 🚠 🚬 🥓 🔔 🧦 🌮 ➰ 🚞 🏨 🇲 ⚗ 🌝 🔈 🗯 👞 🛬 ☮ ⛑ 🇯 🌑 🏫 👷 🧽 ❔ 🐵 🥝 🏷 🚖 🥨 🛏 ☎ 🚫 ➗ 📨 🤱 🚯 🖼 ⏲ 🐂 📑 🌒 📵 🐃 🍐 🌯 📡 ⏭ 🏗 🗓 🏤 🐆 🛸 🕯 🚛 ⚛ 🖨 🗃 🏌 🏯 🚤 🥈 🚡 🤶 🧬 🎎 💠 🥅 🥡 🧙 🧸 ⏩ 🏀 💷 ⛽ 🀄 ⛹ 🚊 🦒 🤜 🛠 🥟 ⚰ 📴 📋 🦐 🔙 🚓 🌭 🕗 🏹 📿 🕒 ➿ 🚝 🦜 😟 🔦 👘 📯 🤺 🕚 🚄 🚏 🛴 🔱 📒 🗂 💽 🦖 🥪 🛳 🦔 🕛 ☠ ⚫ 🎪 🚚 🌉 👺 🐞 🦸 🎟 🥔 🦟 🧛 🍙 🧪 🕖 ⛳ 🥴 🦳 🌀 📃 ⏸ 🧒 🗞 🎺 ⚕ 🥉 🦆 🏘 🕕 🥭 ↔ 🌐 🧟 🦠 🚍 🏥 🦃 🐐 💶 ⚾ ✉ "
     ]
    }
   ],
   "source": [
    "e2num = Counter(itertools.chain.from_iterable(emojis))\n",
    "e2i = {}\n",
    "c = 0\n",
    "for ind, e in enumerate(e2num):\n",
    "    if e2num[e[0]] > 10:\n",
    "        e2i[e[0]] = c\n",
    "        c+=1\n",
    "    else:\n",
    "        print(e, end=' ')\n",
    "\n",
    "i2e = {}\n",
    "for e, i in e2i.items():\n",
    "    i2e[i] = e\n"
   ]
  },
  {
   "cell_type": "code",
   "execution_count": 16,
   "metadata": {},
   "outputs": [],
   "source": [
    "import pickle\n",
    "with open('../models/emoji2index.pkl', 'wb') as f:\n",
    "    pickle.dump(e2i, f)\n",
    "with open('../models/index2emoji.pkl', 'wb') as f:\n",
    "    pickle.dump(i2e, f)\n"
   ]
  },
  {
   "cell_type": "code",
   "execution_count": 17,
   "metadata": {},
   "outputs": [
    {
     "data": {
      "image/png": "[encoded data removed]",
      "text/plain": [
       "<Figure size 432x288 with 1 Axes>"
      ]
     },
     "metadata": {
      "needs_background": "light"
     },
     "output_type": "display_data"
    }
   ],
   "source": [
    "plt.hist([i[1] for i in e2num.most_common() if i[1] < 60], bins=50)\n",
    "plt.show()"
   ]
  },
  {
   "cell_type": "code",
   "execution_count": 18,
   "metadata": {},
   "outputs": [],
   "source": [
    "softmax = lambda x: np.exp(x)/sum(np.exp(x))\n",
    "\n",
    "weights = np.zeros((len(e2i)))\n",
    "\n",
    "for e, ind in e2i.items():\n",
    "    weights[ind] = e2num[e]\n",
    "weights = np.log(weights)\n",
    "weights = softmax(1 / (weights / np.min(weights)))"
   ]
  },
  {
   "cell_type": "code",
   "execution_count": 19,
   "metadata": {},
   "outputs": [
    {
     "data": {
      "image/png": "[encoded data removed]",
      "text/plain": [
       "<Figure size 432x288 with 1 Axes>"
      ]
     },
     "metadata": {
      "needs_background": "light"
     },
     "output_type": "display_data"
    }
   ],
   "source": [
    "plt.hist(weights, bins=50)\n",
    "plt.show()"
   ]
  },
  {
   "cell_type": "code",
   "execution_count": null,
   "metadata": {},
   "outputs": [],
   "source": []
  },
  {
   "cell_type": "code",
   "execution_count": 20,
   "metadata": {},
   "outputs": [],
   "source": [
    "class FasttextSet(Dataset):\n",
    "    def __init__(self, cosmo):\n",
    "        '''\n",
    "        data - json file name\n",
    "        '''\n",
    "        with open(cosmo, 'r') as f:\n",
    "            self.cosmo = json.load(f)\n",
    "        self.cosmo, self.emojis = vectorize_all(self.cosmo)\n",
    "        self.cosmo = np.array(self.cosmo)\n",
    "        \n",
    "        self.x = []\n",
    "        self.y = []\n",
    "        for vec, em in zip(self.cosmo, self.emojis):\n",
    "            emjs = np.zeros(len(e2i))\n",
    "            empty_flag = 0\n",
    "            for e in em:\n",
    "                try:\n",
    "                    emjs[e2i[e]] = 1\n",
    "                    empty_flag = 1\n",
    "                except Exception as e:\n",
    "                    continue\n",
    "            if empty_flag:\n",
    "                self.x.append(vec)\n",
    "                self.y.append(emjs)\n",
    "        self.x = np.row_stack(self.x)\n",
    "        self.y = np.row_stack(self.y)\n",
    "            \n",
    "    def __len__(self):\n",
    "        return len(self.x)\n",
    "    \n",
    "    def __getitem__(self, ind):\n",
    "        return torch.Tensor(self.x[ind]).long(), self.y[ind]"
   ]
  },
  {
   "cell_type": "code",
   "execution_count": 21,
   "metadata": {},
   "outputs": [
    {
     "data": {
      "application/vnd.jupyter.widget-view+json": {
       "model_id": "a23cb83499844fd08417950570600262",
       "version_major": 2,
       "version_minor": 0
      },
      "text/plain": [
       "HBox(children=(IntProgress(value=0, max=39428), HTML(value='')))"
      ]
     },
     "metadata": {},
     "output_type": "display_data"
    },
    {
     "name": "stdout",
     "output_type": "stream",
     "text": [
      "\n"
     ]
    }
   ],
   "source": [
    "memLoader = DataLoader(FasttextSet('../data/joined-emoji-train.json'),\n",
    "                       batch_size=32, shuffle=True)"
   ]
  },
  {
   "cell_type": "code",
   "execution_count": 22,
   "metadata": {},
   "outputs": [
    {
     "data": {
      "application/vnd.jupyter.widget-view+json": {
       "model_id": "f9a27c2d429b4016a9b4c0cff901dedc",
       "version_major": 2,
       "version_minor": 0
      },
      "text/plain": [
       "HBox(children=(IntProgress(value=0, max=500), HTML(value='')))"
      ]
     },
     "metadata": {},
     "output_type": "display_data"
    },
    {
     "name": "stdout",
     "output_type": "stream",
     "text": [
      "\n"
     ]
    }
   ],
   "source": [
    "memLoader_val = DataLoader(FasttextSet('../data/joined-emoji-val.json'),\n",
    "                           batch_size=32, shuffle=True)"
   ]
  },
  {
   "cell_type": "code",
   "execution_count": 23,
   "metadata": {},
   "outputs": [],
   "source": [
    "class EmojiNet(nn.Module):\n",
    "    def __init__(self, ):\n",
    "        super(EmojiNet, self).__init__()\n",
    "        self.embs = nn.Embedding(len(vectors), embedding_dim=100, padding_idx=PAD_IDX).from_pretrained(\n",
    "            torch.FloatTensor(vectors.vectors)\n",
    "        )\n",
    "        self.process = nn.Sequential(\n",
    "            nn.Conv1d(100, 128, 15),\n",
    "            nn.BatchNorm1d(128),\n",
    "            nn.LeakyReLU(0.05),\n",
    "            nn.Conv1d(128, 128, 9),\n",
    "            nn.BatchNorm1d(128),\n",
    "            nn.LeakyReLU(0.05),\n",
    "            nn.Conv1d(128, 32, 5),\n",
    "            nn.BatchNorm1d(32),\n",
    "            nn.LeakyReLU(0.05),\n",
    "        )\n",
    "        self.fc = nn.Sequential(\n",
    "            nn.Linear(2048, 1024),\n",
    "            nn.ReLU(),\n",
    "            nn.Linear(1024, len(e2i)),            \n",
    "        )\n",
    "        \n",
    "    def forward(self, x):\n",
    "        x = self.process(self.embs(x).permute(0, 2, 1))\n",
    "        x = x.view(x.shape[0], -1)\n",
    "        return self.fc(x)"
   ]
  },
  {
   "cell_type": "code",
   "execution_count": 39,
   "metadata": {
    "scrolled": true
   },
   "outputs": [
    {
     "data": {
      "text/plain": [
       "624"
      ]
     },
     "execution_count": 39,
     "metadata": {},
     "output_type": "execute_result"
    }
   ],
   "source": [
    "len(e2i)"
   ]
  },
  {
   "cell_type": "code",
   "execution_count": null,
   "metadata": {},
   "outputs": [],
   "source": []
  },
  {
   "cell_type": "code",
   "execution_count": 25,
   "metadata": {},
   "outputs": [],
   "source": [
    "simnet = EmojiNet().cuda()"
   ]
  },
  {
   "cell_type": "code",
   "execution_count": 26,
   "metadata": {},
   "outputs": [],
   "source": [
    "criterion = nn.BCEWithLogitsLoss(pos_weight=torch.Tensor(weights).cuda())\n",
    "optim = torch.optim.Adam(simnet.parameters())"
   ]
  },
  {
   "cell_type": "code",
   "execution_count": 27,
   "metadata": {},
   "outputs": [
    {
     "data": {
      "application/vnd.jupyter.widget-view+json": {
       "model_id": "721b28aeea304b5caba9f3234b3c4006",
       "version_major": 2,
       "version_minor": 0
      },
      "text/plain": [
       "HBox(children=(IntProgress(value=0), HTML(value='')))"
      ]
     },
     "metadata": {},
     "output_type": "display_data"
    },
    {
     "data": {
      "application/vnd.jupyter.widget-view+json": {
       "model_id": "",
       "version_major": 2,
       "version_minor": 0
      },
      "text/plain": [
       "HBox(children=(IntProgress(value=0, max=925), HTML(value='')))"
      ]
     },
     "metadata": {},
     "output_type": "display_data"
    },
    {
     "data": {
      "application/vnd.jupyter.widget-view+json": {
       "model_id": "",
       "version_major": 2,
       "version_minor": 0
      },
      "text/plain": [
       "HBox(children=(IntProgress(value=0, max=925), HTML(value='')))"
      ]
     },
     "metadata": {},
     "output_type": "display_data"
    },
    {
     "data": {
      "application/vnd.jupyter.widget-view+json": {
       "model_id": "",
       "version_major": 2,
       "version_minor": 0
      },
      "text/plain": [
       "HBox(children=(IntProgress(value=0, max=925), HTML(value='')))"
      ]
     },
     "metadata": {},
     "output_type": "display_data"
    },
    {
     "data": {
      "application/vnd.jupyter.widget-view+json": {
       "model_id": "",
       "version_major": 2,
       "version_minor": 0
      },
      "text/plain": [
       "HBox(children=(IntProgress(value=0, max=925), HTML(value='')))"
      ]
     },
     "metadata": {},
     "output_type": "display_data"
    },
    {
     "data": {
      "application/vnd.jupyter.widget-view+json": {
       "model_id": "",
       "version_major": 2,
       "version_minor": 0
      },
      "text/plain": [
       "HBox(children=(IntProgress(value=0, max=925), HTML(value='')))"
      ]
     },
     "metadata": {},
     "output_type": "display_data"
    },
    {
     "data": {
      "application/vnd.jupyter.widget-view+json": {
       "model_id": "",
       "version_major": 2,
       "version_minor": 0
      },
      "text/plain": [
       "HBox(children=(IntProgress(value=0, max=925), HTML(value='')))"
      ]
     },
     "metadata": {},
     "output_type": "display_data"
    },
    {
     "data": {
      "application/vnd.jupyter.widget-view+json": {
       "model_id": "",
       "version_major": 2,
       "version_minor": 0
      },
      "text/plain": [
       "HBox(children=(IntProgress(value=0, max=925), HTML(value='')))"
      ]
     },
     "metadata": {},
     "output_type": "display_data"
    },
    {
     "data": {
      "application/vnd.jupyter.widget-view+json": {
       "model_id": "",
       "version_major": 2,
       "version_minor": 0
      },
      "text/plain": [
       "HBox(children=(IntProgress(value=0, max=925), HTML(value='')))"
      ]
     },
     "metadata": {},
     "output_type": "display_data"
    },
    {
     "data": {
      "application/vnd.jupyter.widget-view+json": {
       "model_id": "",
       "version_major": 2,
       "version_minor": 0
      },
      "text/plain": [
       "HBox(children=(IntProgress(value=0, max=925), HTML(value='')))"
      ]
     },
     "metadata": {},
     "output_type": "display_data"
    },
    {
     "data": {
      "application/vnd.jupyter.widget-view+json": {
       "model_id": "",
       "version_major": 2,
       "version_minor": 0
      },
      "text/plain": [
       "HBox(children=(IntProgress(value=0, max=925), HTML(value='')))"
      ]
     },
     "metadata": {},
     "output_type": "display_data"
    },
    {
     "data": {
      "application/vnd.jupyter.widget-view+json": {
       "model_id": "",
       "version_major": 2,
       "version_minor": 0
      },
      "text/plain": [
       "HBox(children=(IntProgress(value=0, max=925), HTML(value='')))"
      ]
     },
     "metadata": {},
     "output_type": "display_data"
    },
    {
     "data": {
      "application/vnd.jupyter.widget-view+json": {
       "model_id": "",
       "version_major": 2,
       "version_minor": 0
      },
      "text/plain": [
       "HBox(children=(IntProgress(value=0, max=925), HTML(value='')))"
      ]
     },
     "metadata": {},
     "output_type": "display_data"
    },
    {
     "data": {
      "application/vnd.jupyter.widget-view+json": {
       "model_id": "",
       "version_major": 2,
       "version_minor": 0
      },
      "text/plain": [
       "HBox(children=(IntProgress(value=0, max=925), HTML(value='')))"
      ]
     },
     "metadata": {},
     "output_type": "display_data"
    },
    {
     "data": {
      "application/vnd.jupyter.widget-view+json": {
       "model_id": "",
       "version_major": 2,
       "version_minor": 0
      },
      "text/plain": [
       "HBox(children=(IntProgress(value=0, max=925), HTML(value='')))"
      ]
     },
     "metadata": {},
     "output_type": "display_data"
    },
    {
     "data": {
      "application/vnd.jupyter.widget-view+json": {
       "model_id": "",
       "version_major": 2,
       "version_minor": 0
      },
      "text/plain": [
       "HBox(children=(IntProgress(value=0, max=925), HTML(value='')))"
      ]
     },
     "metadata": {},
     "output_type": "display_data"
    },
    {
     "data": {
      "application/vnd.jupyter.widget-view+json": {
       "model_id": "",
       "version_major": 2,
       "version_minor": 0
      },
      "text/plain": [
       "HBox(children=(IntProgress(value=0, max=925), HTML(value='')))"
      ]
     },
     "metadata": {},
     "output_type": "display_data"
    },
    {
     "data": {
      "application/vnd.jupyter.widget-view+json": {
       "model_id": "",
       "version_major": 2,
       "version_minor": 0
      },
      "text/plain": [
       "HBox(children=(IntProgress(value=0, max=925), HTML(value='')))"
      ]
     },
     "metadata": {},
     "output_type": "display_data"
    },
    {
     "data": {
      "application/vnd.jupyter.widget-view+json": {
       "model_id": "",
       "version_major": 2,
       "version_minor": 0
      },
      "text/plain": [
       "HBox(children=(IntProgress(value=0, max=925), HTML(value='')))"
      ]
     },
     "metadata": {},
     "output_type": "display_data"
    },
    {
     "data": {
      "application/vnd.jupyter.widget-view+json": {
       "model_id": "",
       "version_major": 2,
       "version_minor": 0
      },
      "text/plain": [
       "HBox(children=(IntProgress(value=0, max=925), HTML(value='')))"
      ]
     },
     "metadata": {},
     "output_type": "display_data"
    },
    {
     "data": {
      "application/vnd.jupyter.widget-view+json": {
       "model_id": "",
       "version_major": 2,
       "version_minor": 0
      },
      "text/plain": [
       "HBox(children=(IntProgress(value=0, max=925), HTML(value='')))"
      ]
     },
     "metadata": {},
     "output_type": "display_data"
    },
    {
     "data": {
      "application/vnd.jupyter.widget-view+json": {
       "model_id": "",
       "version_major": 2,
       "version_minor": 0
      },
      "text/plain": [
       "HBox(children=(IntProgress(value=0, max=925), HTML(value='')))"
      ]
     },
     "metadata": {},
     "output_type": "display_data"
    },
    {
     "data": {
      "application/vnd.jupyter.widget-view+json": {
       "model_id": "",
       "version_major": 2,
       "version_minor": 0
      },
      "text/plain": [
       "HBox(children=(IntProgress(value=0, max=925), HTML(value='')))"
      ]
     },
     "metadata": {},
     "output_type": "display_data"
    },
    {
     "data": {
      "application/vnd.jupyter.widget-view+json": {
       "model_id": "",
       "version_major": 2,
       "version_minor": 0
      },
      "text/plain": [
       "HBox(children=(IntProgress(value=0, max=925), HTML(value='')))"
      ]
     },
     "metadata": {},
     "output_type": "display_data"
    },
    {
     "data": {
      "application/vnd.jupyter.widget-view+json": {
       "model_id": "",
       "version_major": 2,
       "version_minor": 0
      },
      "text/plain": [
       "HBox(children=(IntProgress(value=0, max=925), HTML(value='')))"
      ]
     },
     "metadata": {},
     "output_type": "display_data"
    },
    {
     "data": {
      "application/vnd.jupyter.widget-view+json": {
       "model_id": "",
       "version_major": 2,
       "version_minor": 0
      },
      "text/plain": [
       "HBox(children=(IntProgress(value=0, max=925), HTML(value='')))"
      ]
     },
     "metadata": {},
     "output_type": "display_data"
    },
    {
     "data": {
      "application/vnd.jupyter.widget-view+json": {
       "model_id": "",
       "version_major": 2,
       "version_minor": 0
      },
      "text/plain": [
       "HBox(children=(IntProgress(value=0, max=925), HTML(value='')))"
      ]
     },
     "metadata": {},
     "output_type": "display_data"
    },
    {
     "data": {
      "application/vnd.jupyter.widget-view+json": {
       "model_id": "",
       "version_major": 2,
       "version_minor": 0
      },
      "text/plain": [
       "HBox(children=(IntProgress(value=0, max=925), HTML(value='')))"
      ]
     },
     "metadata": {},
     "output_type": "display_data"
    },
    {
     "data": {
      "application/vnd.jupyter.widget-view+json": {
       "model_id": "",
       "version_major": 2,
       "version_minor": 0
      },
      "text/plain": [
       "HBox(children=(IntProgress(value=0, max=925), HTML(value='')))"
      ]
     },
     "metadata": {},
     "output_type": "display_data"
    },
    {
     "data": {
      "application/vnd.jupyter.widget-view+json": {
       "model_id": "",
       "version_major": 2,
       "version_minor": 0
      },
      "text/plain": [
       "HBox(children=(IntProgress(value=0, max=925), HTML(value='')))"
      ]
     },
     "metadata": {},
     "output_type": "display_data"
    },
    {
     "data": {
      "application/vnd.jupyter.widget-view+json": {
       "model_id": "",
       "version_major": 2,
       "version_minor": 0
      },
      "text/plain": [
       "HBox(children=(IntProgress(value=0, max=925), HTML(value='')))"
      ]
     },
     "metadata": {},
     "output_type": "display_data"
    },
    {
     "data": {
      "application/vnd.jupyter.widget-view+json": {
       "model_id": "",
       "version_major": 2,
       "version_minor": 0
      },
      "text/plain": [
       "HBox(children=(IntProgress(value=0, max=925), HTML(value='')))"
      ]
     },
     "metadata": {},
     "output_type": "display_data"
    },
    {
     "data": {
      "application/vnd.jupyter.widget-view+json": {
       "model_id": "",
       "version_major": 2,
       "version_minor": 0
      },
      "text/plain": [
       "HBox(children=(IntProgress(value=0, max=925), HTML(value='')))"
      ]
     },
     "metadata": {},
     "output_type": "display_data"
    },
    {
     "data": {
      "application/vnd.jupyter.widget-view+json": {
       "model_id": "",
       "version_major": 2,
       "version_minor": 0
      },
      "text/plain": [
       "HBox(children=(IntProgress(value=0, max=925), HTML(value='')))"
      ]
     },
     "metadata": {},
     "output_type": "display_data"
    },
    {
     "data": {
      "application/vnd.jupyter.widget-view+json": {
       "model_id": "",
       "version_major": 2,
       "version_minor": 0
      },
      "text/plain": [
       "HBox(children=(IntProgress(value=0, max=925), HTML(value='')))"
      ]
     },
     "metadata": {},
     "output_type": "display_data"
    },
    {
     "data": {
      "application/vnd.jupyter.widget-view+json": {
       "model_id": "",
       "version_major": 2,
       "version_minor": 0
      },
      "text/plain": [
       "HBox(children=(IntProgress(value=0, max=925), HTML(value='')))"
      ]
     },
     "metadata": {},
     "output_type": "display_data"
    },
    {
     "data": {
      "application/vnd.jupyter.widget-view+json": {
       "model_id": "",
       "version_major": 2,
       "version_minor": 0
      },
      "text/plain": [
       "HBox(children=(IntProgress(value=0, max=925), HTML(value='')))"
      ]
     },
     "metadata": {},
     "output_type": "display_data"
    },
    {
     "data": {
      "application/vnd.jupyter.widget-view+json": {
       "model_id": "",
       "version_major": 2,
       "version_minor": 0
      },
      "text/plain": [
       "HBox(children=(IntProgress(value=0, max=925), HTML(value='')))"
      ]
     },
     "metadata": {},
     "output_type": "display_data"
    },
    {
     "data": {
      "application/vnd.jupyter.widget-view+json": {
       "model_id": "",
       "version_major": 2,
       "version_minor": 0
      },
      "text/plain": [
       "HBox(children=(IntProgress(value=0, max=925), HTML(value='')))"
      ]
     },
     "metadata": {},
     "output_type": "display_data"
    },
    {
     "data": {
      "application/vnd.jupyter.widget-view+json": {
       "model_id": "",
       "version_major": 2,
       "version_minor": 0
      },
      "text/plain": [
       "HBox(children=(IntProgress(value=0, max=925), HTML(value='')))"
      ]
     },
     "metadata": {},
     "output_type": "display_data"
    },
    {
     "data": {
      "application/vnd.jupyter.widget-view+json": {
       "model_id": "",
       "version_major": 2,
       "version_minor": 0
      },
      "text/plain": [
       "HBox(children=(IntProgress(value=0, max=925), HTML(value='')))"
      ]
     },
     "metadata": {},
     "output_type": "display_data"
    },
    {
     "data": {
      "application/vnd.jupyter.widget-view+json": {
       "model_id": "",
       "version_major": 2,
       "version_minor": 0
      },
      "text/plain": [
       "HBox(children=(IntProgress(value=0, max=925), HTML(value='')))"
      ]
     },
     "metadata": {},
     "output_type": "display_data"
    },
    {
     "data": {
      "application/vnd.jupyter.widget-view+json": {
       "model_id": "",
       "version_major": 2,
       "version_minor": 0
      },
      "text/plain": [
       "HBox(children=(IntProgress(value=0, max=925), HTML(value='')))"
      ]
     },
     "metadata": {},
     "output_type": "display_data"
    },
    {
     "data": {
      "application/vnd.jupyter.widget-view+json": {
       "model_id": "",
       "version_major": 2,
       "version_minor": 0
      },
      "text/plain": [
       "HBox(children=(IntProgress(value=0, max=925), HTML(value='')))"
      ]
     },
     "metadata": {},
     "output_type": "display_data"
    },
    {
     "data": {
      "application/vnd.jupyter.widget-view+json": {
       "model_id": "",
       "version_major": 2,
       "version_minor": 0
      },
      "text/plain": [
       "HBox(children=(IntProgress(value=0, max=925), HTML(value='')))"
      ]
     },
     "metadata": {},
     "output_type": "display_data"
    },
    {
     "data": {
      "application/vnd.jupyter.widget-view+json": {
       "model_id": "",
       "version_major": 2,
       "version_minor": 0
      },
      "text/plain": [
       "HBox(children=(IntProgress(value=0, max=925), HTML(value='')))"
      ]
     },
     "metadata": {},
     "output_type": "display_data"
    },
    {
     "data": {
      "application/vnd.jupyter.widget-view+json": {
       "model_id": "",
       "version_major": 2,
       "version_minor": 0
      },
      "text/plain": [
       "HBox(children=(IntProgress(value=0, max=925), HTML(value='')))"
      ]
     },
     "metadata": {},
     "output_type": "display_data"
    },
    {
     "data": {
      "application/vnd.jupyter.widget-view+json": {
       "model_id": "",
       "version_major": 2,
       "version_minor": 0
      },
      "text/plain": [
       "HBox(children=(IntProgress(value=0, max=925), HTML(value='')))"
      ]
     },
     "metadata": {},
     "output_type": "display_data"
    },
    {
     "data": {
      "application/vnd.jupyter.widget-view+json": {
       "model_id": "",
       "version_major": 2,
       "version_minor": 0
      },
      "text/plain": [
       "HBox(children=(IntProgress(value=0, max=925), HTML(value='')))"
      ]
     },
     "metadata": {},
     "output_type": "display_data"
    },
    {
     "data": {
      "application/vnd.jupyter.widget-view+json": {
       "model_id": "",
       "version_major": 2,
       "version_minor": 0
      },
      "text/plain": [
       "HBox(children=(IntProgress(value=0, max=925), HTML(value='')))"
      ]
     },
     "metadata": {},
     "output_type": "display_data"
    },
    {
     "data": {
      "application/vnd.jupyter.widget-view+json": {
       "model_id": "",
       "version_major": 2,
       "version_minor": 0
      },
      "text/plain": [
       "HBox(children=(IntProgress(value=0, max=925), HTML(value='')))"
      ]
     },
     "metadata": {},
     "output_type": "display_data"
    },
    {
     "data": {
      "application/vnd.jupyter.widget-view+json": {
       "model_id": "",
       "version_major": 2,
       "version_minor": 0
      },
      "text/plain": [
       "HBox(children=(IntProgress(value=0, max=925), HTML(value='')))"
      ]
     },
     "metadata": {},
     "output_type": "display_data"
    },
    {
     "data": {
      "application/vnd.jupyter.widget-view+json": {
       "model_id": "",
       "version_major": 2,
       "version_minor": 0
      },
      "text/plain": [
       "HBox(children=(IntProgress(value=0, max=925), HTML(value='')))"
      ]
     },
     "metadata": {},
     "output_type": "display_data"
    },
    {
     "data": {
      "application/vnd.jupyter.widget-view+json": {
       "model_id": "",
       "version_major": 2,
       "version_minor": 0
      },
      "text/plain": [
       "HBox(children=(IntProgress(value=0, max=925), HTML(value='')))"
      ]
     },
     "metadata": {},
     "output_type": "display_data"
    },
    {
     "data": {
      "application/vnd.jupyter.widget-view+json": {
       "model_id": "",
       "version_major": 2,
       "version_minor": 0
      },
      "text/plain": [
       "HBox(children=(IntProgress(value=0, max=925), HTML(value='')))"
      ]
     },
     "metadata": {},
     "output_type": "display_data"
    },
    {
     "data": {
      "application/vnd.jupyter.widget-view+json": {
       "model_id": "",
       "version_major": 2,
       "version_minor": 0
      },
      "text/plain": [
       "HBox(children=(IntProgress(value=0, max=925), HTML(value='')))"
      ]
     },
     "metadata": {},
     "output_type": "display_data"
    },
    {
     "data": {
      "application/vnd.jupyter.widget-view+json": {
       "model_id": "",
       "version_major": 2,
       "version_minor": 0
      },
      "text/plain": [
       "HBox(children=(IntProgress(value=0, max=925), HTML(value='')))"
      ]
     },
     "metadata": {},
     "output_type": "display_data"
    },
    {
     "data": {
      "application/vnd.jupyter.widget-view+json": {
       "model_id": "",
       "version_major": 2,
       "version_minor": 0
      },
      "text/plain": [
       "HBox(children=(IntProgress(value=0, max=925), HTML(value='')))"
      ]
     },
     "metadata": {},
     "output_type": "display_data"
    },
    {
     "data": {
      "application/vnd.jupyter.widget-view+json": {
       "model_id": "",
       "version_major": 2,
       "version_minor": 0
      },
      "text/plain": [
       "HBox(children=(IntProgress(value=0, max=925), HTML(value='')))"
      ]
     },
     "metadata": {},
     "output_type": "display_data"
    },
    {
     "data": {
      "application/vnd.jupyter.widget-view+json": {
       "model_id": "",
       "version_major": 2,
       "version_minor": 0
      },
      "text/plain": [
       "HBox(children=(IntProgress(value=0, max=925), HTML(value='')))"
      ]
     },
     "metadata": {},
     "output_type": "display_data"
    },
    {
     "data": {
      "application/vnd.jupyter.widget-view+json": {
       "model_id": "",
       "version_major": 2,
       "version_minor": 0
      },
      "text/plain": [
       "HBox(children=(IntProgress(value=0, max=925), HTML(value='')))"
      ]
     },
     "metadata": {},
     "output_type": "display_data"
    },
    {
     "data": {
      "application/vnd.jupyter.widget-view+json": {
       "model_id": "",
       "version_major": 2,
       "version_minor": 0
      },
      "text/plain": [
       "HBox(children=(IntProgress(value=0, max=925), HTML(value='')))"
      ]
     },
     "metadata": {},
     "output_type": "display_data"
    },
    {
     "data": {
      "application/vnd.jupyter.widget-view+json": {
       "model_id": "",
       "version_major": 2,
       "version_minor": 0
      },
      "text/plain": [
       "HBox(children=(IntProgress(value=0, max=925), HTML(value='')))"
      ]
     },
     "metadata": {},
     "output_type": "display_data"
    },
    {
     "data": {
      "application/vnd.jupyter.widget-view+json": {
       "model_id": "",
       "version_major": 2,
       "version_minor": 0
      },
      "text/plain": [
       "HBox(children=(IntProgress(value=0, max=925), HTML(value='')))"
      ]
     },
     "metadata": {},
     "output_type": "display_data"
    },
    {
     "data": {
      "application/vnd.jupyter.widget-view+json": {
       "model_id": "",
       "version_major": 2,
       "version_minor": 0
      },
      "text/plain": [
       "HBox(children=(IntProgress(value=0, max=925), HTML(value='')))"
      ]
     },
     "metadata": {},
     "output_type": "display_data"
    },
    {
     "data": {
      "application/vnd.jupyter.widget-view+json": {
       "model_id": "",
       "version_major": 2,
       "version_minor": 0
      },
      "text/plain": [
       "HBox(children=(IntProgress(value=0, max=925), HTML(value='')))"
      ]
     },
     "metadata": {},
     "output_type": "display_data"
    },
    {
     "data": {
      "application/vnd.jupyter.widget-view+json": {
       "model_id": "",
       "version_major": 2,
       "version_minor": 0
      },
      "text/plain": [
       "HBox(children=(IntProgress(value=0, max=925), HTML(value='')))"
      ]
     },
     "metadata": {},
     "output_type": "display_data"
    },
    {
     "data": {
      "application/vnd.jupyter.widget-view+json": {
       "model_id": "",
       "version_major": 2,
       "version_minor": 0
      },
      "text/plain": [
       "HBox(children=(IntProgress(value=0, max=925), HTML(value='')))"
      ]
     },
     "metadata": {},
     "output_type": "display_data"
    },
    {
     "data": {
      "application/vnd.jupyter.widget-view+json": {
       "model_id": "",
       "version_major": 2,
       "version_minor": 0
      },
      "text/plain": [
       "HBox(children=(IntProgress(value=0, max=925), HTML(value='')))"
      ]
     },
     "metadata": {},
     "output_type": "display_data"
    },
    {
     "data": {
      "application/vnd.jupyter.widget-view+json": {
       "model_id": "",
       "version_major": 2,
       "version_minor": 0
      },
      "text/plain": [
       "HBox(children=(IntProgress(value=0, max=925), HTML(value='')))"
      ]
     },
     "metadata": {},
     "output_type": "display_data"
    },
    {
     "data": {
      "application/vnd.jupyter.widget-view+json": {
       "model_id": "",
       "version_major": 2,
       "version_minor": 0
      },
      "text/plain": [
       "HBox(children=(IntProgress(value=0, max=925), HTML(value='')))"
      ]
     },
     "metadata": {},
     "output_type": "display_data"
    },
    {
     "data": {
      "application/vnd.jupyter.widget-view+json": {
       "model_id": "",
       "version_major": 2,
       "version_minor": 0
      },
      "text/plain": [
       "HBox(children=(IntProgress(value=0, max=925), HTML(value='')))"
      ]
     },
     "metadata": {},
     "output_type": "display_data"
    },
    {
     "data": {
      "application/vnd.jupyter.widget-view+json": {
       "model_id": "",
       "version_major": 2,
       "version_minor": 0
      },
      "text/plain": [
       "HBox(children=(IntProgress(value=0, max=925), HTML(value='')))"
      ]
     },
     "metadata": {},
     "output_type": "display_data"
    },
    {
     "data": {
      "application/vnd.jupyter.widget-view+json": {
       "model_id": "",
       "version_major": 2,
       "version_minor": 0
      },
      "text/plain": [
       "HBox(children=(IntProgress(value=0, max=925), HTML(value='')))"
      ]
     },
     "metadata": {},
     "output_type": "display_data"
    },
    {
     "data": {
      "application/vnd.jupyter.widget-view+json": {
       "model_id": "",
       "version_major": 2,
       "version_minor": 0
      },
      "text/plain": [
       "HBox(children=(IntProgress(value=0, max=925), HTML(value='')))"
      ]
     },
     "metadata": {},
     "output_type": "display_data"
    },
    {
     "data": {
      "application/vnd.jupyter.widget-view+json": {
       "model_id": "",
       "version_major": 2,
       "version_minor": 0
      },
      "text/plain": [
       "HBox(children=(IntProgress(value=0, max=925), HTML(value='')))"
      ]
     },
     "metadata": {},
     "output_type": "display_data"
    },
    {
     "data": {
      "application/vnd.jupyter.widget-view+json": {
       "model_id": "",
       "version_major": 2,
       "version_minor": 0
      },
      "text/plain": [
       "HBox(children=(IntProgress(value=0, max=925), HTML(value='')))"
      ]
     },
     "metadata": {},
     "output_type": "display_data"
    },
    {
     "data": {
      "application/vnd.jupyter.widget-view+json": {
       "model_id": "",
       "version_major": 2,
       "version_minor": 0
      },
      "text/plain": [
       "HBox(children=(IntProgress(value=0, max=925), HTML(value='')))"
      ]
     },
     "metadata": {},
     "output_type": "display_data"
    },
    {
     "data": {
      "application/vnd.jupyter.widget-view+json": {
       "model_id": "",
       "version_major": 2,
       "version_minor": 0
      },
      "text/plain": [
       "HBox(children=(IntProgress(value=0, max=925), HTML(value='')))"
      ]
     },
     "metadata": {},
     "output_type": "display_data"
    },
    {
     "data": {
      "application/vnd.jupyter.widget-view+json": {
       "model_id": "",
       "version_major": 2,
       "version_minor": 0
      },
      "text/plain": [
       "HBox(children=(IntProgress(value=0, max=925), HTML(value='')))"
      ]
     },
     "metadata": {},
     "output_type": "display_data"
    },
    {
     "data": {
      "application/vnd.jupyter.widget-view+json": {
       "model_id": "",
       "version_major": 2,
       "version_minor": 0
      },
      "text/plain": [
       "HBox(children=(IntProgress(value=0, max=925), HTML(value='')))"
      ]
     },
     "metadata": {},
     "output_type": "display_data"
    },
    {
     "data": {
      "application/vnd.jupyter.widget-view+json": {
       "model_id": "",
       "version_major": 2,
       "version_minor": 0
      },
      "text/plain": [
       "HBox(children=(IntProgress(value=0, max=925), HTML(value='')))"
      ]
     },
     "metadata": {},
     "output_type": "display_data"
    },
    {
     "data": {
      "application/vnd.jupyter.widget-view+json": {
       "model_id": "",
       "version_major": 2,
       "version_minor": 0
      },
      "text/plain": [
       "HBox(children=(IntProgress(value=0, max=925), HTML(value='')))"
      ]
     },
     "metadata": {},
     "output_type": "display_data"
    },
    {
     "data": {
      "application/vnd.jupyter.widget-view+json": {
       "model_id": "",
       "version_major": 2,
       "version_minor": 0
      },
      "text/plain": [
       "HBox(children=(IntProgress(value=0, max=925), HTML(value='')))"
      ]
     },
     "metadata": {},
     "output_type": "display_data"
    },
    {
     "data": {
      "application/vnd.jupyter.widget-view+json": {
       "model_id": "",
       "version_major": 2,
       "version_minor": 0
      },
      "text/plain": [
       "HBox(children=(IntProgress(value=0, max=925), HTML(value='')))"
      ]
     },
     "metadata": {},
     "output_type": "display_data"
    },
    {
     "data": {
      "application/vnd.jupyter.widget-view+json": {
       "model_id": "",
       "version_major": 2,
       "version_minor": 0
      },
      "text/plain": [
       "HBox(children=(IntProgress(value=0, max=925), HTML(value='')))"
      ]
     },
     "metadata": {},
     "output_type": "display_data"
    },
    {
     "data": {
      "application/vnd.jupyter.widget-view+json": {
       "model_id": "",
       "version_major": 2,
       "version_minor": 0
      },
      "text/plain": [
       "HBox(children=(IntProgress(value=0, max=925), HTML(value='')))"
      ]
     },
     "metadata": {},
     "output_type": "display_data"
    },
    {
     "data": {
      "application/vnd.jupyter.widget-view+json": {
       "model_id": "",
       "version_major": 2,
       "version_minor": 0
      },
      "text/plain": [
       "HBox(children=(IntProgress(value=0, max=925), HTML(value='')))"
      ]
     },
     "metadata": {},
     "output_type": "display_data"
    },
    {
     "data": {
      "application/vnd.jupyter.widget-view+json": {
       "model_id": "",
       "version_major": 2,
       "version_minor": 0
      },
      "text/plain": [
       "HBox(children=(IntProgress(value=0, max=925), HTML(value='')))"
      ]
     },
     "metadata": {},
     "output_type": "display_data"
    },
    {
     "data": {
      "application/vnd.jupyter.widget-view+json": {
       "model_id": "",
       "version_major": 2,
       "version_minor": 0
      },
      "text/plain": [
       "HBox(children=(IntProgress(value=0, max=925), HTML(value='')))"
      ]
     },
     "metadata": {},
     "output_type": "display_data"
    },
    {
     "data": {
      "application/vnd.jupyter.widget-view+json": {
       "model_id": "",
       "version_major": 2,
       "version_minor": 0
      },
      "text/plain": [
       "HBox(children=(IntProgress(value=0, max=925), HTML(value='')))"
      ]
     },
     "metadata": {},
     "output_type": "display_data"
    },
    {
     "data": {
      "application/vnd.jupyter.widget-view+json": {
       "model_id": "",
       "version_major": 2,
       "version_minor": 0
      },
      "text/plain": [
       "HBox(children=(IntProgress(value=0, max=925), HTML(value='')))"
      ]
     },
     "metadata": {},
     "output_type": "display_data"
    },
    {
     "data": {
      "application/vnd.jupyter.widget-view+json": {
       "model_id": "",
       "version_major": 2,
       "version_minor": 0
      },
      "text/plain": [
       "HBox(children=(IntProgress(value=0, max=925), HTML(value='')))"
      ]
     },
     "metadata": {},
     "output_type": "display_data"
    },
    {
     "data": {
      "application/vnd.jupyter.widget-view+json": {
       "model_id": "",
       "version_major": 2,
       "version_minor": 0
      },
      "text/plain": [
       "HBox(children=(IntProgress(value=0, max=925), HTML(value='')))"
      ]
     },
     "metadata": {},
     "output_type": "display_data"
    },
    {
     "data": {
      "application/vnd.jupyter.widget-view+json": {
       "model_id": "",
       "version_major": 2,
       "version_minor": 0
      },
      "text/plain": [
       "HBox(children=(IntProgress(value=0, max=925), HTML(value='')))"
      ]
     },
     "metadata": {},
     "output_type": "display_data"
    },
    {
     "data": {
      "application/vnd.jupyter.widget-view+json": {
       "model_id": "",
       "version_major": 2,
       "version_minor": 0
      },
      "text/plain": [
       "HBox(children=(IntProgress(value=0, max=925), HTML(value='')))"
      ]
     },
     "metadata": {},
     "output_type": "display_data"
    },
    {
     "data": {
      "application/vnd.jupyter.widget-view+json": {
       "model_id": "",
       "version_major": 2,
       "version_minor": 0
      },
      "text/plain": [
       "HBox(children=(IntProgress(value=0, max=925), HTML(value='')))"
      ]
     },
     "metadata": {},
     "output_type": "display_data"
    },
    {
     "data": {
      "application/vnd.jupyter.widget-view+json": {
       "model_id": "",
       "version_major": 2,
       "version_minor": 0
      },
      "text/plain": [
       "HBox(children=(IntProgress(value=0, max=925), HTML(value='')))"
      ]
     },
     "metadata": {},
     "output_type": "display_data"
    },
    {
     "data": {
      "application/vnd.jupyter.widget-view+json": {
       "model_id": "",
       "version_major": 2,
       "version_minor": 0
      },
      "text/plain": [
       "HBox(children=(IntProgress(value=0, max=925), HTML(value='')))"
      ]
     },
     "metadata": {},
     "output_type": "display_data"
    },
    {
     "data": {
      "application/vnd.jupyter.widget-view+json": {
       "model_id": "",
       "version_major": 2,
       "version_minor": 0
      },
      "text/plain": [
       "HBox(children=(IntProgress(value=0, max=925), HTML(value='')))"
      ]
     },
     "metadata": {},
     "output_type": "display_data"
    },
    {
     "data": {
      "application/vnd.jupyter.widget-view+json": {
       "model_id": "",
       "version_major": 2,
       "version_minor": 0
      },
      "text/plain": [
       "HBox(children=(IntProgress(value=0, max=925), HTML(value='')))"
      ]
     },
     "metadata": {},
     "output_type": "display_data"
    },
    {
     "name": "stdout",
     "output_type": "stream",
     "text": [
      "\n"
     ]
    }
   ],
   "source": [
    "train_losses = []\n",
    "\n",
    "for epoch in tqdm_notebook(range(100)):\n",
    "    for x, target in tqdm_notebook(memLoader, leave=False):\n",
    "        x, target = x.cuda(), target.cuda()\n",
    "        optim.zero_grad()\n",
    "        pred = simnet(x)\n",
    "        loss = criterion(pred, target.float())\n",
    "        train_losses.append(loss.item())\n",
    "        loss.backward()\n",
    "        optim.step()\n"
   ]
  },
  {
   "cell_type": "code",
   "execution_count": 28,
   "metadata": {},
   "outputs": [
    {
     "data": {
      "text/plain": [
       "[<matplotlib.lines.Line2D at 0x7fdef84eaac8>]"
      ]
     },
     "execution_count": 28,
     "metadata": {},
     "output_type": "execute_result"
    },
    {
     "data": {
      "image/png": "[encoded data removed]",
      "text/plain": [
       "<Figure size 432x288 with 1 Axes>"
      ]
     },
     "metadata": {
      "needs_background": "light"
     },
     "output_type": "display_data"
    }
   ],
   "source": [
    "plt.plot(train_losses)"
   ]
  },
  {
   "cell_type": "code",
   "execution_count": 29,
   "metadata": {},
   "outputs": [
    {
     "data": {
      "application/vnd.jupyter.widget-view+json": {
       "model_id": "dbcab2584a9b4ef884621852c0c88d3a",
       "version_major": 2,
       "version_minor": 0
      },
      "text/plain": [
       "HBox(children=(IntProgress(value=0, max=12), HTML(value='')))"
      ]
     },
     "metadata": {},
     "output_type": "display_data"
    },
    {
     "name": "stdout",
     "output_type": "stream",
     "text": [
      "\n"
     ]
    }
   ],
   "source": [
    "def sigmoid(x):\n",
    "    return 1 / (1 + np.exp(-x))\n",
    "\n",
    "\n",
    "y_true = []\n",
    "y_pred = []\n",
    "\n",
    "for x, target in tqdm_notebook(memLoader_val):\n",
    "    pred = simnet(x.cuda())\n",
    "    for i, j in zip(pred.cpu().squeeze().detach().numpy(), target.detach().numpy()):\n",
    "        y_pred.append(sigmoid(i))\n",
    "        y_true.append(j)\n",
    "\n",
    "y_true = np.row_stack(y_true)\n",
    "y_pred = np.row_stack(y_pred)\n"
   ]
  },
  {
   "cell_type": "code",
   "execution_count": 30,
   "metadata": {},
   "outputs": [],
   "source": [
    "y_predictions = np.argsort(y_pred)[:, -3::]\n",
    "y_true_h = np.argsort(y_true)[:, -2::]"
   ]
  },
  {
   "cell_type": "code",
   "execution_count": 31,
   "metadata": {},
   "outputs": [
    {
     "data": {
      "text/plain": [
       "(372, 3)"
      ]
     },
     "execution_count": 31,
     "metadata": {},
     "output_type": "execute_result"
    }
   ],
   "source": [
    "y_predictions.shape"
   ]
  },
  {
   "cell_type": "code",
   "execution_count": 32,
   "metadata": {},
   "outputs": [
    {
     "name": "stdout",
     "output_type": "stream",
     "text": [
      "pred ->  🙏 🙈 🏻 \t true ->  ♀ 😌\n",
      "pred ->  😳 🏼 👇 \t true ->  🍚 🎉\n",
      "pred ->  🎈 😍 🙏 \t true ->  💜 🏻\n",
      "pred ->  ❤ 🔝 🏻 \t true ->  😜 😎\n",
      "pred ->  💍 💎 🏅 \t true ->  🍉 👏\n",
      "pred ->  ✨ ❤ 😍 \t true ->  😻 🏆\n",
      "pred ->  💋 🙏 ❤ \t true ->  🍚 🔥\n",
      "pred ->  🙏 🏻 👆 \t true ->  🍚 😬\n",
      "pred ->  ☺ 🙈 ☀ \t true ->  🔥 👏\n",
      "pred ->  😍 ☺ 🙈 \t true ->  👌 ☺\n",
      "pred ->  😍 ❤ 🎾 \t true ->  👯 😕\n",
      "pred ->  😜 🙈 😂 \t true ->  📝 😂\n",
      "pred ->  🏼 🏻 ❤ \t true ->  🍚 💞\n",
      "pred ->  ♀ ❤ 🏼 \t true ->  🙈 🏖\n",
      "pred ->  🏻 🏼 ❤ \t true ->  🐒 🤣\n",
      "pred ->  👏 🙏 ❤ \t true ->  🙌 💋\n",
      "pred ->  🙏 🏻 ❤ \t true ->  📝 😂\n",
      "pred ->  🏻 🙏 ❤ \t true ->  😊 💃\n",
      "pred ->  😍 😂 ❤ \t true ->  ☺ 💃\n",
      "pred ->  🔥 ❤ 😍 \t true ->  🍚 😍\n",
      "pred ->  👋 ✅ 🏼 \t true ->  😏 👇\n",
      "pred ->  😍 😄 🏼 \t true ->  🍕 🧀\n",
      "pred ->  🏼 😅 🙈 \t true ->  😂 😭\n",
      "pred ->  😜 🙈 😂 \t true ->  🏻 👌\n",
      "pred ->  😬 🙈 ❤ \t true ->  👌 🎧\n",
      "pred ->  🏻 🙈 😂 \t true ->  ❤ 🏽\n",
      "pred ->  🎊 🤔 🏼 \t true ->  🙏 🏼\n",
      "pred ->  🙏 🏻 ❤ \t true ->  🙏 👏\n",
      "pred ->  😍 ❤ 😘 \t true ->  👸 😛\n",
      "pred ->  👅 🙈 👟 \t true ->  🏻 🏖\n",
      "pred ->  🌺 🏼 😂 \t true ->  👆 💁\n",
      "pred ->  😅 ☺ 😝 \t true ->  ☺ 💆\n",
      "pred ->  🙌 🙏 ❤ \t true ->  👌 😎\n",
      "pred ->  🤗 💃 💫 \t true ->  💃 🙌\n",
      "pred ->  🏻 ❤ 🙏 \t true ->  🏻 😊\n",
      "pred ->  📹 🇺 🇷 \t true ->  😆 😂\n",
      "pred ->  🙈 🙏 😂 \t true ->  ♀ 🏄\n",
      "pred ->  🤗 🙏 ❤ \t true ->  🙃 🏻\n",
      "pred ->  😂 ❤ 🏻 \t true ->  😊 🦊\n",
      "pred ->  😂 🏻 ❤ \t true ->  😂 😁\n",
      "pred ->  ♋ ♎ ♐ \t true ->  ♓ ♊\n",
      "pred ->  😜 🙈 😂 \t true ->  🏋 🏽\n",
      "pred ->  😅 😊 🙈 \t true ->  😂 ✨\n",
      "pred ->  🏻 🙏 ❤ \t true ->  🍚 ❤\n",
      "pred ->  😂 😅 🙈 \t true ->  👌 😋\n",
      "pred ->  🏼 🙆 🏽 \t true ->  ❌ ✅\n",
      "pred ->  ❤ 🏻 😂 \t true ->  ⛅ 😎\n",
      "pred ->  👏 📲 😉 \t true ->  😂 😏\n",
      "pred ->  😉 🍉 ❤ \t true ->  🍚 💖\n",
      "pred ->  🔝 ❤ 🙏 \t true ->  👇 ⚽\n",
      "pred ->  ❤ 🙈 😂 \t true ->  😆 🏼\n",
      "pred ->  🙀 🎅 🎾 \t true ->  🍚 😍\n",
      "pred ->  😷 😻 🙏 \t true ->  😂 🙈\n",
      "pred ->  🙏 🏼 ❤ \t true ->  👍 ☁\n",
      "pred ->  🙏 🏻 ❤ \t true ->  🖤 🎵\n",
      "pred ->  😘 🤗 🏻 \t true ->  💙 🏼\n",
      "pred ->  👏 🏼 🏻 \t true ->  🍚 😋\n",
      "pred ->  📽 👼 🏼 \t true ->  ❤ 💫\n",
      "pred ->  🏼 🏻 ❤ \t true ->  😍 🐾\n",
      "pred ->  🏻 🙏 ❤ \t true ->  ✅ 🎉\n",
      "pred ->  👏 🇵 ❤ \t true ->  😉 🌇\n",
      "pred ->  😂 🏻 🎶 \t true ->  🤗 🙈\n",
      "pred ->  🙈 ♀ ✨ \t true ->  😘 💃\n",
      "pred ->  😍 ❤ 🏼 \t true ->  🙌 🏻\n",
      "pred ->  🚀 🎉 😘 \t true ->  😘 🎉\n",
      "pred ->  🙌 🏼 🏻 \t true ->  💣 😭\n",
      "pred ->  😂 🏻 ❤ \t true ->  📝 😂\n",
      "pred ->  😜 🙈 😂 \t true ->  🍚 😡\n",
      "pred ->  🙈 🏼 😂 \t true ->  🙈 😅\n",
      "pred ->  🏽 🇮 🇹 \t true ->  😇 👿\n",
      "pred ->  ♥ 🏼 😘 \t true ->  🎇 📞\n",
      "pred ->  😊 🤤 ❤ \t true ->  ☀ 😂\n",
      "pred ->  🤗 😍 🙏 \t true ->  🙈 ❤\n",
      "pred ->  😍 🙈 😅 \t true ->  ☺ 😬\n",
      "pred ->  😍 😂 🙈 \t true ->  ♀ 🏃\n",
      "pred ->  🤔 🔥 😍 \t true ->  🏼 💁\n",
      "pred ->  👇 😍 🙄 \t true ->  ✔ 🏼\n",
      "pred ->  🤗 💃 🏼 \t true ->  ✔ 🔥\n",
      "pred ->  👋 👉 ✅ \t true ->  👋 🏼\n",
      "pred ->  🎉 💕 💎 \t true ->  🍚 🎉\n",
      "pred ->  ❤ 🙏 🏻 \t true ->  🥑 💚\n",
      "pred ->  🏼 🏽 😊 \t true ->  💕 🏼\n",
      "pred ->  🐱 😂 🍫 \t true ->  👌 🏽\n",
      "pred ->  🏼 🏻 ❤ \t true ->  💣 🏆\n",
      "pred ->  👏 🏽 😘 \t true ->  🏻 🎉\n",
      "pred ->  ♎ ♍ ♒ \t true ->  ♊ ♈\n",
      "pred ->  🏻 🙌 🙈 \t true ->  🏻 💖\n",
      "pred ->  🙏 🏻 ❤ \t true ->  😂 🔝\n",
      "pred ->  🙈 😂 ♀ \t true ->  🔫 😂\n",
      "pred ->  🏻 😍 🏼 \t true ->  ❤ 😉\n",
      "pred ->  😜 🙈 😂 \t true ->  ❤ 💫\n",
      "pred ->  🏻 🙏 ❤ \t true ->  🏻 🙏\n",
      "pred ->  🏼 😂 🏻 \t true ->  🖕 🏼\n",
      "pred ->  🎤 🙏 ❤ \t true ->  🔥 🏻\n",
      "pred ->  ❤ 👠 👸 \t true ->  🐎 💋\n",
      "pred ->  👸 🙏 🏻 \t true ->  🙏 🏆\n",
      "pred ->  😜 🙈 😂 \t true ->  🍚 😅\n",
      "pred ->  💋 🙏 ❤ \t true ->  👸 🤣\n",
      "pred ->  😅 💃 ❤ \t true ->  🎂 🌟\n",
      "pred ->  🏼 🏻 😂 \t true ->  🌿 🌺\n",
      "pred ->  🇺 🏻 😂 \t true ->  😛 🏼\n",
      "pred ->  🏻 🙏 ❤ \t true ->  🍚 🙈\n",
      "pred ->  👋 😝 🏼 \t true ->  🤔 🙈\n",
      "pred ->  🏻 🙏 ❤ \t true ->  🍚 💞\n",
      "pred ->  🏻 ❤ 😍 \t true ->  ❤ 💃\n",
      "pred ->  🏻 🏼 😔 \t true ->  😍 ❤\n",
      "pred ->  ❤ 🙈 🏻 \t true ->  😂 🌸\n",
      "pred ->  ☺ 🤔 🙈 \t true ->  🙈 😱\n",
      "pred ->  🏻 😂 ❤ \t true ->  🍚 💞\n",
      "pred ->  🏼 😉 😘 \t true ->  🏽 😛\n",
      "pred ->  🏼 😜 🙈 \t true ->  👇 🏼\n",
      "pred ->  🙊 🙌 🏻 \t true ->  🙈 😱\n",
      "pred ->  🙈 😂 ❤ \t true ->  🍚 ✌\n",
      "pred ->  😍 ❤ ☺ \t true ->  🙈 ☺\n",
      "pred ->  ❤ 🏻 😍 \t true ->  ❄ 😜\n",
      "pred ->  👿 😂 🏻 \t true ->  🙏 😱\n",
      "pred ->  🏼 🏻 ❤ \t true ->  🍚 ♥\n",
      "pred ->  🏻 ❤ 🙏 \t true ->  🙏 ❤\n",
      "pred ->  😄 🙈 🔝 \t true ->  😂 😲\n",
      "pred ->  🍯 🧀 😍 \t true ->  😂 🍱\n",
      "pred ->  🏻 😍 🙏 \t true ->  💋 🏼\n",
      "pred ->  🎉 📷 💫 \t true ->  👑 🌼\n",
      "pred ->  🏻 🙏 ❤ \t true ->  🏻 🙈\n",
      "pred ->  🏻 🙏 ❤ \t true ->  ✨ 🌹\n",
      "pred ->  🏻 🙏 ❤ \t true ->  🌟 🔝\n",
      "pred ->  😉 ❤ 🔝 \t true ->  💪 🏼\n",
      "pred ->  🏻 🙏 ❤ \t true ->  🍚 😌\n",
      "pred ->  🌴 ☺ 😆 \t true ->  🦋 ☺\n",
      "pred ->  😜 🙈 😂 \t true ->  💜 🔥\n",
      "pred ->  ❤ 👀 ⚡ \t true ->  😳 🎉\n",
      "pred ->  😩 💜 ❤ \t true ->  🔸 ❗\n",
      "pred ->  🏻 😍 😂 \t true ->  😘 🌰\n",
      "pred ->  👋 👉 🏼 \t true ->  🏻 🏼\n",
      "pred ->  😞 🎊 🇫 \t true ->  🍚 🎉\n",
      "pred ->  💘 ❤ 🤟 \t true ->  🙃 ❣\n",
      "pred ->  🏻 🙏 ❤ \t true ->  ❤ 😊\n",
      "pred ->  😜 ❤ 😂 \t true ->  🏻 🙏\n",
      "pred ->  🏻 🙌 ❤ \t true ->  🙏 😹\n",
      "pred ->  😅 🙈 🙏 \t true ->  🍸 😂\n",
      "pred ->  ❤ 🏻 🙏 \t true ->  🎀 👛\n",
      "pred ->  📸 🏽 ❤ \t true ->  🍚 😍\n",
      "pred ->  ❤ 🙏 🏻 \t true ->  ❤ 💃\n",
      "pred ->  💪 🎁 🙏 \t true ->  💥 ❗\n",
      "pred ->  😊 🙏 🙈 \t true ->  😂 🙈\n",
      "pred ->  🏻 😂 ❤ \t true ->  😴 👣\n",
      "pred ->  😂 🙈 ♀ \t true ->  🐣 😓\n",
      "pred ->  ❤ 😊 🏼 \t true ->  😂 🙈\n",
      "pred ->  🌸 🙏 ❤ \t true ->  🏊 🌲\n",
      "pred ->  😍 😘 ❤ \t true ->  🎂 🥂\n",
      "pred ->  😂 😜 🙈 \t true ->  🍰 🍭\n",
      "pred ->  😍 👸 ❤ \t true ->  🎥 💙\n",
      "pred ->  😅 😂 🙈 \t true ->  ♀ 😱\n",
      "pred ->  👆 🏼 👇 \t true ->  🍚 👽\n",
      "pred ->  😜 ❤ 😂 \t true ->  😂 🙈\n",
      "pred ->  ✨ ♀ 😍 \t true ->  🍚 😍\n",
      "pred ->  🏻 🙏 ❤ \t true ->  ✈ ❤\n",
      "pred ->  😂 ❤ 🙏 \t true ->  👦 👨\n",
      "pred ->  😍 👜 ❤ \t true ->  🍚 🔥\n",
      "pred ->  😜 😂 🙈 \t true ->  🙏 ☺\n",
      "pred ->  💙 ❤ 🙏 \t true ->  📝 💫\n",
      "pred ->  🏼 ❤ 👻 \t true ->  ✈ 🏻\n",
      "pred ->  😄 🙌 🏼 \t true ->  🍚 😔\n",
      "pred ->  ⭐ ❤ 😍 \t true ->  🍚 ❤\n",
      "pred ->  🤗 🙈 😂 \t true ->  ❤ 😉\n",
      "pred ->  😧 🏼 👶 \t true ->  🍚 😍\n",
      "pred ->  😜 🙈 😂 \t true ->  🐅 😂\n",
      "pred ->  ❤ 🏻 🙏 \t true ->  👨 😎\n",
      "pred ->  🏻 😂 ❤ \t true ->  😂 👯\n",
      "pred ->  🏻 ❤ 🎤 \t true ->  ✔ 😹\n",
      "pred ->  🙈 🍹 ☺ \t true ->  😥 😔\n",
      "pred ->  🙏 🏻 ❤ \t true ->  👸 ❤\n",
      "pred ->  😋 🙈 ☺ \t true ->  🏻 😱\n",
      "pred ->  🙏 🏻 ❤ \t true ->  🏩 👌\n",
      "pred ->  😝 🙈 😂 \t true ->  🤗 ☀\n",
      "pred ->  🏻 ❤ 😂 \t true ->  🥞 😜\n",
      "pred ->  ☀ 😜 😂 \t true ->  🎄 ⛄\n",
      "pred ->  ❤ 🏻 🙏 \t true ->  🤗 🎉\n",
      "pred ->  👟 💥 🎄 \t true ->  ☺ 💛\n",
      "pred ->  😍 💥 ✨ \t true ->  🏻 😱\n",
      "pred ->  ☺ 😂 🙈 \t true ->  😂 🏼\n",
      "pred ->  👖 👌 🍩 \t true ->  🙌 🏼\n",
      "pred ->  😁 😉 👌 \t true ->  🔝 😋\n",
      "pred ->  🔝 🙏 🏻 \t true ->  😌 💕\n",
      "pred ->  🏻 🙏 🙌 \t true ->  🤗 🌺\n",
      "pred ->  👏 ❤ 🙏 \t true ->  ❤ 🔝\n",
      "pred ->  ❤ 🙈 😍 \t true ->  🙊 🚩\n",
      "pred ->  ☺ 🏻 ❤ \t true ->  🍚 ❤\n",
      "pred ->  🙌 🏻 🤗 \t true ->  🏻 💓\n",
      "pred ->  🙏 🏅 🏻 \t true ->  😍 ✨\n",
      "pred ->  🙏 🏻 ❤ \t true ->  💋 🏼\n",
      "pred ->  😍 👶 ☺ \t true ->  😈 😹\n",
      "pred ->  🏼 😂 ❤ \t true ->  📝 😂\n",
      "pred ->  🏼 🏻 ❤ \t true ->  ❤ 💪\n",
      "pred ->  🍦 😍 ❤ \t true ->  🍚 ☀\n",
      "pred ->  🙌 🏼 🤗 \t true ->  😁 👇\n",
      "pred ->  ☺ 🏻 🙈 \t true ->  ☺ 🏼\n",
      "pred ->  🙈 🙄 😉 \t true ->  ☺ 😱\n",
      "pred ->  🤗 😱 ☺ \t true ->  ➡ 🏻\n",
      "pred ->  😂 🏼 🏻 \t true ->  🙈 ❗\n",
      "pred ->  🚗 😘 ❤ \t true ->  ✈ 👍\n",
      "pred ->  🍳 😂 🙈 \t true ->  🐬 🤤\n",
      "pred ->  ✨ 💫 💰 \t true ->  📝 💫\n",
      "pred ->  ✌ 😍 😂 \t true ->  😝 💁\n",
      "pred ->  🌹 😍 ❤ \t true ->  😏 ❤\n",
      "pred ->  🥘 🏼 📸 \t true ->  ❤ 🔜\n",
      "pred ->  👸 🙏 ❤ \t true ->  💣 💋\n",
      "pred ->  🔝 ❤ 🙈 \t true ->  ☕ 🍫\n",
      "pred ->  ✨ 🙏 ❤ \t true ->  🍰 💕\n",
      "pred ->  😂 ❤ 😐 \t true ->  😌 ✔\n",
      "pred ->  🎀 😉 ✨ \t true ->  🏻 👰\n",
      "pred ->  😍 🍂 🍹 \t true ->  🙄 😕\n",
      "pred ->  😍 🙏 ❤ \t true ->  🎊 🎄\n",
      "pred ->  😍 😉 🙈 \t true ->  🏡 👻\n",
      "pred ->  🙏 ❤ 🏻 \t true ->  💋 🏻\n",
      "pred ->  😊 🙈 🏻 \t true ->  ☺ 🎉\n",
      "pred ->  💣 🏽 ❤ \t true ->  ❤ 💋\n",
      "pred ->  🏻 🏼 ❤ \t true ->  🍚 🔥\n",
      "pred ->  👍 😍 😂 \t true ->  💋 📹\n",
      "pred ->  😳 ☺ 🏻 \t true ->  ☺ 😅\n",
      "pred ->  🇪 💥 🙁 \t true ->  🍚 🎉\n",
      "pred ->  ❤ 💕 🖤 \t true ->  🏽 🏼\n",
      "pred ->  😜 😍 😂 \t true ->  🍚 😏\n",
      "pred ->  💃 🙈 ❤ \t true ->  😅 🏼\n",
      "pred ->  🏻 🙏 💪 \t true ->  🍚 😏\n",
      "pred ->  ❤ 👋 🙌 \t true ->  ❤ 💫\n",
      "pred ->  🌺 🙌 🏻 \t true ->  🙌 🏼\n",
      "pred ->  😜 🙈 😂 \t true ->  ⚓ 💃\n",
      "pred ->  😅 ❤ 🙈 \t true ->  🙌 😽\n",
      "pred ->  😂 🏻 ❤ \t true ->  ❤ 😂\n",
      "pred ->  🙏 😘 🙈 \t true ->  🤗 ♥\n",
      "pred ->  ✨ 🏼 ♀ \t true ->  👉 💊\n",
      "pred ->  🏼 😍 🎄 \t true ->  🍚 😋\n",
      "pred ->  😍 👏 😂 \t true ->  🍚 👀\n",
      "pred ->  ❤ 🏼 🏻 \t true ->  🔞 🍔\n",
      "pred ->  🌴 😂 🙈 \t true ->  😅 😂\n",
      "pred ->  🏻 🙏 ❤ \t true ->  🚀 🙈\n",
      "pred ->  🏻 ❤ 💙 \t true ->  🎢 💙\n",
      "pred ->  🥞 🙌 😅 \t true ->  🔽 🏼\n",
      "pred ->  🏻 ❤ 🏼 \t true ->  🙈 😂\n",
      "pred ->  ❤ 🏻 😍 \t true ->  ☀ 🌊\n",
      "pred ->  🙏 🏻 ❤ \t true ->  😴 🐶\n",
      "pred ->  🏻 ❤ 🙏 \t true ->  ✌ 😂\n",
      "pred ->  ❤ ✨ 😍 \t true ->  🏻 👌\n",
      "pred ->  😍 ✨ ❤ \t true ->  🍚 📷\n",
      "pred ->  😍 🙏 ❤ \t true ->  ❤ 👏\n",
      "pred ->  😂 🏼 🙈 \t true ->  👌 🙈\n",
      "pred ->  🤗 ☺ 🙈 \t true ->  😍 ♀\n",
      "pred ->  🏻 ❤ 😂 \t true ->  🙏 ⚽\n",
      "pred ->  🏼 ❤ 🙏 \t true ->  😄 ☕\n",
      "pred ->  🏻 ❤ 😂 \t true ->  🍚 🎤\n",
      "pred ->  🙌 🙏 🏻 \t true ->  🏻 🌸\n",
      "pred ->  📲 🍂 🏿 \t true ->  💋 🏼\n",
      "pred ->  😍 🙏 ❤ \t true ->  😆 😂\n",
      "pred ->  🌟 😏 🎁 \t true ->  🍚 ®\n",
      "pred ->  😅 🏻 🙈 \t true ->  😃 🦊\n",
      "pred ->  🙏 🏻 ❤ \t true ->  🍚 😎\n",
      "pred ->  🏻 😘 😍 \t true ->  🎥 🍿\n",
      "pred ->  🏼 🏻 👇 \t true ->  🇺 🇷\n",
      "pred ->  ❤ 🙌 🙈 \t true ->  🙈 😉\n",
      "pred ->  🏼 😉 🙈 \t true ->  🏻 🌸\n",
      "pred ->  🔥 ✊ ⚡ \t true ->  💕 🎉\n",
      "pred ->  🙈 👄 😂 \t true ->  ☀ 😐\n",
      "pred ->  🏻 🙏 ❤ \t true ->  🍚 📷\n",
      "pred ->  🏻 🏼 ❤ \t true ->  🎀 💫\n",
      "pred ->  ♥ 🏽 😂 \t true ->  ♥ 💛\n",
      "pred ->  🏻 😍 ❤ \t true ->  ❤ 🏼\n",
      "pred ->  😜 ❤ 🏻 \t true ->  ♥ 😌\n",
      "pred ->  ❄ 🙌 🌼 \t true ->  🏝 😘\n",
      "pred ->  🎥 ❤ 😉 \t true ->  💅 🏻\n",
      "pred ->  ❤ 🤔 💍 \t true ->  🍚 ❤\n",
      "pred ->  😅 🏻 🙈 \t true ->  🏻 🌺\n",
      "pred ->  🏼 🙈 😂 \t true ->  👇 😎\n",
      "pred ->  😍 🍊 💎 \t true ->  🏽 👵\n",
      "pred ->  ✨ 🏻 🙏 \t true ->  🎥 💸\n",
      "pred ->  ❤ 🏻 🙏 \t true ->  🙏 💛\n",
      "pred ->  😉 😌 ❤ \t true ->  🤣 🤓\n",
      "pred ->  👸 🏻 ❤ \t true ->  🍚 ❤\n",
      "pred ->  ❤ 🙈 😍 \t true ->  🌁 🔥\n",
      "pred ->  ☺ 😂 🏻 \t true ->  😍 🤔\n",
      "pred ->  🏻 🏼 ❤ \t true ->  🍚 💏\n",
      "pred ->  😊 💪 😝 \t true ->  😏 👿\n",
      "pred ->  🙏 ❤ 🌴 \t true ->  🍚 🔝\n",
      "pred ->  ☺ 😂 💊 \t true ->  🏂 🏃\n",
      "pred ->  ❤ 🏻 😍 \t true ->  👇 🙈\n",
      "pred ->  ❤ 🙈 😘 \t true ->  🙆 ❤\n",
      "pred ->  😍 ❤ © \t true ->  😌 😉\n",
      "pred ->  😍 🙏 ❤ \t true ->  ❤ 💋\n",
      "pred ->  🙈 🏻 💪 \t true ->  🏻 📸\n",
      "pred ->  😌 🏼 🤗 \t true ->  🙌 😅\n",
      "pred ->  ♑ ♌ ♐ \t true ->  ♏ ♒\n",
      "pred ->  🏼 ❤ 😂 \t true ->  💣 💦\n",
      "pred ->  🏻 🙈 ❤ \t true ->  😉 🥰\n",
      "pred ->  🙌 😅 🙈 \t true ->  ✈ 🙏\n",
      "pred ->  ☺ 🏻 🙈 \t true ->  ❤ 🙂\n",
      "pred ->  ❤ 🙏 🏻 \t true ->  🍚 📱\n",
      "pred ->  😉 🙌 🏻 \t true ->  🍚 🎨\n",
      "pred ->  🚀 🏻 🎤 \t true ->  🍚 😍\n",
      "pred ->  👏 🙏 🔝 \t true ->  😉 💂\n",
      "pred ->  👯 💃 💫 \t true ->  📝 💫\n",
      "pred ->  🙈 😍 😂 \t true ->  😍 🌟\n",
      "pred ->  🙈 😍 😂 \t true ->  😳 😼\n",
      "pred ->  😂 😍 🍟 \t true ->  🔥 ❗\n",
      "pred ->  ❤ 😂 🙏 \t true ->  😋 ❤\n",
      "pred ->  💔 🙏 🏻 \t true ->  😏 ❤\n",
      "pred ->  🙌 😂 🙈 \t true ->  🌸 🙈\n",
      "pred ->  🙏 👽 😂 \t true ->  😳 😊\n",
      "pred ->  🏻 😂 ❤ \t true ->  😂 🏼\n",
      "pred ->  🙏 ❤ 🏻 \t true ->  🍚 ❤\n",
      "pred ->  😝 🏻 ❤ \t true ->  👧 😉\n",
      "pred ->  🔮 💫 😉 \t true ->  🍚 😉\n",
      "pred ->  🏻 🙏 ❤ \t true ->  😻 🤗\n",
      "pred ->  🙏 ❤ 🏻 \t true ->  😘 👻\n",
      "pred ->  😂 👍 🏼 \t true ->  🙏 🏼\n",
      "pred ->  🏼 ✨ 😍 \t true ->  ❤ 😊\n",
      "pred ->  👏 😍 🏼 \t true ->  🍚 🎉\n",
      "pred ->  🔮 💫 😉 \t true ->  🍚 😉\n",
      "pred ->  📷 😍 ❤ \t true ->  🍚 📷\n",
      "pred ->  🎄 😍 😂 \t true ->  🍎 🍏\n",
      "pred ->  👇 ❤ ✅ \t true ->  🔥 🥺\n",
      "pred ->  😅 😂 🌺 \t true ->  😊 🙈\n",
      "pred ->  💓 ✨ ❤ \t true ->  😍 ✨\n",
      "pred ->  🙈 🏻 😂 \t true ->  💃 ⚽\n",
      "pred ->  😂 🏻 ❤ \t true ->  🍚 ❤\n",
      "pred ->  🙏 ❤ 🏻 \t true ->  🎹 💔\n",
      "pred ->  😂 😍 ❤ \t true ->  🍚 ❤\n",
      "pred ->  🏻 🙏 ❤ \t true ->  🤪 😇\n",
      "pred ->  🏻 😂 🙏 \t true ->  🐶 😂\n",
      "pred ->  😘 ❣ ❤ \t true ->  🏼 🙌\n",
      "pred ->  🏻 ❤ 😍 \t true ->  🍚 💥\n",
      "pred ->  🙏 🏻 ❤ \t true ->  🤤 🏼\n",
      "pred ->  🏻 🙏 🙈 \t true ->  😻 😇\n",
      "pred ->  😉 🌸 🏻 \t true ->  🏻 ✋\n",
      "pred ->  👇 ✨ 🏻 \t true ->  🥑 🌺\n",
      "pred ->  🏻 😊 ❤ \t true ->  😝 🤤\n",
      "pred ->  🙌 🏻 🙏 \t true ->  😠 👏\n",
      "pred ->  🙈 ❤ 😂 \t true ->  🍚 ❤\n",
      "pred ->  🙈 ☺ 🙄 \t true ->  🙈 😱\n",
      "pred ->  🏻 🙏 ❤ \t true ->  ❤ 👏\n",
      "pred ->  😜 ❤ 🙏 \t true ->  😏 ❣\n",
      "pred ->  👉 😂 🙈 \t true ->  🌹 💀\n",
      "pred ->  😄 🙈 😅 \t true ->  ☀ 🙈\n",
      "pred ->  ❤ 🏻 😂 \t true ->  😬 🙈\n",
      "pred ->  ❤ 🏼 👉 \t true ->  🏻 🤣\n",
      "pred ->  ❤ 💪 🙈 \t true ->  😂 💃\n",
      "pred ->  🏻 🤒 😂 \t true ->  ❤ 🙈\n",
      "pred ->  🤗 🙌 😊 \t true ->  😂 🙈\n",
      "pred ->  🏻 😍 🙈 \t true ->  👀 🤤\n",
      "pred ->  ⭐ 🐾 🎼 \t true ->  💫 🎉\n",
      "pred ->  🎃 🏼 🏻 \t true ->  🏽 🤙\n",
      "pred ->  🙏 ❤ 😂 \t true ->  😎 😉\n",
      "pred ->  ♑ ♋ ♏ \t true ->  ♊ ♈\n",
      "pred ->  🔝 ❤ 🙏 \t true ->  🤗 👏\n",
      "pred ->  🙏 ❤ 🏻 \t true ->  😊 🌸\n",
      "pred ->  ❤ 🙈 😂 \t true ->  🙈 🐷\n",
      "pred ->  👧 ❤ 🥰 \t true ->  🏻 👌\n",
      "pred ->  ❤ 🙈 😂 \t true ->  😝 😂\n",
      "pred ->  ♀ 😝 😂 \t true ->  😂 📸\n",
      "pred ->  🙏 🏻 ❤ \t true ->  🙏 ❤\n",
      "pred ->  🙏 🏻 ❤ \t true ->  🙏 😢\n",
      "pred ->  ♥ ✈ 🏼 \t true ->  👇 🙈\n",
      "pred ->  🙏 🙈 😻 \t true ->  🏻 😊\n",
      "pred ->  🙈 🏼 😊 \t true ->  ☺ 🏡\n",
      "pred ->  🤗 😜 🙈 \t true ->  🤦 🤷\n",
      "pred ->  ❤ ✨ 😍 \t true ->  🐣 🌞\n",
      "pred ->  ❤ 🏽 🐝 \t true ->  😘 🎉\n",
      "pred ->  🏼 👇 🏻 \t true ->  😎 🏼\n",
      "pred ->  🏻 ❤ 🙏 \t true ->  😂 🤗\n",
      "pred ->  ❤ 🙈 😍 \t true ->  😋 🏖\n",
      "pred ->  🏻 ❤ 😂 \t true ->  🍚 ✌\n",
      "pred ->  😍 🙈 💓 \t true ->  ❤ 🙈\n",
      "pred ->  🏻 🙈 ❤ \t true ->  🤗 😊\n",
      "pred ->  ♎ ♉ ♍ \t true ->  ♓ 💫\n"
     ]
    }
   ],
   "source": [
    "for pred, true in zip(y_predictions, y_true_h):\n",
    "    print('pred -> ', ' '.join([i2e[p] for p in pred]), '\\t true -> ', ' '.join([i2e[t] for t in true]))"
   ]
  },
  {
   "cell_type": "code",
   "execution_count": 33,
   "metadata": {},
   "outputs": [],
   "source": [
    "def test_strs(x):\n",
    "    x = vectorize_text_only(x)\n",
    "    if not x:\n",
    "        return None\n",
    "    x = torch.Tensor(x).long().unsqueeze(0)\n",
    "    ans = simnet(x.cuda())\n",
    "    ans = np.argsort(ans.cpu().detach().numpy())[:, -3::]\n",
    "    return [i2e[i] for i in ans[0]]"
   ]
  },
  {
   "cell_type": "code",
   "execution_count": 34,
   "metadata": {},
   "outputs": [],
   "source": [
    "with open('../data/joined-emoji-val.json', 'r') as f:\n",
    "    val = json.load(f)\n"
   ]
  },
  {
   "cell_type": "code",
   "execution_count": 35,
   "metadata": {
    "scrolled": true
   },
   "outputs": [
    {
     "name": "stdout",
     "output_type": "stream",
     "text": [
      "{'text': 'если допустить, что в среднем человек живет 80 лет, то 30 из них он проспит. #доброеутро'}  -- \t -- ['\\U0001f924', '❤', '🙏']\n",
      "{'text': 'Пока самолёт только что приземлился в Минске , добавляю горячее фото с островов 😅😎🏝Чтобы завтра работалось лучше 😅💪🏻📸'}  -- \t -- ['😍', '🏻', '✨']\n",
      "{'text': 'Тот, кто любит давать советы, сам в\\xa0них больше всего нуждается 😂👌🏼 Красавица 👱🏻\\u200d♀️\\n@annasvi____ \\nКрасавчик 🍆👇🏻\\n@bittuevv \\nНе Серёжа 😏👇🏻 @veenolecelebreofficiel ✅Напиши слово 💥ЛЮБОВЬ🔥по буквам , так что бы никто не перебил 👍🏼 и получи лайк от Kross\\n✅Подпишусь 👉🏼на обладателя 👉🏼самого смешного комментария 😂🙏🏻\\n✅1.посмотри видео \\n2.поставь лайк \\n3.сохрани видео \\n4. напиши комментарий ‼️я всё ,хочу видео привет 👋🏻 в сторис ‼️\\nВыберу трёх 😁счастливчиков которым передам привет у себя в сторис 😃\\n\\n#любовь #love #тимати #тнт  #коррекцияфигуры #худеемклету  #дом2 #дом2новоти #blackstar #девочкиьакиедевочки #кавказ  #блондинка #егоркрид #бузова #musically #егоркрид #ольгабузова'}  -- \t -- ['✅', '👋', '🏼']\n",
      "{'text': 'Ну что, дорогие❤️Уже завтра в продажу поступит свеженький январский Cosmo👏🏻Мы приготовили для тебя массу интересных и полезных статей, предсказания таролога и нумеролога, и, конечно, самый точный гороскоп на 2016 год. За видео спасибо нашему замечательному арт-директору @volkova_yana 😘'}  -- \t -- ['👏', '©', '❤']\n",
      "{'text': 'Мои дорогие🙏🏽 Я самая счастливая 😻😻😻спасибо Вам за такую невероятную поддержку. Мне хочется кричать от счастья🤗 1-е место в топ чарте iTunes 🎊и это все благодаря Вам🙏🏽Очень надеюсь, что мы с вами продержимся очень долго и многие поймут, что #моилюдивсегдасомной\\nЯ Вас безгранично сильно люблю❤всегда Ваша, Ольга Бузова #itunes #подзвукипоцелуев #премьера #ольгабузова #сингл'}  -- \t -- ['👍', '👇', '🏼']\n",
      "{'text': 'Спасибо большое журналу  @lf_city за вчерашний потрясающий вечер! За возможность видеть всех моих любимых артистов @offi_hanna @ritadakota @dominickjocker @astiselfmade ❤️💋 Эту победу в номинации \"Песня года\" я посвящаю всем #моимлюдям, которые уже 5й день качают Песню#подзвукипоцелуев 💋 выкладывают свои видео, перепевают ее 🙏🏻 Лучшие ролики скоро окажутся у меня на странице 😋 Без вас, без вашей любви и поддержки, я бы не смогла вчера улыбаться! Спасибо вам❤️❤️❤️ #моилюдивсегдасомной 🙏🏻 За образ спасибо @alexanderarutyunov 🔝'}  -- \t -- ['☀', '😉', '🙌']\n",
      "{'text': 'И так каждый раз, когда мы уходим из дома🐶🐶🐶 я опять не устояла и тябак едет со мной на работу😂 #люблюеву#евалюбитгулять#актонелюбит'}  -- \t -- ['😂', '🏻', '❤']\n",
      "{'text': 'У нас последние дни какие-то сумасшедшие 😰🔫\\nВчера ночью Давид во сне начал ползти и упал с кровати😢\\nСегодня ему вообще захотелось проснуться в 3 часа и ползать по всей кровати как ни в чем не бывало до пол 6 утра....\\nЯ в итоге заснула только тогда и проснулись в 11😁\\nВсё начинает меняться...засыпает позже😳 и с большим трудом..просыпается зато раньше😅🌞\\nИ вообще, у Давида сейчас время когда он хочет только ПОЛЗАТЬ😱 Всегда и Везде!!)\\nВ коляске ему не нравится, в эрго/слинге - не нравится.\\nВ машине уже тоже спокойно не сидит ни в кресле ни на руках...😁🔫\\nЧеловеку нужно ползти ВЕЗДЕЕ!!))\\nЯ уже молюсь на время, когда он ножками пойдёт😂\\nХотя что-то мне подсказывает, что станет не легче)))\\nКороче, закончилась пора спокойного материнства))))\\n💃🏻А мои мольбы были услышаны и погода наконец 🔥🔥❤️❤️\\n🌺Всем хорошего дня😉'}  -- \t -- ['😝', '🏻', '😂']\n",
      "{'text': 'In revenge and in love, woman is more barbarous than man. \\nВ любви 😍или в гневе 😡женщина намного жестче мужчины 👌🏼\\nИспытывая состояние стресса организм человека выделяет окситоцин. ☄Этот гормон оказывает разный эффект на мужчин🚶🏼и на женщин. 💃У мужчин выработка окситоцина при стрессе снижает уровень тестостерона, это приводит к тому, что мужчина начинает проявлять больше агрессивности и злости😡. У женщин есть гормон эстроген, который способствует увеличению выработки окситоцина, что помогает женщине легче справиться со стрессом и вернуться в спокойное состояние. 😌При этом мужчины в состоянии стресса не способны выражать своих чувств и мыслей, а вместо этого часто злобно и агрессивно реагируют. 👿Женщины в состоянии стресса нередко склонны прибегать к возможности выговориться, а также могут делиться с кем-либо имеющимися проблемами, это помогает им почувствовать себя лучше и быстрее преодолеть стрессовое состояние.😇\\nИсходя из этого , можно сделать вывод , что когда женщина злиться или страдает , прибывание в этом состоянии ей определённо нравиться 🙃\\n#мнение #мысли #комментируй #комментируйте#комментируй #философия #цитаты #статус #follow #followme #like4like #likeforfollow #likesforlikes #likeforlike #girl #girls #я #утро #эмоции #мейкап #мейк #прически'}  -- \t -- ['🏻', '\\U0001f926', '♀']\n",
      "{'text': 'Ушла в сладкий сон👣😴😴😴'}  -- \t -- ['💋', '🎼', '⬆']\n",
      "{'text': '\"Мы с Джейсоном счастливы поделиться с вами новостью о том, что мы ждём ребёнка\", – поделилась Роузи в своём Инстаграм❣️ Ребят, вам не кажется, что стало модно делать официальные заявления в социальных сетях🙃?'}  -- \t -- ['🏻', '😘', '❤']\n",
      "{'text': 'Одна из моих главных целей на 2019 - зажечь как можно больше ваших сердец 🎵\\U0001f5a4'}  -- \t -- ['😂', '❤', '\\U0001f973']\n",
      "{'text': 'И тем временем я в попытках выучить англ🤓😂 Для новых слов всегда делаю карточки,эта привычка пошла с детства) сперва по наставлению родителей, теперь уже самой так удобнее) помню, летом не могла выйти из дома, пока не отвечу папе новых 50 слов😂 моя @khmelevskaya_a приходила ко мне и вместе учили, чтоб меня отпустили гулять 🙏🏻💓😂 хотя что она мне только не помогала делать: и англ, и Немецкие диалоги мои слушала, и скульптуру в худож Школу лепила, и полы с кухней мыла..😂❤️\\nВернемся к англ) Так вот ) откуда брать новые слова) я выписываю все-все новые слова из вариантов егэ, если где-то в интернете встречаю, из учебника и ,самое главное, теперь из сериала))) не могу сказать, что у меня слабый уровень англ, но слов незнакомых очень много) \\nНедавно мне тут в инстаграме девочки посоветовали сайт ororo.tv для сериалов с субтитрами. Он идеальный))) абонемент стоит рублей 300.\\n•во 1 там есть просто куча сериалов •можно ставить двойные субтитры (но я смотрю только с английскими и вам советую так же) •можно делать меньше скорость. Когда начинала смотреть (собственно, успела пока только 8 серий за три недели😂), ставила 0,9, сейчас уже смотрю как в оригинале, все улавливаю, слух приноравливается) •когда наводишь на непонятное слово в субтитрах, автоматом ставится на паузу и показывается его перевод •слова можно сразу же добавлять в словарик и потом на этом же сайте проверять как выучил \\nПоэтому у кого есть свободное время, обязательно смотрите, английский очень сильно подтягивается, звучит как \"я похудела за день на 10 кг\" , но я правда вижу объективный результат😹 слова постоянно повторяются (блин. Только что не туда вышла из метро!! Теперь обратно ехать , черт😂). Так вот,слова повторяются и много разговорных фраз) я смотрю Downton abbey )после просмотра серии всегда ещё минут 20 думаю на англ😂\\nДа и вообще по англ сейчас идёт сама усердная подготовка ) поэтому гружу пост и убегаю снова доделывать вариант, хоть в метро на меня все косо смотрят, как на ботана🙄🤓 надо ещё контейнер с едой  достать им на зло😹\\n\\nА, и если кто-то будет брать абонемент на ороро, я скину сейчас свою ссылку в Аск, берите  по ней, у меня будут баллы и вам скидка 10%) http://ororo.tv/ref/890952'}  -- \t -- ['👉', '😂', '🏻']\n",
      "{'text': 'Самый точный прогноз для всех знаков Зодиака в нашем ежедневном проекте Cosmo - гороскоп! \\nВыбирай свой знак 😉 @cosmo_pisces  РЫБЫ @cosmo_libra ВЕСЫ @cosmo_taurus ТЕЛЕЦ @cosmo_aquarius ВОДОЛЕЙ @cosmo_sagittarius СТРЕЛЕЦ @cosmo_scorpio - СКОРПИОН\\n @cosmo_leo ЛЕВ @cosmo_aries ОВЕН @cosmo_cancer - РАК @cosmo__capricorn КОЗЕРОГ @cosmo_virgo ДЕВА @cosmo_gemini БЛИЗНЕЦЫ'}  -- \t -- ['💞', '💫', '😉']\n",
      "{'text': 'Танец с бешеным грузином 😂😂😂 @e_papunaishvili ты лучший 💂🔝🔝🔝 жаль, что не ты был моим партнером на танцах со звёздами😔'}  -- \t -- ['❤', '🏻', '\\U0001f91e']\n",
      "{'text': 'Угадайте что мы делаем с мамой Олей?😂😂😂'}  -- \t -- ['🐰', '🎂', '🍰']\n",
      "{'text': 'Я сегодня хорошенько потренировала 🌰 вместе с @_lalisea 😈\\n🙏🏼🙏🏼🙏🏼Наконец сняли тренировку мою💃🏻💃🏻 Вечером выложу💪🏼\\nВышла с зала- мои любимые меня ждали на скамеечке☺️ и покушали, и попили) Давид только начал засыпать как раз, как я подошла☺️☺️❤️❤️❤️\\nЯ счастлива☺️☺️\\nСпасибо тебе, мой любимый @stuzhuk_dmitriy , что помогаешь мне☺️😘😘\\n#НОЖУЛИ ❤️❤️❤️'}  -- \t -- ['✨', '😅', '🏼']\n",
      "{'text': '❣️РОЗЫГРЫШ ЗАВЕРШЁН ❣️\\nПобедитель @unimportant_for_you 💝\\n.\\nПока мы ещё тут - поспамлю ещё фоточками с Шерегеша☺️ всех дочитавших до конца ждёт сюрприз💝\\n.\\nМы послезавтра возвращаемся в Москву и даже уже скучаю 🙈 честно, устала уже без дела сидеть 😂\\nА ещё, с нами в Москву едет Мама 😍 поэтому у меня на ближайшие три недели планов в три раза больше, чем обычно 😉 вы понимаете, будет интересно😂\\n.\\nНу и обещанный сюрприз ☺️ решили разыграть такие же леггинсы как на мне 😍 совместно с @royal.look ✨ я уже года 3 у них вещи заказываю☺️ и вот очередная супер вещь - леггинсы из ЭКО-кожи ВНИМАНИЕ ☝️ с флисом внутри 🙈 тёплые, стрейчевые, с посадкой на талии - идеальные 💝 они есть в трёх цветах - марсала, чёрный, зелёный ☺️\\nВсе как обычно просто\\n❤️ лайк, подписка на меня и @royal.look\\n❤️ в комментарии пишете в каком цвете хотите леггинсы ☺️\\n❤️ через пару дней выберу победителя\\n___________\\nПоехали?\\nПобедителей лайк-тайма выберу завтра, а то сегодня Лись рано спать решила лечь 😴'}  -- \t -- ['😂', '\\U0001f937', '🏻']\n",
      "{'text': 'Можно ещё одно фото с шариками 😂🙈 а то потом уже не актуально будет 🎈\\n.\\nЧестно? Меня убивают такие долгие выходные 😂 это безделье и дуракаваляние \\U0001f92a\\nНе знаю, есть тут кто живой, или все ещё отдыхают? Писать особо не буду☺️ давайте болтать☺️ вопрос - ответ или как это ещё обозвать 😝\\nPs. Кстати, пришла новая посылка с IHerb 😀 как-то мега быстро доставили в этот раз 😅 обзор делать?'}  -- \t -- ['☺', '🙈', '🏻']\n",
      "{'text': 'Всё-таки не хватает мне 24 часа в сутках🙈 за 2 дня поспала 5 часов💤💤💤 в Москве только ночь наступает, а в Якутске раннее утро, и мы едем в аэропорт✈️✈️✈️ Я нахожусь под впечатлением от вас всех!!!Спасибо этому нереальному городу за потрясающий день👍#ялюблюсвоюработу'}  -- \t -- ['🙈', '👏', '😘']\n",
      "{'text': 'На этом фото уже почти 5 человек😍😍😍\\n⠀\\nИнтересно, Вы такие обычные фото ещё принимаете?))\\n⠀\\nУ меня вечно блог какой-то неправильный:)))\\nТо полно красивых фото, но не знаю, что написать, то наоборот 🙈 Текстов идей и мыслей миллион - а фоток нет совсем😅\\U0001f937🏻\\u200d♀️\\n⠀\\nДавайте вместе выберем тему для следующего поста:\\n- моя домашняя аптечка\\n- про беременные страхи\\n- как убрать живот после родов\\n- про ситуации, когда обижают твоего ребёнка\\n- аффирмации для укрепления отношений в паре\\n- о позитивном настрое и мышлении\\n- Ваши варианты:)))\\n⠀\\n👇🏻 А ещё напишите, что для Вас самое важное, кайфовое в жизни?\\nДля меня - моя семья❤️\\nВот правда, максимально счастливо и полноценно я чувствую себя, когда мы все вместе❤️\\n⠀\\nЯ сегодня смотрела вот так на нас в зеркало  и наполнялась счастьем❤️\\n⠀\\nСпасибо Вселенной(Богу), что мы имеем всё вот это❤️❤️❤️'}  -- \t -- ['😂', '🏻', '\\U0001f937']\n",
      "{'text': 'Весь день снимали разворот для нового выпуска журнала @ellegirlrussia ❤️ В следующем году мечтаю попасть на обложку 🙈 Как думаете, это возможно? 👇🏼'}  -- \t -- ['🙌', '😉', '😍']\n"
     ]
    },
    {
     "name": "stdout",
     "output_type": "stream",
     "text": [
      "{'text': 'Apples were reinvented since I got this 🍏-slicer! | Кто сказал, что вкусные фрукты бывают только из Тайланда? А с этой 🍎-резкой, я открыла для себя яблоки с новой стороны! 😋 #vsco #vscocam #vscofood #vscorussia #apples #яблоко #правильноепитание #веган #vegan'}  -- \t -- ['🐔', '😍', '😂']\n",
      "{'text': 'Можно ещё одно фото с моей главной Валентинкой 😍❤️\\n.\\nКстати, помню в школе училась когда, очень ждала этот день 🙈 не то, что сейчас 😂 тайные валентинки от поклонников, интриги и расследования и разочарования от кого и кому пришло 😂\\n.\\nА ещё мне очень нравилось имя Валентина. Потому что из него можно было сделать сокращённое модное Тина, на западный манер 😂 помню думала, почему я Настя, а не Мелани, или, например, Линда, ну или уж на худой конец, Элен (как В Элен и ребята)😂😂😂 да-да, Линда это вообще было мое имя мечта. Уж не знаю почему😂 но во всех чатах (в интернет кафе, помните?😂 не говорите, что нет😝), я сидела под этим именем 🙈\\n.\\nХотя сейчас я вполне довольна своим именем🙈 эх, молодость 😂 а я ещё думала так дочь назвать \\U0001f92a была бы сейчас не Алиса, а Линда Дмитриевна 😂😂🙈 представляете?'}  -- \t -- ['🏻', '\\U0001f926', '❤']\n",
      "{'text': 'Самый точный прогноз для всех знаков Зодиака в нашем ежедневном проекте Cosmo - гороскоп! \\nВыбирай свой знак ;) @cosmo_pisces  РЫБЫ @cosmo_libra ВЕСЫ @cosmo_taurus ТЕЛЕЦ @cosmo_aquarius ВОДОЛЕЙ @cosmo_sagittarius СТРЕЛЕЦ @cosmo_scorpio - СКОРПИОН\\n @cosmo_leo ЛЕВ @cosmo_aries ОВЕН @cosmo_cancer - РАК @cosmo__capricorn КОЗЕРОГ @cosmo_virgo ДЕВА @cosmo_gemini БЛИЗНЕЦЫ'}  -- \t -- ['💞', '💫', '😉']\n",
      "{'text': 'Когда у тебя есть бизнес, то невольно начинаешь следить за экономическими новостями, которые происходят в стране. Потому что от этого напрямую зависит, как будет твое дело себя чувствовать. Надо быть в курсе всего. Россия вот переместилась на 11 место и скоро пойдет в первую десятку ведущих экономик мира. На вершине, кстати, США. Интересно ваше мнение, объем нашей экономики больше или меньше $2 трлн?) Пишите варианты в комментариях!'}  -- \t -- ['😍', '🙈', '😂']\n",
      "{'text': 'А у нас сегодня \"шапка\" сериала Бисер👏🏻👏🏻👏🏻 я так много писала про наши съёмки, а сейчас  хочу сказать: СПАСИБО🙏🏻 спасибо Антону Зайцеву, что поверил в меня, спасибо Жанне Кадниковой за то, что ты такая крутая и за помощь на площадке, спасибо всем актерам, операторам, художнику по гриму и костюмам! Спасибо всем!!!!! Спасибо, я вас люблю ❤️❤️❤️с нетерпением жду премьеры🙏🏻 #Скоро#премьера#сериалбисер#ялюблюсвоюработу#большечемработа#тнт#ЛУЧШИЙКАНАЛ'}  -- \t -- ['☺', '🙈', '😂']\n",
      "{'text': 'настроение вообще не мерри крисмас. боль в горле предвещает нелегкий день ( хочу в утро, в постель'}  -- \t -- ['🙃', '🏻', '👍']\n",
      "{'text': '💞Люблю 💞\\n.\\n🙈Я немножечко пропала:) но сейчас так выгляжу и чувствую себя, что совсем не хочется фотографироваться и что-то постить🙈🙈 вчера даже не поздравила никого🙈 Так что с прошедшим , 78% моей аудитории 😉🌸 .\\n🙏🏻Так хочется какого-то разнообразия😓 Прям сейчас собрала бы чемоданы и рванула бы в Тай😅 .\\n☝🏻Отсюда вопрос: мамули, в каком возрасте Вашей крошки вы полетели на самолете впервые и на какое расстояние? \\nМы с Давидиком полетели в его 5,5 месяцев на Кипр:) Сейчас планируем раньше...но когда🤔\\n🙌🏻Интересует чужой опыт!) С упреками аля «горемать, детей воспитывай сиди, лететь вздумала» - мимо😉\\n.\\n💞Фото - наша любимая @yuliyasagan_photographer 💞'}  -- \t -- ['❤', '😂', '🏻']\n",
      "{'text': 'Анастасии Заворотнюк стало лучше! Об этом сообщила пиар-менеджер актрисы. Врачи смогли вывести Анастасию из критического состояния и значительно уменьшить отек мозга. Так что у артистки есть все шансы на выздоровление🙏🏼'}  -- \t -- ['😌', '😍', '💪']\n",
      "{'text': 'Спокойной ночи🐶😴😴 #пидавай#моячелси#колейколей'}  -- \t -- ['🏻', '🙏', '⬆']\n",
      "{'text': 'Как здорово, что удалось поработать со столькими талантливыми людьми 🙏🏻☺️ вот ещё одна съемка с Танечкой @taladyss и девочками @nata_sergeeva и @diana_makeupart🌟🌟🌟 спасибо вам ещё раз 😍😍😍 #agolovinova_беременность'}  -- \t -- ['🙈', '❤', '😍']\n",
      "{'text': 'Знаменитости отмечают католическое Рождество.\\n1. Уилл и Джада Пинкетт-Смит с семьей. \\n2. Риз Уизерспун с семьей. \\n3. Ферги с Санта-Клаусом и ребёнком. \\n4. Кьяра Ферраньи и Fedez с сыном. \\n5. Кит Урбан и Николь Кидман. \\n6. Селин Дион с детьми.'}  -- \t -- ['😬', '👌', '😍']\n",
      "{'text': 'Лето 🙏🏼\\n_________\\nЭти два дня будут капец сложные👋🏽😹 забит практически каждый час😕 и у папы др сегодня😍😍😍🙏🏼💓 Встала в 5:15 !! Победа 😂 нз как я это сделала, так как легла в час🙄 поставила тлф с будильником на др конец комнаты - вариантов не осталось, иначе меня бы возненавидела семья😅😂 ✔️сделать дз к унику и разбудить друга, чтоб он его не забыл распечатать🙈😂 ✔️типирования в вотсе час\\n✔️отправить программы питания и трень всем новым клиентам, поговорить с теми,кто сейчас на программах\\n✔️дать кучу новых заданий моим девочкам, которые мне помогают. В этот раз больше всех пострадала @s.laraailara 😹\\n✔️не успеть проверить то, что они прислали с прошлых заданий😹\\n✔️написать вам пост\\n✔️собраться в уник.\\nНеплохо для 9 утра 😎😂\\nСейчас будет одна пара, и в планах сразу домой ✔️печь торт для завтрашнего мероприятия, ✔️отметить др папы, ✔️встретиться с другом и поехать на занятие в терру😍 обещал приехать, чтоб проводить меня туда😍❣️😭🙏🏼 и вчера заехал ко мне на полчаса между своих дел, тк у меня было плохое настроение, спас от всех моих проблем 🙈❣️поныла ему и успокоилась😹 до сих пор не верится, что такие люди есть🙏🏼😭\\nБлиже к делу🙈😂 записалась на новый курс: визуальный. Чтоб лучше определять типы по внешности. Конечно, главное - это ответы человека на специальные вопросы, но и с внешности, телосложения и движений можно ооочень многое считать. Буду вам рассказывать!!!😍😍\\n✔️приехать домой в 22:30 и отрубиться😂\\nПятница не менее интересная намечается, расскажу еще вам✨☺️'}  -- \t -- ['🙌', '🙈', '🏻']\n",
      "{'text': \"Доброго утра вам☺\\nКруто, когда фильтрами можно прикрыть срач на заднем фоне 😂 вот бы и в жизни так 😂😂😂\\n________________\\nА я снова про питание. Очень много от вас приходит вопросов в Директ. Чаще всего это общие вопросы, типа как начать питаться правильно? Как похудеть и убрать живот?\\nНу так вот. Во-первых, не надо настраиваться на диету и не в коем случае 'садится' на пп или, не дай Бог, сушку 😂🙈😬 правильное питание (пп) для каждого своё, на мой взгляд. Кто-то идёт на дефицит, с желанием похудеть, кто-то просто хочет поддерживать хорошее состояние кожи и вообще☺ \\nне нужно настраиваться на 2 недели или даже месяц. Это должно стать Вашим образом жизни. Просто кушать по максимуму здоровую пищу, тогда вы сможете позволять себе и сладкое и ещё что-то без самобичевания, зажоров и следующих за ними голодовок. Съели вкусняшку, а завтра просто снова кушаете как обычно, без 'одно яблочко в день'. Я знаю о чем, говорю, тк все прошла сама 🙈\\nВо-вторых, перестаньте отговариваться, что это дорого, сложно, да и вообще 'я так не смогу есть одну курицу и огурцы' 🙈 wtf? Откуда вообще это, что все едят только курицу и огурцы😂 или что все ходят голодные. Вы РЕАЛЬНО хоть пару дней попробуйте кушать на 1500-2000 калорий чистых продуктов - овощей, фруктов, мясо и тд. И вы поймёте, что это дофига ☺ что зачастую столько и не съешь за день. \\nпросто многие по-настоящему так и не пробовали, а сдавались на полпути. \\nНу и третье. Не надо делать это, потому что это модно/надо/кто-то написал. Делайте это для себя. Думайте о перспективе. Что будет кайф смотреть в зеркало. Не стыдно поехать с друзьями на пляж. Что будете заходить в примерочную в магазине и не знать, что выбрать, потому что все круто сидит 😱😂 Потому что ваш ребёнок, будет говорить, что у него самая красивая мама и сам будет брать с вас пример ☺ \\nВот как-то так☺ посылаю вам лучики мотивации 😜 любите себя в первую очередь и не мучайте 😘\"}  -- \t -- ['😂', '🏻', '\\U0001f926']\n",
      "{'text': 'Немного быта в ленту.  @t_killah 🔥'}  -- \t -- ['\\U0001f937', '🎼', '🎂']\n",
      "{'text': 'Доброе утро, #cosmogirls ❤️ Угадай звезду! Как думаешь, кто из знаменитостей ностальгировал вчера и делился в Сети фотографиями из 80-х? 😎 Пиши в комментариях 👇🏼👇🏼👇🏼'}  -- \t -- ['♀', '🙈', '🏻']\n",
      "{'text': 'Арт-отдел журнала Cosmopolitan с новым выпуском💥 #Repost @volkova_yana with @repostapp\\n・・・\\nА у нас новый номер! Встречайте октябрьский @cosmopolitan_russia'}  -- \t -- ['\\U0001f937', '👧', '🏼']\n",
      "{'text': 'Идеальное утро идеальной субботы должно выглядеть так🌴✨ Читай наш гороскоп, благодаря которому самые сладкие мечты становятся реальностью💗 \\npic by @haylsa\\n@cosmo_pisces – РЫБЫ ♓\\u2028@cosmo_taurus – ТЕЛЕЦ ♉\\u2028@cosmo_aquarius – ВОДОЛЕЙ ♒\\u2028@cosmo_sagittarius – СТРЕЛЕЦ ♐\\u2028@cosmo_scorpio – СКОРПИОН ♏\\u2028@cosmo_libra – ВЕСЫ♎\\u2028@cosmo_leo – ЛЕВ ♌\\u2028@cosmo_aries – ОВЕН ♈\\u2028@cosmo_cancer – РАК ♋\\u2028@cosmo__capricorn – КОЗЕРОГ ♑\\u2028@cosmo_virgo – ДЕВА ♍\\u2028@cosmo_gemini – БЛИЗНЕЦЫ ♊'}  -- \t -- ['♒', '♎', '♏']\n",
      "{'text': 'Самый точный прогноз для всех знаков Зодиака в нашем  проекте Cosmo! 😉 Выбирай свой знак и читай скорее, что тебя ожидает сегодня! \\n@cosmo_pisces – РЫБЫ ♓️\\n@cosmo_taurus – ТЕЛЕЦ ♉️\\n@cosmo_aquarius – ВОДОЛЕЙ ♒️\\n@cosmo_sagittarius – СТРЕЛЕЦ ♐️\\n@cosmo_scorpio – СКОРПИОН ♏️\\n@cosmo_libra – ВЕСЫ♎️\\n@cosmo_leo – ЛЕВ ♌️\\n@cosmo_aries – ОВЕН ♈️\\n@cosmo_cancer – РАК ♋️\\n@cosmo__capricorn – КОЗЕРОГ ♑️\\n@cosmo_virgo – ДЕВА ♍️\\n@cosmo_gemini – БЛИЗНЕЦЫ ♊️'}  -- \t -- ['♍', '♏', '♓']\n",
      "{'text': '@cosmopolitan_russia в руках @victoriaandreyanova испытываю релакс тренажор....Вещь!!))'}  -- \t -- ['‼', '😃', '😂']\n",
      "{'text': 'Ким Кардашьян активно занимается спортом! Звезда реалити-шоу тренируется с личным инструктором на стадионе в Лос-Анджелесе. Конечно, без откровенного наряда для занятий спортом дело не обошлось. 😏 #kimkardashian'}  -- \t -- ['😜', '😍', '🙏']\n",
      "{'text': \"It's all piña colada to me 🏖🙃 // Вчера ветер стих и сегодня мы 3 часа катались на скутере по острову пока не осели на длинном песчаном пляже с оболденными пинья коладами 🍹💦😁 Если вы собираетесь на Кикладские острова, имейте ввиду Мельтеми - строго северный ветер, 6-8 бофорт, который будет вас морозить, сдувать с дороги и всячески путать ваши отпускные планы в августе 😋 Жду (надеюсь) безветренного сентября 🙏😌\"}  -- \t -- ['👄', '🙈', '😍']\n",
      "{'text': 'Доброе утро! Мы напоминаем, что сегодня пятница✨ На каникулах за этим никто не следит, но вдруг, вот, что сулят звезды в нашем самом точном гороскопе👇🏻 @cosmo_pisces – РЫБЫ ♓\\u2028@cosmo_taurus – ТЕЛЕЦ ♉\\u2028@cosmo_aquarius – ВОДОЛЕЙ ♒\\u2028@cosmo_sagittarius – СТРЕЛЕЦ ♐\\u2028@cosmo_scorpio – СКОРПИОН ♏\\u2028@cosmo_libra – ВЕСЫ♎\\u2028@cosmo_leo – ЛЕВ♌ \\u2028@cosmo_aries – ОВЕН ♈\\u2028@cosmo_cancer – РАК ♋\\u2028@cosmo__capricorn – КОЗЕРОГ ♑\\u2028@cosmo_virgo – ДЕВА ♍\\u2028@cosmo_gemini – БЛИЗНЕЦЫ ♊\\n\\nPC: @etam'}  -- \t -- ['♌', '♍', '♑']\n",
      "{'text': 'глаза боятся, руки делают. 10 лет тишины сегодня нарушены'}  -- \t -- ['🍀', '🌰', '🏻']\n"
     ]
    },
    {
     "name": "stdout",
     "output_type": "stream",
     "text": [
      "{'text': 'А вы верите в дружбу между мужчиной и женщиной?\\U0001f92a😇'}  -- \t -- ['👩', '🎂', '👧']\n",
      "{'text': 'Привыкаю 🎤 #людиневерили #мнебольшенебольно #привыкаю'}  -- \t -- ['🏻', '🙏', '❤']\n",
      "{'text': 'вещали на РСН по темам недели в блогах. спасибо @gorodni4eva'}  -- \t -- ['\\U0001f924', '🏻', '😳']\n",
      "{'text': 'Когда с кучей пакетов немного потерялись где-то рядом с #moscowcity 😡'}  -- \t -- ['💪', '\\U0001f924', '🏻']\n",
      "{'text': '5 марта в 20:00 не пропусти наш прямой эфир с главным редактором Cosmopolitan Shopping Таней Максимовой @tati_maksimova и стилистом Катей Гуссет @katya_gousset 💫\\n\\nТы узнаешь о главных трендах этой весны первой, ведь мы составим модные луки из вещей от MADELEINE в прямом эфире.\\nА еще Катя и Таня поделятся своими идеями подарков на 8-ое марта и расскажут как в этот день выглядеть лучше всех ;)'}  -- \t -- ['🙈', '💫', '😬']\n",
      "{'text': 'Кто-то не дождался папу, чтобы идти гулять 🙈😂😴'}  -- \t -- ['😁', '😹', '😂']\n",
      "{'text': 'Так быстро темнеет...только было солнце...вышла - и уже темно...пока стою в пробке на работу, покажу вам по-лучше цвет костюма 💜💜💜 @olgabuzova_design дивного вечера 🙏🏻😘'}  -- \t -- ['😍', '😜', '🙏']\n",
      "{'text': 'Сегодня свой 45-й день рождения празднует великолепная Клаудия Шиффер. За свою модельную карьеру она появилась на обложках журналов около 900 раз и до сих пор не прекращает работать! Правда, сейчас ее главная роль - это мама троих деток и любящая жена. Так держать,  Клаудия! С юбилеем!🎉🎉🎉🎉🎉'}  -- \t -- ['❤', '🇫', '☺']\n",
      "{'text': 'Очень жаль прощаться с моей трапецией...у нас с ней была любовь❤️ но мне нужно готовиться к новому заданию, на подготовку которого остается меньше недели🙆#ясмогу'}  -- \t -- ['🏼', '😍', '🙈']\n",
      "{'text': 'Сегодня (а точнее сказать уже вчера ) 😂 был тяжелый и веселый день🙈 Утром благотворительный концерт,который организовал журнал \"Лиза мой ребёнок\"- в парке Музеон❗️А потом Баттл в Парке Горького 💋 #толесвавилова #тодес #музеон #благотворительность #танцы #танцуй #алладухова #павелволосов #студиятанца #вавилова #todes #todesvavilova #vavilova #park #moscow #паркмузеон #лиза #лизамойребенок #журналлиза #дети#детицветвжизни #kids'}  -- \t -- ['🏼', '😂', '🏻']\n",
      "{'text': 'Сегодня целый день бродили по Монако👣👣👣👨\\u200d❤️\\u200d💋\\u200d👨👨\\u200d❤️\\u200d💋\\u200d👨👨\\u200d❤️\\u200d💋\\u200d👨 я обожаю гулять...@tarasov23 теперь тоже😂😎 #моямой#люблюмужа#TarasovBuzova#романтика#яиты'}  -- \t -- ['😂', '🙏', '🤗']\n",
      "{'text': 'Я на спорт✌️✌️✌️ а вы как начинаете свой день?'}  -- \t -- ['💯', '🌺', '👧']\n",
      "{'text': 'В семье Эштона Кутчера и Милы Кунис ожидается пополнение🎉!! Только мы подумали, что беби-бум стих, как он вспыхнул с новой силой🌪. Несколько раз в месяц из-за океана приходят новости о том, что очередная звездная пара ждёт ребёнка. \\nГолливудская чета Милы и Эштона не стала исключением! Чтобы избежать таблоидов с догадками журналистов и споров в социальных сетях, официальные представители актерской семьи объявили о беременности. \\nПоздравляем💕'}  -- \t -- ['👍', '🔥', '✊']\n",
      "{'text': 'Мое любимое место для отдыха за городом @homeminsk 🏩 с удовольствием провожу выходные дни в этом идеальном месте 👌'}  -- \t -- ['😜', '❤', '🙌']\n",
      "{'text': 'У каждого из нас есть текущие вопросы, проблемы, переживания, которые, конечно, оставляют отпечаток на наше настроение, на то, как проходит день. Но я себе не позволяю выносить это в рамки работы, что бы не происходило в моей жизни, как только я выхожу на площадку или на сцену, всё оставляю за кадром, и полностью погружаюсь в съёмочный процесс. Я очень люблю свою работу, и с большой ответственностью к ней отношусь. Поплачу дома 😔 А Вы умеете оставлять свои заботы на время рабочего процесса? #Бузова#Buzova'}  -- \t -- ['🏼', '👌', '🏻']\n",
      "{'text': 'Магас, спасибо за ваши цветы, улыбки, аплодисменты и тёплый приём ❤🙏🏻 #подзвукипоцелуев #buzovateam #ольгабузова #Обузевшие'}  -- \t -- ['🙏', '👍', '🐰']\n",
      "{'text': 'Лица @e_papunaishvili и @eskulkina говорят сами за себя🙈🙈🙈 #ясмогу#шоуясмогу#ясмогла'}  -- \t -- ['😭', '❤', '😂']\n",
      "{'text': 'Дима ❤️ Настя ❤️ Алиса\\n____________\\nПо вашим просьбам, мы все примерно в одном возрасте 👶🏼👶🏼👶🏼\\nНу что?\\U0001f92a похожи?'}  -- \t -- ['👍', '🏻', '🇹']\n",
      "{'text': 'С гор короче спустилась 😂 #vsco #vscocam #vscocamphotos #vscogood #vscogram #vscoholiday #vscotravel #montenegro #vscomontenegro #travel #travelgram'}  -- \t -- ['🙈', '😏', '😂']\n",
      "{'text': 'Якутск!!! Вы мега крутые ❤️❤️❤️#моилюдисомной#dressbyolgabuzova#погородам#ялюблюсвоюработу'}  -- \t -- ['🙏', '🏻', '❤']\n",
      "{'text': 'Ну что, с Богом🙏🙏🙏 смотрим, болеем👀⚽️'}  -- \t -- ['🏊', '🏻', '😂']\n",
      "{'text': 'Сегодня меня снова отпустили в салон на целый день😜 какой же кайф, когда бабушка рядом 😜\\nПоэтому пока сижу - напишу про косметику в отпуск. Многие спрашивали, чем пользуюсь в отпуске, да и вообще летом.\\n______________\\nИтак. Из декоративной - ничем 😂\\U0001f937🏼\\u200d♀️ максимум румяна (по праздникам) и блеск. Хотя мой последний блеск Алиса выковыряла пальчиком весь😂\\nРесницы и брови - у меня всегда яркие☺️ сто миллионов раз рассказывала и ещё расскажу😜 - я наращиваю реснички и крашу брови хной в студии @annakey_official ☺️ кому интересно, эффект Лисичка\\U0001f98a, изгиб D, чёрные, максимальная длина на уголках 12☺️☺️☺️ ресниц хватает на месяц, если Алиса, конечно, сильно не постарается 😂 бровки недели 2 смываются☺️\\n.\\nКасательно, того, чем все же я пользуюсь. Обязательно крема и кокосовое масло для тела❗️особенно, если Вы загораете. Для увлажнения. Да и если ножки помазать кремом со светоотражающими частицами или маслицем - будет очень красиво😍 главное не переусердствовать и не плюхнуться сразу в машину, особенно на кожаные сидения как у нас \\U0001f923\\U0001f923\\U0001f923 муж точно не одобрит\\n.\\n\\nЕщё обязательно маски для волос и для лица. Я обычно прям мою голову, наношу маску и в полотенце, часа на 2😜 последнее время тайские маски делаю, и сейчас кое-какие новые взяла, опробую расскажу ☺️\\n.\\nДля лица последнее время люблю всякие глины☺️ и готовые, и сама намешиваю. Если интересно - расскажу пару рецептиков. Ну и крем на ночь. Но пока не могу найти свой. Может посоветуете? Для смешанной кожи. \\nНу и последнее время замечаю все больше морщинок😬, потому прям жду окончания гв, потому что колоть всякие уколы нельзя, пока не закончим. Я к этому совершенно спокойно отношусь и ничего зазорного не вижу в этом☺️ не знаю почему, многие прям скрывают 😂 вроде все взрослые люди ☺️\\nА у вас как? Чем пользуетесь в летнее время? \\n#agolovinova_уход'}  -- \t -- ['😂', '🏻', '\\U0001f937']\n",
      "{'text': '35-летняя модель Наталья Водянова в честь Всемирного дня ребёнка поделилась милейшей фотографией в своём Insagram-аккаунте😍\\nНа снимке вся большая семья в сборе: Нева, Виктор, Максим, Роман, Лукас и родители.\\nА самым большим ребёнком звезда назвала своего мужа Антуана Арно❤️\\n#натальяводянова\\n#nataliavodianova \\n#деньребенка'}  -- \t -- ['✨', '🏡', '🏼']\n",
      "{'text': 'Идеальное сочетание @ccolgabuzova и @lublu_bijouxroom 💞💞💞 #dressbyolgabuzova#люблюбижурум#люблюсвоиплатья'}  -- \t -- ['🙏', '👋', '⬆']\n",
      "{'text': 'Полосатый рейс ⚓️⚓️⚓️ я коротыш и моя шикарная @sonyadance 💃💃💃 a платье можно заказать тут @agolovinova_official'}  -- \t -- ['\\U0001f923', '😜', '😂']\n",
      "{'text': 'Очень люблю своего мужа ❤️❤️❤️\\nМоя поддержка, опора и забота❤️\\n@stuzhuk_dmitriy\\n#love #pregnancy #hugs #Стужуки'}  -- \t -- ['👶', '🏻', '❤']\n",
      "{'text': '\"Один мой хороший друг заметил, что людям стоило бы жениться ближе к концу жизни, а не в ее начале. И, знаете, мне эта простая мысль кажется очень разумной.\" Диана Крюгер. \\nЧто думаешь по поводу этой цитаты?'}  -- \t -- ['😜', '❤', '😍']\n",
      "{'text': 'Решаем, кто из нас красивее \\U0001f923\\U0001f923\\U0001f923👸🏻👸🏼 люблю тебя @mariapoga_ ❤️'}  -- \t -- ['\\U0001f937', '😂', '👋']\n",
      "{'text': 'Саратов и Энгельс на связи! 😎'}  -- \t -- ['👩', '🎂', '\\U0001f937']\n",
      "{'text': 'Как же завораживает океан🌊🌊🌊 край земли...место где океан \"переходит\" в небо🌊☁️ \"Это место где земля кончается и начинается море\" Луис Камоэнс👍🏻'}  -- \t -- ['❤', '🏼', '😍']\n",
      "{'text': 'Ещё и к папке на футбол поехали ⚽️ послушали матюков, поуворачивались от мяча и, наконец-то, домой смотреть Танцы 💃🏻'}  -- \t -- ['😄', '❤', '😂']\n",
      "{'text': 'Вот-вот я расскажу вам большую (для меня:)) новость 🌿🌺 #vscorussia'}  -- \t -- ['🙏', '✅', '🏻']\n",
      "{'text': \"When in Buda, don't miss @budaiketto - this is one of my favourite bakeries in town! If you want to try something traditional - go for a #kakaoscsiga, Hungarians eat 90 mln kakaos csiga's a year 😸☕️ More places in Budapest: #anastaciasbudapest // Продолжаю дополнять свой 'гид' по городам 😄 Наша любимая пекарня в Буде @budaiketto, если хотите попробовать что-то местное - возьмите #kakaoscsiga - венгры едят 90 млн чиг в год 🙈 Еще места в Будапеште: #anastaciasbudapest \\n#vscohungary #vscobudapest #budapest #будапешт #bp #lovebudapest #buda #igersbudapest #igershungary\"}  -- \t -- ['❤', '✨', '😉']\n",
      "{'text': 'Селфи с котиком 🐅🐅🐅 пришел на колени, пришлось вытянуть ноги, чтоб уместился 😂😂😂😂'}  -- \t -- ['🙋', '🌰', '\\U0001f5a4']\n",
      "{'text': 'День 7. Температура 38 🔫 парацетамол перестал сбивать, надоело видимо 😂 поехали снова по врачам. Хотя Алиса судя по всему никуда не собирается, пришлось даже звонить переносить запись. Сидим с мужем одетые. Ждём 😂 #АлисаХом'}  -- \t -- ['♀', '🏻', '❤']\n",
      "{'text': '18-летняя российская фигуристка Евгения Медведева установила мировой рекорд и заняла первое место на Олимпиаде в Пхенчхане в короткой программе командного турнира❤️\\n#евгениямедведева \\n#олимпиада2018'}  -- \t -- ['😍', '😂', '❤']\n",
      "{'text': '60-летняя Шэрон Стоун проводит романтические выходные с 41-летним возлюбленным Анджело Боффа на пляже в Майами 👀\\n#sharonstone'}  -- \t -- ['🎾', '😂', '👍']\n",
      "{'text': 'Я здесь 💣 Пришла за своей премией 🏆'}  -- \t -- ['🎂', '🎼', '\\U0001f937']\n",
      "{'text': 'Лайктайм завершён ❤️ результаты в сторис 🌸\\nСпасиииибо большое всем за участие 😊'}  -- \t -- ['\\U0001f937', '🎂', '🏻']\n",
      "{'text': 'А у Вас есть постоянные камни преткновения?)) .\\nМы вот с Димой любители поворчать друг на друга по мелочам:) Напрасно многие думают, что мы другу идеально подходим:) Мы вообще разные во многом, но этим дополняем друг друга💞\\nНапример, Диму жутко раздражает, что я «свинья», могу приготовить поесть и оставить доску с ножом на столешнице непомытые (обычно мою после того, как поем, но Диме нужно, чтоб сразу😂), и просто ненавижу вытирать помытую посуду🙊 Так и живём- я «гадю», Дима «подтирает»😂 Я мою, Дима вытирает:)) И всегда стоит ворчит на меня при этом😅😅\\nА меня всегда злит как долго Дима ест😠\\U0001f926🏻\\u200d♀️ У него ооочень строгий режим питания и эти грудки и стейки ему изрядно поднадоели, поэтому он может есть ЧАС! А то и дольше😥 А я вечно его подгоняю)) И вообще всегда подгоняю😂\\nА про то, как он перед выходом выливает на себя про флакона #pacorabanne1million и после этого ещё и тянется меня поцеловать, я вообще молчу)))) .\\nПодбешиваем друг друга мы в общем, частенько:))) Но всё равно любим😝 \\nА как у Вас?))\\n.\\n🌸Написать, как поменялись отношения и расстановки с появлением второго 👼🏻?)'}  -- \t -- ['\\U0001f937', '🏼', '♀']\n",
      "{'text': \"It's 19C down here and all palms and flowers! This is y dream autumn! | На улице все еще +19, клумбы буйно цветут, а город украшают к Рождеству! Это осень моей мечты! 🌲🏊😍 #austria #xmas #autumn\"}  -- \t -- ['🏼', '💃', '🙏']\n",
      "{'text': 'Анджелина Джоли вместе с детьми на ежегодном кинофестивале TIFF, который сейчас проходит в Торонто🔥\\nАктриса привезла мультфильм \"Кормилец\", снятый по одноименному роману Деборы Эллис 🙌🏻\\n#angelinajolie'}  -- \t -- ['🏼', '❤', '🙏']\n",
      "{'text': 'Ураааа 🎉🎉🎉\\nМоя мечта сбылась ,я сделала это 💪\\nФото с Москва Сити ✅'}  -- \t -- ['😃', '👗', '💯']\n",
      "{'text': 'Сегодня @fkirkorov празднует юбилей! Артисту – 50 🎉🎂\\U0001f942В честь дня рождения Филиппа Киркорова вспоминаем самые яркие образы, которые певец примерил в своих клипах \\U0001f57a🏻#филиппкиркоров'}  -- \t -- ['💫', '😍', '❤']\n",
      "{'text': 'На что бы я сейчас потратила 20 млн рублей? Откладывать нельзя, именно все потратить.\\n⠀⠀\\nНа самом деле, на данный момент моего развития именно ответы на такие вопросы дают мне большой толчок вперёд и силы. Ещё неделю назад я решила написать такой пост, но всю эту неделю думала над ответом. Получился достаточно личный, и некоторые моменты мне сложно выставить. Но хочу, и знаю, что многим это поможет.\\nСтавьте лайк, и читайте.\\n⠀⠀⠀\\n1️⃣Наверное, очень ожидаемо от меня, но я бы без всяких сомнений вложила как минимум 3 млн в свои знания. Я бы взяла сессии у менторов по разным сферам жизни, хорошего психолога (у меня нет конкретных проблем, но он никому не помешает). Прошла бы самые серьёзные курсы от бизнес-школ, знаете, есть такие, когда вы с менторами летите в другие страны именно для изучения бизнес-парадигм. Потом приезжаете обратно, применять опыт итд. Пошла бы к лучшим специалистам по личностному росту, ведь личные ресурсы - почти все, что у нас есть в жизни. Вообще, я бы \"потратила\" эти деньги так, чтоб вернулось ещё больше.\\n2️⃣Инвестировала бы деньги в свою команду. Айлара, Полина, Игорь, Лена💕 я бы очень хотела вместе двигаться дальше и только расти в профессиональной сфере. А ещё просто подарки друзьям и исполнение каких-то их мечт. Например, я точно знаю, что очень нужно было бы сейчас Ане🙏🏼💕 Закладываем 2 млн.\\n3️⃣Прошла бы полное мед обследование с семьей. Закладываем 300к? Если брать все-все анализы (нас 6 человек) у хороших врачей, консультации, и, допустим, всякие витамины, таблетки.\\n4️⃣Я бы полетела с семьёй куда-нибудь. Не знаю, сколько примерно это бы стоило и куда (завтра сяду посмотрю все детально), но так как нас много, заложим около 1млн\\n5️⃣Потратила бы на свой внешний вид. Сюда входит косметика, обучение мэйку, консультации по стилю какие-нибудь, массажи, волосы, бьюти-хрени итд. Выбрала бы самое нужное, актуальное (точнее спросила бы у Полины😂). Сама одежда тоже. Тренировки, зал, питание, все это тоже стоит денег,поэтому под весь этот пункт тоже бы заложила около 1млн. Хотя тут ведь одежда. Тогда наверное 2млн, но половину одежды дала бы сестре😂\\nПродолжение 👇🏽'}  -- \t -- ['🙈', '🏻', '😂']\n",
      "{'text': '10 лет назад Леди Гага выпустила свой дебютный альбом Fame, на котором были такие хиты, как Poker Face и Paparazzi.\\n📷@gettyimages'}  -- \t -- ['😇', '💑', '😍']\n",
      "{'text': 'до #cosmoday остался ровно месяц!!! пора завязывать ленточки;) from@kate_volgina'}  -- \t -- ['🏽', '👹', '😂']\n",
      "{'text': 'Самый точный прогноз для всех знаков Зодиака в нашем ежедневном проекте Cosmo - гороскоп! \\nВыбирай свой знак ;) @cosmo_pisces  РЫБЫ @cosmo_libra ВЕСЫ @cosmo_taurus ТЕЛЕЦ @cosmo_aquarius ВОДОЛЕЙ @cosmo_sagittarius СТРЕЛЕЦ @cosmo_scorpio - СКОРПИОН\\n @cosmo_leo ЛЕВ @cosmo_aries ОВЕН @cosmo_cancer - РАК @cosmo__capricorn КОЗЕРОГ @cosmo_virgo ДЕВА @cosmo_gemini БЛИЗНЕЦЫ'}  -- \t -- ['💞', '💫', '😉']\n",
      "{'text': 'Сегодня @gusein.gasanov исполнил мою мечту и покатал на воздушном шаре) 🌁 Чем все закончилось - совсем скоро в наших новых видео 🔥'}  -- \t -- ['❤', '💫', '😍']\n",
      "{'text': 'Лили Коллинз празднует сегодня свой день рождения🎉, ей исполняется 27 лет🍰!!\\nДебютом актрисы в кино стала роль школьницы в двух эпизодах сериала \"90210: Новое поколение\"💫. Мировую славу принесла главная роль в фильме \"Белоснежка. Месть гномов\", а благодаря картинам \"Орудия смерти: Город костей\" и \"С любовью, Рози\", артистка лишь укрепила позиции в Голливуде🌟. Своей страстью Коллинз считает журналистику, только представьте, что уже с 15 лет девочка вела собственную колонку в британском журнале📇. Несмотря на своего знаменитого отца - Фила Коллинза, барабанщика рок-группы \"Genesis\", Лили всего хочет добиться сама и категорически против помощи со стороны родственников! \\nА какая твоя любимая роль голливудской красотки🎬?'}  -- \t -- ['🙌', '🎼', '🏻']\n",
      "{'text': 'Американский актёр Ченнинг Татум очень трогательно поздравил свою жену с днём рождения в инстаграм, назвав ее пироженкой🍰. А как ты думаешь, мужчина должен громко и во всеуслышание заявлять о своих чувствах, или ты придерживаешься принципа \"счастье любит тишину\"💕?'}  -- \t -- ['😊', '🏻', '❤']\n",
      "{'text': 'Итак, мы подвели промежуточные итоги эстафеты «Готовлюсь к Cosmopolitan LIVE»! 🎉🎉🎉🎉\\nЛучшими за первую неделю стали:\\n@cha0tica @milkymewka @farangiz_art @elenabogdanova89 @kartinka23 @olgamakarovaa @made_with_love.72 @wow_murrlitas @snowannwight @nova_gold.\\nДевочки, присылайте адреса и контактные телефоны на k.kurilova@imedia.ru.\\nЭстафета продолжается!\\nВыкладывай в Instagram фотографии, на которых есть красный: маникюр, красная губная помада, туфли или платье, цветы, сумка… Ставь хештеги #cosmored #cosmolive. Авторы 30 лучших снимков получат подарки от журнала Cosmopolitan!'}  -- \t -- ['🎉', '🤔', '☺']\n",
      "{'text': '32-летняя певица Сиара поделилась очаровательной фотографией с сыном в своём instagram-аккаунте 😍 Малыша зовут Фьючер Захир Уилберн, звезда родила его в 2014.'}  -- \t -- ['🤗', '😂', '🙏']\n",
      "{'text': 'Иду я вчера значит домой с тренировки. Разговариваю с мужем по телефону, тк мне страшно одной по темноте 😂🙈\\nУже подхожу к подъезду и вдруг он кричит в трубку ‘Алиса!’ И короткие гудки \\U0001f937🏼\\u200d♀️😬\\nЯ, естественно, понимаю - что-то случилось. С трехкратным ускорением влетаю на третий этаж, открываю дверь - никто не встречает. Думаю ну все 😱\\nПотом вижу ребёнок стоит довольный в ванне 😂 отлегло.\\nПоявляется Дима. Недовольный настолько же, насколько Алиса довольна 😂 спрашиваю что случилось, а он ‘все! Капец!’ (Ну или примерно так 😂) хватает швабру и убегает\\nВ общем понимаю, что-то нахулиганила\\nНу главное все в порядке, раздеваюсь захожу ее мыть. И понимаю в чем дело 😩 мой тональный флюид от Dior 🙈 точнее то, что от него осталось пятнами на Лисе 😂 кто в курсе, тот знает какая у него цена и поймёт степень моего растройства 😂\\nА она ещё показывает мне на себя и говорит ‘Мама! Я касивая да?’ 😂😂😂\\nНу вот как тут злиться 😍\\U0001f937🏼\\u200d♀️\\nГоворю ‘конечно, дочь, красивая. Очень’\\U0001f926🏼\\u200d♀️ вот так и живем.\\nК слову пол отмывали мицелярной водой😂 больше ничего не взяло😂'}  -- \t -- ['♀', '🙈', '\\U0001f937']\n",
      "{'text': 'Моя маленькая зайка первый раз пошла на день рождения к подружке 😍🎀 скоро и наш годик близится. Но я плохая мать 😫 я перенесла официальное празднование на январь, потому что иначе бы моя голова лопнула 🙈😂 #Agata1stBirthday'}  -- \t -- ['🏻', '😍', '❤']\n",
      "{'text': 'Выбор отдела моды на этой неделе: дубленка #Geox из металлизированной эко-кожи✨ К слову, один из главных трендов сезона👌🏻 PC: @geox\\n\\n#editorschoice'}  -- \t -- ['✨', '\\U0001f9e8', '❤']\n"
     ]
    },
    {
     "name": "stdout",
     "output_type": "stream",
     "text": [
      "{'text': '«Настя, ну сколько можно жрать-то, а?!» примерно каждый день я слышу этот вопрос \\U0001f926🏼\\u200d♀️\\nНет, может и правда пора завязывать, но только не сегодня, ведь придти в Черчилль паб @churchills_pub_moscow и не заказать все и сразу - просто не возможно!\\nТак вот, ловите новый обзор:\\nИтак, мы заказали\\n📍буратту со сладкими томатами, песто и малиновым соусом (750 р.)\\n📍бифштекс из мраморной говядины с яйцом, пюре и лисичками (850 р.)\\n📍тар-тар из оленины (850 р.)\\n📍стейк мясника с овощами (1300 р.) - уффф, дамы, даже не пытайтесь съесть это блюдо в одного \\U0001f926🏼\\u200d♀️😅\\n📍за кадром остался тар-тар из тунца (750 р) \\U0001f924\\nИ божественные десерты от шеф-повара 🍰🍮🍭\\nВ общем, выносите меня семеро, потому что самостоятельно уйти было уже не просто. Атмосфера паба настолько уютная, что уходить совершенно не хочется ☺️\\nДобавляйте в список must-visit мест, потому что посетить самый старинный паб Москвы просто необходимо!🙌🏻\\n.\\n.\\n#eatwith_hm\\n #vsco #vscocam #vscocamphotos #vscogood #vscogram #vscotravel #vscosea #vscorussia  #travel #travelgram #naturearussia #russiaislove #russsiaphoto #moscow_life #naturelovers #vscomoscow'}  -- \t -- ['\\U0001f926', '🏻', '😂']\n",
      "{'text': 'Soaking wet 😅 because can’t get enough of the #ringsfountain! I’m Boston Greenway’s biggest fan! Next summer it’s you and me @epgray in the fountain!! Miss you ❤️ // Мокрая НАСКВОЗЬ, кроссовки хоть выжимай - могу часами бегать в фонтане (что за мной) 😍 В видео будет понятно что это или по геолокации посмотрите фото😉'}  -- \t -- ['🏼', '❤', '😍']\n",
      "{'text': 'Сегодня мужчины пройдут испытание на кухне от моей мамы\\U0001f92a и моей мамой \\U0001f923\\U0001f923\\U0001f923Если все сбегут, то это тоже будет результат \\U0001f92a Мне интересно будет понаблюдать за тем, как ребята общались с ней, и что они ей говорили и рассказывали ☝🏻 Ведь Мама, наверняка, будет задавать другие вопросы 😊🤓 Я всегда делаю выбор сама, но так бы хотелось, чтоб родной человек одобрил мой выбор ❤️( хотя, как показывает практика, я её не слушала никогда) А насколько вам важно мнение родителей? 🙏🏻'}  -- \t -- ['🏼', '❤', '🏻']\n",
      "{'text': 'Самый точный прогноз для всех знаков Зодиака в нашем ежедневном проекте Cosmo - гороскоп! \\nВыбирай свой знак 😉 @cosmo_pisces  РЫБЫ @cosmo_libra ВЕСЫ @cosmo_taurus ТЕЛЕЦ @cosmo_aquarius ВОДОЛЕЙ @cosmo_sagittarius СТРЕЛЕЦ @cosmo_scorpio - СКОРПИОН\\n @cosmo_leo ЛЕВ @cosmo_aries ОВЕН @cosmo_cancer - РАК @cosmo__capricorn КОЗЕРОГ @cosmo_virgo ДЕВА @cosmo_gemini БЛИЗНЕЦЫ'}  -- \t -- ['💞', '💫', '😉']\n",
      "{'text': 'Вы даже не представляете, как меня радуют такие простые вещи, как вкусняхи посреди рабочего дня 😍 И отказать себе в кусочке желанной пиццы - просто преступление! Моя любимая - 4 сыра 🧀 А у вас?? Пишите в комментариях, и завтра @dr.oetker_russia выберет 5 счастливчиков, которые поедут в Питер на VK FESТ вместе СО МНОЙ 🍕🔥\\nПОЕХАЛИ!! 🚀🚀🚀 Результаты будут объявлены уже завтра, 12 июля, так что подписывайся на @dr.oetker_russia и не пропусти пятничные новости! (Ссылка на полные правила конкурса в шапке профиля @dr.oetker_russia )'}  -- \t -- ['👋', '🏼', '😂']\n",
      "{'text': 'Another beautiful morning is here! | Доброе утро, мир! ☀️😍🐾#селфи #selfie'}  -- \t -- ['🎼', '🎂', '\\U0001f937']\n",
      "{'text': 'Пока одни звезды дефилируют по красной дорожке 70-го Каннского кинофестиваля, другие проводят время в Нью-Йорке. Несколько часов назад папарацци подловили сладкую парочку Блейк Лайвли и Райана Рейнольдса на прогулке.  #blakelively #ryanreynolds'}  -- \t -- ['😍', '🏼', '👩']\n",
      "{'text': '💕Почему Вы не покупаете Лоле игрушки💕\\n⠀\\nУже несколько таких вопросов мне задали мои подписчики...кто-то из добрый намерений, кто-то, думая, что Лолу мы любим меньше\\U0001f926🏻\\u200d♀️\\n⠀\\nНет, конечно же мы Лолу любим не меньше! Мы одинаково любим своих обоих деток.\\n⠀\\n😌Дело лишь в том, что они у нас два очень разных человека!) я Вам об этом рассказывала:)\\n⠀\\nЛолка не слишком играет игрушками))) Вернее, она может играть, если видит, что ими играет брат😂😂 Какие-то посторонние её интересуют не дольше 5ти мин:))))) \\U0001f937🏻\\u200d♀️\\n⠀\\nДавидик у нас был и есть совсем другим!) буквально, как уже мог лежать на пузе и поднимать голову! Ему были интересны игрушки \\U0001f9f8\\nКогда стал ползать, было вообще чудесно: пополз поиграл с одной 15 минут, переполз к другой поиграл 10 мин, ещё к одной и так мог и часик просидеть:)\\n⠀\\n🙌🏻Лолке же больше интересно крушить всё вокруг😅 Буквально только отвернуло её от проводов) Ух, сколько ж их покупать нам пришлось)))\\nТеперь эирподс ей нравятся😂\\nНу короче, нравится ей всякая запрещёнка)))\\nШкафчики открывать, всё выворачивать!) Больше всего любит открывать-закрывать крышечки и что-то куда-то складывать😅\\n⠀\\n\\U0001f937🏻\\u200d♀️ Короче игрушки ей покупать как-то не очень целесообразно) Покупаем, конечно! Но немного!\\n⠀\\nДавиду покупаем много! Да! Но он ими прям играется! Очень здорово💕 Мы видим, что ему нравится! Что его это развивает!\\n⠀\\nНу а Лолка это Лолка:))) #стужук_материнство'}  -- \t -- ['🙏', '🏻', '🙈']\n",
      "{'text': '🔥🔥🔥\\nХотите выиграть 1.000.000 💸рублей в челлендже Егора Крида? Самый крутой звездный челлендж лета продолжается! Тогда качайте приложение LikeApp, снимайте видео под песню Гуччи и делитесь им в соц сетях с хештегом #ЕгорКридЧеллендж 😛! Я участвую! \\U0001f92a✌🏼\\nПодружка 👸🏻👉🏻@lusik_kar'}  -- \t -- ['🙏', '🌴', '😅']\n",
      "{'text': 'С новым годом вас всех, мои хорошие)))))) 🎄🎄🎄 желаю, чтоб в Новом году все ваши желания исполнялись, а мечты сбывались 🎊🎊🎊'}  -- \t -- ['\\U0001f970', '🙏', '❤']\n",
      "{'text': 'КАК! ЖЕ! КРУТО! БЫТЬ СЕМЬЕЙ! \\U0001f970\\U0001f970\\n⠀\\n\\nМы расписались. Отметили это событие семейным кругом и это было ОЧЕНЬ здорово! Видеть на лицах танцующих родных улыбки -- это просто невероятное чувство, которое мы с Сашей @t_killah обсуждали весь вечер. Видеть их искреннюю радость — было главным подарком для нас.\\n⠀\\n\\nЯ услышала много теплых слов, очень важных слов. Я видела счастливым Сашу -- и от этого у меня было очень тепло на душе. В общем, ругался он долго и много в процессе решения: нужна нам свадьба или нет, но вчера мы поняли, что это решение было правильным, потому что мы получили драгоценные воспоминания на всю жизнь. Но на этом наша свадебная история не заканчивается 😉\\n⠀\\n\\nЯ постепенно буду рассказывать и о платьях, и о красоте, и обо всех, кто принимал участие в нашем празднике. Но в первую очередь — хочу выразить благодарность нашим организаторам. Не было ни единой заминки в празднике! Это @anna_gorod и @goroddimka, а также вся команда @svadberry . Ребята, вы нас очаровали ❤️'}  -- \t -- ['😂', '\\U0001f926', '🏻']\n",
      "{'text': \"НОВЫЙ ВЛОГ!! Ссылка в профиле)) 🎥\\nВ этом выпуске все по-настоящему ШАЛИЛИ!! L'One смотрит эротические фильмы?)) Рудова себя очень плохо ведёт! Что смотрит Толя из MBAND, Ольга Шелест, и MC DONI??? Что делает Дима Масленников на открытии нового #blackstarburger ?? Побываем на премьере фильма, на фотосессии для журнала, на репетиции, и даже на прогулке с моей семьёй)) Эксклюзивчик 🍿 Приятного просмотра!\"}  -- \t -- ['💪', '😍', '🏻']\n",
      "{'text': 'Полет нормальный 😎👌🏼\\nПора пробовать новое\\U0001f973 В Ереване произошёл мой первый полет на вертолете, первый полет на воздушном шаре 🚀Это так здорово, переживать новые эмоции 👻 Особенно, когда рядом такая хорошая компания👭👫 А что бы вы хотели испытать впервые  в ближайшее время? 😋\\n⠀\\nСпасибо @noahmusic.prod ❤️ за организацию и насыщенную программу #noahfest2019 🔝'}  -- \t -- ['♀', '🙌', '😉']\n",
      "{'text': 'Дорогие мои, дарю вам частичку своего настроения, и хочу представить новое платье @olgabuzova_design ! Цвет - мечта💙💙💙 Сегодня на работе все спрашивали про него☺️Я считаю, что у каждой девушки в гардеробе должно быть стильное платье, которое идеально сочетается со спортивной обувью 👟 а вечером для смены образа можно надень каблуки 👠👗Будьте красивыми всегда! Мои принцессы👸🏼😘😘😘#OlgaBuzovaDesign#dressbyolgabuzova#olgabuzova_design#люблюсвоиплатья'}  -- \t -- ['🙏', '😍', '🤗']\n",
      "{'text': 'Сегодня оказалась в гостях у Карлсона⛅️⛅️⛅️в одной дизайнерской студии есть вот такой выход на крышу👻уже выбираю мебель в наш домик🏡 без фото не обошлось😝'}  -- \t -- ['😍', '❤', '🙈']\n",
      "{'text': 'Ребята, трансляция завтра будет в ТРИ по Москве! Солнышко 🌇 обещало подойти к этому времени 😉 У меня будет около 30 минут трафика походить по городу с вами! 🇭🇺🏙Periscope @Funastacia! #vsco #vscocam #vscohungary #hungary #budapest #будапешт'}  -- \t -- ['👏', '❤', '🙈']\n",
      "{'text': 'New day & new look 👌🏽\\nВчера сразу после первого показа мы летели на второй и переодевались прямо в машине, это так Круто всё, хоть и сложно, но я теперь фанат #parisfashionweek ❤️\\nЭтот образ тоже стилизовала @irushairusha 😍\\nКак вам такой необычный для меня лук на показе @eliesaabworld? #girlofnow'}  -- \t -- ['👏', '☝', '❤']\n",
      "{'text': 'Сегодняшнее видео о том, как, чтобы запоминать новую информацию эффективнее, НЕ нужно тренировать и улучшать память, а нужно просто использовать правильный подход! Ссылка в профиле ☺️\\nВсем хорошего начала новой недели 💛'}  -- \t -- ['🏽', '👆', '😌']\n",
      "{'text': 'Радуйтесь, что вы можете просыпаться каждое утро и проживать новый день. Будьте счастливы, что вы живы, здоровы, имеете друзей, обладаете способностью творить и ощущать радость бытия.🙃\\nНа свете много людей, у которых жизнь просто набита яркими событиями. Или они просто умеют видеть её такой — яркой, интересной, насыщенной.☺️☝🏼\\n@karinaavdeeva 👸🏻\\n@s_ship \\U0001f57a🏼 @persikmarisha 🍑 \\n@shteps_s ☝🏼😏 @popov_vs 😜\\n\\nP.S. Как расшифровывается аббревиатура апчхи?😂 #однакаринахорошоадвелучше #яжмать #персик #вайнеры #юмор #stale #fashion #face #настиле #джимкерри #jimcarrey #оскар #пати #хит #спинер'}  -- \t -- ['👉', '😂', '🏻']\n",
      "{'text': 'Кто готовит в час ночи, тот я🤗🤗🤗 а все потому, что завтра прилетает любимый 👏🏻👏🏻👏🏻👏🏻 #женавделе#женаОлявделе#ждумужа#скучаю ❤️'}  -- \t -- ['🔝', '❤', '🙏']\n",
      "{'text': 'Счастлив тот, кому изменить мешает любовь, а не мораль.❤️🙏🏻\\nДрузья 👇🏻\\n@mikhail_litvin 👦🏼\\n@subo_m 👦🏽\\nКрасавица 👇🏻\\n@angeel_alina 👩🏻\\u200d\\U0001f9b3\\nДевочки 👇🏻\\n@hey_iren 👩🏽\\n@persikmarina 👱🏼\\u200d♀️ ✅За самый мощный комментарий отправлю 2000 р ✅Как вам такое видео?\\n\\n#трек #музыка #music #танец #танцы #отношения блондинка #блогер #dance #gucci #top #style #мода #мода2019 #tiktok #тачка #тюнинг \\n#семья'}  -- \t -- ['🎁', '❤', '😈']\n",
      "{'text': 'Безумно ценю Айлару за то, что она умеет меня отдохнуть.\\nОна буквально физически заставляет это сделать😂\\nНа выходных была у неё на даче - катались на снегоходах, мне так понравилось, раньше бы не поверила, что смогу просто по 3 часа в день кататься😍😍 просто сидя сзади.\\nЯ зимой вообще не гуляю (боюсь холода😂), а просто сидеть \"без дела\" 3 часа не умею, но тут об этом даже не думала😍\\n Просто едешь, обнимаешь близкого человека, любимую подругу, и думаешь о чем-то, расслабляешься. 3ех-часовой анализ абсолютно всего. Ещё и мороз в голову, вставляет мозги на место😅😂\\n⠀\\nНо на самом деле, ещё нужно было соблюдать грань в расслаблении: мы катались по такииим горкам, вы не представляете, очень высокие и чуть ли не 90 градусов , и вниз и вверх по ним, меня постоянно отрывало в воздух, сперва я вообще пищала без перерыва😂\\nЕщё когда в лесу едем, отвлекусь - палка в глаз😂😂😂\\nПеред каждым склоном я вообще прощалась с жизнью😂\\nМы ещё с ее папой и братом катались, а папа, видимо, любитель адреналина, выбирал самые экстремальные маршруты😍😂\\nНо когда по полю - открывается полная свобода мысли, просто едем по огромным просторам, в стороны от нас летит снег, и такое ощущение полноценного отдыха и свободы! И холода 😂😂😂😍\\n⠀'}  -- \t -- ['😂', '🏻', '❤']\n",
      "{'text': 'Уже завтра, 11 ноября, состоится «День Красоты» Cosmopolitan Beauty в сети магазинов косметики и парфюмерии «РИВ ГОШ» @rivegaucheru в Санкт-Петербурге!🔥\\nВ этот день, с 10-00 до 22-00 в «РИВ ГОШ» в ТД «Пассаж» по адресу: Невский проспект, д.48, тебя ждут грандиозные скидки до 50% на любимую косметику и парфюмерию, зона редакции с участием редактора журнала Cosmopolitan Beauty Алисы Дробот. выступления музыкантов, ведущий, художник-шаржист, мастер по косоплетению, розыгрыши подарков от известных брендов! А также выступления и мастер-классы:\\n✔️12.00−15.00 Выступление звездного стилиста Галы Борзовой;\\n✔️13.00 Выступление топ-стилиста бьюти-пространства Autentica Club Кипишевой Марии;\\n✔️14.00 Мастер-класс визажиста M.A.C;\\n✔️15.00 Мастер-класс визажиста Givenchy; ✔️16.00 Мастер-класс «Базовый мейк» от визажиста Guerlain;\\n✔️16.30 Выступление fashion-дизайнера Елизаветы Одиноких;\\n✔️17.00 Мастер-класс от визажиста Lumene; ✔️18.00 Мастер-класс «Красота по французски» от визажиста DIOR;\\n✔️18.30 Выступление от мастера Brow up! Натальи Гусевой;\\n✔️19.15 Public talk с певицей Евгенией Любич; ✔️20.00 Мастер-класс визажиста M.A.C.\\nПриходи обязательно, мы будем тебя ждать!\\n#ривгош \\n#cosmobeautyday2017 \\n#cbd'}  -- \t -- ['♀', '🏻', '🏼']\n",
      "{'text': '«И тут после пятой рюмки Катя поняла: он ждет звонка!» С тобой тоже такое случалось? С нашей колумнисткой Олей Севастьяновой @littlecitybird — не однажды. В конце концов Оле все это надоело и она выяснила, почему так происходит. Хорошая новость: дело не в тебе, дело в твоем мозге. Подробности - в новой колонке на Cosmo.ru!'}  -- \t -- ['👍', '😅', '🏼']\n",
      "{'text': 'Как же приятно видеть счастливых наших мам🙏🙏🙏 Берегите и цените родных! Love my mummy❤️'}  -- \t -- ['⭐', '🌺', '🏻']\n",
      "{'text': 'Пусть все будет так, как ты захочешь🙏🏻🙏🏻🙏🏻'}  -- \t -- ['🎶', '😳', '😂']\n"
     ]
    },
    {
     "name": "stdout",
     "output_type": "stream",
     "text": [
      "{'text': 'Близится самый весенний праздник - ❤ 8 Марта! \\nНаши друзья-декораторы из @airbeautyballoons подобрали для вас стильные сеты к этому дню.\\nПоторопитесь заказать у них оформление, ведь праздник совсем близко 🔜\\n#airbeautyballoons'}  -- \t -- ['😉', '💫', '🌴']\n",
      "{'text': 'Любовь с первого взгляда @offi_hanna ❤️❤️❤️💋🔝 #Repost @pashuofficial\\n・・・\\n🙈🙈🙈😂😂😂💃Девочки встали с веселой ноги ☝️😂 @buzova86 в танцах с женщинами весьма опасна 🙃🙃🙃🙃 #WhitepartyBlackStar Спец вечеринка для всех наших 🙌 Каждые 3 месяца мы будем делать спец вечеринки для своих людей! ☝️☀️💯'}  -- \t -- ['✨', '❤', '😅']\n",
      "{'text': 'Мои дорогие, вы постоянно мне пишете про концерты и выступления на ваших мероприятиях. Мне очень приятно, что Вам нравится мое творчество. По вопросам концертов, гастролей, пишите и звоните моему директору @archer_music 📱 С датами реально очень сложно, но он старается всем помочь. Большой концертный тур 2018 тоже формируется #арамгдетоздесь #концерты #гастроли #ОльгаБузова #тур2018 #подзвукипоцелуев'}  -- \t -- ['❤', '😍', '🏻']\n",
      "{'text': 'Вот вроде бы Новый Год ещё не наступил, а уже приобрела себе кучу подарков! Да и не только себе, совсем нет времени бегать по магазинам, увы, поэтому на помощь приходит доставка😅\\nВозвращаясь к рубрике #настя_и_волосы хочу сказать, что укрепляющая сыворотка с маслом макадами от @deora_official стала моим явным фаворитом из всего, что я пробовала из укрепляющих средств, потому что с такой длиной как у меня, особенно актуально чтобы волосы питались витаминами и укреплялись 🙏🏻\\nВообще, я обожаю Израильскую косметику, для меня это всегда был залог качества. Не знаю почему, но ещё ни разу не сталкивалась с посредственной продукцией оттуда.\\nА какие у вас любимые косметические марки?\\nКстати, наконец-то до меня добралась открыточка от чудесной @any_yoyo из Лиона✈️ так приятно получать открытки из других стран. У меня даже есть своя маленькая коллекция, которую мечтаю пополнять новыми городами и странами! Если кто-нибудь хочет - можно было бы отправлять друг другу такие небольшие послания🙈\\nПишите свои адреса в direct и я с удовольствием пришлю Вам открытки из своего предстоящего путешествия☺\\n\\n#vsco #vscocam #vscocamphotos #vscogood #vscogram #vscoholiday #vscotravel #vscosea #vsconature #vscorussia  #travel #travelgram #naturearussia #russiaislove #russsiaphoto #moscow_life #naturelovers #vscomoscow #fallinlove #инстаграмнедели'}  -- \t -- ['😂', '🏼', '🏻']\n",
      "{'text': 'Where are you now???????????????? Спасибо вам за вашу поддержку и любовь 💛 мне это необходимо сейчас 🙏🏻 #моилюдивсегдасомной'}  -- \t -- ['☺', '😜', '😂']\n",
      "{'text': 'Спасибо за шикарный вечер, который для нас устроил телеканал @zharatv 💫💫💫 Ведущие премии создавали душевную и тёплую атмосферу @maxgalkinru @reginatodorenko ❤️ Спасибо зрителям за тёплый приём и ваши аплодисменты 🙏🏻 И, конечно же, поздравляю всех с наградами 🏆 Дальше - больше 🚀 @eminofficial @gvleps отдельное спасибо вам ♥️ А я мчу уже в Питер на спектакль «Мужчина нарасхват» 😻 До встречи родной город 💋'}  -- \t -- ['☺', '🙏', '🏻']\n",
      "{'text': '18-летняя дочь Риз Уизерспун Ава Филипп произвела фурор на балу дебютанток в Париже😍✨\\nМолодая девушка появилась на публике в роскошном наряде и, как отметили многие гости, очень напоминала свою маму в молодости.\\n#reesewitherspoon'}  -- \t -- ['😍', '❤', '🏻']\n",
      "{'text': 'Мч лучший 🐣\\nПошла спать в 1,проснулась в 4 и снова выспалась. Нашла у Ани книжку про принцесс,лежу читаю,мечтаю ..😂😓 Вообще не люблю сон , с детства , считаю самым бесполезным занятием. Зачем спать,когда можно столько всего сделать?😍😂😓 и когда просыпаюсь утром всегда рада , что можно больше не спать ))) 😂 до пп я спала по 10 часов и не высыпалась,потом весь год стабильно 7-8, потом все сократилось до 5-6 часов и теперь 3-4😂 скоро стану праноедом и детём солнца , буду питаться его лучами и спать 5 минут😏😄 А теперь закончим лирику и поговорим о полезном) вообще сон важен для организма и раз в основном мы тут говорим о фигуре,то также важно помнить, что рост мышц и сжигание подкожного жира происходят в основном во время отдыха, сна) именно тогда мышцы восстанавливаются, затрачивая ккал) особенно важен он с 11 до 1 часу, тк в это время в организме вырабатывается гормон роста. Активизируются метаболические процессы,жирные кислоты выходят из жировой ткани и тратятся)\\nФазы сна тоже поделены))\\n😴сон с 7 до 10 вечера равняется организму 7 часам сна\\n😴с 9 до 12 - 5 часам\\n😴с 12 до 2 - 3 часам\\n😴 а сон с 3 часов ночи до утра воспринимается организмом как 1 час сна , хоть вам и кажется,что вы выспались,но организм,мозг,сердце,органы - нет )'}  -- \t -- ['\\U0001f926', '🏻', '♀']\n",
      "{'text': 'Ура,мы сделали это💪\\nЛюблю вас❤️❤️❤️\\nP.s. А этот постер я забрала с собой😅'}  -- \t -- ['🏼', '🌺', '😂']\n",
      "{'text': 'Актриса Синтия Никсон выдвинулась в губернаторы Нью-Йорка 💁🏼\\nВперёд, Миранда, мы с тобой!\\n#cynthianixon #mirandahobbes'}  -- \t -- ['⚡', '👧', '🏼']\n",
      "{'text': 'Только закончила работать😳😳😳 на улице так холодно😼 что хочется скорее под одеялко🙈 Но сначала косметолог, маник и педик😂😂💅 а что делаете вы? #девочкитакиедевочки'}  -- \t -- ['😅', '😂', '😍']\n",
      "{'text': 'В глаза смотреть \\U0001f929👀 Что на ваш взгляд самое привлекательное в женщине ? Внутренний мир само собой, касаемо внешности ? Для меня лицо, глаза и улыбка. Ну и формы формы\\U0001f924\\U0001f924\\U0001f924Но вообще больше значение имеет энергетика, шарм и женственность, которые исходят от дамы 💃🏼'}  -- \t -- ['❤', '🏽', '🙈']\n",
      "{'text': 'Отмучилась на силовой, теперь иду на дорожке🎉 последнее время ненавижу зал и пп, часто не доделываю подходы и ем что хочу, но и не ругаю себя, тк знаю , что ещё 100 раз все исправлю ☺️💪🏾 Особенно в январе , тк с начала года всегда очень хочется меняться к лучшему) это как понедельник , новое начало , чистый лист , новая жизнь , все дела 🙈😂 Итак ,пока впереди час дорожки , расскажу вам про сюрприз семье 🎉 \\nСегодня сумасшедший день, столько успеть нужно. Встала , убиралась , мыла полы, готовила, теперь зал, потом с мамой в афи докупить все к ёлке и оформлению подарков. Ещё до этого нужно успеть выучить историю,тк завтра пересдавать и репа на завтра ещё сделать, занятие с которым будет 5 часов😂😩 хотя ладно , у Ани реп вообще 30😂 \\nТак вот, после всех \"дел\" бегу у айларе на ночь и будет делать самые важные) в планах сходить в продуктовый, в канцелярский за ватманами, клеем И так далее, испечь что-то её дяде , у которого др завтра , моему репу , и всю ночь творить часть сюрприза семье 🙌🏼\\nПродолжение в комментах 👇🏾'}  -- \t -- ['🙈', '❤', '🏻']\n",
      "{'text': 'Поздравляю всех актёров с долгожданной премьерой фильма 🙏🏻❤️💪🏻💪🏻💪🏻 И огромное спасибо режиссёру Араику Оганесян за доверие 🤗 Всем смотреть 👌🏻😎💪🏻 #держиудардетка'}  -- \t -- ['🔝', '🙏', '❤']\n",
      "{'text': 'Выходные - самое время для настольных игр, поэтому мы и Мосигра @mosigra решили сделать тебе сюрприз. Эксклюзивно для Cosmo марка выпустила мини-версию легендарной игры Данетки, а мы бережно вложили ее в наш августовский номер. Тираж ограничен и супер-комплект ты можешь отхватить только в крупных супермаркетах или аэропортах💫🎉😘'}  -- \t -- ['👸', '🐝', '🏽']\n",
      "{'text': 'Девочки, Вы готовы к главной ночи года?! 👸🏻🎄👸🏼 Уже в наличии самые красивые платья из моей коллекции @olgabuzova_design ❤ По восточному календарю 2018 год будет годом Желтой ( золотой ) Собаки 🐕 . Всем желаю предновогоднего настроения 🤗😊 Спасибо моей @sasha_siler за видео 🎥💫'}  -- \t -- ['💋', '🙈', '😻']\n",
      "{'text': 'Ну вы поняли где мы 🙃🙃🙃 как нам друг без друга прожить и дня @borodylia 😂❤️💃💃💃 #боробуз#бузова#бородина#капкан'}  -- \t -- ['📸', '🤗', '©']\n",
      "{'text': 'Всем кто еще не смотрел клип - ссылка в профиле :) #klavdiacoca #клавдиякока'}  -- \t -- ['\\U0001f937', '👼', '😂']\n",
      "{'text': 'Путешествие редакции Cosmo продолжается: первое утро в Суздале выдалось по‑настоящему добрым! Ссылка в профиле'}  -- \t -- ['👶', '🙈', '❤']\n",
      "{'text': 'Великолепная четверка! В главных ролях - Сергей Глушко, Ольга Бузова, Татьяна Лютаева и Дмитрий Лапиков👯👯👯 не пропустите финальный выпуск #шоуясмогу в это воскресенье 🙏 даже не верится, что так все резко закончилось...без финала, без победителя, просто оборвали на пол пути😕'}  -- \t -- ['😍', '☺', '😂']\n",
      "{'text': 'Путешествие рождественского стаканчика #starbucks 😂 #vsco #vscocam #vscogram #vscomoscow #vscorussia '}  -- \t -- ['❤', '🎊', '🎂']\n",
      "{'text': 'Ах, Барселона ! ❤Город художников , невероятной паэльи и ласкового моря 🏖Я не первый раз наслаждаюсь этим городом, но знаю, что видела  далеко не все . В этот раз мне посчастливилось познакомиться с @fotovorobey, он показал мне такую Барселону, которую видит не каждый турист! Этот человек- испанская энциклопедия 😂 Вы могли, наверное, в этом убедиться, смотря мои сторис 🙌🏻 Даже по дороге в аэропорт, Игорь успел мне ещё кое-что рассказать и показать 😂😂😂 он руководит туристической компанией, и не только покажет вам редкие маршруты, но и расскажет - как это жить в Испании и можно ли тут стать «своим», если вы решили изменить свою жизнь! \\nПосле нашей экскурсии мне захотелось приехать, и ещё не раз! Барселону можно изучать бесконечно \\U0001f924\\nА вам интересно ?😉 тогда вам сюда @fotovorobey! Теперь у меня есть «свой человек» в Барселоне 🙌🏻 От души 💋 Спасииибо!!!!'}  -- \t -- ['🏻', '♀', '\\U0001f926']\n",
      "{'text': 'Девочки, знакомая ситуация? 😛😛😛 А вы думаете, легко делать красивые фото для вас ❤️ Я слепая, не вижу ничего 🤓🤓🤓 Но фото всё-таки методом проб и ошибок мы сделали 😉 Сочи, мы готовы👸🏼 Скоро увидимся 😌😌😌'}  -- \t -- ['😘', '🏻', '😍']\n"
     ]
    },
    {
     "name": "stdout",
     "output_type": "stream",
     "text": [
      "{'text': 'Кое кто сегодня ночью так разлёгся на Диминой подушке, что свалился и растянул себе лапу 😔 и полночи я сидела с ним, пока он шипел и хромал 😥 но судя по всему, ему значительно лучше 🙃😜 не могу смотреть, когда они болеют 😔'}  -- \t -- ['😸', '❤', '☺']\n",
      "{'text': 'Ко мне на ток-шоу приехала моя @akryyana 👯 работаем даже во время основной работы😂 И конечно же мы в одежде от @olgabuzova_design 🔝'}  -- \t -- ['🙃', '🏻', '♀']\n",
      "{'text': 'Это была любовь с первого взгляда 🐴❤️ с первого контакта и первого прикосновения 🐎🙌🏻 спасибо большое моей @bulavina за эту невероятную фотосессию...Я как будто, окунулась в другой мир...в мир, где нет зависти и лжи, где всё чисто и прозрачно...Волшебное место, потрясающие воспоминания😻 @bulavina -фото; @koshkinaolga_ -мейк, @alinayartseva - прическа 💋'}  -- \t -- ['🙈', '😧', '❤']\n",
      "{'text': \"Поделитесь, мои хорошие, где берете энергию? Как всё успеваете и при этом не падаете без сил в конце длинного дня? \\U0001f937🏻\\u200d♀\\nЯ бы не выдержала такого графика, если бы регулярно не принимала витамины VPLAB ULTRA WOMEN'S! 🚀🚀🚀 Они разработаны специально для женщин, ведущих активный образ жизни. В комплекс входит более Пятидесяти активных ингредиентов, направленных на поддержание иммунитета, обмена веществ и конечно, красоты кожи, волос и ногтей! 👸🏻👸🏻👸🏻 Заказать можно на сайте производителя ➡ @vplabru vplaboratory.ru или на @ozonru по промокоду BUZOVAVP со скидкой 25%!\\nКстати, у них есть отличные витамины и для мужчин — Ultra Men’s. Парням без них за нами не угнаться!\\n\\n#vplab #vplaboratory #витамины\"}  -- \t -- ['\\U0001f926', '\\U0001f937', '🏻']\n",
      "{'text': 'Как приятно, что так вас много теперь у меня! Вдвойне приятно, что это случилось со мной в Париже и теперь вас 1,5 млн, а ещё сегодня очень важный день!!! 😊 сегодня День Рождения моего папы. \\nПапочка, будь здоров и счастлив, спасибо тебе за жизнь и за воспитание! Я тебя люблю ❤'}  -- \t -- ['😅', '🏼', '😝']\n",
      "{'text': 'Миранда Керр после показа  #LVCruise 2016 @louisvuitton ❤️'}  -- \t -- ['🎂', '♂', '\\U0001f937']\n",
      "{'text': 'Единственный курс по инстаграму, который мне понравился!😊\\n⠀⠀⠀\\nЧестный восхищённый обзор курса от @kreida , который называется Unigram 🤗\\n⠀⠀\\nПРО ЧТО КУРС:\\nЭто онлайн-курс по инстаграму от одного из любимых блогеров) Слежу за блогом Алины уже давно, вижу, как он растет и развивается;) В любом курсе важно, чтоб человек был экспертом в своей области и знал всю «кухню» изнутри😅\\n⠀⠀\\nНа курсе вы узнаете:\\n✔Как выбрать тему своего блога\\n✔Какие темы будут ещё перспективны долго, а какие лучше обходить стороной или выбирать супер уникальную подачу\\n✔Как создать свой личный искренний образ, который будет положительно отражаться на статистике\\n✔Все о целевой аудитории и использовании этой информации для увеличения актива\\n✔О методах привлечения аудитории и убеждения в подписке\\n✔Все о рекламе в Инстаграм, способах подачи, создании макетов, выборе блогеров\\n⠀⠀\\nЧЕМ ПОНРАВИЛСЯ:\\nЯ записалась на курс, потому что давно общаюсь с Алиной и знаю, что она не льёт воду. Для меня это один из самых важных критериев при выборе курса;)\\n⠀⠀\\nВажно, чтоб автор давал реальные советы и честно рассказывал про свой опыт. Есть много секретных фишек, которые вроде на поверхности, но самой до них догадаться сложно. Например, Алина делилась прям скринами своих замёток как планирует посты, там целая система, очень удобно😍🙌🏻\\n⠀⠀\\nЧТО СДЕЛАЛА ВО ВРЕМЯ КУРСА:\\n1⃣Поменяла способ своего продвижения и рекламные макеты, потому что оказалось, что существует система их формирования через пользу, историю и разные боли \\n2⃣Изменила шапку профиля, разбирали для каждого в чате, чтобы она выглядела круто, а не обо всем и ни о чем\\n3⃣Был очень интересный урок о том, как влиять на аудиторию благодаря своему образу и личному бренду. И это не о том позиционировании, о котором пишут книги про личный бренд, а информация, применимая конкретно в инстаграм\\n⠀⠀\\nКАК ПРОХОДИТ:\\nНа платформе геткурс, + есть чат участников)\\n⠀⠀\\nГДЕ НАЙТИ:\\nЗайти на @kreida и написать ей в Директ или найти сайт в шапке профиля)\\n⠀⠀\\nЦЕНА: \\nСейчас курс со скидкой: вместо 10.000 стоит 8490, но тем, кто от меня доп.скидка: 7490р😌\\n(Промокод «марго», + кто от меня, можно разбить оплату на части)\\n⠀⠀\\nСЛЕДУЮЩИЙ ПОТОК:\\nПослезавтра, 15 сентября!)\\n⠀⠀⠀\\n#ммарго_обзоркурсов'}  -- \t -- ['😂', '\\U0001f926', '\\U0001f937']\n",
      "{'text': 'И снова в путь !🙈🚀\\nВсем доброе утро! ☀️'}  -- \t -- ['❤', '😂', '😅']\n",
      "{'text': 'А так мы каждый день делаем #динамическаягимнастика 😌\\nПрактикуем с месяца:))\\nОчень много хороших отзывов читала о ней:) и деткам всем она нравится)) Мы тоже от неё в восторге🤗\\nНо недавно почитала, что для суставчиков ребёнка не очень хорошо.\\nМамочки, в что вы думаете? Практикуете ли сами?)\\n(Только, пожалуйста, аргументированно, а не \"фу, как так можно, издевается над ребёнком \")😉🌺\\n#стужук_материнство'}  -- \t -- ['🏻', '🏼', '🙏']\n",
      "{'text': 'Акцию #cosmoлето объявляем открытой! 💥💥💥 В течение месяца мы будем вручать классные подарки  участникам нашего конкурса. Сегодня ты можешь получить инновационный фен для волос Dyson Supersonic @dysonhair. \\nВНИМАНИЕ ❗️❗️❗️КОНКУРС💥\\nПравила:\\n1. Подписаться или быть подписчиком @Cosmopolitan_russia\\n2.  Сделать репост этой записи с конкурсом\\n3. Под этим фото написать: «Участвую» и поставить любую цифру, но главное чтобы она не повторялась. Повторяющиеся цифры будем удалять.\\n4.  Все участники должны быть с открытыми аккаунтами.\\nПобедителя определим сегодня в 23:00 по московскому времени с помощью генератора случайных чисел. Удачи ✨#cosmoлето #dyson\\nUPD: конкурс завершён, победительница указана в комментариях 😉'}  -- \t -- ['🎤', '🙏', '🏻']\n",
      "{'text': 'Скоро у меня начнётся долгожданный тур  #подзвукипоцелуев по черноморскому побережью👸🏻🎤 🏝\\n11 августа Анапа /летняя Эстрада/\\n13 августа Геленджик /КЗ Олимп/\\n14 августа Лазаревское /пляж Лазаревское взморье/\\n15 августа Сочи /ресторан-клуб Виноград/.\\n16 августа Ялта /КЗ Юбилейный/\\n18 августа Феодосия /КЗ Звездный/\\nОчень жду встречи с вами, мои люди! ❤️❤️❤️\\nБилеты уже в продаже, вы их можете приобрести по ссылке в шапке профиля 😘 #моилюдивсегдасомной'}  -- \t -- ['❄', '🙌', '🙈']\n",
      "{'text': 'Дорогие #cosmogirls с внимание, конкурс!\\nВ самую волшебную ночь года ВДНХ приглашает посетителей Главного катка страны в межгалактическое путешествие для знакомства с космосом. Гостей катка ждет прямое включение с МКС, праздничный фейерверк, выступления зарубежных музыкантов и многое-многое другое!! Специально для вас, дорогие #cosmogirls мы разыграем 4 пригласительных билета на новогоднее шоу на катке! Кстати, пригласительный билет также дает право на прокат коньков.🙈😍\\nУсловия:👇🏻\\n1. Подписаться или быть подписанным на @cosmopolitan_russia и @vdnh_russia\\n2. Поставь «лайк» этой публикации\\n3. Отметить в комментарии подругу, с которой хочешь отпраздновать новогоднюю ночь на катке.\\n4. Все участники должны быть с открытыми аккаунтами\\n5. В понедельник, в 21-00 по московскому времени мы выберем 2х победительниц, которые вместе со своими подругами или друзьями 31 декабря или 1 января отправятся на космический каток!\\nВнимание, в конкурсе могут участвовать только жительницы Москвы и Подмосковья.\\nУдачи!❤️\\n#катокВДНХ'}  -- \t -- ['🏼', '❤', '🏻']\n",
      "{'text': 'Вот не знаю как поступить. Стоит ли выкладывать сегодня новый выпуск \"Клава транслейт\" или лучше подождать до четверга?  Help 🎬👇🏼'}  -- \t -- ['🔥', '📸', '🙈']\n",
      "{'text': 'Happy Birthday my dear!\\nDay #2. \\nС Яной мы дружим 24 года. 😌\\nИ не смотря на то, что она живет в Чехии и мы видимся намного реже, дружим все также. \\nЧто для вас дружба? Есть ли такой друг, с которым вы рука об руку с самого рождения? 😉'}  -- \t -- ['🔬', '🙈', '©']\n",
      "{'text': 'Про дружбу с @s.laraailara ❣️\\n⠀⠀\\nДо 11 класса я была уверена, что кроме Ани никакой подруги у меня больше не будет. Но Айларка поменяла мои планы😂💕причём крайне настойчиво 💓😂\\n⠀⠀\\nНаша дружба с ней очень отличается от дружбы с Аней, как 2 противоположные❣️ Началось все очень забавно. Я дико игнорила всех новых людей в моей жизни, поэтому, даже не смотря на то, что жили (и живем) мы в минуте ходьбы друг от друга, учились вместе и каждый день ходили вместе в зал и потом к ней/иногда ко мне домой учить ЕГЭ и угарать 24/7, я не признавала ее как подругу и,оказывается, даже не хотела фоловить ее в инсте, пока она меня не заставила, она мне вчера это рассказала😂 но ещё в том году я поняла, что она станет одним из самых родных мне человечков🙏🏼💕 Айларка - это человек, с кем я могу быть прям самой собой. Она полностью разделяет ВСЕ мои интересы, мы можем бесконечно обсуждать всю деятельность, дела, успехи и планы, скоро и у неё кое-что будет свое💓😍🤗 в том году она вместе со мной вставала каждый день в 4:20 утра, мы шли в зал, потом в школу, потом вместе учились дальше, писали списки дел, мотивировали друг друга. Сейчас она просто нереально мне помогает, я вообще не знаю, что было бы без неё, настолько все держит и не даёт упасть, всегда взбодрит и докажет, что все будет хорошо❣️ у неё \"слегка🙃\" колкий характер, но за своих она просто горой и до последнего, хоть и с виду такая хрупкая милашка 🙈💓😂 Мы общаемся уже 2 года каждый день, она знает обо мне прям все-все,  обсуждаем все на свете часами и поэтому когда я у неё остаюсь на ночь, всегда ложимся под утро. Можем до утра делать мои дела и сидеть с вами в трансляциях, она \"всегда за\" меня сфоткать и помочь с инстой😂 для меня это friendship goals. Ведёт все мои финансы, правда деньги лежат на Ее карте😂💓 ведёт всех клиентов, 2 моих Инстаграмма, да бесконечно можно перечислять, что она делает для меня💓💓💓\\n⠀⠀\\nещё часто забирает меня к себе на дачу с ее семьёй, я их всех прям обожаю😍😭 бассейн, квадрики, вечные читмиллы, готовим торты, смеёмся и танцуем. Это единственный человек, перед которым я могу петь и танцевать как хочу😂💓😂\\n⠀⠀\\nВ общем, моя любовь, я тебя очень ценю и мы всегда будем дружить @s.laraailara 🙏🏼💓'}  -- \t -- ['♀', '\\U0001f926', '😂']\n",
      "{'text': 'Получила премию Инстаграм Года💃😊❤️ Спасибо большое 🔝🙏🏻 #моилюдивсегдасомной #UniquePleasureAwards'}  -- \t -- ['\\U0001f937', '😂', '👋']\n",
      "{'text': 'Главный редактор Cosmopolitan в эфире Comedy Radio!\\rСегодня гостем программы «Самое серьезное шоу» стала Полина Сохранова @sokhranova. Она поговорила с ведущими о здоровом образе жизни, а также раскрыла несколько секретов, которые помогут найти идеального спутника жизни. \\rЗапись эфира Comedy Radio (23 апреля, с 14 до 15 часов) доступна на Moskva.fm\\r\\r#cosmopolitan #cosmo'}  -- \t -- ['☺', '👩', '🏻']\n",
      "{'text': '\"Мой стиль - это скорее цепочка плачевных недоразумений, разбавленных парой настоящих катастроф\", – признаётся американский актёр и вокалист Джаред Лето, которому сегодня исполняется 45🎉!!!\\nКакой образ эпатажного артиста тебе запомнился больше всего?'}  -- \t -- ['😍', '💃', '😘']\n",
      "{'text': 'Слева направо: Марион Котийяр, Луи Гаррель, Шарлотта Генсбур, Ипполит Жирардо, Арно Деплешен и Альба Рорвахер – команда фильма «Призраки Исмаила», который открывал в этом году Каннский фестиваль 😍 #cannes2017'}  -- \t -- ['💫', '😊', '😍']\n",
      "{'text': 'А мы на съёмке для нашего бренда @agolovinova_official и это самая приличная фотка из моего Селфи-бэкстейджа 😂😂😂🙈'}  -- \t -- ['\\U0001f926', '🙆', '❤']\n",
      "{'text': '#СОЧИ ! 4 августа жду всех вас на своём концерте в Oscar Event Hall 🔥 20:00'}  -- \t -- ['🎤', '🤗', '👸']\n",
      "{'text': '#площадка #эрикдурак #всемдобра #гуляем #смоимибратюнями #отнялакепулю'}  -- \t -- ['❤', '🏻', '🙏']\n",
      "{'text': 'Американская актриса и певица Гвинет Пэлтроу отмечает сегодня день рождения. \\r#ГвинетПэлтроу #GwynethPaltrow #ПодружкаЖелезногоЧеловека'}  -- \t -- ['🎉', '⭐', '\\U0001f937']\n",
      "{'text': \"В общем, проверив сегодня ряд других органов, все у меня в порядке. ☺️ Надеюсь действительно все же просто вирус и пройдёт уже скоро ☺️☺️ поэтому едем домой отлеживаться и смотреть 'Ходячих'😂🙈✌🏼️\\n_______________\\nДевочки. И накипело немного. Зачем вы  приписываете мне всякую фигню и какие-то болезни? Я очень ценю ваши советы, хотя если уж быть честной - я же их не просила даже ☺️🙈 без обид, но в таких вопросах я доверяюсь ТОЛЬКО врачам, которые знают все мои симптомы , анализы и историю болезни и делают выводы не основываясь на 'я считаю', 'я где-то слышала'. Как вы ничего этого не зная, пишите 'у тебя пневмония', 'у тебя синдром того-то', 'у тебя внематочная беременность '? 😣 Я как бы не суеверная, но честно читать про себя это не очень приятно 😔🙄\\nА про лактостаз каждый второй коммент. У меня вопрос, у вас это было вообще? Если да, то вы должны знать, что лактостаз сложно пропустить, потому что это адские боли и за 7 дней тебя просто разорвёт. У меня было и не раз, поэтому я знаю о чем говорю. \\nА половина вообще пишет как надо лечить ребёнка и тд , даже не прочитав, что болею , слава богу, я, а не Алиса\\n\\n______________ \\nЯ повторюсь, я очень благодарна за советы и девочкам, которые пишут в Директ с поддержкой, но не перегибайте палку с диагнозами и совсем не уместными советами. Я к вам за позитивом ✌🏼️☺️\\nДавайте будем добрее и ... воспитаннее что ли🤗 здоровья всем🙌🏻\"}  -- \t -- ['🏻', '♀', '\\U0001f937']\n",
      "{'text': 'Гормон мне друг? Как связаны внешность и гормоны. 💊💊💊 То, насколько у тебя стройная фигура и упругая кожа, во многом зависит от уровня гормонов. Поговорим о тех, которые влияют на внешность и настроение. Переходи по ссылке в профиле и читай материал в рубрике #CosmoЗОЖ!👩\\u200d🏫\\nА если хочешь углубиться в тему, советуем пару хороших книг – листай галерею!👉🏻'}  -- \t -- ['✨', '♀', '🏼']\n",
      "{'text': 'Актеры Джерард Батлер и Мэттью Макконахи устроили двойное свидание в Майами 😍 Давние друзья выбрались со своими возлюбленными на концерт Duran Duran. Батлер и его девушка Морган Браун, с которой он вновь сошёлся недавно, и Макконахи с Камиллой Алвес, которые воспитывают троих детей, выглядят очень счастливыми на совместном вечере.'}  -- \t -- ['❤', '🙈', '🏼']\n",
      "{'text': 'Самый точный прогноз для всех знаков Зодиака в нашем  проекте Cosmo! 😉 Выбирай свой знак и читай скорее, что тебя ожидает сегодня! \\n@cosmo_pisces – РЫБЫ ♓️\\n@cosmo_taurus – ТЕЛЕЦ ♉️\\n@cosmo_aquarius – ВОДОЛЕЙ ♒️\\n@cosmo_sagittarius – СТРЕЛЕЦ ♐️\\n@cosmo_scorpio – СКОРПИОН ♏️\\n@cosmo_libra – ВЕСЫ♎️\\n@cosmo_leo – ЛЕВ ♌️\\n@cosmo_aries – ОВЕН ♈️\\n@cosmo_cancer – РАК ♋️\\n@cosmo__capricorn – КОЗЕРОГ ♑️\\n@cosmo_virgo – ДЕВА ♍️\\n@cosmo_gemini – БЛИЗНЕЦЫ ♊️'}  -- \t -- ['♍', '♏', '♓']\n",
      "{'text': 'Давно не было #ммарго_книги 📖📚 эту неделю очень много читаю, надеюсь, скоро наверстаю график книг)\\nИтак, 8/36 книг за 365 дней ✅\\n#ммарго_книги\\n⠀⠀⠀⠀⠀⠀⠀⠀⠀\\n📙Наташа Закхайм: \"Все идеи Роберта Кийосаки в одной книге\"\\n⠀⠀⠀⠀⠀⠀⠀⠀⠀\\n📖Рецензия:\\nЕсть такой автор - Кийосаки. Я думаю, все слышали про его  книгу \"богатый папа,бедный папа\". Так вот эту книгу (которая на фото) написала его ученица: о том, как его наставления поменяли ее жизнь, как она наконец-то оставила работу и стала инвестором, про ее инвестиционные пакеты, про поведение во время кризиса, советы по обучению итд. В общем, как карьерная история девушки, кооторая началась с книг и семинаров Кийосаки) На самом деле, очень понравилось, лично для меня именно инвестирование в недвижимость - новая тема, поэтому нового для меня было достаточно. Так же после этой книги появилась цель получить фин грамотность, и благодаря книге поняла как, где и зачем) В общем, книга заставляет по-другому посмотреть на свои карьерные ценности и свой карьерный путь\\n⠀⠀⠀⠀⠀⠀⠀⠀⠀\\n♥️ 📊Оценка:\\n8/10\\nМне очень понравилось, искренне советую) почему не 10 - потому что это я😂 лично мне не хватило более подробных и практических объяснений тех же схем инвестирования. Автор про них пишет, будто все их знают, но мне пришлось состыковывать факты отдельно, и до конца картина так и не сложилась) +автор не раскрывает все идеи Кийосаки, как заявлено на обложке\\n⠀⠀⠀⠀⠀⠀⠀\\n📌Советы: \\nЧитайте за день-два) понравилось, кстати, что в книжке есть задания после глав - заставила себя выполнить половину, не пожалела🤗'}  -- \t -- ['😅', '♀', '\\U0001f937']\n",
      "{'text': 'Just arrived 👯\\u200d♀️👯\\u200d♀️👯\\u200d♀️👯\\u200d♀️ Ну что, наше путешествие начинается 😻 Мы доехали, погода шикарная, настроение ещё лучше 😇 Самое главное, что мы все вместе с моими девочками, и мы та-дам❄️❄️❄️ в Куршевеле \\U0001f973 #buzgirls33'}  -- \t -- ['🏻', '📸', '😍']\n",
      "{'text': 'Утро доброе😂\\nКолитесь, зарядку сделали?😝'}  -- \t -- ['🌴', '😂', '☀']\n",
      "{'text': 'Вечерний променад с моей кошечкой @marshevskaya 😍😍😍 Мы честно встретились по делу, но деловая встреча плавно перетекла в душевные разговоры 🤗 впрочем, как всегда 😂😂😂 люблю ❤️ #мяумяу#люблюсвоихподруг#моядуша#мойчеловек#девочкитакиедевочки#моячелси'}  -- \t -- ['😍', '❤', '🏻']\n",
      "{'text': 'Деньги — зло.\\nНе в деньгах счастье.\\nКто духом силен — тот и богат.\\nИ еще 200 способов успокоить себя пока не выдали зарплату.  #упражнение #спорт #фитнесс #я #swag #макияж #песня #голос #кавер instago #all_shots #follow #webstagram #colorful #style #диета #правильноепитание #musicalrussia #фадеевуслышит'}  -- \t -- ['❤', '🌴', '🇺']\n",
      "{'text': 'Обещаем, это лето ты запомнишь. 🔥🔥🔥Мы подготовили для тебя крутые призы, которые будем разыгрывать в течение этого месяца! С 16 мая по 17 июня у тебя есть уникальный шанс выиграть  все модные и полезные вещи, отмеченные символом ☀️ в июньском номере❗️❗️❗️\\nСледи за новостями на сайте cosmo.ru и в социальных сетях Cosmopolitan, а также по хэштегу #cosmoлето!'}  -- \t -- ['🙈', '😂', '🍟']\n",
      "{'text': 'Запремьерили!)) #ФакЮ 🖕🏼🎶 Как вам трек? Читаю все ⬇️'}  -- \t -- ['💋', '😍', '🏻']\n",
      "{'text': '🇷🇺 на сайте появился онлайн-консультант. Теперь Вы можете задавать все интересующие Вас вопросы сразу)))) 🇺🇸 now you can ask your questions online 👉golovinova.ru'}  -- \t -- ['😍', '❤', '😂']\n",
      "{'text': 'И еще фото🙈\\nМалыш сегодня не спал 😍 такой пупсик🙈 что не могу не поспамить🙈\\nВсе нам умилялись, а мы засмактывали кулак🙈🙈❤️❤️❤️\\n#мама #мама2015 #инстамама #слинг #слингомама #слингожизнь #слингожитель  #сыночек #миниСтужук #Давидушка #mama #mama2015 #sling #babysling #loveandcarry'}  -- \t -- ['🙈', '🏻', '🙃']\n",
      "{'text': 'У меня остался с десяток🙆🏻\\u200d♀️ красивых фото с Калифорнии 🌴 и пара тем дорассказать🙌🏻\\n🏠 Обещала Вам написать об аренде жилья ещё и почему мы с ней пролетели\\U0001f926🏻\\u200d♀️🙈\\n🔥Сразу отмечу (для особо придирчивых), на компетентность в вопросе жизни в США и СА я не претендую:) Пишу то, что поняла и как поняла за месяц😉 Для более подробной информации - я много раз показывала Вам классные американские блоги😉\\n.\\n🙌🏻Так вот. В Калифорнии жильё сдаётся преимущественно на год! В редкий исключительных случаях - на пол и в основном НЕ меблированное 😬\\nНайти жильё, чтобы арендовать его менее чем на полгода (нас интересовали 3 месяца) да ещё и с мебелью - сложно и оч дорого.\\n#airbnb оказался нашим #olx - половина неправда:) И всё равно нереально дорого. Оч скромная коробочка #onebedroom от 4,5 тыс в месяц \\U0001f937🏻\\u200d♀️и реально сложно найти что-то более или менее и чтоб оно существовало в жизни и чтоб и на условия согласились:) .\\n🌸Саша нам посоветовала своего риэлтора Яну, с которой мы нашли более или менее приличную комнатушечку #ванбэдрум (кухня-студио с зальчиком, спальня и ванна)  на #MarinadelRey (мы искали в этом районе +венис, санта моника) за 3т$, но немного дальше от океана, чем хотелось, конечно (не в пешей доступности). Хозяин ДАЖЕ согласился сдать на 3 мес. Но при условии оплаты сразу за 3 месяца +депозит( стоимость 2х месяцев). .\\n👆🏻 Мы, обираясь в ЛА в принципе и рассчитывали на эту сумму на жильё, но жестко тупанули\\U0001f926🏻\\u200d♀️\\U0001f926🏻\\u200d♀️\\U0001f926🏻\\u200d♀️\\n💸Наличкой взяли 9т, а всё остальное положили на карту даже не подумав о том, как будем выводить\\U0001f926🏻\\u200d♀️ .\\n🤕Жуткая непредусмотрительность, которая и меня расстроила( Думали, будем оплачивать помесячно - снимать с банка, а тут сразу сумма...целиком не снимешь( А такой крупный перевод нам банк запретил 😣 Украина 🙌🏻\\nВ самый последний день мы нашли способ, но оказалось, что квартиру уже ту забрали \\U0001f937🏻\\u200d♀️\\n🙄Сами виноваты, или так тому и быть - кто его знает:) И то и другое:) В следующий раз будем знать, ну и Вы знайте!)\\nЛучше перед поездкой ищите и продумывайте заранее варианты😉\\n👇🏻Буду рада почитать Ваш опыт в комментариях😉\\n❌За негатив - как обычно 🔥😉\\n#стужук_сша\\n#Стужуки'}  -- \t -- ['\\U0001f926', '🏻', '❤']\n",
      "{'text': 'Кто опять пропал? Я пропал 😭\\nНа самом деле, это все вирус, который вывел меня из строя на 10 дней 🤒\\nНу и ладно, зато я снова с вами! И даже подготовила новый beauty обзор о средствах, которые недавно открыла для себя.\\nТак вот, рассказываю о @stanleyjacobs.ru\\nНа самом деле, эти средства не так широко представлена в России, зато хорошо известны в США. Что входит с линейку?\\n- пилинг-диски для обновления кожи\\n- сыворотка, которая защищает кожу от потери влаги\\n-увлажняющий крем (для меня просто бомба 💣)\\nНа самом деле, я бы рекомендовала этот уход для девушек 20+, когда уже действительно хочется поддерживать свежесть и эластичность кожи. Но это лично мои наблюдения.\\nСредства действительно дают отличный эффект, относясь скорее к лечебной серии косметики, чем к уходовой.\\nКто уже пробовал эти средства? Или может быть пользуетесь аналогами, которые способствуют обновлению кожи?🤔'}  -- \t -- ['❤', '♀', '🏻']\n",
      "{'text': '«Никогда не знаешь, как рождаются слухи. Когда, например, я постриглась наголо, про меня стали говорить, что я либо неонацистка, либо лесбиянка, либо у меня рак. Хорошо хоть не всё сразу». Натали Портман\\n\\n#cosmo #cosmogirl #цитатадня'}  -- \t -- ['🐹', '❤', '👌']\n",
      "{'text': 'Мы 👸🏼👸🏼👸🏼 идеальное завершение вечера \\U0001f924🙌🏻 Люблю Вас❤️'}  -- \t -- ['💯', '‼', '😃']\n",
      "{'text': 'Решила поучаствовать в прикольном флешмобе от МТС #теперьвсепереносица Предлагаю присоединиться: выкладывайте свои фото с переносицой и желательно в красном с хештегом #теперьвсепереносица в Инстаграм) И лучшие попадут в сториз в @mts.official #атвойтарифпереносица #мтс'}  -- \t -- ['♥', '😍', '❤']\n",
      "{'text': 'В любой ситуации выбор всегда за вами. Вы либо гуляете под дождем, либо просто под ним мокнете.\\nPhoto: @remez_a'}  -- \t -- ['🙈', '❤', '😂']\n",
      "{'text': 'Расскажу-ка я про волосы свои и уход 😜 а заодно ещё и запощу фоточку с Тая не опубликованную \\U0001f923 совмещу приятное с полезным, как говорится 😜\\n______________\\nИтак. Волосы у меня сейчас нарощенные, длина 65+, по окрашиванию, корни под мой натуральный, концы осветлённые. И нарощенные волосы 3 или 4 тонов, точнее лучше узнавать у Лены @_bogacheva_elena_ , у которой я делаю наращивание ☺️\\nПлюс я использую розовую тонирующую пенку #estel для такого пепельно-розового оттенка волос, тк терпеть не могу ржавый оттенок 😬 думаю можно найти в проф магазинах, я взяла в том же салоне у Лены 😜\\n.\\nСвои волосы у меня оооочень густые. Всегда были. Во время беременности и кормления очень испортились, или я испортила. Тут уже фиг разберёшься \\U0001f937🏼\\u200d♀️ потом со мной ещё случился буст-ап 😂 не повторяйте моих ошибок 🙅🏼\\nВ общем, пришлось состричь в каре в том сентябре и отращивать теперь новые 😜 у меня всегда очень хорошо растут волосы с наращиванием\\n.\\nПо уходу. Шампуни строго безсульфатные. Мою раз в 3 дня где-то. Только корни, на всю длину шампунь не наношу ☝🏻\\nВсегда после шампуня кондиционер. Без него не мою никогда. И чаще всего через одно мытьё после кондиционера наношу маску, заматываюсь полотенцем и хожу так ещё часа 2. Потом смываю\\n.\\nФеном практически не сушу. Только если вдруг срочно надо куда. А так - пускай сохнут сами 😜 на высохшие волосы наношу масло для кончиков и если укладка плойкой, то пшикаю термозащитным спреем ещё. Всего понемногу, чтобы не утяжелилось 😜\\n.\\nВот собственно и все☺️ но ночь чаще всего колосок плету. Чтобы не мешались ☺️ и частый вопрос, как ходить с ребёнком и распущенными волосами, чтобы не драла \\U0001f937🏼\\u200d♀️ не знаю 😂 меня тоже драла. Потом привыкла. И всегда у меня на руке резинка, чтобы в любой момент убрать 😜\\n#agolovinova_уход #настя_агдекупила'}  -- \t -- ['♀', '🏻', '\\U0001f937']\n"
     ]
    },
    {
     "name": "stdout",
     "output_type": "stream",
     "text": [
      "{'text': 'Тут был пост о грядущем марафоне на 🌰 \\nНо так как он уже идёт, отмечу, что у нас есть аккаунт:\\n@telovod , в котором каждый месяц мы проводим марафоны стройности!) а ещё  у нас можно купить мои любимые фитнес-резинки и экспандеры 😘'}  -- \t -- ['🏻', '🙏', '😍']\n",
      "{'text': 'Почти пятиминутный дневник невесты 👰🏻 ⠀\\n\\nДомашний уход для лица @foreo_ru + @ultraceuticals_russia 🌿 Что помогает быстро похудеть? Как быстро загореть? И где быстро пошить платье? 💃🏽\\n⠀\\n\\nКак же я рада, что записывала тот суетной бьюти-день накануне свадьбы. Я смотрю в свои ошалелые глаза и вспоминаю, какую бурю эмоций испытывала внутри из-за предстоящего торжества. Думаю,  примерно у каждой невесты такие дикие глаза :)) ⠀\\n\\nЗаписала вам все этапы финальной подготовки к свадебной красоте. Пишите вопросы 😘\\n⠀\\nhttps://bit.ly/2LK3Gpc 🎞: #FOREO #LUNA2 #ultraceuticals @mai_mai_bridal @bronzeglow_beautyexpress #weddingday #weddingpreparations #beautyroutine #эндосфера #mkd_бьютисреда'}  -- \t -- ['✨', '😉', '👐']\n",
      "{'text': 'После спорта освежаемся в бассейне 💦💦💦 @tarasov23 @annabuzova @konstantin_shtrykin 💣 #отпуск#покайфу#семья#wearefamily#счастье'}  -- \t -- ['👒', '👶', '🎉']\n",
      "{'text': 'Листайте🐒 Ожидание/реальность \\U0001f923\\U0001f923\\U0001f923'}  -- \t -- ['🎼', '\\U0001f937', '🎂']\n",
      "{'text': '#НенавижуОбожаю 💔 Мне было сложно найти в себе силы выпустить эту песню. Да что там, мне было сложно ее сочинять и записывать. Каждое слово и каждая нота соткана из моих личных переживаний. И я благодарна всему на свете, что эта моя самая взрослая и честная песня нашла место и отражение в ваших сердцах. СПАСИБО ЗА ВАШИ КОММЕНТАРИИ, ПОДДЕРЖКУ, СЛЕЗЫ И ЭМОЦИИ!!! Спасибо моей команде, за то что мы сделали это вместе. Музыкальные @badasspolitin @sashadoutra @maxivanik @kostorch 🎹 Вы бы знали, сколько мы переделывали эту песню!!! И клип....))\\nПродюсер: Клава Кока\\nРежиссер: Джулия Сотникова, Роман Ткач \\n2-й режиссер: Юлия Зайцева\\nОператор: Роман Ткач, Евсей Ковалев \\nАэросъёмка: Евсей Ковалев\\nМонтаж: Клава Кока, Джулия Сотникова, Роман Ткач \\nЦветокоррекция: Роман Ткач\\nCG effects: Артем Ткач \\nХудожник-постановщик: Илья Журавлев, Анет Харутюнян\\nСтиль: Лада Высокова \\nАссистент: Анна Воронова \\nMua: Дарья Холодных, Вика Султанова\\nHair: Анна Завгородняя\\nАсистент: Алиса Казакова\\nОсобая благодарность Бойко Олегу и всем моим #BlackStar family \\U0001f5a4 #klavacocafamily'}  -- \t -- ['\\U0001f937', '🏻', '😂']\n",
      "{'text': 'Наш Арт-директор Яна @volkova_yana и редактор моды Ира @veryire не смогли лично не протестировать главные аксессуары нового сезона, собранные для модной съемки редактором Полиной @shabelnikova 💫А ты любишь ботфорты?'}  -- \t -- ['👻', '🏻', '🙏']\n",
      "{'text': 'Компания Calzedonia устроила райские каникулы для звёздных  красавиц⛱🌴🍉.\\nРавшана Куркова, Ирена Понарошку, Елена Летучая и Лена Темникова собрались на одном острове и продемонстрировали фотографам свои безупречные фигуры в купальниках👙. Бери пример👏🏼!! #calzedoniarussia #calzedonia4seychelles #constanceephelia #myconstancemoment'}  -- \t -- ['👏', '🏼', '😍']\n",
      "{'text': 'Всем блинчиков на завтрак \\U0001f95e😜\\nДоброе утро 😍'}  -- \t -- ['❤', '🙏', '🏻']\n",
      "{'text': 'Заехали с @rudovanata к моей любимой @mishanyamisha на воскресный бранч в @by_mishanya 👻👻👻Ты умничка 😘 спасибо за костюмчик 🔝 #девочкитакиедевочки'}  -- \t -- ['😊', '❤', '🏻']\n",
      "{'text': 'Девочки мои, люблю вас❤️❤️❤️ @marinashishkina @zulik'}  -- \t -- ['🙅', '\\U0001f937', '\\U0001f926']\n",
      "{'text': 'Купальники от @swimwear_secret везде и всегда со мной! А вот одни из моих любимых, \\nИ самое главное все по фиксированной цене!Качество на высоте👍🏼\\nКупальники рекомендую брать в @swimwear_secret! Они лучшие 🤗\\n\\nС любовью ваша Ольга Бузова 💋'}  -- \t -- ['🌴', '🏻', '❤']\n",
      "{'text': 'О том, как в минувшее воскресенье команда Cosmo окрасилась во все цвета радуги и пробежала 5 км Красочного забега читай по активной ссылке в профиле🎨 За фото спасибо @fedorovdmitry #красочныйзабег2016'}  -- \t -- ['😉', '🔝', '❤']\n",
      "{'text': 'В это воскресенье в #шоуясмогу, я станцую аджарский танец💃💃💃 и этот танец я посвящаю вам, всем тем, кто поддерживает, любит и тем, кто просто рядом - моим любимым телезрителям, которые со мной уже больше 10 лет❤️ И очень надеюсь, что вам понравится🙏 #моилюдивсегдасомной#ясмогу#ясмогушоу#люблювасвсех'}  -- \t -- ['🙏', '❤', '🏻']\n",
      "{'text': 'Подарила вам сегодня свою песню в эфире канала ТнТ ❤️❤️❤️ кто смотрел? Напишите, понравилось?🤗 я так переживала 🙈#япростотебялюблю'}  -- \t -- ['❤', '🔝', '💪']\n",
      "{'text': 'Ну что, готовы поиграть в \"Угадайку\" этим пятничным вечером? Как думаете, кто окажется на обложке нашего октябрьского номера??? Ждем ваших вариантов и желаем всем хороших выходных))))🎉🎉🎉🎉🎉🎉🎉🎉'}  -- \t -- ['👇', '😫', '⏰']\n",
      "{'text': 'Together forever🙏🙏🙏 продолжаем отмечать Новый год на вилле ✌️#мужижена#однасатана#завтрабудетстыдно#анамвсёравно😂😂😂 @tarasov23 🔝'}  -- \t -- ['🏼', '❤', '😂']\n",
      "{'text': 'Получаю первые фоточки от моей @juliawhitephoto 💣спасибо большое моей Анечке @astiselfmade ❤️💋 За любовь и поддержку 🙏🏻'}  -- \t -- ['🏡', '😊', '❤']\n",
      "{'text': 'Ну и селфи в купальниках от нас с Лисёнком 😜😜😜 кстати, лайфхак вам от меня - очень удобно ребенком прикрывать наетое пузо 🙈😜 В бассейне мы были последний раз только летом, да и на море, где нет женских и мужских раздевалок и тд. \\nПоэтому вчера я, конечно, попухла ее одна переодевать в раздевалке 🙈😍 памперс, купальный памперс, купальник и потом вся та же процедура со мной 🙈(разве что без памперса 😂)\\nВ общем, пока переоделись - я уже устала 😂😂😂 Сегодня шли в бассейн уже с чётко разработанной схемой переодеваниях ребёнка 😂😂😂 И у на тут такой насыщенный график - покупались, сейчас разносим игровую комнату и с папой тренируемся по очереди. Он три подхода, я с мелкой в игровой. И наоборот. Так что я сегодня столько фоток наделала 🙈🙈🙈🙈 и даже сняла немного тренировку свою 👌🏻🎈 А! И это мы ещё работаем параллельно 🙈😂 вот так вот\\n #agolovinova_отдыхсмалышом'}  -- \t -- ['\\U0001f926', '😂', '\\U0001f937']\n",
      "{'text': 'Мои  дорогие @mixit_ru для всех предусмотрительных открыли распродажу!❤❤❤Стильные и очень милые наборы натуральной косметики от 290 рублей!Я запаслась презентами для своей команды🙈 но кому и что выбрала  не скажу. А вы любите больше дарить, получать?'}  -- \t -- ['🤗', '👆', '😍']\n",
      "{'text': 'Куда уходит любовь? За какие горизонты, за какие берега? С вами так не бывало, что вчера вы буквально летали на крыльях, а сегодня, проснувшись, ощутили пустоту внутри себя? Такие вещи не случаются в один миг. Сначала уходит трепетность, и ты уже не боишься обидеть любимого человека. Иногда обидеть на уровне инстинктов, что бы вывести его на эмоции, которых тебе стало не хватать. Потом уходит куда-то ревность, и ты начинаешь понимать смысл пресловутого утверждения «Ревнует, значит любит». Потом ты начинаешь выдумывать себе причины, что бы позже вернуться домой, что бы реже встречаться. И, наконец, ты перестаешь замечать его или же её отсутствие в своей жизни, у тебя перестает сосать под ложечкой от мысли, что у вас уже никогда ничего не будет. Ты с удивлением начинаешь замечать, что жизнь то, оказывается, бурлит вокруг, пока ты тонул в любимых глазах.\\nНикогда не доводите человека до состояния «все равно». Не позволяйте себе перейти черту, которая ведет в зону полнейшего безразличия… Оттуда не возвращаются. А вот подвести к ней легко. Достаточно делать больно и плевать в открытое для вас сердце. Нет ничего страшнее безразличия. Это конец любви. \\nНаверное, мне пора начать новую главу в своей жизни!!!!!! И нужно начать любить себя, а не искать вечно оправдания человеку, которому до тебя нет дела... #мысливслух'}  -- \t -- ['❤', '\\U0001f937', '🏻']\n",
      "{'text': 'Американский комедийный актёр Кевин Харт удостоился звезды на голливудской \"Аллее славы\" 🎉. Харт дебютировал в кино шестнадцать лет назад и успел сняться в таких картинах, как: \"Немножко женаты\", \"Думай, как мужчина\", \"Американская семейка\" и многих других. У актёра огромная армия поклонников, только вдумайтесь, на его страницу в \"Инстаграм\" подписано 43 миллиона человек😳💥. Поздравляем, Кевин, так держать!'}  -- \t -- ['❤', '🏼', '☺']\n",
      "{'text': 'Не обижайте любимых❤️😹 @DLGreez от меня убежал😢 \\nПредыдущие серии по хэштегу 👉🏼 #ЭльдарНастяСериал .\\n✔️ @_agentgirl_ ✔️ @nastyaivleeva ✔️ #_agentgirl_ ✔️ #настяивлеева'}  -- \t -- ['😜', '😂', '😃']\n",
      "{'text': 'Ким Кардашьян с подругами на несколько дней уехала отдохнуть в Мексику, где не стесняясь гуляет по пляжу в бикини. Папарацци, конечно, не упустили момент и сфотографировали звезду. Теперь мы знаем, как на самом деле выглядит «идеальное тело» Ким 😏#kimkardashian'}  -- \t -- ['❤', '😍', '😂']\n",
      "{'text': \"У нас тут небольшая проблема \\U0001f923 в нашем доме поселился 'Пися' 🐱🙊😆\\nАлиса раньше Пыха называла Пщщ, а теперь пытается называть Пыша, как и все мы. Но выходит Пися 😂 и вот она бегает по всему дому с криками 'Пися! Кудаааа' 'Пися! Стой'🏃🏼\\u200d♀️\\U0001f923 теперь у нас весело 😂\\n.\\nА ещё вчера захотела идти гулять в зимних сапогах \\U0001f937🏼\\u200d♀️ вот в платье и в сапогах 😂 и не переубедить никак человека. Мы уже подумали - че делать, пойдём так, но потом отвлекли ее на орешки 😂 ну собственно, гулять она пошла с тарелкой орешков кедровых 😜 но зато смогли пока она отвлеклась - переобуть ее 😆\\n.\\nВот не заскучаешь с этим ребёнком 😜 и, кстати, к слову 'колька' (мы все же думаем, что это 'прикольно'), теперь добавилась какая-то 'тётя'☺️ ходит за мной и 'мама. Тётя!' И это не 'титя'😜😂 потому что титю она может уже даже по слогам разложить и ни с чем не перепутает 😂 .\\nВ общем, ввожу тег #Алиска_слова пускай будет вся наша болтовня в одном месте 😜\"}  -- \t -- ['🤗', '❤', '🙃']\n",
      "{'text': 'I totally dig the interior of @popsburgerbar // У @popsburgerbar такой классный интерьер! И вообще, я хочу снять какой-нибудь крутой, вдохновляющий 😂 офис! У кого есть красивые фото офисов, тэгте меня 🙈😻 #popsburgerbar #anastaciasljubljana'}  -- \t -- ['❤', '😊', '🏼']\n",
      "{'text': 'Лёгкий морской бриз, тяжёлая Клава на доске 🏄🏼\\u200d♀️ А вы что делаете? Хотите встречу в Сочи?? 😜'}  -- \t -- ['🙏', '❤', '😂']\n"
     ]
    },
    {
     "name": "stdout",
     "output_type": "stream",
     "text": [
      "{'text': '❗️Смотреть до конца❗️\\nУ Страха-Глаза Велики,а у Ревности-ещё и НАВЫКАТЕ. \\U0001f923😳 Самый ревнивый 😅👉🏼 @narek_araikovich \\U0001f6d1Отмечай своего ревнивца 😂☝🏼 ✅первым 💯 комментариям лайк от Kross ✌🏻\\n✅1.посмотри видео\\n2.поставь лайк \\n3.сохрани видео \\n4. Оставь комментарий ‼️я всё,хочу видео привет 👋🏻 в сторис ‼️😱\\n✅Обязательно выполни все пункты , выберу 3 счастливчиков , которым передам привет , у себя в сторис 😁👍🏼 #оружие #отношения #дневникхача #кавказ #дом2 #дом2новости #трюк #sexy #девочкитакиедевочки #ржака #юмор #бузова #диета #пп #рецепты #musically #music'}  -- \t -- ['😂', '🏻', '🏼']\n",
      "{'text': 'Доброе утро, Cosmo-girl! Все мы наслышаны о пользе завтрака 😋 и стараемся его не пропускать! Делись с нами в комментариях, что ты сегодня приготовила, а потом читай, что приготовили звезды в нашем Cosmo-гороскопе 💫 \\n@cosmoru_pisces – РЫБЫ ♓\\u2028@cosmoru_taurus – ТЕЛЕЦ ♉ @cosmoru_aquarius – ВОДОЛЕЙ ♒\\u2028@cosmoru_sagittarius – СТРЕЛЕЦ ♐\\u2028@cosmoru_scorpio – СКОРПИОН ♏ @cosmoru_libra – ВЕСЫ♎ @cosmoru_leo – ЛЕВ ♌ \\n@cosmoru_aries – ОВЕН ♈\\u2028@cosmoru_cancer – РАК ♋ @cosmoru__capricorn – КОЗЕРОГ ♑\\u2028@cosmoru_virgo – ДЕВА ♍\\u2028@cosmoru_gemini – БЛИЗНЕЦЫ ♊ 📸@sierrafurtado #cosmo #cosmogirl #cosmopolitan #beauty #счастье #счастливыйгороскоп'}  -- \t -- ['😄', '♓', '♏']\n",
      "{'text': 'Чем старше становишься, тем яснее понимаешь, что день рождения раз в году - не так уж и редко... 😂👌🏼 Молодые 😂👇🏻\\n@mikhail_litvin 🙋🏼\\u200d♂️\\n@_iza_bell_ 🙋🏻\\u200d♀️ В самом соку 😂👇🏻\\n@dava_m 🙆🏻\\u200d♂️ ✅Отмечай друзей 20+ 😂👌🏼\\n✅Подпишусь 👉🏼на обладателя 👉🏼самого смешного комментария 😂🙏🏻\\n✅1.посмотри видео \\n2.поставь лайк \\n3.сохрани видео \\n4. напиши комментарий ‼️я всё ,хочу видео привет 👋🏻 в сторис ‼️\\nВыберу 😁счастливчика которому передам привет у себя в сторис 😃  #брюнетка #блондинка #элджей #мода #тренд #moda #губы #волосы \\n#девочкитакиедевочки #дом2 #style #дом2новоти #blackstar #егоркрид #бузова #musically #ольгабузова  #gucci'}  -- \t -- ['🏻', '👋', '🏼']\n",
      "{'text': 'Мне кажется отличная фотография 👍🏼😍😂\\n\"Катя идёт с мокрыми ботинками в руке,в одних мокрых носках,от которых остаются мокрые следы\"'}  -- \t -- ['😅', '😳', '🙈']\n",
      "{'text': 'Ой,что-то кушать захотелось 😂😂😂😂😂😂😂😂😂😂😂😂 #гуляемповегасу #todes #отчетныйконцерт #ойчтотокушатьзахотелось'}  -- \t -- ['❤', '🙏', '🏻']\n",
      "{'text': 'Неделю назад наш любимый главный редактор @sokhranova вышла замуж и сейчас молодожены находятся в свадебном путешествии❤\\nГде проходило торжество? Кто из знаменитостей присутствовал на свадьбе и Как проходила подготовка к самому важному дню их жизни?\\nВсе ответы ты узнаешь по ссылке в профиле! \\nЧитай подробности!💫'}  -- \t -- ['💃', '🙈', '🏼']\n",
      "{'text': 'Родной Питер🙏🏻🙏🏻🙏🏻 Светлая память😢'}  -- \t -- ['♂', '\\U0001f926', '🎂']\n",
      "{'text': 'Самые страшные выходные года позади. Вспоминаем, как это было, и оцениваем костюмы звезд: забавные, странные и, конечно, кошмарные (в хорошем смысле)! Смотри звездный Хэллоуин на сайте cosmo.ru \\r#cosmo #cosmopolitan #cosmopolitanrussia'}  -- \t -- ['😉', '🙈', '🏻']\n",
      "{'text': 'Дорогие Cosmo-girls,  фестиваль Bosco Fresh Fest’18 уже в самом разгаре🔥\\nУ тебя есть возможность принять участие в нашем розыгрыше🎁 и получить в подарок фитнес-трекер. \\nЧто надо сделать? - Быть подписанным на @cosmopolitan_russia и @boscofreshfest - Выложить самое красивое фото, сделанное в нашей космической фотозоне 💫 с хештегом #тыпростоcosmo и дождаться результатов. \\nКаждый вечер в 22:00  мы будем выбирать 10 лучших фото, авторы которых получат стильный фитнес-трекер #boscofreshfest2018\\n\\nP.S. И спасибо нашим партнерам @sundayrussiadecor за помощь в создании стильной арт-зоны специально для нас ❤️'}  -- \t -- ['🙌', '\\U0001f92a', '👋']\n",
      "{'text': 'Поздравляем с днем рождения младшего редактора Cosmopolitan Машу Жирнякову! Она – наглядный пример того, что в нашу редакцию можно прийти стажером и… остаться надолго. Именно Маша читает ваши письма и выбирает самые-самые для публикации в журнале. А в оставшееся после этого время (надо сказать, небольшое) занимается чирлидингом. Любим тебя💖'}  -- \t -- ['✨', '😉', '🏼']\n",
      "{'text': 'Ещё одно достижение, которым можно гордиться, я считаю 😊\\nПомните, с месяц назад я ездила на съёмки для Амвей? Теперь можно рассказать 👌🏼\\n⠀\\nНи для кого не секрет, что Amway - очень крупная и крутая компания, и помимо всего прочего, у них есть курс по онлайн-продвижению для предпринимателей компании ❤ это к слову про наш вчерашний разговор про поиски себя 😋\\n⠀\\nИ меня пригласили в качестве эксперта, что, если честно, было крайне неожиданно для меня 😱 но приятно, не скрою 🤗\\nЯ ехала на съёмки и до конца не представляла, как это я буду рассказывать о себе и своём бизнесе на весь съёмочный павильон, съёмочную группу и зрителей😧 к слову, я даже сторис стесняюсь снимать на улице 😝 а тут....🙈\\n⠀\\nНо я со всеми страхами так борюсь. Так сказать, клин клином 😉\\nВ итоге, все прошло круто, уши горели, адреналин тот ещё, скажу я вам \\U0001f92a и это просто бесценный опыт для меня. И, кстати, я поняла, что реально шарю в продвижении😆\\n⠀\\nСейчас курс уже запущен😊полноценное видео со мной все партнёры Amway могут посмотреть на бесплатной обучающей платформе. Поставила ссылку в сторис 😊\\nУникальность курса в том, что он сделан именно для сетевого бизнеса, все примеры - с продуктами Amway 😊\\nИ помимо моей лекции по созданию крутых сторис, там есть ещё обучение по копирайтингу, обработке фото видео, продвижению своей страницы бесплатными методами и многому другому 😊\\n⠀\\nА чтобы было вдвойне не скучно, часть курса сделана в режиме реалити-шоу - по материалам обучаются 4 предпринимателя разных возрастов, делают задания, а мы, эксперты, разбираем их и указываем на ошибки 😊 ну и хвалим, конечно ❤\\n⠀\\nВ общем, всю информацию о курсе можно найти на странице @amway__today и по тегу #amwaydigitallab 😊\\nБыть может именно этот курс будет первой ступенью на вашем бизнес-пути в сети 🤗'}  -- \t -- ['🎤', '❤', '🏻']\n",
      "{'text': 'Алиса достала шляпу - Алиса готова ехать в Тайланд 😂 или как она говорит ‘Талянд’, где ‘песочек и добрые крабы’ 🦀😂\\nВот так вот, ребёнок все помнит... хоть и давно было по его меркам ☺️\\nИз ближайших путешествий у нас поездка на майские загород и потом в конце мая мы отправляемся в трип на машине до Крыма и по его окрестностям 😍\\n.\\nЭто будет наше четвёртое путешествие на машине. До этого было два до Сочи - первый раз, когда я беременная была, второй раз с уже полугодовалой Алисой ☺️ и одно до Астрахани ☺️\\n.\\nДля тех, кто спрашивал, ее первая поездка была в 2,5 месяца в Шерегеш 👌🏻 летали на самолете☺️\\nПотом в полгода Сочи на месяц, потом неделя моды в Астрахани и множество поездок по подмосковным базам отдыха, в полтора года наш первый полет в Тай на Самуи - на месяц. В 2 года ещё один полет до Пхукета ☺️ и в феврале снова поездка к родителям и в Шерегеш 😜\\n.\\nИтого около 15 взлетов-посадок, 2 больших автотрипа и множество маленьких за наши 2 года и 4 месяца 😋 и это круто, мне кажется это одна из первопричин нашей относительно ранней болтовни 😋 тк я писала и не раз, что каждое путешествие это прям огромный скачок в развитии ☺️🙈😍\\n_____________\\nКуда поедем этим летом - не знаю. Я загорелась Бали или Африка😍 муж мечтает в Штаты☺️ но пока все тормозится на стадии покупки билетов 😂 платить за троих нам пока непривычно 🙈😝\\n.\\nА вы куда-то собираетесь? Какие места оставили неизгладимые впечатления?'}  -- \t -- ['\\U0001f926', '🏻', '😂']\n",
      "{'text': 'Приятно было познакомиться с @eminofficial 😻 Еще раз поздравляем @lobodaofficial и @eminofficial с наградой - дуэт года🏆🏆🏆'}  -- \t -- ['💋', '😃', '🌺']\n",
      "{'text': 'Ах какая роскошная nail-студия премиум класса @hollywood_nailsby 💅🏻 открылась в центре Минска! 👑Мне очень все понравилось, идеальная атмосфера и обслуживание! Ждите скоро снова в гости 😜❤️ мини-обзор студии смотрите в сторис \\U0001f933🏻'}  -- \t -- ['❤', '😍', '😉']\n",
      "{'text': 'Сегодня Монике Беллуччи исполнилось 54 года. Поздравляем роковую красавицу с днём рождения! 📷@monicabellucciofficiel'}  -- \t -- ['👩', '🎂', '🌺']\n",
      "{'text': 'Любимое💕 место для фоточек в актовом зале у окна рядом со сценой. С зади нас на сцене репетируют наши одноклассники, а мы просто фотографируемся 😎😌💕'}  -- \t -- ['🙌', '🏻', '😍']\n",
      "{'text': 'Мои хорошие, кто у меня из Питера? 🤗Правда, что у нас в Крондштате запустили 5G? Вчера видела, Беглов на каком-то форуме сказал. И как эта штука работает, быстро? Рассказывайте 😊'}  -- \t -- ['🙏', '😍', '❤']\n",
      "{'text': 'Рене Рокфеллер, одна из членов богатейшей семьи мира, обвиняется в воровстве😕\\nЖенщина была задержана охраной магазина в Мексике, когда попыталась украсть пару серёжек.\\nОна признала свою вину и вернула украшения.🙄'}  -- \t -- ['👏', '⛱', '🍹']\n",
      "{'text': 'Вера Брежнева и ее 16-летняя дочка Соня Киперман в Лос-Анджелесе🐣🌞\\nК слову, сейчас Соня учится и живет в Калифорнии.\\n#верабрежнева'}  -- \t -- ['♥', '😍', '🏽']\n",
      "{'text': 'Пусть то, что сегодня было мечтой, завтра станет частью жизни ✨🌹 #спасибо'}  -- \t -- ['🐱', '👶', '👧']\n",
      "{'text': 'Так красиво на улице...хочется загадывать желания и верить в новогоднюю сказку❄️❄️❄️ Душевно сидели после тяжёлого рабочего дня в любимой @lastochkamsk с моей Катюшей @ekaterina_issaeva💋❤️ Всем добра 🙏🏻'}  -- \t -- ['❤', '🙏', '💕']\n",
      "{'text': '11 дней до начала конца...😶😐 ну быть не может! Ведь ещё каких-то  2,5 месяца назад мы покупали билеты и паковали чемоданы, параллельно через пень-колоду сдавая сессию и закрывая все долги чтобы отправиться в жаркую Италию. А тут раз и все, пробежало, пролетело наше долгожданное...\\nУспейте осуществить все-все самые заветные летние желания, ведь еще не поздно ловить момент! ☀️💫\\n#vsco #vscocam #vscocamphotos #vscogood #vscogram #vscoholiday #vscotravel #vacosea #vsconature #vscosevastopol # #vscorussia #travel #travelgram #naturecrimea #crimeaislove #crimeaphoto #crimea_life #naturelovers'}  -- \t -- ['😜', '👄', '😂']\n"
     ]
    },
    {
     "name": "stdout",
     "output_type": "stream",
     "text": [
      "{'text': 'Конечно, не так технично, как у @t_killah, но концовка вытянула 🏋🏽\\u200d♀️'}  -- \t -- ['\\U0001f926', '👐', '😂']\n",
      "{'text': 'Когда ты очень голоден🙈🐷 #vsco #vscocam #vscogram #vscogood #vscofood #vscomoscow #vscorussia #food #foodporn #foodgram #eatwith_hm'}  -- \t -- ['😭', '💔', '😂']\n",
      "{'text': '🙈Я снова не смогла выбрать:))) 🙌🏻Организовали себе съемку у океана у ооочень крутого фотографа😍 К которой давно мечтала попасть🙌🏻 По этим бекстейдж-фото я поняла, что в эту беременность у меня совершенно другой живот😳🙈 И что я хочу брекеты ещё😂\\U0001f926🏻\\u200d♀️ .\\n💕Меня недавно под фото спросили, какую я себе раньше представляла свою жизнь, своего мужа, свою семью...🤔\\nЯ думала-думала и поняла, что не представляла\\U0001f937🏻\\u200d♀️\\n🙈Точно могу сказать, что я всегда знала, что у моего мужа будет красивое тело😂 Мне всегда это нравилось😂😂 А о детях, семье особенно и не думала:)\\n💖А сейчас смотрю на свою семьи и понимаю, что она почти идеальная 🙈 Маленькой булочки на руках ещё не хватает:)) Но в процессе уже, как говорится:)))\\n😅Я иногда такую жесть читаю о нас в соцсетях:))) И избивает и денег не даёт и вообще денег нет и ребенок от другого😂 И мне так смешно🙊 Люди некоторые просто не могут поверить, что всё реально может быть просто хорошо😅😅 Я и сама иногда не верю😂😂😂\\n🙌🏻И это совсем не значит, что у нас все ИДЕАЛЬНО:) Идеально не бывает:) Но мы в гармонии:) и счастливы💕\\nИ всем этого желаем ☺️❤️\\n#Стужуки'}  -- \t -- ['🏻', '❤', '😂']\n",
      "{'text': 'Принц Уильям и герцогиня Кембриджская Кейт Миддлтон посетили одну из самых знаменитых выставок цветов Chelsea Flower Show. 🌸🌺🌼Королева Елизавета II также почтила шоу своим присутствием.👑 На празднике также были замечены Деми Мур, Джерри Холл и другие. Кстати,  выставка проводится в Британии с 1913 года и принято считать, что без этого события лето не начинается. 🌞'}  -- \t -- ['🤗', '🙌', '🙏']\n",
      "{'text': 'Я хочу, что бы моему мужчине было не интересно, что было до него. Но было важно, что будет с ним. Да будет так 🙏🏻 GN💋👸🏼'}  -- \t -- ['🙏', '🙌', '🏻']\n",
      "{'text': 'Что я говорила? 😜🙈 на улице тоже прям такой новогодний морозец 👍🏻❄️ погнали на работу 😜'}  -- \t -- ['😃', '😂', '🍀']\n",
      "{'text': 'Ну и как тут не почувствовать себя счастливым? Любимые люди, любимая еда и любимое место!😌 #vsco #vscocam #vscogram #vscofood #vscogood #vscolove #vscomoscow #vscospb #vscorussia #food #foodporn #foodstagram #eatwith_hm'}  -- \t -- ['❤', '👶', '🎂']\n",
      "{'text': 'Здесь все, тара, самед, шиша, дюра, Лёва, Ольга Юрьевна и Леонид Кучук 🔝🔝🔝'}  -- \t -- ['👼', '🍀', '😂']\n",
      "{'text': 'Эх😍 нет ничего красивее таких пейзажей 🙈\\nИ холодрыга со снегом практически не омрачили нашу вылазку на природу на базу отдыха Зубово☺️\\nПо плану у нас была рыбалка 🎣 сразу скажу, я не фанат. Моя единственная рыбалка в своё время закончилась истерикой 😂 мне жалко рыбок🙈 ну собственно сегодня мы вышли, посмотрели как ребята забрасывают удочки и пошли гулять, оставили наших мужчин наедине с карпами, так сказать😂\\nТут все очень уютно 🏡 большая территория, домашняя еда \\U0001f958 и воздух😍 Лиська спит уже час после прогулки.\\nВечером пойдём ещё в баню и потом будем смотреть танцы на ТНТ 🙈😂 суббота же 😉\\n\\n______________\\nНу а кому интересно посмотреть больше фото, смотрите геолокацию или аккаунт  @zubovo_village_club🎣\\nЯ, кстати, давно уже при выборе отеля, будь то Тайланд или Подмосковье, помимо фоток на букинге, всегда вбиваю название отеля в геолокации и хэштеги в Инстаграм и смотрю реальные, живые фото ☺️ и если волнует какой-то вопрос, всегда можно написать человеку, который находится в этом отеле на данный момент ☺️ вот такой лайфхак вам☺️\\n#agolovinova_travel_отели'}  -- \t -- ['\\U0001f926', '\\U0001f937', '♀']\n",
      "{'text': 'Мне нужно твоё тепло 🙌🏻🙌🏻🙌🏻 @lenatemnikovaofficial ❤️💋 Песня #тепло 💣💣💣 как и ты сама! 😊💋👸🏼#даймнесвоётепло #Repost @lenatemnikovaofficial\\n・・・\\n#marymemafia  мы любим своих мужчин. И наш танец летит им 😇❤️ #ушлазамуж #🤘🏼🔥💃🏻#тепло'}  -- \t -- ['🤗', '❤', '🙏']\n",
      "{'text': 'как я скучала по этой поре активных электромагнитных излучений! 😅 #весна'}  -- \t -- ['😅', '☀', '🌴']\n",
      "{'text': 'Что творится с погодой? Вы бы меня сейчас видели, как из ведра окатило🙈😬\\nЗа фото спасибо @furaeva_tatyana 😘'}  -- \t -- ['🤗', '❤', '😂']\n",
      "{'text': 'Поздравляем невероятную Полину Гагарину @gagara1987 с выходом нового клипа на песню \"Обезоружена\" 😍#полинагагарина'}  -- \t -- ['\\U0001f937', '‼', '🏼']\n",
      "{'text': 'Windy Aegean - 5-7 Beaufort! Anyone out there been renting scooters recently? How much was it? We are renting a Kymco People S 50cm3 for 15€/day, wondering how that compares! // Очень ветрено (5-7 beaufort), хорошо что у нас в этом году более тяжелый скутер (Kymco People S) и нас не так сносит, как в прошлые года! В самый плохой год нам однажды пришлось оставить скутер с другой стороны острова и вернуться на автобусе, а ночью, когда ветер стих, съездить и привести его обратно! Кстати, кто по сколько и где берет скутеры? У нас обычно выходит где-то в 15€ в день за 50-80см3!'}  -- \t -- ['❤', '🇷', '☺']\n",
      "{'text': '#Repost @todesvavilova (via @repostapp)\\n・・・\\nСегодняшний день наши студийцы провели на благотворительных мастер классах \"Тодес\"‼️ Наши Монстры😈 (25 группа) зажигают в парке Горького🔥💪🏼#тодесвавилова #тодес  #благотворительность #танцы #танцуй #алладухова #павелволосов #студиятанца #вавилова #todes #todesvavilova #vavilova #park #moscow  #дети#детицветвжизни \\n#тодес #тодесвавилова #TODES #тодесмастеркласс #мастеркласс #вавиловасила'}  -- \t -- ['😉', '\\U0001f970', '❤']\n",
      "{'text': 'Абсолютный must-have сезона – пальто #MaxMaraTeddyBear😍 Карли Клосс одобряет👌🏻 PC: @maxmara\\n\\n#maxmara #karliekloss'}  -- \t -- ['😕', '😁', '👊']\n",
      "{'text': 'Всем добрый вечер👋🏽 22:00, я в зале😳 ✅час дорожка ✅5 кругов пресса ✅боевой настрой 😈👊🏼 Шла в зал без сил. И моральных, и физических. Включила дорожку, скорость 6, подъем 0, еле иду, в наушниках баста, настроение послать всё и всех, телефон глючит, жарко. Все раздражает. \\nМинутка осознания. \"Марго, соберись.\" Музыка повеселее и погромче, скорость на 7, подъем на 3. Рядом бегущий мужчина улыбнулся, с другой стороны бежит красивая девушка, что-то счастливо шепчет на аудио. А ведь все хорошо, ничего не случилось. Жизнь своим чередом. Начинаю кайфовать от музыки, подхватываю темп. в душе подъем, энергии уже столько, что  скорость 9, на лице улыбка, в душе счастье. спасибо зал ❤️'}  -- \t -- ['💕', '😝', '\\U0001f5a4']\n",
      "{'text': 'Ах как нереально снимает @irinaokuneva🔥Крутой купальник @kikiwear💜  #kikismuse #ekaterinakoba'}  -- \t -- ['😂', '😃', '🍀']\n",
      "{'text': 'Поднимаем бокалы за тех, кто уже отмечает Новый год🍸🍸🍸 #праздниккнамприходит#скороновыйгод#мальдивы#мужижена а у меня 🔝 компания 🔝🔝🔝ты, да я, да мы с тобой💏 мне большего не надо🙏 люблю тебя @tarasov23 ❤️'}  -- \t -- ['😊', '❤', '😍']\n",
      "{'text': 'Спасибо тебе за то, что именно так вместе со мной прожил эту песню#подзвукипоцелуев 💋 передал все эмоции по-своему...От каждого слова мурашки...Вас столько много талантливых исполнителей, простите, но я не могу оставить это без внимания 🙏🏻 Самые лучшие  буду выкладывать по выходным 😍😍😍 #Repost @slimzmusic\\n・・・\\nСпасибо за песню @buzova86 😍🔥 #cover #sing #голос #voices #voice #coversongs #russiansingers #musicalrussia #rutalant #best_talant #musically_rus #inst_mus #golos_tv #coverroom #musically_cover #ringt0n #кавер #rucover\\n#ольгабузова #бузова #подзвукипоцелуев #slimzcover'}  -- \t -- ['😝', '♀', '🏂']\n",
      "{'text': 'Пару дней назад посетила очень крутое мероприятие #ashtag 😍😍😍\\nТам познакомилась и увиделась со многими блогерами☺️\\nВ очередной раз покушала бургеры из #BlackStarBurgers💪\\nИ конечно же встретилась и пофоткалась с вами❣️\\nПоэтому ждите,совсем скоро будет новый VLOG\\U0001f98b'}  -- \t -- ['👍', '😍', '🇨']\n",
      "{'text': 'Давайте разберём способ заработка: ПЕРЕВОД с иностранного💰\\nСохраняйте!)\\n⠀⠀\\nПочему-то всем, кто знает иностранный язык, из способов заработка в голову приходит лишь его преподавать🙆🏼\\u200d♀\\n⠀⠀\\nНо лично я бы в эту нишу уже не лезла: курсов полно, чтоб переплюнуть мировую конкуренцию, даже прыгнуть выше головы недостаточно. А на репетиторстве далеко не уедешь, да и конкурировать с носителями или просто квалифицированными преподавателями можно разве что ценой, а низкая оплата труда - не наша цель, ведь так?)\\n⠀⠀\\nПоэтому кроме преподавания языка можно монетизировать его знание переводами😉\\n⠀⠀\\nМОИ ВАРИАНТЫ:\\n1⃣Сперва банальное: переводы текстов на заказ\\n⠀⠀\\n2⃣Оригинальнее и полезнее: перевод иностранных статей для российских интернет-журналов/сайтов\\n⠀⠀\\n3⃣Перевод иностранных курсов. Не секрет, что онлайн-образование там пока на уровень выше, чем у нас, так как начали они раньше, поэтому все приходит к нам через год-два. Можно поучаствовать в процессе: находить хорошие, но не очень популярные курсы (от тех же блогеров) и переводить их на русский язык для других блогеров/журналов или представлять курс от создателя в России, взяв оплату за перевод и % с продаж\\n⠀⠀\\n4⃣Помощь с анализом зарубежных конкурентов😊 Не раз встречала, что компании требуется перевести сайт, материалы, программы итд иностранных конкурентов. Если вы имеете знания в интернет или просто маркетинге, можно дополнить услугу перевода анализом и рекомендациями для компании)\\n⠀⠀\\nГДЕ ИСКАТЬ КЛИЕНТОВ:\\n✔Биржи фриланса: от «youdo» до «воркзиллы» и специализированных бирж для переводчиков\\n✔По знакомым. Расскажите всем, что занялись переводами, пусть они имеют вас в виду. Можно и целенаправлено попросить найти вам заказ за %, если у человека есть нужные связи\\n✔Самостоятельно писать журналам. Сделайте для них бесплатный перевод первой статьи, отредактируйте для публикации на их сайте и пришлите ее с коммерческим предложением. Главное - не лениться делать сперва бесплатно для презентации своих навыков\\nПРОДОЛЖЕНИЕ ПОСТА В КАРУСЕЛИ\\n⠀⠀\\nКак вам новая рубрика?\\nКакой способ разбираем следующим: заработок на помощи блоггерам или настойка создание курсов для компаний?🤗💰🙆🏼\\u200d♀\\n⠀⠀'}  -- \t -- ['\\U0001f926', '🏼', '♀']\n",
      "{'text': 'Пока я в раю, на моём канале на #youtube вышел документальный фильм.🤗Хочу поделиться с Вами этими моментами, #моилюди . Я так счастлива, что вы у меня есть ❤️ спасибо Женька @miron_partyvision , вы с командой так точно передали этот мой год🙏🏻😘 #partyvision 🎥 Подписывайтесь и принимайте участие в розыгрыше под последним постом у него 💸🎁 #документальныйфильм #БузоваЗаГод #partyvision #бузова32#эрабузовой#бузонатор 🚀 @buzova_team 🔝'}  -- \t -- ['✨', '🏼', '😈']\n",
      "{'text': 'В выходные папа меня отпускает по всяким девачковым делам 💁🏼 приехала в первый раз на лазерную эпиляцию. Сижу пью кофе и боюсь 😂 это больно? Кто делал? 😂😂😂 я так всегда, сначала решу что-то, а потом очковать начинаю 🙈😝 пысы. Эпиляция голени. Без интима😂'}  -- \t -- ['🏽', '🙈', '😍']\n",
      "{'text': 'А у нас очередной победитель конкурса \"Фото недели\"🎉🎉🎉@selebrica89! Ждем ваши кадры с текущим номером журнала и хэштэгами #lovecosmo #cosmoru #cosmopolitan_russia Не забывайте отмечать наш аккаунт @cosmopolitan_russia 😘'}  -- \t -- ['♥', '🎉', '😘']\n",
      "{'text': 'Сегодня из колонок настоящих меломанов должны доноситься звуки \"Yesterday\", \"Yellow Submarine\" или любой другой композиции знаменитого квартета, ведь именно 16 января по решению ЮНЕСКО отмечается Всемирный день \"The Beatles\"🎉!\\nВ настоящее время легендарная четверка занимает первое место в списке величайших исполнителей всех времен по версии журнала \"Rolling Stone\".'}  -- \t -- ['🏻', '🙏', '👸']\n",
      "{'text': 'Когда очень переживаешь за свою подругу и ревнуешь 😂🙈💁🏼♥️\\nЯ вот @galichida ревную ко всем, особенно к  @gan_13_ 😂 И кстати , второе видео у неё на страничке😏\\nОтмечай подруг, ставь ♥️ и пиши в комментариях «мне нравится» ! Да прибудет с вами животворящий Лайк! 🙌🏽😂\\n#настяивлеева #_agentgirl_ #подруги #отношения #вайн #смешно'}  -- \t -- ['😘', '❤', '🤗']\n",
      "{'text': 'А про победителя по жизни -я умудрилась заболеть😂😂😂 Вирус, видимо, нашла где-то)))) вчера под вечер горло разболелось так, что я говорить не могла😪 А сегодня из носа течет, как из ведра😪😪😪\\nИ как мне так удаётся😂😂\\nА ещё мне понравилась фишка туроператора #teztour 🤔 сначала они сказали, что страховка включена в наш пакет и мед.обслуживание - бесплатно, а сегодня оказалось, что чтобы активировать страховку, нужно оплатить 30€ 😅👌🏻\\n🤔Что-то в моих постах одни жалобы 😂🙈🙈🙈 Я обычно жизнерадостный человек🙈\\n🌸Еще спросили, если я кормлю здесь Давида грудью и как) Кормлю вообще спокойно везде и всегда) на обеде за столом кормила, сегодня вообще шла на горку с Димой и Давидом и кормила на ходу🙈 стараюсь аккуратненько, но особенно не шифруюсь))\\n#стужук_Турция'}  -- \t -- ['♀', '😂', '🙈']\n",
      "{'text': 'Кто ещё не видел мое новое видео?) Бегом на канал)'}  -- \t -- ['🐔', '🏻', '😂']\n",
      "{'text': 'Написалаааааа!  Спасибо огромное всем, кто желал удачи и переживал за меня, нереально приятно за все смс😩❤️\\nОднако удача меня немного подвела🙈, но, к счастью, мозги компенсировали 😂🙈вроде как)) вариант был про парниковый эффект, а текст про, внимание, влияние 😑страха😑 на развитие😑 личности😑😑😑😑 где моя природа, искусство и война?!?! Ну, ладно. Кто в теме, написала про Андрея Соколова, что поборол страх перед комендантом концлагеря Мюллером, не выпил за вражеское оружие. И про Рыбака и Соколова, что один поддался инстинкту самосохранения и предал Родину и товарища, а второй преодолел страх и достойно принял свою участь) \\nПозвонила классному, пересказала все Соч, сказал, что идеально. Но сложно было очень подстроить свою позицию под текст и аргументы, чтоб ничего не противоречило. Надеюсь, в логике нигде не снимут.🙏🏻 тестовая часть очень легкая, прям не знаю, где там можно ошибиться. Разве что в двух сомневаюсь: в номере 3 (кто как объяснил слово \"парниковый эффект\"?) и в номере с поиском предложения!!! Что за подстава??? Вот это реально их промах. \"Найдите предложение, связанное с предыд синонимами и лекс повтором\". Казалось бы, что может быть проще... Ага. 1 предложение: \"страх нужен\", второе \"страх необходим\", третье \"страх нужен\"...... Второе с первым или третье со вторым?😑 техническая ошибка, надеюсь, зачтут оба ответа, так как они абсолютно идентичны. Лотерея блин. 😕\\nА так все супер. Бегу ботать дальше параметр. И есть сырники 😂🙏🏻😍\\nУ кого как ощущения? Какой вариант, как Соч?) поговорите со мной🙏🏻🙏🏻💓\\n___\\nПро саму организацию: проверили оочень лояльно, скрепки на всякий случай сняла вчера)) но подошву вообще не смотрели, можно было хоть тлф положить. Кого-то забыли вообще осмотреть😂🙈\\nТуалеты закрывались прям на ключ, выходила раз 5, шпоры пригодились только аргументы,и то, без них тоже написала бы) писала часа 4,5. У меня щадящий режим, поэтому могу писать типа 5. Думала выйду раньше, но проверяла и переделывала все раз 10))'}  -- \t -- ['👋', '😂', '🏻']\n",
      "{'text': 'Привет от 60 невест из Пскова! #cosmobrides'}  -- \t -- ['🎼', '🎂', '\\U0001f937']\n",
      "{'text': '#КлавдияКока для @adidasrussia ! Представляю любимый спортивный бренд, мечты сбываются) Кроссы #PureBoostx и новая коллекция - вышка! Ищите в магазинах 🔥 Всем новых побед сегодня и хорошего настроения :) #YesAdidas #клавакока'}  -- \t -- ['✨', '💙', '💜']\n",
      "{'text': 'В конце апреля 2017 года Кайли Дженнер рассталась с репером Тайгой. За время отношений у пары появились совместные татуировки. И сейчас очень наблюдательные фанаты заметили, что тату в виде маленькой буквы t Кайли изменилась на «la». Похоже, Кайли избавляется от всего, что её связывает с бывшим бойфрендом. 😬 #kyliejenner'}  -- \t -- ['💍', '🏻', '❤']\n",
      "{'text': 'С днём рождения, Маришка @marina7273 🎉🎉🎉 в прошлом году пропустила твой др, в этом - реабилитируюсь🤗 люблю тебя ❤️ ты все знаешь 🤗 #кайф#наприроде#анамхорошо#люблюсвоихподруг#happy#love'}  -- \t -- ['🙏', '❤', '😂']\n",
      "{'text': 'Мы построили свою любовь ❤️❤️❤️'}  -- \t -- ['🎼', '\\U0001f937', '🎂']\n",
      "{'text': 'В Нью Йорке стартовал Модный Месяц - самое масштабное и долгожданное событие в мире моды. Каждый день отдел моды Cosmopolitan будет собирать для тебя самые интересные моменты с недель моды в Нью-Йорке, Лондоне, Милане и Париже. Смотри, изучай, делись своим мнением в комментариях 💫\\n⠀\\n1. Бэлла Хадид на показе Ralph Lauren\\n 2. Хэйли Бибер и Александр Вэнг на презентации коллаборации дизайнера с ювелирным домом Bvlgari\\n 3. Джиджи Хадид и Ирина Шейк в первом ряду показа Jeremy Scott\\n 4. Зендая презентовала свою третью коллекцию для Tommy Hilfiger\\n 5. Дочь Синди Кроуфорд Кайа Гербер открыла показ Longchamp'}  -- \t -- ['🙌', '😂', '🏻']\n",
      "{'text': '🍼 Почему не даёте своему ребёнку соску?\\n\\U0001f937🏻\\u200d♀️\\nКто со мной давно, тол знает, что Давиду тоже ни разу не давала. А так же знают, что я училась на консультанта по грудному вскармливанию (потом случилась #зб и я как-то забила и так и не сдавала экзамен\\U0001f937🏻\\u200d♀️).\\nТак вот🙌🏻 На самом деле, для меня...для того чтобы Не давать соску хватает лишь одного убеждения: это обман.\\n✋🏻Здесь я в очередной раз прервусь и напишу, что мне абсолютно все равно кто для себя какой путь выбирает, я пишу лишь о своих убеждениях относительно своего материнства и своих детей✋🏻\\n.\\n🤗Так вот! Это обман. Природой так задумано, что ребёнок должен сосать грудь. У него есть инстинкт и необходимость🙌🏻 Либо это необходимость в пище (сосание - добыча еды - получение молока), либо в связи, общении с мамой и успокоении. \\nДать ребёнку соску- обмануть его инстинкт. «Заменить» маму. \\nЯ считаю это неправильным.\\n👆🏻И это самая главная для меня причина Не давать соску, какими бы не были обстоятельства.\\n\\U0001f937🏻\\u200d♀️Но а так, если вы послушаете любых консультантов по гв, почитаете книги по гв, Вы везде найдёте инфомацию, почему соска - не есть хорошо.\\nПочитайте акев, Ла Лече Лигу, Ам Ам инфо, Нину Зайченко, Наталию Мовчан.\\nТам вы найдёте информацию ✔️и о путанице сосания\\n✔️ и о последствиях и проблемах с гв всвязи.\\nИ о разных других возможных последствиях.\\n.\\n☝🏻Да, это не абсолютно 100%. Это вероятность. Кто-то с соской и всё ок, а кто-то из-за неё потерял гв. Поэтому тут как повезёт\\U0001f937🏻\\u200d♀️\\nНо, как я уже сказала, мне хватает одной причины:)\\n.\\n🙈Стараюсь выживать😂'}  -- \t -- ['\\U0001f926', '\\U0001f937', '♀']\n",
      "{'text': '#Repost @ekaxenova Чем ещё заняться бьюти-директору в удалённом доступе? Конечно, рассказывать о косметике)\\nВот, например, сделала обзор моих бойцов особого назначения. 🚩Увлажняющая маска Payot - рабочая лошадка. Хорошо увлажняет и освежает. Наношу её после активных очищающих процедур или глиняных масок, чтобы не пересушить кожу.\\n🚩Маска-гель Payot - маст-хэв для тех, кто не успевает спать по ночам (привет, декрет!)) Гелевая охлаждающая текстура - то, что надо для уставшей кожи! За 10 минут реально улучшает цвет лица!\\n🚩Обновляющая маска-скраб La Mer. Полирует \"на ура\", удаляет загрязнения и омертвевшие частички. У меня после использования даже румянец появляется. Единственный минус, как и любой скраб, совсем не подходит для кожи с воспалениями, поэтому периодически откладываю её в дальний угол.\\n🚩Средство для отшелушивание ZO Medical. А вот и мой любимец. Моё идеальное оружие в борьбе с высыпаниями. Подсушивает, отшелушивает и обновляет кожу. Состав очень реактивный, поэтому я бы советовала перед использованием, проконсультироваться с косметологом.\\n🚩Увлажняющая маска Sampar. Я фанат патчей и тканевых масок. Они реально работают, если вдруг ещё не пробовали, настоятельно рекомендую. (У этой марки ещё крутой пилинг, но он у меня закончился ещё месяц назад, поэтому его нет на фото)\\n🚩Очищающая маска Dr. Jart + мое последнее открытие. Попробовала её, когда с кожей была прям беда-беда. И что вы думаете? Она с первого раза подсушила все воспаления! Бонусом ещё и кожа разгладилась и как будто слегка натянулась- этот эффект правда сохранился до первого умывания, но все равно приятно)  А у вас какие любимые маски/скрабы/пилинги? Не жадничайте, делитесь секретами) 🙊 #beautyeditorschoice #beautyroutine #skincare #skincareroutine #lamer #paoyt #drjart #sampar #zomedical'}  -- \t -- ['♀', '❤', '🏻']\n",
      "{'text': 'На этом фото присутствует немного волнения🙄😄\\nУкладка @viktoria.starichonok 💫\\nМакияж @skamaroshka_makeup ❤️'}  -- \t -- ['😂', '♥', '😳']\n",
      "{'text': 'Рецепт собы с креветками 🤗 той, что была у меня в контейнерах в понедельник ☺️я приготовила ее быстрее, чем монтировала это видео 😂😂😂\\nЗа вдохновение и свежайшие продукты спасибо сервису по доставке ужинов с авторскими рецептами @uzhin_doma 🍱  вторую неделю уже чувствую себя как минимум шеф-поваром 👨🏻\\u200d🍳 причём это конкретно пп ужин, тк калорийность на 100 гр 113 ккал 🤗\\n________________ \\nИтак, Вам понадобится (на 2 персоны)\\nКреветки 250 г\\nШиитаке 80 г\\nАпельсин\\nСоевый соус 15 мл\\nСоба (гречневая лапша) 150 г\\nКунжутное масло 5 мл\\nПерец красный 1 шт\\nЗелёный лук\\nЗубчик чеснока \\n____________\\nВ кипящую воду кладём  собу и солим☺️ Варим 5 минут. Откидываем на дуршлаг и промываем холодной водой. \\nДалее очищаем креветки от панциря. Рубим чеснок, режем перчик и шиитаке. На разогретой сковороде на капле масла поджариваем креветки с чесноком, 1-2 минутки. Потом добавляем грибы и перчик - и ещё 2-3 минуты. \\nПараллельно готовим соус. Пол-апельсина выжимаем в глубокую миску, половину режем. Добавляем соевый соус и кунжутное масло (оооочень вкусно с ним👍🏻), добавляем апельсин. И все это выливаем в лапшу с креветками ещё на пару минут. \\nПеред подачей посыпаем зелёным луком и я от себя добавила ещё семена льна. Последнее время все ими посыпаю 😂🙈\\nВот так вот☺️ получается обалдеть как вкусно 😍👍🏻\\nУффф😂 я это сделала 😂 пишите, кому понравился рецепт и не забывайте поставить 💖, а то столько времени это занимает ☺️ если интересно, буду продолжать ☺️ там ещё очень много рецептов 😍\\nСегодня вот были чикенболы с сыром и овощами гриль 😜 (фото в сторис)'}  -- \t -- ['♀', '😂', '\\U0001f926']\n",
      "{'text': 'Самые чудесные и любимые #АДУШКИНЫ 💞'}  -- \t -- ['♂', '🎂', '\\U0001f937']\n",
      "{'text': '10 ФАКТОВ О НАШИХ ОТНОШЕНИЯХ ❤️\\nᅠ\\nА 3 из них - ложные! Угадаете какие?😏\\nᅠ\\nВ самый романтичный день в году, решила рассказать вам чуть больше о наших отношениях и поделиться таким милым кадром от любимого фотографа @fukalova \\nᅠ\\n1.Мы познакомились в салоне красоты на педикюре\\n2.Для одного из нас предстоящий брак - не первый\\n3.У нас двойное гражданство\\n4.Послезавтра будет 2 года со дня нашего знакомства\\n5.Мы мечтаем переехать жить в Германию\\n6.90% моих фотографий в профиле делает Стас\\n7.Каждое утро он встаёт в 6:30, а я - не раньше 9 \\n8.Он постоянно разводит меня всякими шутками и приколами, а все время ведусь и чувствую подвоха\\n9.Вместе мы посетили 16 стран\\n10.Разница в возрасте у нас 10 лет\\nᅠ\\nЛюбите друг друга и заботьтесь всегда! Радуйте приятными мелочами и самыми искренними поступками. Для этого не нужен специальный день и отдельный праздник. Пусть в праздник превращается вся ваша жизнь \\U0001f92b😘\\nᅠ\\n#hm_просвадьбу'}  -- \t -- ['\\U0001f937', '😂', '🏻']\n",
      "{'text': 'Вот и встретились ❤️❤️❤️ Главный редактор журнала Cosmopolitan Полина Сохранова @sokhranova и Ханна @offi_hanna! Ждём номинации «Лучшее женское видео», победителя в которой объявит Полина 😊 #cosmoнапремиимузтв #премиямузтв'}  -- \t -- ['👏', '❤', '😍']\n",
      "{'text': '23часа15минут \\nМеньше суток остаётся до моего первого шоу “Принимай меня” в “Крокус Сити Холл”! 🙌🏻 Я готовила это шоу вместе со своей командой  около года 🙏🏻Больше трёх месяцев шли репетиции: и вокальные и хореографические 💃\\U0001f57a🏽🎤🎹 Костюмы, эскизы, сценография, тонны света и звука уже доставили Крокус и уже через считанные часы я наконец-то смогу показать, то что так давно задумала и готовила! \\nМосква. \\n18 ноября. \\n19:00. \\nКрокус Сити Холл. \\n#ПринимайМеня'}  -- \t -- ['🔥', '🤗', '🙌']\n",
      "{'text': 'Только что приземлились во Внуково, и с ужасом смотрю эти видео с катастрофы в Шереметьево 😭😭😭 Бедные люди! Как вообще такое возможно, что в 21 веке случается такое 😱 где пожарные машины????? Гдеее!!!!??????? Почему не тушат огонь??? Почему людям никто не помогал???? Что блять вообще происходит?!!!! Я надеюсь, что всем удалось спастись 🙏🏻 и как после этого спокойно садиться в самолёт? Мои соболезнования 🙏🏻😭😭😭 ком в горле 😔'}  -- \t -- ['🙏', '😂', '🏻']\n"
     ]
    },
    {
     "name": "stdout",
     "output_type": "stream",
     "text": [
      "{'text': 'Я честно говоря не знаю, кому-то вообще актуальна тема питания в разгар таких праздников?😂🙈 но я все же попробую. \\nПо моим сторисам, кто смотрит, уже поняли, что перед отпуском я решила немного подсбросить, и для этого на 2,5 недели перехожу немного на другую схему питания\\nБелково-углеводное чередование - сокращённо буч. Это уже не первый мой опыт, поэтому писать супер подробно не буду, лучше загуглить☺️ или ещё много писанины по тегу #agolovinova_буч ☺️\\nНу если очень кратко, то как и понятно из названия это чередование белковых и углеводных дней.\\nПочему именно так? Потому что пп я и так придерживаюсь. Уже больше полугода мы с мужем пользуемся сервисом по доставке готового питания @growfoodrus и все замечательно, но к сожалению буч меню у них пока нет 😉 поэтому на время вернусь к плите, там женщине и место😂\\nМой организм уже привычен к пп. А к чередованию нет☺️ на это и ставка - немного расшевелить и сдвинуться с плато по весу ☺️ надеюсь понятно объяснила ☺️\\nПо итогу. У меня сейчас два дня белковых - яйца, творог, рыба, индейка, грибы. День углеводный - овсянка, фрукты, овощи, крупы. День смешанный - когда и то, и другое ☺️ по граммам не высчитываю, просто соблюдаю примерный необходимый калораж ☺️ посмотрим что получится 😂\\nВ конце месяца у нас съемка новой коллекции, ну и Тай ещё 🤗 поэтому нужен пресс 😂\\nЕсли хотите более подробную информацию, пишите что именно ☺️ буду писать если интересно, а то на деле все просят-просят, а выкладываешь пост - и ни лайков, ни комментов 😂\\n______________\\nПс. На фото творог с корицей и ягодами, салат (руккола, тунец, овощи, заправка из соевого соуса, уксуса и льного масла), сёмга запечённая и овощи, индюшка и овощи. Все это примерно на 900 ккал 😉'}  -- \t -- ['♀', '❤', '♥']\n",
      "{'text': 'На мне моя новая рубашка  от @olgabuzova_design 💣она невероятно удобная и красивая! Как приятно получать кайф от того,что создаёшь сама. Рубашка в наличии, все размены ,вы уже можете её заказать🙂🙂🙂мы работаем в привычном режиме❤'}  -- \t -- ['🙈', '☺', '😂']\n",
      "{'text': 'Начинаем съёмки🎥 я в потрясающем костюме небесного цвета от @illbeback_official 💙💙💙'}  -- \t -- ['🎂', '🎼', '👩']\n",
      "{'text': 'A well-deserved Friday treat after a long-long week for both of us 🙌 Thank you @JuliusMeinlAustria for the helpful and knowledgeable lady who helped me put this plate together 💓 // Идеальное Инстаграм блюдо - пока ждешь полчаса пока сыр станет мягким и ароматным после холода, можно и фотографию сделать ☺️ Всем отличной пятницы и выходных 😽'}  -- \t -- ['☺', '❤', '😍']\n",
      "{'text': 'Сверкала сегодня за пультом в своём платье из пайеток от @olgabuzova_design 💃💃💃❤️ Омск, кто был сегодня со мной, отпишитесь! Хочу вас читать тут🙌🏻🙃🙏🏻 спасибо мои хорошие! Я счастлива 🙌🏻'}  -- \t -- ['😊', '😍', '❤']\n",
      "{'text': 'впереди солнечное затмение, держитесь подальше от стены с ружьем \\n#астрологговорит'}  -- \t -- ['😍', '♥', '🌪']\n",
      "{'text': 'Хочешь на закрытый мастер-класс Елены Крыгиной?😏\\nТвой сияющий взгляд должен это увидеть! Все, что тебе нужно сделать, это:\\n1. опубликовать cвое любое фото с макияжем в «Инстаграме» с хештегами #СекретМакияжа #AcuvueDefine #КрыгинаМастерКласс\\n2. поделиться \\xa0в комментариях секретами своего макияжа;\\n3. дождаться публикации еженедельного списка финалисток, выбранных Еленой Крыгиной и бьюти-редактором Cosmo, и найти в нем свое имя.\\nЖелаем удачи!❤️\\n#мастеркласс\\n#крыгина'}  -- \t -- ['🌹', '\\U0001f926', '❤']\n",
      "{'text': 'Если каждое утро ты будешь вставать с мыслью о том, что сегодня произойдет что-то хорошее, так обязательно и будет! #Cosmoутро'}  -- \t -- ['😅', '❤', '🙈']\n",
      "{'text': 'Женщины не молчат, они лишь перестают говорить вслух. 😂✌🏼\\nСпасибо ❤️ @alsou_a ❤️ за её новую песню ⭐️ НЕ МОЛЧИ ⭐️ 👉🏻которая вдохновила меня на это видео 😁👍🏻\\nСаша 👉🏻 @szolotovv \\nпрости за машину 😂 ✅Отмечай @alsou_a в комментариях ❤️\\n✅пиши 👍🏻НЕ МОЛЧИ 👍🏻по буквам 👉🏻что бы никто не перебил 😁\\n✅Посмотри видео \\n2.поставь лайк \\n3.сохрани видео \\n4. напиши комментарий под видео 🔥Хочу привет от Kross👉🏻 в сторис🔥\\nВыберу счастливчика и передам привет 👋 в сторис ⭐️ #немолчи #алсу #бмв #car #тачка #bmw #блондинка #брюнетка \\n#девочкитакиедевочки #дом2 #дом2новоти #blackstar #москва #егоркрид #бузова #musically #ольгабузова  #music'}  -- \t -- ['✅', '👋', '🏻']\n",
      "{'text': '🎇 Новогодняя Ночь в роскошном отеле с видом на Кремль! ⠀\\n🎄Люксовый отель @stregismoscownikolskaya приглашает провести новогоднюю ночь в изысканном зале Руфтоп, откуда открывается панорамный вид на Кремль! ⠀\\n🎁 Эксклюзивное меню от шеф-повара, зажигательная программа, новогодняя лотерея и призы.\\n⠀\\n📞 Билеты по телефону 8 968 022 97 30 📞'}  -- \t -- ['😍', '😘', '❤']\n",
      "{'text': 'Мы как всегда уже потренили))))'}  -- \t -- ['🙏', '❤', '🏻']\n",
      "{'text': 'Апрель🚀 Мои дорогие, я знаю, что Вы все ждёте моего большого тура #2018 с шоу #подзвукипоцелуев💋 в своих городах!!!\\nЯ очень хорошо отдохнула 🏝набралась сил 💪🏼 и готова к работе по полной.\\nПубликую график на ближайшие месяца и обязательно жду Вас всех на своих концертах 💃🏿\\U0001f57a🏽\\nМай-июнь-июль выложу чуть позже, он ещё доформировывается, август - тур по черноморскому побережью, а осень😄 🍂...\\nНа осень я готовлю кое-что новое🤗\\nНо это будет сюрприз!!!!!!! \\U0001f92b\\n#моилюдивсегдасомной #тур2018 #концерты #гастроли\\nP.S. по всем вопросам концертов, гастролей обращаться к моему директору @archer_music или по телефону в шапке моего профиля 📲\\nБилеты на все мои концерты, приобрести можно на сайте www.biletclub.com \\nЖду с нетерпением встречи с Вами мои любимые 😘\\n#концерты #гастроли #погородам #ольгабузова #тур#подзвукипоцелуев'}  -- \t -- ['🤗', '💃', '📲']\n",
      "{'text': 'Уже засыпала, но в голове сам родился пост) люблю когда так по вдохновению 😌\\n\\nВы часто спрашиваете,кто сколько весит ,какой рост итд. Но,я думаю, уже абсолютно все заметили,что с одним и тем же соотношением роста и веса  люди выглядят совершенно по-разному 😁 и дело тут не только в весе костей и кол-ве мышц,но и в генетической предрасположенности. Все мы можем похудеть, потолстеть, накачаться, но никто не может изменить форму скелета,которая и является основой нашей фигуры. Кому-то природа дала изначально идеальные данные, а кому-то нужно самим работать для того,чтоб хорошо выглядеть. Нужно найти свои плюсы, не смотря на чужие талии, и на них работать. Устранять СВОИ минусы. И поверьте, вес - полная чушь и 10ое дело в фигуре. Когда вы себе будете нравиться - он вас вообще не будет волновать, хоть 100кг весы покажут,ну плевать. А вот если вы себе не нравитесь, то какой бы \"идеальный\" вес не был, надо меняться. И не стоит ныть, что,мол,кому-то везет, а мне работать, отказывать себе. Не жалейте себя) фигура - далеко не самое важное, чем могла одарить вас природа) значит вам дано что-то другое,что куда более ценнее, не забывайте это и никогда не жалуйтесь на природу) никто не обделён, просто не все видят её подарки или просто не используют их) поэтому найти свою изюминку старайтесь как можно раньше и играйте на ней)она у вас точно есть) \\nНо сейчас все же о фигуре. Для меня она безумно важна, вы знаете это) мне нравится эта эстетическая красота, мне не достаточно быть просто не толстой. Мне нужно чтоб идеально везде и всегда будет все равно хотеть что-то доправить,поэтому я уверена,что пп и спорт на долго в моей жизни) Да, типа живём не для этого, главное - душа и блаблабла. 👇🏾👇🏾👇🏾'}  -- \t -- ['\\U0001f926', '😂', '🏻']\n",
      "{'text': 'Блейк Лайвли и Райан Рейнольдс вышли в свет вместе на вечере Time 100 Gala. 😍 #blakelively'}  -- \t -- ['⭐', '🎂', '🎉']\n",
      "{'text': 'Расширяю горизонты🌍🌍🌍 и целого мира мало. Мало Половин. Скоро. Новое звучание. Новый sound. Хотите? \\U0001f924\\U0001f924\\U0001f924 @roman_bestseller завтра продолжим, да? 🙈🎤😝#notenoughforme'}  -- \t -- ['🏼', '😊', '🏻']\n",
      "{'text': 'Tonight we have Dom Perignon dinner🍸🍸🍸В Москве, всегда слежу за питанием, но в отпуске позволяю себе расслабится! Могу съесть после ужина десерт, выпить шаманское, и даже на завтрак позволяю себе круасаны...они такие вкусные👌 Кстати, перед отпуском запаслась шикарной бижутерией из наших магазинов Bijoux Room. Теперь каждый вечер чувствую себя принцессой👸 @lublu_bijouxroom ##сережкибижурум#люблюбижурум#люблювкуснопоесть#сколькоможножрать#хотелапохудетьанаобороттолстею😂😂😂'}  -- \t -- ['😊', '😭', '🙏']\n",
      "{'text': 'Девочки , заходите в гости на страничку к @_e.volodina_ ⬅️\\nКатюша недавно презентовала 🎁 свою коллекцию . Я думаю , что вы не останетесь равнодушными . Я бы скупила всё😁😍\\nСерёжки , кстати , тоже её рук дело 😜🙌🏼'}  -- \t -- ['👌', '👏', '🍩']\n",
      "{'text': \"Pretty much my every day during holiday season 😂🙈💫🎀 Can't get enough of family Christmas time 😍 // Самые замечательные 2-3 недели в году 😻\"}  -- \t -- ['🎼', '🎂', '\\U0001f937']\n",
      "{'text': 'Вот вам фото в максимально одетом виде 😂 так я видимо снова автоматически становлюсь нормальной приличной матерью😝\\U0001f926🏼\\u200d♀️ Лиськин комбез отсюда, для тех кто спрашивал ☺👉🏻 @otidoshop_for_kids \\n_____________\\nВообще, касательно, ситуации с предыдущим фото и сколько 💩 повылазило из некоторых. Я скажу так, пока я молода и хорошо выгляжу, у меня будут такие фото. Не важно сколько у меня детей. Я всю свою сознательную жизнь пашу, чтобы побороть генетику и выглядеть так, чтобы самой себе нравится в зеркале. Так что уж простите. Отпишитесь на всякий случай, а то вдруг опять что-то непотребное выложу 😂😂😂\\nи интересно, каким образом фото в купальнике повлияет на мои качества как мамы? То есть по вашему женщина, у которой нет фотографий в купальнике или селфи в зеркале, автоматически становится лучшей матерью и женой? \\U0001f926🏼\\u200d♀️ как фигура, наличие/отсутствие жопы или подписчиков в Инстаграм влияет на то, какая ты мама, какое право вы имеете, чтобы говорить, чтл млему ребёнку не повезло с родителями? \\U0001f926\\u200d♀️😂 а муж у меня уверенный в себе мужчина. Всегда был. Что меня и привлекло изначально. Поэтому не утруждайтесь со своими интеллектуальными комментами, чс у меня открыт для всех желающих 😂😝\\n______________\\nНу а всем новеньким, а вас за последние пару дней больше 5000 человек, привет и добро пожаловать в наш с Лиськом Мир \\U0001f98a🙌🏻 давайте знакомиться ☺\\nЯ Настя☺ мне 30 лет, и я мама дочи Алиси уже год и месяц (ну и ещё 9 месяцев не считаются😂). Я родом из Новокузнецка, это Сибирь😜 но более 13 лет живу в Москве, из них 5 лет с мужем☺ у нас свой бизнес и свой запатентованный бренд одежды, в который мы вкладываем всю душу и силы☺ 2 котика-обормотика 🐱🐱 и куча планов на будущее и амбиций🙈😃как-то так ☺\\nТеперь ваша очередь 😜👋🏻'}  -- \t -- ['\\U0001f926', '\\U0001f937', '♀']\n",
      "{'text': 'Решилась! Буду писать свою книгу, и даже не одну😍🔥\\n⠀\\nСтрашно писать этот пост, потому что после него обратно дороги не будет)\\nКак все произошло: недавно я взяла себе ментора по инстаграму: Аню Рейру. С ней мы вырастили мой блог на 300к подписчиков за 1,5 месяца, начали общаться ближе и тут, в один день Аня говорит:\\n-Марго, ты вроде хотела написать свою книгу. У моего редактора осталось пара мест на издание книг с блогером, она самая крутая в этой сфере\\n⠀\\nАаа!😍 Помните, в моих новогодних целях было «написать свою книгу»?😍\\nЭта цель была для меня самой далекой и непонятной. И тут всё так складывается\\n⠀\\nПока совсем не верится, что в магазинах, на литресе итд уже через полгода будет книга от Марго Савчук\\n⠀\\nПо шагам, что было:\\n1⃣Мы созвонились с редактором. Она работает в издательстве Иллион (с ними писали свои книги Солодар, Новосад, Любарская, Левчук итд). Познакомились, понравились друг другу\\n2⃣Начали обсуждать концепцию книги и случайно придумали, что нужна серия из 3 книг🙈😂\\n3⃣Дальше был договор. Папа помогал, наняли крутых юристов, меняли договор раз 5, в итоге он безупречный\\n⠀\\nСегодня договор согласован, и начинается одно из интересных путешествий в моей жизни. Я так рада. Я всегда знала, что напишу книгу. И я сделаю всё, чтоб моя книга меняла жизни😌\\n⠀\\nА пока, интересные ФАКТЫ о написании книг, которые я узнала:\\n⠀\\n✔Книгу может написать абсолютно любой человек. Любой профессии (или без), возраста и на любую тему\\n⠀\\n✔Книгу можно писать самостоятельно или с издательством. В первом случае автор делает всё сам, несёт риски и расходы на себе\\n⠀\\n✔Заработок со своей книги: если человек пишет с издательством, он заключает договор, тогда доходы делятся между автором и издательством. Сейчас будет шок, но обычно автор получает до 10-12% с книги. Но мы договорились до 50% :) Потому что у меня есть своя аудитория и успешные проекты – это влияет\\n⠀\\n✔Книги пишутся не для заработка, а для личного бренда и узнаваемости автора, движении его темы в люди\\n⠀\\n✔На российском рынке книга считается бестселлером после 10.000 продаж) На Западе с 100.000 продаж\\n⠀\\nА теперь вопрос: отгадайте, на какие темы будут мои 3 книги? Кто меня хорошо знает?) И кто разделяет мою радость со мной?☺'}  -- \t -- ['❤', '\\U0001f926', '😂']\n",
      "{'text': 'Сегодня в нашей редакции прошёл #cosmolive с певицей и телеведущей Анной Седоковой @annasedokova 🌺\\nКого бы ты хотела, чтобы мы пригласили\\nв следующий раз?)\\n#прямойэфир\\n#аннаседокова'}  -- \t -- ['❤', '✨', '🔝']\n"
     ]
    },
    {
     "name": "stdout",
     "output_type": "stream",
     "text": [
      "{'text': 'В общем, самое главное перевезли 😂 я не я без капучино с утра☕️\\nZyuzino district хэллоу 😜\\nСегодня ночуем на новой квартире🙈 на надувном матрасе перед камином ✨ романтика 😂 муж говорит купим шампусик, закажем пиццу 😜 а ещё сейчас едем в магазин по мелочи и за пеной для ванной ☁️ кто не в курсе, в старой квартире у нас душевая и про то как мы там купаемся с Лиськой - лучше не говорить 🙈 поэтому вечером мы в первый торжественный заплыв с уточками и свинкой пеппой 😂\\nВот такие грандиозные планы ☺️ может в эфир выйдем. А может и нет \\U0001f937🏼\\u200d♀️😂\\nИ вечером планирую пост про реснички и уход за лицом 🤗😜 так что ждите 😜 и не грустите, лето когда-нибудь будет 🙈😂 но это не точно 😂'}  -- \t -- ['\\U0001f937', '♀', '😂']\n",
      "{'text': 'Приехала и сразу гол 🔝👏👏👏 переживаю🙏'}  -- \t -- ['❤', '\\U0001f926', '🏻']\n",
      "{'text': 'Мы вчера целый день прокатались по делам, закупкам тканей и тд. Последние выходные до нового года мы провели, блин, как обычно 😂🙈 за подарками судя по всему поедем на неделе. Как в принципе и всегда 😂😂😂\\nВот сегодня папочка отпустил меня по моим делам 💆🏼 еду красится, приводить в порядок ручки - ножки перед праздниками ☺☺☺ надо же красивой быть на Новый год 😜\\n______________\\nМы едем отмечать загород с компанией. И вот я задаюсь вопросом, как это вообще пройдёт. Потому как Алиска у нас одна не спит. Точнее она привыкла спать, хотя бы одну лапку на меня. Так ей спокойнее ☺муж, конечно, надеется уложить её в отдельной комнате с радионяней. Но не знаю-не знаю 😂😂😂 А хочется погулять, конечно 🎉🍾\\U0001f942\\n_______________\\nА ещё вопрос😉 как ваши мелкие к фейерверкам относились??? Интересно? Или пугались. Думаю брать или нет. \\nПс. Пока буду в салоне, напишу отзыв про отель, в котором мы были 😜 я все помню, девочки 😘'}  -- \t -- ['🏼', '❤', '🏻']\n",
      "{'text': 'снова у нас лавочные посиделки под живую музыку'}  -- \t -- ['📷', '🎼', '🎂']\n",
      "{'text': 'Узнали купальник на @chiaraferragni ? Мы - да, ведь это #calzedonia, который вы совсем скоро увидите в новом номере #Cosmo'}  -- \t -- ['🐰', '😂', '🌺']\n",
      "{'text': \"Мне тут напомнили, что я забыла вторую часть рассказа про диастаз 🙈каюсь и исправляюсь☺ первая часть по тегу #agolovinova_диастаз там о том, что это такое и как диагностировать. \\n______________\\nИтак. Что делать если Вы обнаружили его 🙈😱 не паниковать во-первых 😂 все решаемо. Диастаз первой степени 'убирается' тренировками и специальными дыхательными упражнениями. Это тот, что до 3-5 см. Диастаз 3 степени (больше 10 см) , к сожалению, убирается уже только хирургически. \\nОставлять его без внимания в любом случае не стоит. Во-первых, это и эстетически не даст Вам покоя, животик будет как будто Вы беременны 🙈, и физиологически - неправильная осанка, проблемы с пищеварением, можно ещё и грыжу схлопотать. \\nВ общем, если диастаз небольшой, как был у меня, то первое, что нужно делать - это втягивать живот (но не надувать!!!). Собственно это упражнение можно делать везде и в любое время. Просто напрягать прямую мышцу живота.\\n\\nНасчёт вакуума при диастазе - я делала, но мне было совершенно комфортно, но к слову, я тогда ещё только училась, и у меня он был не такой амплитудный как сейчас. Поэтому тут по ощущениям своим ориентируйтесь. Главное не навредить. \\nЧего точно делать не стоит, это качать пресс. Скручивание и поднимание ног 🙅🏼 так как при всём этом живот надувается. Нельзя. \\nЯ носила бандаж после родов, а тренировалась только в жестком поясе. И красиво как будто и не рожала 😂, и органы держит. \\nВ целом упражнения должны быть направлены на растяжение и укрепление прямой мышцы живота. Хорош в этом случае пилатес. Но я, например, не любитель ☺\\n\\nНу и по талии. У меня с ней все не так круто как на фото 😂😂😂 я умею грамотно скрутиться и втянуть живот 😂😂😂 и ещё делать при этом типа беззаботное лицо 😂 талия у меня 67 см. Хочу меньше на 2 см 😂 вот так вот. \\nВ сторис сейчас покидаю на эту тему картинки с инета. Заодно скину картинки по 'диагностике' диастаза, а то в прошлый раз было много вопросов. \\nНадеюсь было полезно☺ и вы на забудете поставить лайк 😜♥️\"}  -- \t -- ['\\U0001f926', '🏻', '😂']\n",
      "{'text': 'Не знаю как вам, но для меня #instagram открыл огромное количество замечательных и невероятно талантливых людей. Вот и Юленька не стала исключением! 💚\\nСпасибо за фото @yuliadvornikovaa \\n#vsco #vscocam #vscogram #vscogood #vscostreet #vscomoscow #vscorussia #инстаграмнедели'}  -- \t -- ['🙏', '🏻', '❤']\n",
      "{'text': 'Мои девочки 😻😻😻 все на месте 🙈😜 вы делаете сегодня меня счастливой ❤️🙏🏻 Вы приехали - и я наконец улыбаюсь. Спасибо вам за это 😌 Спасибо Вам, за то, что вы у меня есть 🙏🏻🙏🏻🙏🏻 Мое богатство 🙌🏻 @annabuzova @olya.des @akryyana @marina7273 @marshevskaya 😎🔜🐾🐾🐾 #держисьМадрид#люблюсвоихподруг#мытакиеразные#новсеравномывместе'}  -- \t -- ['🏻', '😍', '❤']\n",
      "{'text': '*здесь мог быть ваш заголовок*'}  -- \t -- ['😃', '❤', '🙏']\n",
      "{'text': 'Не знаю почему на меня вдруг нахлынули такие мысли, но в последнее время я стала задумываться о том, как долго люди будут строить свою жизнь на социальных сетях, со своей вымышленной виртуальной жизнью, вымышленными друзьями и придуманными поклонниками? Беда в том, что все мы видим картинки красивой, даже, пожалуй, идеальной жизни блоггеров и знаменитостей - путешествия по миру, дорогие рестораны, модная одежда и вообще все такие лёгкие, воздушные, жизнь прекрасна и удивительна. Только так ли это на самом деле? Далеко не всегда. Мы сами создаём себе кумиров, стараемся кому-то подражать, быть похожими и тем самым теряем себя и собственную уникальность. Я знаю многих ребят, у которые самоцель привлечь в свой аккаунт 2-3 тысячи подписчиков и поставить гордо в био заветное слово \"блоггер\". Конечно, ведь это ключ к успеху, однозначно 👌🏻 Наверное, многие прочитав это пост скажут \"фууу...зачем писать об этом, если ты сама точно такая же?\". Возможно и такая. Жизнь в сети затягивает, приводит к тому, что люди с обожанием или презрением относятся к плодам твоего труда, завидуют или наоборот жалеют мол \"что ты ещё можешь, кроме как на камеру улыбаться или бокальчик с винишком фотографировать\". Только все чаще и чаще на это становится абсолютно плевать. Потому что есть другая жизнь, за пределами сети. Жизнь о которой не хочется никому рассказывать и люди, отношениями с которыми не станешь делиться со всем виртуальным миром. Ведь это только твоё, важное и личное!\\nРебята, будьте проще, делите на 2,3,5,10...да на сколько угодно все, что видите на просторах Интернета и живите своей жизнью. Нет оправдания \"мне не стать таким же успешным потому что...\".Это все полный бред и дешёвые отмазки. Человеку не нужна чужая жизнь и не нужно быть похожим на кого-то. Наслаждайтесь тем, что имеете и стремитесь к тому, чего хотите именно ВЫ!\\nPh: @dmelkumova\\nMua & hair: @krujeva\\nDress: @kristal_dress\\n.\\n.\\n#vsco #vscocam #vscocamphotos #vscogood #vscogram #vscoholiday #vscotravel #vscosea #vsconature #vscorussia  #travel #travelgram #naturearussia #russiaislove #russsiaphoto #moscow_life #naturelovers #vscomoscow #fallinlove #инстаграмнедели #flowerstagram #flowers #flowerbox'}  -- \t -- ['😃', '🏻', '😂']\n",
      "{'text': 'Немного о том, \"кто Вас все время фоткает\"))\\nВ основном - мой телефон благодаря чехлу, который липнет везде🙈🙈 Уже два месяца им пользуемся вдвоём с Димой😌\\nЗаказывали тут @gravitycase.in.ua 😉👌🏻\\n🎧Трек - Rag\\'n\\' bone man - Human - я в неё влюблена уже две недели🙈😍'}  -- \t -- ['❤', '😂', '😍']\n",
      "{'text': \"#repost @lenatemnikovaofficial \\nЗакрытый гала-ужин любимых друзей группы L'Oreal в России. Жорж Шишманов, генеральный секретарь L'Oreal Россия, Полина Сохранова @sokhranova главный редактор Cosmopolitan и Лена Темникова ❤️ @lorealparisofficial @lorealparisrussia\"}  -- \t -- ['😉', '😱', '🤔']\n",
      "{'text': 'Господа🤗 Новый влог уже на канале «Настя Ивлеева»💥🔥Переходи по ссылке в шапке 👆🏽👆🏽👆🏽 В выпуске вы увидите нового парня Иды Галич @galichida , новую рубрику с Любарской @lyubarskaya , Толяна @besstyzhiy  и многое другое😽 Приятного просмотра💋 Пишите в коментах чё как и обязательно подписывайтесь на Канал♥️\\U0001f919🏽 #настяивлеева #влог'}  -- \t -- ['🙈', '🤗', '🎃']\n",
      "{'text': 'ОЦЕНИТЕ ПО ШКАЛЕ \\u202aОТ 1 ДО 10\\u202c...\\nᅠ\\n...Насколько вы бы сейчас хотели оказаться в таком сказочном месте, посмотрев на эту фотографию? Наверное 8 или 10, не меньше? \\nᅠ\\nПару дней назад, прилетев из путешествия, я посмотрела ролик, от которого слезы предательски потекли по щекам. Он тронул меня до глубины души, потому что это история близка мне, как и многим людям, кто переезжал когда-либо и покинул родной город...🙏🏻\\nᅠ\\nПересмотрев несколько раз такое доброе видео, я поняла, что вскоре обязательно полечу в родной и любимый город...✈️\\nЭксперимент от Utair позволил переосмыслить мне множество моментов и прийти к единому мнению: куда бы я не отправилась, какие бы красивые места я не увидела, все равно всегда буду тянуться туда, откуда началась моя жизнь.\\nᅠ\\nВидео эксперимента можно посмотреть в карусели или перейти по ссылке в профиле!\\nᅠ\\n#travelwith_hm'}  -- \t -- ['😂', '❤', '🏻']\n",
      "{'text': '❗️LIKE TIME❗️\\nᅠ\\nА как на счёт активного #liketime ? Давайте порадуем друг друга 🙏🏻\\nᅠ\\nПравила как всегда простые:\\n🔸быть подписанным на меня\\n🔸ставим ❤ на мои последние 5 постов\\n🔸 в комментариях пишем «Хочу лайки»\\n🔸 заходим к предыдущим комментаторам и лайкаем их посты (будьте честными 🙏🏻)\\n🔸 ждём дождь из ❤️ у себя на страничке\\n🔸я тоже буду вас комментировать и лайкать 😘\\nᅠ\\nКомментарии можно оставлять неограниченное количество раз и даже приглашать друзей 😘\\nᅠ\\nВсем удачи и чудесного дня ❣️'}  -- \t -- ['☺', '🙈', '😂']\n",
      "{'text': 'Работа в @todes_bulgaria идёт полным ходом 😎🤗😀😜сегодня, в преддверие отчётного концерта, @kamillavakhaeva делится свои опытом работы на сцене 😎 #тодес #тодесболгария #лагерьтодес #лагерьтодесболгария #АллаДухова #todes #todescamp #todesdancecamp #todesbulgaria #todesBLG #todesBLG2016 #todesfamily #family #dance #summertime #camp2016 #todes_world #todes_official #summerjam'}  -- \t -- ['🏽', '🏼', '❤']\n",
      "{'text': 'За окном какашка, а у нас в студии начинается сезон фитнес бикини 💎💎💎и я так понимаю надолго, в связи с любительской Олимпией 😂😂😂 так что килограммы клея страз и пушапа нам в помощь 😆 кстати, в этом сезоне начинаем еще и боди фитнес купальники делать✌️'}  -- \t -- ['❤', '🎁', '📹']\n",
      "{'text': 'Меня сложно заставить слушать лирику , но у тебя получилось ....🙏🏻🔥\\nНовый трек @dava_m 👉🏻\\n🎶DAVA -КИСЛОРОД🎶\\nЭто действительно музыка 🎵 от всего сердца ❤️проникающая,прямо в душу \\U0001f97a\\nПотрясающая работа👉🏻 🔥 @keamsound 🔥 ✅ Переведу 2000 р за лучший комментарий ❤️🙏🏻\\n✅Посмотри видео \\n2.поставь лайк \\n3.сохрани видео \\n4. напиши комментарий под видео \\n#музыка #музыка2018 #tiktok #musically #dance #dancer #танец #танцы #дом2 #новости #искусство #душа #любовь #вокал #голос #блондинка #moda #moda2018 #love'}  -- \t -- ['🙊', '🏻', '❤']\n",
      "{'text': 'Последние дни были очень насыщенные✨\\nЯ побывала на целых ДВУХ мероприятиях для блогеров💓\\nПервое-это,конечно же,ежегодный VideoPeople❤️❤️❤️\\nА второе-VidFest,на котором в качестве блогера я побывала впервые🤘🏻\\nСпасибо всем,кто подходил фотографироваться со мной💞 А кто не успел-не расстраивайтесь,скоро ещё встретимся😱❤️'}  -- \t -- ['🏛', '☺', '😋']\n"
     ]
    },
    {
     "name": "stdout",
     "output_type": "stream",
     "text": [
      "{'text': 'Можно ещё эту загружу😈😊😹\\n___\\nОбещала подсказать, что лучше учить к ЕГЭ и дек.соч ЛЕТОМ🌲 П.с. Сразу говорю, исхожу из своих предметов: Русский,Матем профиль и база, англ, обществознание.\\n\\n1️⃣англ! Вот на него потратьте лето. Это тот предмет, на который не нужно много сил, а нужна только практика и время. \\nДелайте чтение из Решу ЕГЭ, у кого много амбиций и кто хочет сдать идеально - по 2 полных чтения в день. Выписывайте все неизвестные слова на карточки, учите. Как это делать подробнее в тэге, фотка с карточками.\\nСмотрите сериал на англ с англ(!) субтирами. В Директ могу кинуть ссылку на идеальный сайт. \\nСкачайте uk radios ,слушайте, практикуйте аудирование таким образом. + в конце практически каждого учебника (но я учила по Кузнецовой grammar&vocabulary) есть таблица со словообразованием. Постарайтесь выучить её за лето. На самом деле на ней держится 70%егэ по англ. Если будете знать все эти слова и из однокоренные, то все сдадите просто прекрасно) \\n2️⃣Русский. Тут летом я бы посоветовала выучить словарные слова (список конкретный скину позже,когда соберу все материалы), задание номер 7,10,11. Читайте теорию (я,конечно,советую сборник своего учителя и репетитора - Субботина Д.И.), на решу ЕГЭ делайте все упр по этим заданиям. Ещё можно паронимы поучить. \\n3️⃣декабрьское сочинение. Будет все подробно ближайшие недели, скину и список книг и разборы. Но пока кратко: облегчите себе жизнь и прочитайте \"Мартина Идена\", \"Обломова\", \"Капитанскую дочку\" и рассказы А.П.Чехова. Это, как говорит мой учитель, Библия ЕГЭ и сочинения) практически к любой проблеме приводятся как нечего делать. Подробно потом,пока читайте\\n4️⃣Матем. Формулы) просто учите все формулы, особенно тригонометрию. Разберитесь с триг кругом: где какие точки находятся. Порешайте 1,2 задание. Все остальное я бы советовала уже учить в теч года, времени вам хватит, поверьте\\n5️⃣обществознание. Читайте книги)  в теч года на него тоже хватит времени,если систематично заниматься) \\nИтог: не загоняйте себя летом. Загонять будете в теч года. Но учите англ каждый день, хотя бы смотрите на англ фильмы/сериалы и учите из них слова) это даст вам возможность в течение года не тратить на него уйму времени'}  -- \t -- ['👋', '😂', '❤']\n",
      "{'text': 'Прекрасная пара Блейк Лайвли и \\nРайан Рейнольдс на свидании в Нью-Йорке😍 Актер специально прилетел к жене, чтобы поддержать её в промотуре нового фильма «Вижу лишь тебя».\\nНапомним, что Райан и Блейк поженились в 2012 году и воспитывают двоих дочек - Джейс и Инес.✨\\n#blakelively\\n#ryanreynolds'}  -- \t -- ['👆', '🏛', '❤']\n",
      "{'text': 'Кто ходит на шоппинг по утрам, то поступает мудро 🎀😜😘 моей любимой @annabuzova купили много красоты сегодня 👛👠👟 #девочкитакиедевочки#люблюсестру#мыстобойоднойкрови'}  -- \t -- ['🔝', '🙏', '❤']\n",
      "{'text': '– Мне что-то попало в глаз.\\n– Плохо дело. В левый или в правый?\\n– Сейчас соображу. «Господи,– подумал я, где она была все годы, чтобы отозваться на такой банальный трюк?» Я наклонился, чтобы всмотреться в ее глаза, которые были в десяти дюймах от меня, а она всмотрелась в мои.\\n– Я вижу,– сказала она.\\n– Да? Что же это?\\n– Я. В обоих глазах. И вытащить меня нельзя. ♾'}  -- \t -- ['☺', '🙏', '🙈']\n",
      "{'text': 'Сюда иди! 😎 Кто угадает, что снимаем, получит лайк \\U0001f5a4👇🏻'}  -- \t -- ['🎶', '🏻', '😳']\n",
      "{'text': '🙈Помню, беременной думала, что сильно наряжать сына не буду, что это всё нужно родителям, а не малышу🙈 Но всё же не сдерживаюсь))) Сейчас столько всего классного для деток😍 Даже круче, чем для взрослых!)) И они в этом всем такие милые❤️❤️❤️'}  -- \t -- ['✨', '😻', '😍']\n",
      "{'text': 'Давайте пока жду завтрак загружу что-нибудь полезное: \\nКАРДИО🏂⛹🏽🚴🏼\\nДля новичков! кардио - это аэробная активность, то есть где мы много двигаемся, ускоряя пульс, что способст жиросжиганию.\\nВарианты кардио: 🏃быстрая ходьба/бег\\n🏃эллипс 🏃скакалка\\n🏃велосипед (признаю только настоящий)\\n\\nИтак, кардио сжигает жир, уменьшает мышцы (В какой-то степени), поэтому занимаясь кардио вы похудеете, однако красивые формы вряд ли добьетесь,тут всё же нужны веса. Я кардио вообще расцениваю как дополнение.\\n\\nВРЕМЯ КАРДИО⏰⌛️. Если не натощак:\\nПервые 15-25 минут сжигается глюкоза из крови\\n25-60 сжигание жир\\n60 и более - сжигание мышц\\nЕсли натощак/после трени : \\nОрганизм сразу начинает с фазы сжигания жира, так как глюкоза истощена после сна/трени\\n\\nПИТАНИЕ ДО И ПОСЛЕ КАРДИО🍝🍳🍖🍗 За час лучше поесть сложные углеводы (если первая половина дня), и после сразу белок для сохранения мышц. То,что жир перестанет сжигаться ,если вы покушаете сразу,а не через час - миф. Насилие над организмом)\\nУ кого есть бсаа - 3г до, 2-3 после. \\nкстати , чтобы сжечь 1г жира нужно потратить 9ккал)) Если вы съели тортик и сладкое - весь сахар сперва идет вам в кровь в виде глюкозы и затем уже превращается в жир, если ее не расходовать. Поэтому если и срываюсь, то через час стараюсь идти на час кардио. Чтоб прошло все более менее безобидно для фигуры.\\n\\nБЕГ ИЛИ ХОДЬБА?🏃🏽\\nКардио, аэробика сжигают жир, но так же и мышцы\\nЧтоб сжигался жир не нужно бежать со скоростью планеты🙈😂 наоборот, быстрый бег - тренируется сердце) умеренный,ходьба - сжигается жир \\nОднако самый важный фактор тут - это ваш пульс❗️\\n(Измерить его можно на тренажерах, прикладывая руки к железкам, или с помощью браслетов,приборов)\\nРассчитать его зону жж можно по формуле: (220-возраст)х0,6(минимальная)/0,8(максимальная), либо в приложение fat burning zone calculator в App Store ) это интервал пульса, в котором происходит именно сжигание жира. Чаще всего это быстрая ходьба на скорости ~7. Для примера. То есть загонять себя сильно не имеет смыла - жира больше не сожжется) примерная зона жж: 130-140'}  -- \t -- ['\\U0001f926', '👋', '😂']\n",
      "{'text': 'Фото недельной давности ✌'}  -- \t -- ['\\U0001f926', '😃', '\\U0001f937']\n",
      "{'text': '-ты дура, знаешь об этом?\\n-да \\n@li_bianco_15 💕😂❤️'}  -- \t -- ['🎼', '❤', '🏻']\n",
      "{'text': 'сегодня читала первую в своей жизни лецкию на журфаке мгу. 8 лет прошло после окончания, не верится)) студенты отличные, умные, интересующиеся. возможно, среди них будущие авторы и редакторы #cosmopolitan_russia. приятно, в общем! аля'}  -- \t -- ['🙏', '😍', '☺']\n",
      "{'text': 'Женщины и ЕДА🌮🍟🍗🍔🍕!!\\n.\\nОтмечай подруг👇🏼Какой тип близок тебе?\\n.\\n(В видео присутствует МАТ🔞Особенно нежным не смотреть 🙅)\\n. ➡️#_agentgirl_ ➡️ @_agentgirl_ ➡️ @nastyaivleeva'}  -- \t -- ['🏻', '❤', '😊']\n",
      "{'text': 'Друзья, хорошие новости: конкурс #ladiesinlevis продолжается!\\n5 сентября мы объявили о начале масштабного конкурса Levi’s и Cosmopolitan. Мы просили вас выкладывать свои фото в джинсах Levi’s, снабдив их хештегами#ladiesinlevis и #cosmolevis. Главный приз – шопинг в Levi’s® на 30\\u2009000 руб. со стилистом Cosmopolitan.\\nПервая конкурсная неделя осталась позади – мы выбрали 10 лучших фото. Поздравляем @_shapochka27_, @maffka_88, @_bombalina, @golovachevamaria, @mariageeva, @arkhangorodskaya, @valyaserg, @vskrivalova, @fomulya, @nasia_s1. Все полуфиналистки получают в подарок футболку от Levi’s и свежий номер Cosmopolitan!\\nИмена 5 абсолютных победительниц мы назовем 13 октября. А значит, еще есть время принять участие в конкурсе!'}  -- \t -- ['😝', '🙈', '🙌']\n",
      "{'text': 'Ирина Шейк с подругами на отдыхе в Израиле 🌊☀\\nУгадай, где она на фото?)\\n#irinashayk'}  -- \t -- ['🎶', '💪', '😜']\n",
      "{'text': 'Mood: я цветочек из космоса 🌿 \\nОпиши своё настроение смайлом: 😂👇🏼'}  -- \t -- ['👧', '🍰', '🎂']\n",
      "{'text': 'О тренях👆🏼 Почти каждый день, но делаю все быстро и раздельно, поэтому времени уходит даже меньше. Силовая минут 40 на низ, остальные вообще минут по 25. Вес беру максимальный ,поэтому быстро забиваются мышцы. В силовых всегда 4-5 упр на 3-4 подхода)\\nКардио как дополнение, в основном для растяжки, после силовой минут 20-30, в отдельный день 60. На дорожке/степпере, хожу, а не бегаю, тк бег - это на тренировку сердца, а мне нужно жж - ходьба с пульсом в зоне жиросжигания (энергия берётся из клеток жира) 130-140ударов в мин💁🏼\\n_____\\nВопросы на эту тему в аск, вечером выложу сюда вопрос-ответ'}  -- \t -- ['\\U0001f937', '\\U0001f926', '🏻']\n",
      "{'text': 'После сытного обеда полагается поспать! Конечно, если вы не на работе!😂 Этот тюлень знает толк в отдыхе, только послушайте, как он храпит!😅\\nPC📸 @robertoochoahe'}  -- \t -- ['😍', '😘', '📸']\n",
      "{'text': 'Я и пылесос после 65 минут, проведенных вместе, выглядим так ☝😅 Поработали – можно и отдохнуть, правильно? ⠀\\nВроде не писала, но у нас новость – мы живем загородом! 😍 Такой кайф: завтракаешь с птичками, гуляешь по тропинкам, дышишь лесом 🛤 Есть тут сменившие недавно город на природу? ⠀ \\nНа новоселье @philipsrussia прислали SpeedPro Max – легкий, многофункциональный и с подсветочкой 😅 Работает без подзарядки дольше часа, с грязью справляется быстро - насадка всасывает на 360°: не только при движении щеткой вперед, как у обычных пылесосов, но и при движении назад. Он еще разбирается так, что его можно использовать как маленький ручной пылесос, например, что-то в машине собрать ☺👌\\n#уборкаphilips #SpeedProMax'}  -- \t -- ['♀', '\\U0001f937', '🏻']\n",
      "{'text': \"А в какой позе вы смотрите телевизор? 😂😂😂🙈🐯\\nМой маленький хомячок. Вы не представляете как она любит мультики 😍🙈 'три кота' или 'зу' могут успокоить практически любую истерику. А Пеппа так вообще вызывает у неё восторг и хохотушки 😂🙌🏻 поэтому это неотъемлемая часть нашей жизни теперь. \\nИ я, кстати, была удивлена, какие темы и мысли поднимаются например в Смешариках и Фиксиках 🤔🙈😂 И ничего плохого в мультиках и телевизоре я, лично, не вижу. Естественно, в меру и не для того, чтобы отделаться от ребёнка. \\nКакие у Вас любимые мультики? Мы тут уже по рекомендациям вашим скачали пингвинёнка Пороро 😂 нравится☺ может ещё что найдём для себя 😜\"}  -- \t -- ['😂', '😃', '🏻']\n",
      "{'text': 'Чем гранола отличается от мюсли и байтов и как приготовить вкусный сливочно-шоколадный десерт из хрустящих кластеров гранолы-мюсли Kellogg’s EXTRA? Редакция Cosmo.ru провела кулинарное расследование и выяснила все! Узнай подробности по ссылке в профиле.'}  -- \t -- ['❤', '🇸', '😍']\n",
      "{'text': \"Фото из серии 'моя молодость' 😂😂😂 а вообще, ищу свои фотки с челкой... В очередной раз думаю - может снова отстричь....? Ну-ка, девочки, скажите, что я дура и потом буду жалеть и ходить с заколками на лбу 😆😆😆\"}  -- \t -- ['❤', '🙈', '😍']\n",
      "{'text': 'Прекрасные Риз Уизерспун и беременная Ева Лонгория на 75-ой кинопремии «Золотой глобус-2018»❤️\\n#evalongoria \\n#reesewitherspoon'}  -- \t -- ['🌟', '🎂', '\\U0001f937']\n",
      "{'text': 'Хорошие новости меня ждали по прилету в Москву!!! Локомотив, с победой👏👏👏 а я \"подсела\" на \"Во все тяжкие\", из-за него не сплю теперь в самолётах😠#мистерхайзенберг#вовсетяжкие#тольконенадописатьчемвсёзакончится'}  -- \t -- ['😍', '💋', '😜']\n",
      "{'text': \"Ну привет. Продолжим о правильном питании в рамках #agolovinova_info \\n______________\\nЕсли вам будет полезна инфа, то поставьте плюсик или ещё какой знак, чтоб я знала, что не в пустую ☺️✌🏼️\\n______________\\nВ прошлый раз мы говорили о том, как рассчитать кол-во ккал, нужных вам для поддержания/сбрасывания веса. \\nСегодня тогда про страшные буквы БЖУ ☺️ многие почему-то считают, что пп это курогрудка с огурцом и все. Это большое заблуждение. Питаться надо полноценно и разнообразно, иначе ничего 'правильного' в вашем пп не будет. ❤️ Начнём с жиров. Жиры должны присутствовать в нашем рационе. Жиры - это наши волосы, кожа, ногти. Женское здоровье опять же. Жиров должно быть не менее 0,5 г на кг вашего веса (хотя я считаю можно и побольше). Полезные ненасыщенные жиры содержатся в маслах (льняное, оливковое, подсолнечное), в красной рыбе или непосредственно в рыбьем жире, в орехах (очень аккуратно! Не злоупотреблять☺️) В идеале найдите свой способ. Кто-то добавляет масло в салаты, кому-то удобнее пить просто с ложки и, например, рыбий жир в капсулах (это я✌🏼️😂). У меня обычно 30-50 г в день. ❤️ далее. Белки 🐿 Обязательный минимум это 1 г на кг веса. Если вы хотите нарастить мышцы, то смело удваиваем эту цифру. Перво-наперво белок нужен для построения мышц и получения амонокислот организмом, тк есть ряд таких аминокислот, которые можно получить только с едой. \\nОсновные источники белка это нежирное мясо, рыба, молочка, орехи, крупы (хотя это все же больше источник углеводов), яйца. Ни в коем случае нельзя создавать дифицит в питании за счёт урезания белков. Нехватка белка ведёт к нарушению обмена веществ, а соответственно к замедлению метаболизма. В моем варианте это около 120 г в день. \\nДалее в комментарии 🔽🔽🔽\"}  -- \t -- ['♀', '🤔', '🏻']\n",
      "{'text': 'Расслабляемся перед выходом на сцену с Темасом Ударником #klavdiacoca #клавдиякока #backstream'}  -- \t -- ['♂', '😂', '👩']\n",
      "{'text': 'Всем привет🤗🤗🤗 я тут силком затащила себя в зал,но боюсь свалить, сделав 2 подхода, поэтому пишу сюда с железным обещанием выполнить☠️😛😬 и забыть как страшный сон. И как я раньше любила тренить?когда это чувство вернётся?🙏🏽😂\\nСегодня фулбоди, тк завтра к Сергею на 🌰)) тут пишу по порядку,но на деле чередую подходы упражнений))\\n1️⃣разминка , все дела \\n2️⃣отжимания 3 раза по 30 сек \\n3️⃣приседания с гантелей 15х3 с тройной пружиной внизу\\n4️⃣разведение 30х3\\n5️⃣гиперэкстензия с блинчиком 20х3\\n6️⃣тяга к груди 20х3 (на спину)\\n7️⃣подъем гантелей на дельты 30х3\\n8️⃣ пресс 3 круга по картинке, в аск кину ,задайте вопрос'}  -- \t -- ['♀', '\\U0001f937', '🏻']\n",
      "{'text': '1000000 просмотров в YOUTUBE за 2 дня!!! 😲 #ВлюбленавМДК 🙏🏻 Трек поднимается во всех топах! Да что уж там говорить, когда зал в дождь (!) поёт громче, чем ты в микрофон 😂😂😂 СПАСИБО!! ❤️ Это без лишних слов любовь!!!'}  -- \t -- ['😉', '😍', '💵']\n",
      "{'text': 'Да, да - это бассейн с\\xa0чистой артезианской водой без хлорирования. \\U0001f924Бассейн выглядит, как озеро в\\xa0окружении соснового леса. \\nЧистый кайф!!! 🐬🐬🐬'}  -- \t -- ['❤', '😅', '🙈']\n",
      "{'text': 'Качаться с другом - это нечто 😃😊💪🏾 заставил делать все на подход больше и кардио в конце 😂 2,5 часа в зале 😳мотивации тонна , просто пахаем😅😈 сег пресс-попа-ноги+кардио,завтра спина-плечи-руки+кардио) делаю в основном суперсетами )'}  -- \t -- ['🏼', '\\U0001f970', '🙏']\n",
      "{'text': 'В Нью-Йорке с размахом отметили Национальный день нижнего белья, который празднуют в США уже более десяти лет. На Таймс-сквер собралось более двух тысяч полуголых горожан! Вот это масштабы) Хотя, иногда так хочется, чтобы роскошный корсет или кружевной комплект стал достоянием общественности, а не скрывались под одеждой😋'}  -- \t -- ['✨', '🏼', '🏽']\n",
      "{'text': 'А мы сытые, довольные, счастливые и влюбленные едем домой😋😝❤️'}  -- \t -- ['😅', '😂', '👊']\n",
      "{'text': '💏💏💏 #моямой#тарабузики#любовь'}  -- \t -- ['\\U0001f937', '🎼', '🎂']\n",
      "{'text': \"Кто просил мужа в ленту?😜 и спрашивал где он) он всегда с нами ☺️ просто обычно это он фотографирует, а не я 🤗\\nНу а поговорить я хотела на тему подарков ☺️ как у вас заведено? Вы дарите друг другу подарки? Или 'лучше что-то в дом полезное купить'? Это про нас 🙈\\nА вообще, согласитесь, что выбрать мужчине интересный подарок - это прям настоящая головная боль😬🤔 Я вот заказала мужу брутальный браслет от @weissberg_store, потому что сам он у меня по магазинам не ходит, в Инстаграм не сидит - теперь вот носит не снимая☺️ и даже согласился сфотографироваться 😂 хотя обычно фиг уговоришь 😜\\nЯ очень люблю на мужчинах такие украшения - кожаные ремешки, черепухи 😜 кайф☺️ очень стильный подарок и упаковка 🔥\\nНо это я случайно наткнулась на этот аккаунт, когда искала аксессуары на лето, и решила заказать просто так, без повода. А вот через месяц у него день рождения 🤔\\nИ я уже голову ломаю. Не хочу в этом году как обычно оставить 'на потом'\\nДелитесь оригинальными подарками, которые делали своим половинкам 😜 а я на время закрою страницу от мужа 🙈😜\"}  -- \t -- ['▫', '😃', '👋']\n",
      "{'text': \"So this new hip pizza place opened up and obviously I had to try it 🍕😄 Pizza's good, however the best part of the meal was the cannoli 😻👍 // Словенцы мне 3 дня рассказывали про это новое место, которое открылось только месяц назад, а уже без резервации сюда не попасть (это необычно для Любляны 🙈) - пицца хорошая, но ради чего я точно сюда вернусь это канноли ❤️😸 Кстати, многие спрашивают о моем сегодняшнем отношении к сладкому: я ем его, но в разы меньше, НЕ по утрам (утром надо иметь свежую для работы голову) и не в контексте 'нечего есть, поем сладкого' как раньше, а когда ситуация действительно особенная 😊 И мы взяли за правило брать только 1 десерт на двоих везде! А как у вас со сладким?\"}  -- \t -- ['💜', '😂', '😍']\n",
      "{'text': 'На мне Тотал лук от Colin’s и это любовь 💙\\nВ магазинах Colin’s сейчас акция #colinsjeansfest2018. Для тех, кто еще не успел – ее продлили до 19.09, торопитесь принять участие и получить свою пару джинсов из супер качественного #denim . \\nКстати, в этом сезоне очень актуальна джинса, можно легко сочетать светлые джинсы, с темно-синей курткой, с яркой рубашкой, даже кепку можно надеть из джинсы. А вы как относитесь к этому джинсовому тренду? \\n#точтонамподходит'}  -- \t -- ['💙', '😤', '❤']\n",
      "{'text': 'Роли разные нужны - роли разные важны🎭🎭🎭 В спектакле #черныйбриллиант играю другую себя🙈😝💂🏻💂🏻💂🏻 завтра играем для вас в Санкт-Петербурге в ДК \"Горького\"😉приходите 🙏🏻🙏🏻🙏🏻 #ольгабузова#спектакль#черныйбриллиант#черныйканнибал#ялюблюсвоюработу#выборг'}  -- \t -- ['🙃', '📚', '👏']\n",
      "{'text': 'Купальник бандо из эксклюзивного бифлекса. Сшито под заказ 💀👄🌹 golovinova.ru'}  -- \t -- ['🤔', '🎉', '😍']\n",
      "{'text': 'Даже во время плотного рабочего графика нужно выделять время на отдых!\\nБерём пример с Лены Летучей, которая следит за своим здоровьем и всегда делает 20 минутный перерыв во время съёмок.'}  -- \t -- ['😍', '🙏', '❤']\n",
      "{'text': 'Мои едут к бабушке) у меня с ней не сложились отношения, но гостинцы и письмо всё равно передаю☺️📬\\nВсе утро варила кашу пшенка+рисовые хлопья с тыквой и изюмом🎃, пирожки, запекла айву с яблоками в сахарном сиропе🍐, оливье с домашним майонезом, апельсиновый пирог🍰,котлеты куриные с зеленью🍖👌🏾 что там еще бабушки любят...👵🏽'}  -- \t -- ['😜', '🏼', '💎']\n",
      "{'text': 'Сегодня, в 23:30 @vecherniy_urgant и Настюшка Опасность на @1tv 🔝❤️ Самоирония наше все!\\U0001f9e0 .\\nОбраз: @araksiya_zh ❤️ @beribegi 🌟 #настяивлеева #_agentgirl_'}  -- \t -- ['🎂', '💋', '\\U0001f937']\n",
      "{'text': 'Главное жить. Главное любить. Главное верить. Л. Толстой'}  -- \t -- ['😍', '🎶', '⬆']\n",
      "{'text': 'Уже в это воскресенье пройдёт финал чемпионата мира по футболу⚽ За кого будешь болеть: Франция или Хорватия? Пиши в комментах👇🏻 PC: @natasupernova\\n\\n#fifa2018 #fifaworldcup'}  -- \t -- ['😉', '❤', '🏼']\n",
      "{'text': 'После тяжелого рабочего дня наконец это ужинать с мужем😋 Нарядилась для него в свое новое платье сливового цвета из моей коллекции С&С by Olga Buzova #dressbyolgabuzova'}  -- \t -- ['🏻', '😍', '❤']\n",
      "{'text': 'Какой у тебя рост?\\U0001f98a Мой вот 158см😊✨'}  -- \t -- ['😜', '😂', '🙆']\n",
      "{'text': 'Объект желания: новая сумка #Prada Sidonie♥️ PC: @prada\\n\\n#editorschoice'}  -- \t -- ['🙏', '🏻', '❤']\n",
      "{'text': 'Наша большая семья👨\\u200d👨\\u200d👧\\u200d👧👩\\u200d👩\\u200d👦\\u200d👦👬👫👶🏻#Repost @tarasov23 with @repostapp.\\n・・・\\nПришли все бандой на ужин в рыбный ресторан!!!!🔝🔝🔝 #семья#потомучтомыбанда#моямой#отдыхаемправильно'}  -- \t -- ['🙈', '🙌', '❤']\n",
      "{'text': 'По данным СМИ, 40-летний Орландо Блум встречается с 30-летней грузинской пианисткой Хатией Буниатишвили.😍\\nНапомним, три года Орландо был в браке с Мирандой Керр, а в январе 2016 года популярный актёр закрутил роман с певицей Кэти Перри и в марте 2017 года пара рассталась.\\n#orlandobloom'}  -- \t -- ['😍', '🏽', '👗']\n",
      "{'text': 'Когда носить такие костюмчики, если не сейчас?☺️☺️☺️ @cc_official_cc  Девочки, в ТЦ лотте плаза он есть еще в белом и бежевом цвете💃#dressbyolgabuzova#ялюблюсвоюработу'}  -- \t -- ['😂', '\\U0001f924', '😍']\n",
      "{'text': 'Незаменимая вещь этим летом - лёгкое летящее платье от @olgabuzova_design ☀️ на пляж, в кафе, загород, оно актуально везде 🔥👸🏼👏🏻👏🏻👏🏻 #dressbyolgabuzova#olgabuzova_design#принцессыolgabuzovadesign'}  -- \t -- ['😍', '💪', '😻']\n",
      "{'text': 'Я не могу сдержать слез... мои дедули уже никогда не смогут дать мне благословение😔\\nКто-то скажет, что приглашать на свидание дедушку - это игра против правил, но я знаю, как важна для Марины ее семья. В этом мы с ней очень похожи♥️Как только у меня появляется возможность, я тут же бегу к мамуле с бабулей♥️♥️♥️\\nЦените родных, любите их, берегите, пока они живы. \\nА моей любимой парочке я желаю развития в новом проекте «Дом-2. Спаси свою любовь»😍\\nМои хорошие, я хочу чтобы вы посмотрели этот эфир в 12:30 на ТНТ и после него обязательно ХОТЯ БЫ ПОЗВОНИЛИ вашим родным 😌 #миромправитлюбовь'}  -- \t -- ['🎤', '😂', '🏻']\n",
      "{'text': 'Ну как и обещала, я продолжила свой коллаж)))) кое-кто , по-моему, оооочень значительно прибавил ☺️🙈 не верится, что когда-то она была такой маленькой 😋 \\nВас у меня с каждым днём все больше и больше. Давайте знакомиться 😉\\n\\nМеня зовут Настя. Я из сибирского города Нрвокузнецка, кто оттуда же - держите пятюню 🖖🏻😉 в Москве я уже 13 лет, из них 4 года в счастливом браке 👨\\u200d👩\\u200d👧 по профессии я филолог, но никогда не работала в этой сфере. Сначала я танцевала, потом преподавала, параллельно начала шить костюмы для выступлений, и все завертелось и переросло в наш семейный бизнес 🎀\\n\\nактивно, иногда даже бывало слишком😂 занималась спортом, выступала в категории фитнес бикини... В декабре я стала мамой. И вот уже 4 месяца в этом статусе \\nОткуда вы и о чем было бы интересно, чтобы я написала?)) судя по нулевой активностью под спорт фото, вся моя аудитория сейчас в основном девочки с детишками? Или имеет смысл писать про питание и тренировки, как раньше? 🎀🎀🎀 #agolovinova_послеродов #мояАлися'}  -- \t -- ['✅', '❤', '🏻']\n",
      "{'text': 'Платье из новогодней коллекции @olgabuzova_design 💃💃💃 следущий год - год огненной обезьяны🐒🔥 поэтому так много красного цвета в моей коллекции ❤️❤️❤️'}  -- \t -- ['✨', '❤', '😍']\n",
      "{'text': 'Ночные репы ❤️ #Rehearsal #klavdiacoca #backstream #кусто #клавакока'}  -- \t -- ['💋', '🙏', '👋']\n",
      "{'text': 'Буду развлекать ребенка😂😁 и спасать маму😂😂😂'}  -- \t -- ['😂', '‼', '😃']\n"
     ]
    },
    {
     "name": "stdout",
     "output_type": "stream",
     "text": [
      "{'text': 'Июнь, жара, плавится даже асфальт… Ныряй вместе с @cosmopolitan_russia в освежающую подводную фотоисторию с самыми горячими российскими звездами @starshenbaum @actorsashapetrov @rinal_mukhametov и @yura.borisov. Бирюзовая вода искажает реальность… или это #200ДнейДоВторжения? Пора вместе с главным редактором Cosmopolitan @alionapeneva_cosmo выяснить, что нам готовит очередное инопланетное вторжение. \\nПолное видео смотрите по ссылке в профиле↖️\\n#Вторжение - в кино с 1 января 2020 👽@invasion_film \\n#ЖдитеВторжение #Cosmopolitan25'}  -- \t -- ['👇', '🏼', '♀']\n",
      "{'text': '#Анапа , #Невинномысск , спасибо вам за такие крутые сольники! Уже скучаю по вашим тёплым краям ❤️ Ну а мы полетели дальше ✈️'}  -- \t -- ['😂', '\\U0001f924', '❤']\n",
      "{'text': 'В Москве 30 декабря. Самое время достать из шкафа летние шорты. 🌦'}  -- \t -- ['🏻', '👍', '❤']\n",
      "{'text': 'Не самое лучшее наше фото, но по крайней мере мы здесь все вместе 👪🌴🌞\\n‼️КИЕВ!!!)) Вы помните, что уже послезавтра (в воскресенье, 18го числа) пройдёт наш благотворительный #instamamaua_event в комплексе Чабаны @complex.chabany ?😉\\n❤️Мы всех очень ждём и будем рады видеть🙌🏻\\nДля всех участников мы подготовили огромное количество активностей!\\u2029Деток ждут:\\u2029- очень классные аниматоры в образах любимых героев: Миньоны, Винни и Пятачок, Тигра, Фиксики от \"Корпорации сказок\" - Веселые эксперименты: \"Наука. Веселая лаборатория м-ра Грю\" - Наука без скуки с профессором Чудаковым - мастер-классы от ТМ \"Яготинское\": декор деревянных фигурок, квиллинг, фетровая аппликация - футбол для мальчишек от Champion Kids\\u2029- карате и эстафеты для деток от 2.8 лет от Karate kids - игротека для для малышей до года от \"Мамин Дом\", где будет много игрушек, 2 стола с кинетическим песком и присмотр педагогов\\u2029- детское меню от заведения и бесплатные заквасочки и творожки от ТМ \"Яготинское для детей\"\\u2029- домики на деревьях, батут, большая надувная горка, животніе, которіх можно кормить и гладить\\u2029- жареное мороженое, сладкая вата, вкусные карамельки\\u2029Мам и беременных ждут:\\u2029- ярмарка с интересными товарами на любой вкус\\u2029- комната для кормления. ГВ-питстоп\\u2029- фудзона со скидками - лекция с подарками от перинатального психолога и педиатра для беременных - 5 фотозон и 2 фотографа на локации\\u2029- уютные беседки и безлимитный яблоневый сад \\u2029Блок для пап - гонки машин на пульте управления - полеты квадракоптеров - Аттракцион \"Гонки на внедорожниках\"\\u2029- гамаки\\n🤗🤗🤗 Так что приходите!)\\n🏖А мы сегодня последний день погрелись под теплыми лучами турецкого солнышка и покупались в море☺️ Завтра уже будем дома🙈\\nВсем спокойной ночи😘😘😘\\n#Стужуки'}  -- \t -- ['😂', '♀', '🏻']\n",
      "{'text': 'Такое редкое фото втроём \\U0001f970\\nКак там говорят?😅 а ну, подкиньте ❤️❤️❤️\\n⠀\\nА если серьёзно, раньше, в бездетные времена 😅, выложить фото с парнем/мужем было равносильно тому, чтобы сразу отписать от себя 100-200 человек \\U0001f92a потому что подписчикам-мужчинам такие фото не нравились 🤘🏼\\n⠀\\nЗато теперь наоборот 😊\\nЕщё один пунктик к моему вчерашнему посту☺️ меняемся не только мы, но и наше окружение 😍 люблю вас ✨\\nНадо чаще фотографироваться втроём ❤️ ведь это действительно такая память 🤗\\n⠀\\nПс. Смотрите сторис, там сегодня интересно 😋 ваши любимые ‘загородные’ истории и ещё кое-что 😉'}  -- \t -- ['🏼', '😂', '\\U0001f937']\n",
      "{'text': 'Зайчик мой @akryyana 🐰🐰🐰 с днём рождения 👸🏼 жаль, что в этот день не могу быть рядом, но у нас обязательно будет наша #однаночь 💫 Спасибо родителям за тебя❤️ спасибо, что несколько лет назад ты позвонила мое, и началась бесконечная связь \\U0001f919🏻 сначала рабочая, которая переросла в нечто большее 🐰🐰 Будь счастлива ❤️❤️❤️ все остальное - лично 🌸'}  -- \t -- ['🎬', '❌', '🏻']\n",
      "{'text': 'Самый точный прогноз для всех знаков Зодиака в нашем ежедневном проекте Cosmo - гороскоп! \\nВыбирай свой знак ;) @cosmo_pisces  РЫБЫ @cosmo_libra ВЕСЫ @cosmo_taurus ТЕЛЕЦ @cosmo_aquarius ВОДОЛЕЙ @cosmo_sagittarius СТРЕЛЕЦ @cosmo_scorpio - СКОРПИОН\\n @cosmo_leo ЛЕВ @cosmo_aries ОВЕН @cosmo_cancer - РАК @cosmo__capricorn КОЗЕРОГ @cosmo_virgo ДЕВА @cosmo_gemini БЛИЗНЕЦЫ'}  -- \t -- ['💞', '💫', '😉']\n",
      "{'text': 'Сцена - моя жизнь 💃🏻🎤 Спасибо моим людям в Турции❤️🔥 #моилюдивсегдасомной#моилюдивездесомной'}  -- \t -- ['🎤', '🐰', '🎶']\n",
      "{'text': 'Все лето я проведу с тобой, буду твоей поддержкой и силой♥️\\n⠀\\nЭто каждому из вас, да.\\nЯ кое-что придумала.\\n⠀\\nНедавно в сторис мы с вами говорили про то, как сложно именно начать менять свою жизнь. Спланировать – легко, поставить цели – все умеем. Но оборачиваемся назад – ничего кардинально не меняется, все откладывается на потом.\\n⠀\\nЯ спрашивала, какие у вас истинные цели. Я поражена. Я так хочу помочь каждому.\\n«переехать в другой город», «свозить семью на отдых», «выплатить за родителей кредит», «помогать людям», «стать сильной личностью и мотивировать других».\\n⠀\\nЭто настолько сильные цели.\\nЯ тоже поставила себе на это лето цель: помогать\\nмаксимально людям, которые идут за мной, и создать множество полезных проектов, в том числе бесплатных.\\n⠀\\nЯ хочу сделать так, чтоб с помощью моего блога и других моих ресурсов вы смогли закрыть большинство своих вопросов и целей. Я знаю, что многим могу помочь и многое знаю.\\n⠀\\nЕсли ты будешь со мной этим летом, мы с тобой далеко пойдём, обещаю.\\nИ изменения в личности, и доходе, и продуктивности, и уберём многие страхи, лень.\\n⠀\\nВсе, что тебе нужно делать – идти по тем шагам, которые я даю и буду давать в течение всего лета. Я построила план по темам: от самых первых и легких к самым эффективным.\\n⠀\\nНапоминаю, где меня можно и нужно читать, все мои ресурсы:\\n⠀\\n•Инст. Посты и сторис. Я очень стараюсь над контентом и всегда прислушиваюсь к тому, что вам нужно. Летом тут будет много всего на темы заработка, поиска клиентов и про то, как себя мотивировать)\\n⠀\\n•Телеграм. Мой канал: «MMARGO». В нем вся изнанка моего бизнеса и личные размышления на разные темы: отношения, духовность, переживания. + там все полезные файлы от меня. Из последних там история о том, как я заработала свои первые 600к, когда у меня было 3.000 подписчиков.\\n⠀\\n•Моя группа ВК. Не все о ней знают, но я веду ее каждую неделю для вас. Называется «ММАРГО». В неё я кидаю обучающие статьи и видео на разные темы. В общем, если нечего почитать – вам ко мне в группу:)\\n⠀\\nПроведём нереальное лето вместе с вами. Я всю себя отдаю в контент и проекты💛 Очень жду ваших изменений и надеюсь, мои проекты, телеграм, вк и инстаграм вам в этом помогут💓'}  -- \t -- ['🏻', '🙌', '😂']\n",
      "{'text': 'У Клавы К на Канале 300K !!!! Ураааа, ребята, какое счастье! Спасибо вам!!! 💞'}  -- \t -- ['🙏', '🏻', '❤']\n",
      "{'text': 'день добрый - а я не очень'}  -- \t -- ['❤', '🙏', '🏻']\n",
      "{'text': '#Собсна , обещала продолжение😌\\n#стужук_волосы\\n💁🏻Вот мои ужасные неухоженные, нестриженные полгода ( фу, вру, я такая дура, что стригу себе кончики сама😱 порчу волосы😱😱) безсульфатные, безсиликоновые, только что высохшие после мытья САМОСТОЯТЕЛЬНО (без фена) волосы 🙌🏻\\nТаки да😌\\nКак я уже писала, считаю, что чем меньше свои волосы \"мурыжешь\", тем они лучше:)\\nНикаких фенов/плоек 🙅🏻 Средства у меня вот уже несколько месяцев как #nutribiotic (заказываю на iherb #стужук_iherb ) шампунька и кондиционер 🙌🏻 Всё🙌🏻 Больше вообще ничем их не трогаю:)\\nЯ бы делала натуральные маски, но мне просто лень🙈🙊\\nПробовала еще #madrelabs из #iherb - они сейчас там очень популярны, но мне вообще не подошли. Они, думаю, для более плотных и густых волос. Мои от них становились жесткими и плохо расчесывались:)\\n🙏🏻Поэтому, как я всегда отвечаю, рассказывать нечего, ухода минимум😌 Мою да расчёсываю:)))\\n🌸Но вот только один момент, который я хотела бы озвучить:\\nВсе сейчас пишут \"да что за мода дурацкая, раньше все мыли средствами с масс-маркета, а сейчас натур.\" \"Да чем вам так эти силиконы не угодили\" \"ой подумаешь, сколько все пользовались и пользуются и никто от ваших силиконов ещё не умирал\"😕\\nДа я ж ведь и не агитирую никого :)\\nКаждый сам волен решать чем ему пользоваться и чем себя \"травить\"))) Ясное дело, что ничего прям катастрофического нет в обычных средствах. Ясное дело, что от них волосы могут выглядеть вполне красиво\\U0001f937🏻\\u200d♀️ Но у меня, как минимум, душа спокойнее от того, что я в нашем современном мире химикатов хоть где-то себя от них ограждаю☺️ И животные не страдают 🙌🏻\\n+ я помню ещё когда я пользовалась \"обычными\" средствами...какое-то время волосы были хорошие, потом привыкали и приходилось менять \"уход\"🤔\\nА сейчас они всегда такие живые и красивые🙌🏻 Расчёсываются отлично 👍🏻\\n☝🏻Если вы на фото видите волосы не идеально гладкие и прямые, то это или ветер постарался😂 Или я ещё любитель делать гулю:) Потом волосы распускаешь и они волнистые) мне нравится:) лучше чем залом после хвостика 😬\\nНу а волнистые как вчера - это два колоска ☺️❤️\\nВот ☺️ \\U0001f937🏻\\u200d♀️Ну и да, волосы - это генетика в первую очередь:)'}  -- \t -- ['😂', '♀', '😃']\n",
      "{'text': 'Шакира и Жерар Пике вместе с детьми: пятилетним Миланом и трехлетним Сашей на семейном отдыхе в Барселоне☀️\\nНапомним, звезды состоят в браке с 2010 года.\\n#шакира'}  -- \t -- ['🍦', '😍', '❤']\n",
      "{'text': 'анна-мария меня теперь преследует везде'}  -- \t -- ['😳', '🏻', '😂']\n",
      "{'text': 'Утром собираешься в офис, а вечером - на мероприятие? Макияж глаз в оттенках нюд будет уместным в обоих случаях. Для этого тебе понадобятся тени, карандаш и тушь. Кстати, не забудь их захватить с собой, чтобы немного обновить мейкап после рабочего дня💋 📹 @hindash #cosmopolitan #cosmo #beauty #makeup #eyesmakeup'}  -- \t -- ['😍', '👍', '😂']\n",
      "{'text': 'О чем вы чаще всего спорите со своей половинкой? ❤️ Мы вот теперь о моих волосах: ок мне такие волны или не ок 👩🏽\\u200d\\U0001f9b1'}  -- \t -- ['❤', '😂', '🙈']\n",
      "{'text': 'Наконец-то весна в Москве ☀️☀️☀️ у меня у одной желание выйти на улицу фактически голой, типа все, жарко ж? 😂😂'}  -- \t -- ['\\U0001f924', '🏻', '😂']\n",
      "{'text': 'Сегодня отмечали день рождения Поли✨\\U0001f919🏻❤️\\nБлагодаря этому событию впервые встала и кстати научилась кататься на «американских» роликах😱\\nP.s. Подробности в следующем влоге😳'}  -- \t -- ['✨', '🏼', '❤']\n",
      "{'text': 'Всем доброе утро 😉😜😎🤗 танцевального вам дня 💃 #тодес #тодесболгария #лагерьтодес #лагерьтодесболгария #АллаДухова #todes #todescamp #todesdancecamp #todesbulgaria #todesBLG #todesBLG2016 #todesfamily #family #dance #summertime #camp2016 #todes_world #todes_official #summerjam'}  -- \t -- ['🐰', '😂', '😳']\n",
      "{'text': 'Слежу за порядком 😆👍🏼 ,а вы чем занимаетесь❓'}  -- \t -- ['🍀', '\\U0001f926', '😂']\n"
     ]
    },
    {
     "name": "stdout",
     "output_type": "stream",
     "text": [
      "{'text': 'ТОП 10 ПОДАРКОВ КО ДНЮ СВЯТОГО ВАЛЕНТИНА ❤️\\nᅠ\\nСкоро приближается самый романтичный праздник в году, поэтому делюсь с вами подборкой подарков для влюблённых пар 💑 Не забывайте сохранять:\\nᅠ\\n1.Альбом с вашими фотографиями, сделанный своими руками. В прошлом году я распечатала для Стаса 50 наших фотографий, вклеила в красивый альбом для скетчей, а на оставшееся место написала настоящий рассказ о наших отношениях.\\n2.Выходные в загородном отеле на двоих. В этом году 14 февраля выпадает на четверг, а значит уже на следующий день можно ехать загород. А ещё многие отели предлагают специальные романтические предложения для пар. Я бы рассмотрела отели Мистраль и Яхонты.\\n3.Спа-программа для двоих. Что может быть лучше свидания в джакузи, релакс-массажа и шоколадной терапии? Именно такие программы для двоих сейчас активно предлагают спа-салоны. Надо брать!\\n4.Свидание в ресторане в темноте. Я была в таком однажды в Москве. Вокруг темно, вы не видите где находитесь и не знаете что едите. Вкусовые рецепторы обостряются до предела, а страсть накаляется 😏\\n5.Билеты на иммерсивное шоу 18+, где вы становитесь участниками постановки. Все зрители ходят по четырёх этажному особняк в полумраке и масках. Судя по отзывам - постановка просто огонь!\\n6.Свидание в апартаментах в Москве Сити. Романтический ужин при свечах, музыкант и шикарный вид на город. Главное чтобы с погодой повезло 🙏🏻\\n7.Кулинарный мастер-класс или мастер класс по рисованию для двоих. Это возможность весело и необычно провести День всех влюблённых.\\n8.Путешествие для двоих на выходные. Ну я была бы не я, не предложи устроить мини-тур на выходные. Проверяйте даты самостоятельно, а чуть позже я выложу крутую подборку туров и билетов в празднику!\\n9.Романтичный квест 18+ для двоих. Найти можно на сайте Мир квестов и подобрать на любой вкус и цвет. В идеале,не рассказывать партнеру о том,куда вы направляетесь до самого квеста.\\n10.Ну и конечно же, фотосессия в стиле Love story 😍 Можно с шариками-сердечками и в парной одежде. А фотографом точно надо брать @fukalova которая сделала нам обалденные снимки 🙏🏻\\nᅠ\\nА что необычного вы дарили или получали в этот день? Делитесь своими вариантами и дополняйте список ❣️'}  -- \t -- ['🏻', '🙏', '❤']\n",
      "{'text': 'Я уже в номере 🙌🏻 сейчас буду смотреть все ваши видео и фото с концерта #подзвукипоцелуев 💋 Пишите, кто был сегодня 🙏🏻 ваши впечатления и эмоции 😻😻😻 Я вас люблю ❤️ L-Love ❤️❤️❤️#миромправитлюбовь#моилюдивегдасомной'}  -- \t -- ['🤗', '❤', '💕']\n",
      "{'text': 'Сегодня у нас Dead by April! Я фанатела от них 4 года назад) Они оказывается из Гетеборга #deadbyapril'}  -- \t -- ['🌞', '⭐', '👩']\n",
      "{'text': 'Самый точный прогноз для всех знаков Зодиака в нашем ежедневном проекте Cosmo - гороскоп! \\nВыбирай свой знак ;) @cosmo_pisces  РЫБЫ @cosmo_libra ВЕСЫ @cosmo_taurus ТЕЛЕЦ @cosmo_aquarius ВОДОЛЕЙ @cosmo_sagittarius СТРЕЛЕЦ @cosmo_scorpio - СКОРПИОН\\n @cosmo_leo ЛЕВ @cosmo_aries ОВЕН @cosmo_cancer - РАК @cosmo__capricorn КОЗЕРОГ @cosmo_virgo ДЕВА @cosmo_gemini БЛИЗНЕЦЫ'}  -- \t -- ['💞', '💫', '😉']\n",
      "{'text': 'Да-да-да, я красивая?!👸🏻И за это сегодня спасибо @prive7 ❤️'}  -- \t -- ['❤', '😂', '😃']\n",
      "{'text': '\"Эй! Небо! Сними шляпу\",- перед самым стартом ракеты сказала Валентина Терешкова, которой сегодня исполняется 79 лет🎂!!\\n\"Чайка\" - именно такой позывной был у первой женщины космонавта во время полёта на космическом корабле \"Восток-6\"🚀. Кстати, кадры приземления Терешковой, которые облетели весь мир, были постановочными и сняты на следующий день после реальной и очень тяжелой посадки🌡. Английская газета \"Daily express\" назвала её тогда \"Мисс Вселенная\", действительно легендарная женщина, которая в 26 лет покорила космос🌟!! Поздравляем Валентину Владимировну и желаем ей крепкого здоровья💫!!!'}  -- \t -- ['🙈', '🙏', '🏼']\n",
      "{'text': 'Танцоры, Педагоги, Хореографы, и просто танцующие люди, не равнодушные к ритмам танца, с Праздником Вас!!! 🎉🎉🎉🎉 Сегодня, 29 апреля, МЕЖДУНАРОДНЫЙ ДЕНЬ ТАНЦА ! Настоящий праздник, посвящённый всем его стилям💃🏻💃🏼💃🏽💃🏾💃🏿💃🏼\\n💭Зачем люди танцуют?💭 Кто-то хочет стать стройным и гибким, кто-то хочет показать себя, свои способности в танце, но есть люди, которые посвятили танцу всю свою жизнь. Ведь танец это одна из форм искусства, способная объединить людей разных национальностей во имя дружбы, любви и мира. 💃💃💃 Поздравляю всех своих друзей! И счастлива, что и у меня была в своё время возможность познакомимся с танцами 💃❤️ Я. Пасодобль. Танцы со звёздами. 2012 год #движениежизнь#ялюблюсвоюработу#buzova#dance#beauty#танцы'}  -- \t -- ['♀', '☺', '😂']\n",
      "{'text': '«Ива - мое любимое дерево. Она гнется под ураганными порывами, но не ломается». Пинк\\nPC 📷 @ Фото @pink\\n\\n#cosmo #cosmogirl #берипример #pink #цитатадня'}  -- \t -- ['🙈', '🎄', '🚕']\n",
      "{'text': 'Я никогда не... каталась на тракторе 🚜 Пишите, что вы «никогда не» – с меня лайк, если я это делала 😅🙈'}  -- \t -- ['😜', '😭', '❤']\n",
      "{'text': 'Еда в Италии-это тема вообще отдельная. О ней чуть позже расскажу, а вот с мороженкой мы уже достаточно близко познакомились и хочу сказать, что это ну ооооочень вкусно. Из необычного пробовали только со вкусом огурца и лакрицы...нуу..на любителя, скажем там. А я все ещё в поисках мороженого со вкусом пива и пиццы. Если кто знает где такое можно взять-буду очень рада🙏🏻☺️ #vsco #vscocam #vscogram #vscogood #vscocamphotos #vscofood #vscogallery #vscomilan #vscoitaly #travel #travelgram'}  -- \t -- ['😂', '✈', '🙈']\n",
      "{'text': 'А что для вас - осенний уют?\\nДля меня горячие напитки, свитера и сладости🍫☕️'}  -- \t -- ['🏡', '❤', '©']\n",
      "{'text': 'Сегодня нам повезло с погодкой!⛅️⛅️⛅️ гуляем😎 #мамафотограф#люблюсвоюсемью'}  -- \t -- ['😂', '🏻', '🙏']\n",
      "{'text': 'На завтра) \\nНачинающим: по 10 повторений каждое упражнение без перерыва. И таких 4-5 кругов.\\nПродвинутым: по 15 повторений, какие возможно упражнения с весом в виде гантели. Тоже 4-5 кругов \\nКто сегодня еще не качал?👿 еще не поздно 😏☺️'}  -- \t -- ['💪', '😝', '😉']\n",
      "{'text': 'Эта запись попала ко мне случайно... Один человечек делится своими эмоциями своей подруге в голосовых сообщениях. А я просто расплакалась, я никогда не осознавала, насколько сильно я важна для вас. Мне сейчас тоже непросто, я пытаюсь разобраться в себе и в своём творчестве; я вижу как вам не хватает влогов и позитивных постов) Читая директ, комментарии, просматривая фото и видео, чувствую, что вы понимаете меня лучше всего. Спасибо, что вы рядом!! Люблю.'}  -- \t -- ['❤', '🏻', '🏼']\n",
      "{'text': 'Не трогайте чужое, и своё не отдавайте 🙏🏻 #Repost @dom2_reality\\n・・・\\nСмотрите в эфире 14 января 2018 #Дом2 #ТНТ'}  -- \t -- ['\\U0001f937', '🌟', '😃']\n",
      "{'text': 'Сегодня #mkd_бьютисреда посвящаю процедурам у косметолога-эстетиста. Что я пробовала, а с чем бы повременила? ⠀\\n\\nМне 29 лет, я работала на телевидении, поэтому прекрасно представляла, чему можно было уделять больше внимания: на экране «несовершенства» особенно хорошо видно :)) В 24-25 я попала в утренний эфир (это когда ты в 5 утра уже должна загримированная готовиться к прямому вещанию) и начала искать sos-процедуры для лица с эффектом «как будто я нормально спала». ⠀ ⚠️ Это мой личный опыт и повторять что-либо без рекомендаций специалистов не надо.\\n⠀ ✅ Биоревитализация — это коктейль на основе гиалуроновой кислоты. Микро-уколы в лицо, шею и зону декольте (и еще чего угодно). Рекомендуют курс из 3-5 процедур, но мне хватало wow-эффекта от одной в месяц: увлажнение, упругость и цвет лица - то, что надо при недосыпе и активном макияже. Делать лучше во второй половине дня и после процедуры ничего не планировать :))\\n⠀ ✅ Profhilo — на мой взгляд, почти то же самое, что биоревитализация: в составе два типа гиалуронки. Разница в введении: Профайло экономит время — это всего 10 уколов в «биоэстетические точки», которые дают неожиданный эффект: лицо становится «остры» как у Малифисенты, но на следующий день это проходит. ⠀ ✅ Коррекция носослезной борозды. Для тех, кто переживает насчет выраженных кругов под глазами, а я очень переживала. Два варианта введения: шприцем непосредственно в борозду или через канюлю. Последний вариант исключает появление синяков, а значит, менее травматичен. Свежий взгляд и никакой реабилитации - эффект мгновенный. ⠀\\n\\nЧто я бы НЕ делала? ⠀ ❌ Все, что связано с общим наркозом. Например, блефаропластика без серьезных показаний. У меня наркоза не было и я стараюсь искать более мирные альтернативы. ⠀ ❌ Удаление комков Биша. На мой взгляд, неоправданный ажиотаж. Во-первых, это все же операция. Во-вторых, без этих «бесполезных» комков с возрастом лицо быстрее будет сползать. Себе же во вред, получается. ⠀\\n\\nС sos-процедурами получается примерно так. Обязательно консультируйтесь и не спешите с такими штуками, иногда правильно подобранный уход дома компенсирует такие манипуляции :) Что думаете?'}  -- \t -- ['😂', '🙈', '🏻']\n",
      "{'text': 'Тот случай, когда у меня съёмки вечером 😂🤗Как же тут хорошо ☀️☀️☀️👙💋🐬🐬🐬 #апочемубыинет#самаясчастливая#happy#love#люблюмужа'}  -- \t -- ['☺', '😉', '🙏']\n",
      "{'text': 'Зимнее царство от @ystinja ❄️⛄️🎄Что вы любите больше: лыжи, сноуборд или прогуляться пешком?'}  -- \t -- ['😭', '🏽', '😂']\n",
      "{'text': 'Сегодня снова выбрались в слинге😍😍\\nЯ уже и забыла и соскучилась🙈\\nТакой он обнимательный❤️❤️❤️\\nС коляской, все-таки, не удобно мне в тц..и малыш переживает, когда много информации((\\nКоляска хороша для просто прогулок где-нибудь, чтобы ляля спала или смотрела по сторонам и не была скована в движениях☺️\\nА в слинге удобно куда-нибудь сходить☺️\\nМы снова вырубились через мин 5 после заматывания🙈\\nИ как он вырос все таки😱😱\\nВремя летит со скоростью света😱\\n#слинг #слингомама #мама #мама2015 #инстамама #слингожизнь #слингожитель #дидимос #нарасстояниипоцелуя #sling #babysling #mama #mama2015 #instamama #didymos'}  -- \t -- ['🏼', '♀', '😂']\n"
     ]
    }
   ],
   "source": [
    "for text in val:\n",
    "    ans = test_strs(text)\n",
    "    if not isinstance(ans, type(None)):\n",
    "        print(text, ' -- \\t --', ans)\n"
   ]
  },
  {
   "cell_type": "code",
   "execution_count": 36,
   "metadata": {},
   "outputs": [
    {
     "data": {
      "text/plain": [
       "['💘', '\\U0001f937', '👧']"
      ]
     },
     "execution_count": 36,
     "metadata": {},
     "output_type": "execute_result"
    }
   ],
   "source": [
    "test_strs({'text': 'Дональд трамп и путин обьявили о помолвке'})"
   ]
  },
  {
   "cell_type": "code",
   "execution_count": null,
   "metadata": {},
   "outputs": [],
   "source": []
  },
  {
   "cell_type": "code",
   "execution_count": 37,
   "metadata": {},
   "outputs": [
    {
     "data": {
      "text/plain": [
       "['🙌', '😂', '🙈']"
      ]
     },
     "execution_count": 37,
     "metadata": {},
     "output_type": "execute_result"
    }
   ],
   "source": [
    "test_strs({'text':\n",
    "           'Вот такие дифирамбы поют Сашка поклонники 🤔А вы что скажете? Черно по делу выступает на Лобном или не всегда?'})"
   ]
  },
  {
   "cell_type": "code",
   "execution_count": 38,
   "metadata": {},
   "outputs": [],
   "source": [
    "simnet.cpu()\n",
    "torch.save(simnet.state_dict(), '../models/emojinet.state_dict')"
   ]
  },
  {
   "cell_type": "code",
   "execution_count": null,
   "metadata": {},
   "outputs": [],
   "source": []
  },
  {
   "cell_type": "code",
   "execution_count": 63,
   "metadata": {},
   "outputs": [],
   "source": [
    "import similarity as sim"
   ]
  },
  {
   "cell_type": "code",
   "execution_count": 69,
   "metadata": {},
   "outputs": [],
   "source": [
    "sim.process_str({'text':\n",
    "                 ' поклонники 🤔всегда?'})"
   ]
  },
  {
   "cell_type": "code",
   "execution_count": null,
   "metadata": {},
   "outputs": [],
   "source": []
  }
 ],
 "metadata": {
  "kernelspec": {
   "display_name": "Python 3",
   "language": "python",
   "name": "python3"
  },
  "language_info": {
   "codemirror_mode": {
    "name": "ipython",
    "version": 3
   },
   "file_extension": ".py",
   "mimetype": "text/x-python",
   "name": "python",
   "nbconvert_exporter": "python",
   "pygments_lexer": "ipython3",
   "version": "3.5.2"
  }
 },
 "nbformat": 4,
 "nbformat_minor": 2
}
