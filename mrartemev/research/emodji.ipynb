{
 "cells": [
  {
   "cell_type": "code",
   "execution_count": 1,
   "metadata": {},
   "outputs": [],
   "source": [
    "import torch\n",
    "from torch.utils.data import DataLoader, Dataset\n",
    "from torch import nn\n",
    "from torch.nn import functional as F\n",
    "\n",
    "import json\n",
    "import re\n",
    "\n",
    "import numpy as np\n",
    "import itertools\n",
    "from collections import Counter, defaultdict\n",
    "\n",
    "from tqdm import tqdm_notebook\n",
    "\n",
    "\n",
    "import matplotlib.pyplot as plt\n",
    "%matplotlib inline"
   ]
  },
  {
   "cell_type": "code",
   "execution_count": 2,
   "metadata": {},
   "outputs": [],
   "source": [
    "# !pip3 install pymorphy2[fast]\n",
    "# !pip3 install gensim\n",
    "# !pip3 install torchtext\n",
    "# !pip3 install emoji\n"
   ]
  },
  {
   "cell_type": "code",
   "execution_count": 3,
   "metadata": {},
   "outputs": [],
   "source": [
    "import pymorphy2\n",
    "\n",
    "morph = pymorphy2.MorphAnalyzer()\n",
    "\n",
    "def normal_form(word):\n",
    "    return morph.parse(word)[0].normal_form"
   ]
  },
  {
   "cell_type": "code",
   "execution_count": 4,
   "metadata": {},
   "outputs": [],
   "source": [
    "import emoji\n",
    "\n",
    "def find_emoji(text):\n",
    "    emojis = []\n",
    "    for character in text:\n",
    "        if character in emoji.UNICODE_EMOJI:\n",
    "            emojis.append(character)\n",
    "    return emojis\n",
    "\n",
    "def char_is_emoji(character):\n",
    "    return character in emoji.UNICODE_EMOJI\n"
   ]
  },
  {
   "cell_type": "code",
   "execution_count": 5,
   "metadata": {},
   "outputs": [],
   "source": [
    "def preprocess(text):\n",
    "    return ' '.join([normal_form(i) for i in re.findall(r'[А-я]+', text) if len(i) > 2])"
   ]
  },
  {
   "cell_type": "code",
   "execution_count": 6,
   "metadata": {},
   "outputs": [],
   "source": [
    "import torchtext.vocab as vocab\n",
    "\n",
    "vectors = vocab.Vectors('../data/ruwiki_20180420_100d.txt') # file created by gensim\n"
   ]
  },
  {
   "cell_type": "code",
   "execution_count": 7,
   "metadata": {},
   "outputs": [],
   "source": [
    "PAD_IDX = len(vectors.stoi) - 2\n",
    "UNK_IDX = len(vectors.stoi) - 1\n",
    "TOTAL_EMBS = len(vectors)"
   ]
  },
  {
   "cell_type": "code",
   "execution_count": 8,
   "metadata": {},
   "outputs": [],
   "source": [
    "def vectorize(text):\n",
    "    emojis = find_emoji(text['text'])\n",
    "    if len(emojis) == 0:\n",
    "        return None, None\n",
    "    try:\n",
    "        text = preprocess(text['text'])\n",
    "    except TypeError as e:\n",
    "        return None, None\n",
    "    inds = []\n",
    "    if len(text.split()) < 3:\n",
    "        return None, None\n",
    "    for word in text.split():\n",
    "        try:\n",
    "            inds.append(vectors.stoi[word])\n",
    "        except KeyError:\n",
    "            inds.append(UNK_IDX)\n",
    "    if len(inds) < 2:\n",
    "        return None, None\n",
    "    while len(inds) < 90:\n",
    "        inds.append(PAD_IDX)\n",
    "    return inds[:90], emojis"
   ]
  },
  {
   "cell_type": "code",
   "execution_count": 9,
   "metadata": {},
   "outputs": [],
   "source": [
    "def vectorize_all(texts):\n",
    "    ans = []\n",
    "    emojis = []\n",
    "    for text in tqdm_notebook(texts):\n",
    "        try:\n",
    "            vec, ems = vectorize(text)\n",
    "        except Exception as e:\n",
    "            continue\n",
    "        if vec:\n",
    "            ans.append(vec)\n",
    "            emojis.append(ems)\n",
    "    return ans, emojis"
   ]
  },
  {
   "cell_type": "code",
   "execution_count": 10,
   "metadata": {},
   "outputs": [
    {
     "data": {
      "application/vnd.jupyter.widget-view+json": {
       "model_id": "0ba62edacfb949ddaa50623f82742d33",
       "version_major": 2,
       "version_minor": 0
      },
      "text/plain": [
       "HBox(children=(IntProgress(value=0, max=9800), HTML(value='')))"
      ]
     },
     "metadata": {},
     "output_type": "display_data"
    },
    {
     "name": "stdout",
     "output_type": "stream",
     "text": [
      "\n"
     ]
    }
   ],
   "source": [
    "with open('../data/mem_big.json', 'r') as f:\n",
    "    cosmo = json.load(f)\n",
    "cosmo, emojis = vectorize_all(cosmo)\n"
   ]
  },
  {
   "cell_type": "code",
   "execution_count": 11,
   "metadata": {},
   "outputs": [],
   "source": [
    "# e2num = Counter(itertools.chain.from_iterable(emojis))\n",
    "# e2i = defaultdict(lambda:632)\n",
    "# c = 0\n",
    "# for ind, e in enumerate(e2num):\n",
    "#     if e2num[e[0]] > 3:\n",
    "#         e2i[e[0]] = c\n",
    "#         c+=1\n",
    "#     else:\n",
    "#         print(e, end=' ')\n",
    "\n",
    "# i2e = defaultdict(lambda:'❓')\n",
    "# for e, i in e2i.items():\n",
    "#     i2e[i] = e\n"
   ]
  },
  {
   "cell_type": "code",
   "execution_count": null,
   "metadata": {},
   "outputs": [],
   "source": []
  },
  {
   "cell_type": "code",
   "execution_count": 12,
   "metadata": {},
   "outputs": [
    {
     "name": "stdout",
     "output_type": "stream",
     "text": [
      "🐼 🚃 😗 📐 🏈 🛥 😚 🌨 🎷 🤫 ➰ 🌧 🔫 🛫 😵 🔎 🚒 🐋 🥦 🏥 🌦 🧣 🇵 🎮 🖥 🛋 🔦 😣 🍡 🐒 📈 👡 🍥 🙉 🥘 💲 🐈 ☄ 🐦 🛀 🗓 🌫 🍮 🏚 🌽 😒 📡 🎿 📕 😐 🏫 🐏 🏔 ⚗ 🔔 🇳 📆 🚶 🎣 🚿 🔖 👮 🚲 ↖ ⚜ 🎏 📅 🥈 📞 🕶 🕑 🌜 🐥 🏪 🌇 😽 ™ 🎎 🏛 ⚓ 🚫 📑 📊 🇩 🥉 🚁 🧜 👕 🌵 😷 🤖 🏓 👬 😴 🎠 📣 💯 👅 👾 🏦 🤳 🛩 📵 🤒 👿 😡 🌮 🌪 🐝 🇿 😪 🐤 🌯 🎆 ↔ 📋 🍨 🍷 🦸 😑 🐠 🧁 😟 🐭 🎓 ✋ 😸 🖊 🐩 🏰 🧗 😰 🤙 🥬 🐷 🌒 💶 🎢 🍱 🧸 🕚 🚇 📦 ⛑ 🤨 🇲 👐 🥒 🚉 🧒 🗣 🖋 🍅 🐔 ⛵ 🧥 🏝 🍚 🤢 📻 🦃 🤼 🏀 📄 🐅 👣 📨 🌻 👃 😩 🌔 ⛔ 💼 🖐 🔒 😦 🖖 🎫 🎺 🛌 🚑 🚖 🚡 ☃ 🎟 🧵 🚂 🍖 🥙 🚤 ⚪ ⬇ 🍽 🍴 🐸 🙁 🧟 🎰 📜 🤝 🌥 🌛 🏌 💒 ♠ 🗞 🌐 🏨 🚊 ☹ 🚐 🛰 👂 🐄 💿 📮 ⛪ 😫 🍐 🧀 🇦 🏹 ⏸ 🚔 🌕 👛 🦇 🤑 🐍 🚘 💧 🔳 🐯 🌁 ➕ ⚾ 🚼 😨 🕛 ⛳ 🐑 🧐 🤞 🥪 🚓 🍵 🐿 🍇 🎖 🛳 🔵 🐇 🤺 🖼 💉 🔅 🇰 📀 📒 🇯 🍤 🌱 🙆 🎇 🔊 🥤 ⏱ 🚢 ✏ 👹 😿 ✉ ⌛ ☁ 🚵 🏠 ⌚ 🚌 ✒ 🐘 🌾 🥚 🐀 ⛹ 👞 🚦 🎻 📔 🦅 👊 🦎 🚨 🙇 🎡 ⚖ 🧝 📬 🎪 💽 🌌 ⚔ 🇨 🍜 😺 🌳 🍆 🛷 🇬 🕰 🔬 👴 "
     ]
    }
   ],
   "source": [
    "e2num = Counter(itertools.chain.from_iterable(emojis))\n",
    "e2i = {}\n",
    "c = 0\n",
    "for ind, e in enumerate(e2num):\n",
    "    if e2num[e[0]] > 3:\n",
    "        e2i[e[0]] = c\n",
    "        c+=1\n",
    "    else:\n",
    "        print(e, end=' ')\n",
    "\n",
    "i2e = {}\n",
    "for e, i in e2i.items():\n",
    "    i2e[i] = e\n"
   ]
  },
  {
   "cell_type": "code",
   "execution_count": 13,
   "metadata": {},
   "outputs": [
    {
     "data": {
      "image/png": "[encoded data removed]",
      "text/plain": [
       "<Figure size 432x288 with 1 Axes>"
      ]
     },
     "metadata": {
      "needs_background": "light"
     },
     "output_type": "display_data"
    }
   ],
   "source": [
    "plt.hist([i[1] for i in e2num.most_common() if i[1] < 60], bins=50)\n",
    "plt.show()"
   ]
  },
  {
   "cell_type": "code",
   "execution_count": null,
   "metadata": {},
   "outputs": [],
   "source": []
  },
  {
   "cell_type": "code",
   "execution_count": 14,
   "metadata": {},
   "outputs": [],
   "source": [
    "class FasttextSet(Dataset):\n",
    "    def __init__(self, cosmo):\n",
    "        '''\n",
    "        data - json file name\n",
    "        '''\n",
    "        with open(cosmo, 'r') as f:\n",
    "            self.cosmo = json.load(f)\n",
    "        self.cosmo, self.emojis = vectorize_all(self.cosmo)\n",
    "        self.cosmo = np.array(self.cosmo)\n",
    "        \n",
    "        self.x = []\n",
    "        self.y = []\n",
    "        for vec, em in zip(self.cosmo, self.emojis):\n",
    "            emjs = np.zeros(len(e2i))\n",
    "            empty_flag = 0\n",
    "            for e in em:\n",
    "                try:\n",
    "                    emjs[e2i[e]] = 1\n",
    "                    empty_flag = 1\n",
    "                except Exception as e:\n",
    "                    continue\n",
    "            if empty_flag:\n",
    "                self.x.append(vec)\n",
    "                self.y.append(emjs)\n",
    "        self.x = np.row_stack(self.x)\n",
    "        self.y = np.row_stack(self.y)\n",
    "            \n",
    "    def __len__(self):\n",
    "        return len(self.x)\n",
    "    \n",
    "    def __getitem__(self, ind):\n",
    "        return torch.Tensor(self.x[ind]).long(), self.y[ind]"
   ]
  },
  {
   "cell_type": "code",
   "execution_count": 15,
   "metadata": {},
   "outputs": [
    {
     "data": {
      "application/vnd.jupyter.widget-view+json": {
       "model_id": "89bdc78b774a42ab829fd9c68efb9c6b",
       "version_major": 2,
       "version_minor": 0
      },
      "text/plain": [
       "HBox(children=(IntProgress(value=0, max=9700), HTML(value='')))"
      ]
     },
     "metadata": {},
     "output_type": "display_data"
    },
    {
     "name": "stdout",
     "output_type": "stream",
     "text": [
      "\n"
     ]
    }
   ],
   "source": [
    "memLoader = DataLoader(FasttextSet('../data/mem-train.json'),\n",
    "                       batch_size=32, shuffle=True)"
   ]
  },
  {
   "cell_type": "code",
   "execution_count": 17,
   "metadata": {},
   "outputs": [
    {
     "data": {
      "application/vnd.jupyter.widget-view+json": {
       "model_id": "89fed672f88b473f8ab4fa82821b18b9",
       "version_major": 2,
       "version_minor": 0
      },
      "text/plain": [
       "HBox(children=(IntProgress(value=0), HTML(value='')))"
      ]
     },
     "metadata": {},
     "output_type": "display_data"
    },
    {
     "name": "stdout",
     "output_type": "stream",
     "text": [
      "\n"
     ]
    }
   ],
   "source": [
    "memLoader_val = DataLoader(FasttextSet('../data/mem-val.json'),\n",
    "                           batch_size=32, shuffle=True)"
   ]
  },
  {
   "cell_type": "code",
   "execution_count": 18,
   "metadata": {},
   "outputs": [],
   "source": [
    "class SimilarityNet(nn.Module):\n",
    "    def __init__(self, ):\n",
    "        super(SimilarityNet, self).__init__()\n",
    "        self.embs = nn.Embedding(len(vectors), embedding_dim=100, padding_idx=PAD_IDX).from_pretrained(\n",
    "            torch.FloatTensor(vectors.vectors)\n",
    "        )\n",
    "        self.process = nn.Sequential(\n",
    "            nn.Conv1d(100, 128, 15),\n",
    "            nn.BatchNorm1d(128),\n",
    "            nn.LeakyReLU(0.05),\n",
    "            nn.Conv1d(128, 128, 9),\n",
    "            nn.BatchNorm1d(128),\n",
    "            nn.LeakyReLU(0.05),\n",
    "            nn.Conv1d(128, 32, 5),\n",
    "            nn.BatchNorm1d(32),\n",
    "            nn.LeakyReLU(0.05),\n",
    "        )\n",
    "        self.fc = nn.Sequential(\n",
    "            nn.Linear(2048, 1024),\n",
    "            nn.BatchNorm1d(1024),\n",
    "            nn.ReLU(),\n",
    "            nn.Linear(1024, len(e2i)),\n",
    "            nn.BatchNorm1d(len(e2i)),\n",
    "#            nn.Sigmoid(),\n",
    "            \n",
    "        )\n",
    "        \n",
    "    def forward(self, x):\n",
    "        x = self.process(self.embs(x).permute(0, 2, 1))\n",
    "        x = x.view(x.shape[0], -1)\n",
    "        return self.fc(x)"
   ]
  },
  {
   "cell_type": "code",
   "execution_count": 19,
   "metadata": {},
   "outputs": [],
   "source": [
    "simnet = SimilarityNet().cuda()\n",
    "criterion = nn.BCEWithLogitsLoss()\n",
    "optim = torch.optim.Adam(simnet.parameters())"
   ]
  },
  {
   "cell_type": "code",
   "execution_count": 20,
   "metadata": {},
   "outputs": [
    {
     "data": {
      "application/vnd.jupyter.widget-view+json": {
       "model_id": "3b99b2834be14aacb41cb618fff4ca5a",
       "version_major": 2,
       "version_minor": 0
      },
      "text/plain": [
       "HBox(children=(IntProgress(value=0), HTML(value='')))"
      ]
     },
     "metadata": {},
     "output_type": "display_data"
    },
    {
     "data": {
      "application/vnd.jupyter.widget-view+json": {
       "model_id": "",
       "version_major": 2,
       "version_minor": 0
      },
      "text/plain": [
       "HBox(children=(IntProgress(value=0, max=215), HTML(value='')))"
      ]
     },
     "metadata": {},
     "output_type": "display_data"
    },
    {
     "data": {
      "application/vnd.jupyter.widget-view+json": {
       "model_id": "",
       "version_major": 2,
       "version_minor": 0
      },
      "text/plain": [
       "HBox(children=(IntProgress(value=0, max=215), HTML(value='')))"
      ]
     },
     "metadata": {},
     "output_type": "display_data"
    },
    {
     "data": {
      "application/vnd.jupyter.widget-view+json": {
       "model_id": "",
       "version_major": 2,
       "version_minor": 0
      },
      "text/plain": [
       "HBox(children=(IntProgress(value=0, max=215), HTML(value='')))"
      ]
     },
     "metadata": {},
     "output_type": "display_data"
    },
    {
     "data": {
      "application/vnd.jupyter.widget-view+json": {
       "model_id": "",
       "version_major": 2,
       "version_minor": 0
      },
      "text/plain": [
       "HBox(children=(IntProgress(value=0, max=215), HTML(value='')))"
      ]
     },
     "metadata": {},
     "output_type": "display_data"
    },
    {
     "data": {
      "application/vnd.jupyter.widget-view+json": {
       "model_id": "",
       "version_major": 2,
       "version_minor": 0
      },
      "text/plain": [
       "HBox(children=(IntProgress(value=0, max=215), HTML(value='')))"
      ]
     },
     "metadata": {},
     "output_type": "display_data"
    },
    {
     "data": {
      "application/vnd.jupyter.widget-view+json": {
       "model_id": "",
       "version_major": 2,
       "version_minor": 0
      },
      "text/plain": [
       "HBox(children=(IntProgress(value=0, max=215), HTML(value='')))"
      ]
     },
     "metadata": {},
     "output_type": "display_data"
    },
    {
     "data": {
      "application/vnd.jupyter.widget-view+json": {
       "model_id": "",
       "version_major": 2,
       "version_minor": 0
      },
      "text/plain": [
       "HBox(children=(IntProgress(value=0, max=215), HTML(value='')))"
      ]
     },
     "metadata": {},
     "output_type": "display_data"
    },
    {
     "data": {
      "application/vnd.jupyter.widget-view+json": {
       "model_id": "",
       "version_major": 2,
       "version_minor": 0
      },
      "text/plain": [
       "HBox(children=(IntProgress(value=0, max=215), HTML(value='')))"
      ]
     },
     "metadata": {},
     "output_type": "display_data"
    },
    {
     "data": {
      "application/vnd.jupyter.widget-view+json": {
       "model_id": "",
       "version_major": 2,
       "version_minor": 0
      },
      "text/plain": [
       "HBox(children=(IntProgress(value=0, max=215), HTML(value='')))"
      ]
     },
     "metadata": {},
     "output_type": "display_data"
    },
    {
     "data": {
      "application/vnd.jupyter.widget-view+json": {
       "model_id": "",
       "version_major": 2,
       "version_minor": 0
      },
      "text/plain": [
       "HBox(children=(IntProgress(value=0, max=215), HTML(value='')))"
      ]
     },
     "metadata": {},
     "output_type": "display_data"
    },
    {
     "data": {
      "application/vnd.jupyter.widget-view+json": {
       "model_id": "",
       "version_major": 2,
       "version_minor": 0
      },
      "text/plain": [
       "HBox(children=(IntProgress(value=0, max=215), HTML(value='')))"
      ]
     },
     "metadata": {},
     "output_type": "display_data"
    },
    {
     "data": {
      "application/vnd.jupyter.widget-view+json": {
       "model_id": "",
       "version_major": 2,
       "version_minor": 0
      },
      "text/plain": [
       "HBox(children=(IntProgress(value=0, max=215), HTML(value='')))"
      ]
     },
     "metadata": {},
     "output_type": "display_data"
    },
    {
     "data": {
      "application/vnd.jupyter.widget-view+json": {
       "model_id": "",
       "version_major": 2,
       "version_minor": 0
      },
      "text/plain": [
       "HBox(children=(IntProgress(value=0, max=215), HTML(value='')))"
      ]
     },
     "metadata": {},
     "output_type": "display_data"
    },
    {
     "data": {
      "application/vnd.jupyter.widget-view+json": {
       "model_id": "",
       "version_major": 2,
       "version_minor": 0
      },
      "text/plain": [
       "HBox(children=(IntProgress(value=0, max=215), HTML(value='')))"
      ]
     },
     "metadata": {},
     "output_type": "display_data"
    },
    {
     "data": {
      "application/vnd.jupyter.widget-view+json": {
       "model_id": "",
       "version_major": 2,
       "version_minor": 0
      },
      "text/plain": [
       "HBox(children=(IntProgress(value=0, max=215), HTML(value='')))"
      ]
     },
     "metadata": {},
     "output_type": "display_data"
    },
    {
     "data": {
      "application/vnd.jupyter.widget-view+json": {
       "model_id": "",
       "version_major": 2,
       "version_minor": 0
      },
      "text/plain": [
       "HBox(children=(IntProgress(value=0, max=215), HTML(value='')))"
      ]
     },
     "metadata": {},
     "output_type": "display_data"
    },
    {
     "data": {
      "application/vnd.jupyter.widget-view+json": {
       "model_id": "",
       "version_major": 2,
       "version_minor": 0
      },
      "text/plain": [
       "HBox(children=(IntProgress(value=0, max=215), HTML(value='')))"
      ]
     },
     "metadata": {},
     "output_type": "display_data"
    },
    {
     "data": {
      "application/vnd.jupyter.widget-view+json": {
       "model_id": "",
       "version_major": 2,
       "version_minor": 0
      },
      "text/plain": [
       "HBox(children=(IntProgress(value=0, max=215), HTML(value='')))"
      ]
     },
     "metadata": {},
     "output_type": "display_data"
    },
    {
     "data": {
      "application/vnd.jupyter.widget-view+json": {
       "model_id": "",
       "version_major": 2,
       "version_minor": 0
      },
      "text/plain": [
       "HBox(children=(IntProgress(value=0, max=215), HTML(value='')))"
      ]
     },
     "metadata": {},
     "output_type": "display_data"
    },
    {
     "data": {
      "application/vnd.jupyter.widget-view+json": {
       "model_id": "",
       "version_major": 2,
       "version_minor": 0
      },
      "text/plain": [
       "HBox(children=(IntProgress(value=0, max=215), HTML(value='')))"
      ]
     },
     "metadata": {},
     "output_type": "display_data"
    },
    {
     "data": {
      "application/vnd.jupyter.widget-view+json": {
       "model_id": "",
       "version_major": 2,
       "version_minor": 0
      },
      "text/plain": [
       "HBox(children=(IntProgress(value=0, max=215), HTML(value='')))"
      ]
     },
     "metadata": {},
     "output_type": "display_data"
    },
    {
     "data": {
      "application/vnd.jupyter.widget-view+json": {
       "model_id": "",
       "version_major": 2,
       "version_minor": 0
      },
      "text/plain": [
       "HBox(children=(IntProgress(value=0, max=215), HTML(value='')))"
      ]
     },
     "metadata": {},
     "output_type": "display_data"
    },
    {
     "data": {
      "application/vnd.jupyter.widget-view+json": {
       "model_id": "",
       "version_major": 2,
       "version_minor": 0
      },
      "text/plain": [
       "HBox(children=(IntProgress(value=0, max=215), HTML(value='')))"
      ]
     },
     "metadata": {},
     "output_type": "display_data"
    },
    {
     "data": {
      "application/vnd.jupyter.widget-view+json": {
       "model_id": "",
       "version_major": 2,
       "version_minor": 0
      },
      "text/plain": [
       "HBox(children=(IntProgress(value=0, max=215), HTML(value='')))"
      ]
     },
     "metadata": {},
     "output_type": "display_data"
    },
    {
     "data": {
      "application/vnd.jupyter.widget-view+json": {
       "model_id": "",
       "version_major": 2,
       "version_minor": 0
      },
      "text/plain": [
       "HBox(children=(IntProgress(value=0, max=215), HTML(value='')))"
      ]
     },
     "metadata": {},
     "output_type": "display_data"
    },
    {
     "data": {
      "application/vnd.jupyter.widget-view+json": {
       "model_id": "",
       "version_major": 2,
       "version_minor": 0
      },
      "text/plain": [
       "HBox(children=(IntProgress(value=0, max=215), HTML(value='')))"
      ]
     },
     "metadata": {},
     "output_type": "display_data"
    },
    {
     "data": {
      "application/vnd.jupyter.widget-view+json": {
       "model_id": "",
       "version_major": 2,
       "version_minor": 0
      },
      "text/plain": [
       "HBox(children=(IntProgress(value=0, max=215), HTML(value='')))"
      ]
     },
     "metadata": {},
     "output_type": "display_data"
    },
    {
     "data": {
      "application/vnd.jupyter.widget-view+json": {
       "model_id": "",
       "version_major": 2,
       "version_minor": 0
      },
      "text/plain": [
       "HBox(children=(IntProgress(value=0, max=215), HTML(value='')))"
      ]
     },
     "metadata": {},
     "output_type": "display_data"
    },
    {
     "data": {
      "application/vnd.jupyter.widget-view+json": {
       "model_id": "",
       "version_major": 2,
       "version_minor": 0
      },
      "text/plain": [
       "HBox(children=(IntProgress(value=0, max=215), HTML(value='')))"
      ]
     },
     "metadata": {},
     "output_type": "display_data"
    },
    {
     "data": {
      "application/vnd.jupyter.widget-view+json": {
       "model_id": "",
       "version_major": 2,
       "version_minor": 0
      },
      "text/plain": [
       "HBox(children=(IntProgress(value=0, max=215), HTML(value='')))"
      ]
     },
     "metadata": {},
     "output_type": "display_data"
    },
    {
     "data": {
      "application/vnd.jupyter.widget-view+json": {
       "model_id": "",
       "version_major": 2,
       "version_minor": 0
      },
      "text/plain": [
       "HBox(children=(IntProgress(value=0, max=215), HTML(value='')))"
      ]
     },
     "metadata": {},
     "output_type": "display_data"
    },
    {
     "data": {
      "application/vnd.jupyter.widget-view+json": {
       "model_id": "",
       "version_major": 2,
       "version_minor": 0
      },
      "text/plain": [
       "HBox(children=(IntProgress(value=0, max=215), HTML(value='')))"
      ]
     },
     "metadata": {},
     "output_type": "display_data"
    },
    {
     "data": {
      "application/vnd.jupyter.widget-view+json": {
       "model_id": "",
       "version_major": 2,
       "version_minor": 0
      },
      "text/plain": [
       "HBox(children=(IntProgress(value=0, max=215), HTML(value='')))"
      ]
     },
     "metadata": {},
     "output_type": "display_data"
    },
    {
     "data": {
      "application/vnd.jupyter.widget-view+json": {
       "model_id": "",
       "version_major": 2,
       "version_minor": 0
      },
      "text/plain": [
       "HBox(children=(IntProgress(value=0, max=215), HTML(value='')))"
      ]
     },
     "metadata": {},
     "output_type": "display_data"
    },
    {
     "data": {
      "application/vnd.jupyter.widget-view+json": {
       "model_id": "",
       "version_major": 2,
       "version_minor": 0
      },
      "text/plain": [
       "HBox(children=(IntProgress(value=0, max=215), HTML(value='')))"
      ]
     },
     "metadata": {},
     "output_type": "display_data"
    },
    {
     "data": {
      "application/vnd.jupyter.widget-view+json": {
       "model_id": "",
       "version_major": 2,
       "version_minor": 0
      },
      "text/plain": [
       "HBox(children=(IntProgress(value=0, max=215), HTML(value='')))"
      ]
     },
     "metadata": {},
     "output_type": "display_data"
    },
    {
     "data": {
      "application/vnd.jupyter.widget-view+json": {
       "model_id": "",
       "version_major": 2,
       "version_minor": 0
      },
      "text/plain": [
       "HBox(children=(IntProgress(value=0, max=215), HTML(value='')))"
      ]
     },
     "metadata": {},
     "output_type": "display_data"
    },
    {
     "data": {
      "application/vnd.jupyter.widget-view+json": {
       "model_id": "",
       "version_major": 2,
       "version_minor": 0
      },
      "text/plain": [
       "HBox(children=(IntProgress(value=0, max=215), HTML(value='')))"
      ]
     },
     "metadata": {},
     "output_type": "display_data"
    },
    {
     "data": {
      "application/vnd.jupyter.widget-view+json": {
       "model_id": "",
       "version_major": 2,
       "version_minor": 0
      },
      "text/plain": [
       "HBox(children=(IntProgress(value=0, max=215), HTML(value='')))"
      ]
     },
     "metadata": {},
     "output_type": "display_data"
    },
    {
     "data": {
      "application/vnd.jupyter.widget-view+json": {
       "model_id": "",
       "version_major": 2,
       "version_minor": 0
      },
      "text/plain": [
       "HBox(children=(IntProgress(value=0, max=215), HTML(value='')))"
      ]
     },
     "metadata": {},
     "output_type": "display_data"
    },
    {
     "data": {
      "application/vnd.jupyter.widget-view+json": {
       "model_id": "",
       "version_major": 2,
       "version_minor": 0
      },
      "text/plain": [
       "HBox(children=(IntProgress(value=0, max=215), HTML(value='')))"
      ]
     },
     "metadata": {},
     "output_type": "display_data"
    },
    {
     "data": {
      "application/vnd.jupyter.widget-view+json": {
       "model_id": "",
       "version_major": 2,
       "version_minor": 0
      },
      "text/plain": [
       "HBox(children=(IntProgress(value=0, max=215), HTML(value='')))"
      ]
     },
     "metadata": {},
     "output_type": "display_data"
    },
    {
     "data": {
      "application/vnd.jupyter.widget-view+json": {
       "model_id": "",
       "version_major": 2,
       "version_minor": 0
      },
      "text/plain": [
       "HBox(children=(IntProgress(value=0, max=215), HTML(value='')))"
      ]
     },
     "metadata": {},
     "output_type": "display_data"
    },
    {
     "data": {
      "application/vnd.jupyter.widget-view+json": {
       "model_id": "",
       "version_major": 2,
       "version_minor": 0
      },
      "text/plain": [
       "HBox(children=(IntProgress(value=0, max=215), HTML(value='')))"
      ]
     },
     "metadata": {},
     "output_type": "display_data"
    },
    {
     "data": {
      "application/vnd.jupyter.widget-view+json": {
       "model_id": "",
       "version_major": 2,
       "version_minor": 0
      },
      "text/plain": [
       "HBox(children=(IntProgress(value=0, max=215), HTML(value='')))"
      ]
     },
     "metadata": {},
     "output_type": "display_data"
    },
    {
     "data": {
      "application/vnd.jupyter.widget-view+json": {
       "model_id": "",
       "version_major": 2,
       "version_minor": 0
      },
      "text/plain": [
       "HBox(children=(IntProgress(value=0, max=215), HTML(value='')))"
      ]
     },
     "metadata": {},
     "output_type": "display_data"
    },
    {
     "data": {
      "application/vnd.jupyter.widget-view+json": {
       "model_id": "",
       "version_major": 2,
       "version_minor": 0
      },
      "text/plain": [
       "HBox(children=(IntProgress(value=0, max=215), HTML(value='')))"
      ]
     },
     "metadata": {},
     "output_type": "display_data"
    },
    {
     "data": {
      "application/vnd.jupyter.widget-view+json": {
       "model_id": "",
       "version_major": 2,
       "version_minor": 0
      },
      "text/plain": [
       "HBox(children=(IntProgress(value=0, max=215), HTML(value='')))"
      ]
     },
     "metadata": {},
     "output_type": "display_data"
    },
    {
     "data": {
      "application/vnd.jupyter.widget-view+json": {
       "model_id": "",
       "version_major": 2,
       "version_minor": 0
      },
      "text/plain": [
       "HBox(children=(IntProgress(value=0, max=215), HTML(value='')))"
      ]
     },
     "metadata": {},
     "output_type": "display_data"
    },
    {
     "data": {
      "application/vnd.jupyter.widget-view+json": {
       "model_id": "",
       "version_major": 2,
       "version_minor": 0
      },
      "text/plain": [
       "HBox(children=(IntProgress(value=0, max=215), HTML(value='')))"
      ]
     },
     "metadata": {},
     "output_type": "display_data"
    },
    {
     "data": {
      "application/vnd.jupyter.widget-view+json": {
       "model_id": "",
       "version_major": 2,
       "version_minor": 0
      },
      "text/plain": [
       "HBox(children=(IntProgress(value=0, max=215), HTML(value='')))"
      ]
     },
     "metadata": {},
     "output_type": "display_data"
    },
    {
     "data": {
      "application/vnd.jupyter.widget-view+json": {
       "model_id": "",
       "version_major": 2,
       "version_minor": 0
      },
      "text/plain": [
       "HBox(children=(IntProgress(value=0, max=215), HTML(value='')))"
      ]
     },
     "metadata": {},
     "output_type": "display_data"
    },
    {
     "data": {
      "application/vnd.jupyter.widget-view+json": {
       "model_id": "",
       "version_major": 2,
       "version_minor": 0
      },
      "text/plain": [
       "HBox(children=(IntProgress(value=0, max=215), HTML(value='')))"
      ]
     },
     "metadata": {},
     "output_type": "display_data"
    },
    {
     "data": {
      "application/vnd.jupyter.widget-view+json": {
       "model_id": "",
       "version_major": 2,
       "version_minor": 0
      },
      "text/plain": [
       "HBox(children=(IntProgress(value=0, max=215), HTML(value='')))"
      ]
     },
     "metadata": {},
     "output_type": "display_data"
    },
    {
     "data": {
      "application/vnd.jupyter.widget-view+json": {
       "model_id": "",
       "version_major": 2,
       "version_minor": 0
      },
      "text/plain": [
       "HBox(children=(IntProgress(value=0, max=215), HTML(value='')))"
      ]
     },
     "metadata": {},
     "output_type": "display_data"
    },
    {
     "data": {
      "application/vnd.jupyter.widget-view+json": {
       "model_id": "",
       "version_major": 2,
       "version_minor": 0
      },
      "text/plain": [
       "HBox(children=(IntProgress(value=0, max=215), HTML(value='')))"
      ]
     },
     "metadata": {},
     "output_type": "display_data"
    },
    {
     "data": {
      "application/vnd.jupyter.widget-view+json": {
       "model_id": "",
       "version_major": 2,
       "version_minor": 0
      },
      "text/plain": [
       "HBox(children=(IntProgress(value=0, max=215), HTML(value='')))"
      ]
     },
     "metadata": {},
     "output_type": "display_data"
    },
    {
     "data": {
      "application/vnd.jupyter.widget-view+json": {
       "model_id": "",
       "version_major": 2,
       "version_minor": 0
      },
      "text/plain": [
       "HBox(children=(IntProgress(value=0, max=215), HTML(value='')))"
      ]
     },
     "metadata": {},
     "output_type": "display_data"
    },
    {
     "data": {
      "application/vnd.jupyter.widget-view+json": {
       "model_id": "",
       "version_major": 2,
       "version_minor": 0
      },
      "text/plain": [
       "HBox(children=(IntProgress(value=0, max=215), HTML(value='')))"
      ]
     },
     "metadata": {},
     "output_type": "display_data"
    },
    {
     "data": {
      "application/vnd.jupyter.widget-view+json": {
       "model_id": "",
       "version_major": 2,
       "version_minor": 0
      },
      "text/plain": [
       "HBox(children=(IntProgress(value=0, max=215), HTML(value='')))"
      ]
     },
     "metadata": {},
     "output_type": "display_data"
    },
    {
     "data": {
      "application/vnd.jupyter.widget-view+json": {
       "model_id": "",
       "version_major": 2,
       "version_minor": 0
      },
      "text/plain": [
       "HBox(children=(IntProgress(value=0, max=215), HTML(value='')))"
      ]
     },
     "metadata": {},
     "output_type": "display_data"
    },
    {
     "data": {
      "application/vnd.jupyter.widget-view+json": {
       "model_id": "",
       "version_major": 2,
       "version_minor": 0
      },
      "text/plain": [
       "HBox(children=(IntProgress(value=0, max=215), HTML(value='')))"
      ]
     },
     "metadata": {},
     "output_type": "display_data"
    },
    {
     "data": {
      "application/vnd.jupyter.widget-view+json": {
       "model_id": "",
       "version_major": 2,
       "version_minor": 0
      },
      "text/plain": [
       "HBox(children=(IntProgress(value=0, max=215), HTML(value='')))"
      ]
     },
     "metadata": {},
     "output_type": "display_data"
    },
    {
     "data": {
      "application/vnd.jupyter.widget-view+json": {
       "model_id": "",
       "version_major": 2,
       "version_minor": 0
      },
      "text/plain": [
       "HBox(children=(IntProgress(value=0, max=215), HTML(value='')))"
      ]
     },
     "metadata": {},
     "output_type": "display_data"
    },
    {
     "data": {
      "application/vnd.jupyter.widget-view+json": {
       "model_id": "",
       "version_major": 2,
       "version_minor": 0
      },
      "text/plain": [
       "HBox(children=(IntProgress(value=0, max=215), HTML(value='')))"
      ]
     },
     "metadata": {},
     "output_type": "display_data"
    },
    {
     "data": {
      "application/vnd.jupyter.widget-view+json": {
       "model_id": "",
       "version_major": 2,
       "version_minor": 0
      },
      "text/plain": [
       "HBox(children=(IntProgress(value=0, max=215), HTML(value='')))"
      ]
     },
     "metadata": {},
     "output_type": "display_data"
    },
    {
     "data": {
      "application/vnd.jupyter.widget-view+json": {
       "model_id": "",
       "version_major": 2,
       "version_minor": 0
      },
      "text/plain": [
       "HBox(children=(IntProgress(value=0, max=215), HTML(value='')))"
      ]
     },
     "metadata": {},
     "output_type": "display_data"
    },
    {
     "data": {
      "application/vnd.jupyter.widget-view+json": {
       "model_id": "",
       "version_major": 2,
       "version_minor": 0
      },
      "text/plain": [
       "HBox(children=(IntProgress(value=0, max=215), HTML(value='')))"
      ]
     },
     "metadata": {},
     "output_type": "display_data"
    },
    {
     "data": {
      "application/vnd.jupyter.widget-view+json": {
       "model_id": "",
       "version_major": 2,
       "version_minor": 0
      },
      "text/plain": [
       "HBox(children=(IntProgress(value=0, max=215), HTML(value='')))"
      ]
     },
     "metadata": {},
     "output_type": "display_data"
    },
    {
     "data": {
      "application/vnd.jupyter.widget-view+json": {
       "model_id": "",
       "version_major": 2,
       "version_minor": 0
      },
      "text/plain": [
       "HBox(children=(IntProgress(value=0, max=215), HTML(value='')))"
      ]
     },
     "metadata": {},
     "output_type": "display_data"
    },
    {
     "data": {
      "application/vnd.jupyter.widget-view+json": {
       "model_id": "",
       "version_major": 2,
       "version_minor": 0
      },
      "text/plain": [
       "HBox(children=(IntProgress(value=0, max=215), HTML(value='')))"
      ]
     },
     "metadata": {},
     "output_type": "display_data"
    },
    {
     "data": {
      "application/vnd.jupyter.widget-view+json": {
       "model_id": "",
       "version_major": 2,
       "version_minor": 0
      },
      "text/plain": [
       "HBox(children=(IntProgress(value=0, max=215), HTML(value='')))"
      ]
     },
     "metadata": {},
     "output_type": "display_data"
    },
    {
     "data": {
      "application/vnd.jupyter.widget-view+json": {
       "model_id": "",
       "version_major": 2,
       "version_minor": 0
      },
      "text/plain": [
       "HBox(children=(IntProgress(value=0, max=215), HTML(value='')))"
      ]
     },
     "metadata": {},
     "output_type": "display_data"
    },
    {
     "data": {
      "application/vnd.jupyter.widget-view+json": {
       "model_id": "",
       "version_major": 2,
       "version_minor": 0
      },
      "text/plain": [
       "HBox(children=(IntProgress(value=0, max=215), HTML(value='')))"
      ]
     },
     "metadata": {},
     "output_type": "display_data"
    },
    {
     "data": {
      "application/vnd.jupyter.widget-view+json": {
       "model_id": "",
       "version_major": 2,
       "version_minor": 0
      },
      "text/plain": [
       "HBox(children=(IntProgress(value=0, max=215), HTML(value='')))"
      ]
     },
     "metadata": {},
     "output_type": "display_data"
    },
    {
     "data": {
      "application/vnd.jupyter.widget-view+json": {
       "model_id": "",
       "version_major": 2,
       "version_minor": 0
      },
      "text/plain": [
       "HBox(children=(IntProgress(value=0, max=215), HTML(value='')))"
      ]
     },
     "metadata": {},
     "output_type": "display_data"
    },
    {
     "data": {
      "application/vnd.jupyter.widget-view+json": {
       "model_id": "",
       "version_major": 2,
       "version_minor": 0
      },
      "text/plain": [
       "HBox(children=(IntProgress(value=0, max=215), HTML(value='')))"
      ]
     },
     "metadata": {},
     "output_type": "display_data"
    },
    {
     "data": {
      "application/vnd.jupyter.widget-view+json": {
       "model_id": "",
       "version_major": 2,
       "version_minor": 0
      },
      "text/plain": [
       "HBox(children=(IntProgress(value=0, max=215), HTML(value='')))"
      ]
     },
     "metadata": {},
     "output_type": "display_data"
    },
    {
     "data": {
      "application/vnd.jupyter.widget-view+json": {
       "model_id": "",
       "version_major": 2,
       "version_minor": 0
      },
      "text/plain": [
       "HBox(children=(IntProgress(value=0, max=215), HTML(value='')))"
      ]
     },
     "metadata": {},
     "output_type": "display_data"
    },
    {
     "data": {
      "application/vnd.jupyter.widget-view+json": {
       "model_id": "",
       "version_major": 2,
       "version_minor": 0
      },
      "text/plain": [
       "HBox(children=(IntProgress(value=0, max=215), HTML(value='')))"
      ]
     },
     "metadata": {},
     "output_type": "display_data"
    },
    {
     "data": {
      "application/vnd.jupyter.widget-view+json": {
       "model_id": "",
       "version_major": 2,
       "version_minor": 0
      },
      "text/plain": [
       "HBox(children=(IntProgress(value=0, max=215), HTML(value='')))"
      ]
     },
     "metadata": {},
     "output_type": "display_data"
    },
    {
     "data": {
      "application/vnd.jupyter.widget-view+json": {
       "model_id": "",
       "version_major": 2,
       "version_minor": 0
      },
      "text/plain": [
       "HBox(children=(IntProgress(value=0, max=215), HTML(value='')))"
      ]
     },
     "metadata": {},
     "output_type": "display_data"
    },
    {
     "data": {
      "application/vnd.jupyter.widget-view+json": {
       "model_id": "",
       "version_major": 2,
       "version_minor": 0
      },
      "text/plain": [
       "HBox(children=(IntProgress(value=0, max=215), HTML(value='')))"
      ]
     },
     "metadata": {},
     "output_type": "display_data"
    },
    {
     "data": {
      "application/vnd.jupyter.widget-view+json": {
       "model_id": "",
       "version_major": 2,
       "version_minor": 0
      },
      "text/plain": [
       "HBox(children=(IntProgress(value=0, max=215), HTML(value='')))"
      ]
     },
     "metadata": {},
     "output_type": "display_data"
    },
    {
     "data": {
      "application/vnd.jupyter.widget-view+json": {
       "model_id": "",
       "version_major": 2,
       "version_minor": 0
      },
      "text/plain": [
       "HBox(children=(IntProgress(value=0, max=215), HTML(value='')))"
      ]
     },
     "metadata": {},
     "output_type": "display_data"
    },
    {
     "data": {
      "application/vnd.jupyter.widget-view+json": {
       "model_id": "",
       "version_major": 2,
       "version_minor": 0
      },
      "text/plain": [
       "HBox(children=(IntProgress(value=0, max=215), HTML(value='')))"
      ]
     },
     "metadata": {},
     "output_type": "display_data"
    },
    {
     "data": {
      "application/vnd.jupyter.widget-view+json": {
       "model_id": "",
       "version_major": 2,
       "version_minor": 0
      },
      "text/plain": [
       "HBox(children=(IntProgress(value=0, max=215), HTML(value='')))"
      ]
     },
     "metadata": {},
     "output_type": "display_data"
    },
    {
     "data": {
      "application/vnd.jupyter.widget-view+json": {
       "model_id": "",
       "version_major": 2,
       "version_minor": 0
      },
      "text/plain": [
       "HBox(children=(IntProgress(value=0, max=215), HTML(value='')))"
      ]
     },
     "metadata": {},
     "output_type": "display_data"
    },
    {
     "data": {
      "application/vnd.jupyter.widget-view+json": {
       "model_id": "",
       "version_major": 2,
       "version_minor": 0
      },
      "text/plain": [
       "HBox(children=(IntProgress(value=0, max=215), HTML(value='')))"
      ]
     },
     "metadata": {},
     "output_type": "display_data"
    },
    {
     "data": {
      "application/vnd.jupyter.widget-view+json": {
       "model_id": "",
       "version_major": 2,
       "version_minor": 0
      },
      "text/plain": [
       "HBox(children=(IntProgress(value=0, max=215), HTML(value='')))"
      ]
     },
     "metadata": {},
     "output_type": "display_data"
    },
    {
     "data": {
      "application/vnd.jupyter.widget-view+json": {
       "model_id": "",
       "version_major": 2,
       "version_minor": 0
      },
      "text/plain": [
       "HBox(children=(IntProgress(value=0, max=215), HTML(value='')))"
      ]
     },
     "metadata": {},
     "output_type": "display_data"
    },
    {
     "data": {
      "application/vnd.jupyter.widget-view+json": {
       "model_id": "",
       "version_major": 2,
       "version_minor": 0
      },
      "text/plain": [
       "HBox(children=(IntProgress(value=0, max=215), HTML(value='')))"
      ]
     },
     "metadata": {},
     "output_type": "display_data"
    },
    {
     "data": {
      "application/vnd.jupyter.widget-view+json": {
       "model_id": "",
       "version_major": 2,
       "version_minor": 0
      },
      "text/plain": [
       "HBox(children=(IntProgress(value=0, max=215), HTML(value='')))"
      ]
     },
     "metadata": {},
     "output_type": "display_data"
    },
    {
     "data": {
      "application/vnd.jupyter.widget-view+json": {
       "model_id": "",
       "version_major": 2,
       "version_minor": 0
      },
      "text/plain": [
       "HBox(children=(IntProgress(value=0, max=215), HTML(value='')))"
      ]
     },
     "metadata": {},
     "output_type": "display_data"
    },
    {
     "data": {
      "application/vnd.jupyter.widget-view+json": {
       "model_id": "",
       "version_major": 2,
       "version_minor": 0
      },
      "text/plain": [
       "HBox(children=(IntProgress(value=0, max=215), HTML(value='')))"
      ]
     },
     "metadata": {},
     "output_type": "display_data"
    },
    {
     "data": {
      "application/vnd.jupyter.widget-view+json": {
       "model_id": "",
       "version_major": 2,
       "version_minor": 0
      },
      "text/plain": [
       "HBox(children=(IntProgress(value=0, max=215), HTML(value='')))"
      ]
     },
     "metadata": {},
     "output_type": "display_data"
    },
    {
     "data": {
      "application/vnd.jupyter.widget-view+json": {
       "model_id": "",
       "version_major": 2,
       "version_minor": 0
      },
      "text/plain": [
       "HBox(children=(IntProgress(value=0, max=215), HTML(value='')))"
      ]
     },
     "metadata": {},
     "output_type": "display_data"
    },
    {
     "data": {
      "application/vnd.jupyter.widget-view+json": {
       "model_id": "",
       "version_major": 2,
       "version_minor": 0
      },
      "text/plain": [
       "HBox(children=(IntProgress(value=0, max=215), HTML(value='')))"
      ]
     },
     "metadata": {},
     "output_type": "display_data"
    },
    {
     "data": {
      "application/vnd.jupyter.widget-view+json": {
       "model_id": "",
       "version_major": 2,
       "version_minor": 0
      },
      "text/plain": [
       "HBox(children=(IntProgress(value=0, max=215), HTML(value='')))"
      ]
     },
     "metadata": {},
     "output_type": "display_data"
    },
    {
     "data": {
      "application/vnd.jupyter.widget-view+json": {
       "model_id": "",
       "version_major": 2,
       "version_minor": 0
      },
      "text/plain": [
       "HBox(children=(IntProgress(value=0, max=215), HTML(value='')))"
      ]
     },
     "metadata": {},
     "output_type": "display_data"
    },
    {
     "name": "stdout",
     "output_type": "stream",
     "text": [
      "\n"
     ]
    }
   ],
   "source": [
    "train_losses = []\n",
    "\n",
    "for epoch in tqdm_notebook(range(100)):\n",
    "    for x, target in tqdm_notebook(memLoader, leave=False):\n",
    "        x, target = x.cuda(), target.cuda()\n",
    "        optim.zero_grad()\n",
    "        pred = simnet(x)\n",
    "        loss = criterion(pred, target.float())\n",
    "        train_losses.append(loss.item())\n",
    "        loss.backward()\n",
    "        optim.step()\n"
   ]
  },
  {
   "cell_type": "code",
   "execution_count": 21,
   "metadata": {},
   "outputs": [
    {
     "data": {
      "text/plain": [
       "[<matplotlib.lines.Line2D at 0x7f1ed591fc50>]"
      ]
     },
     "execution_count": 21,
     "metadata": {},
     "output_type": "execute_result"
    },
    {
     "data": {
      "image/png": "[encoded data removed]",
      "text/plain": [
       "<Figure size 432x288 with 1 Axes>"
      ]
     },
     "metadata": {
      "needs_background": "light"
     },
     "output_type": "display_data"
    }
   ],
   "source": [
    "plt.plot(train_losses)"
   ]
  },
  {
   "cell_type": "code",
   "execution_count": 26,
   "metadata": {},
   "outputs": [
    {
     "data": {
      "application/vnd.jupyter.widget-view+json": {
       "model_id": "51cdb0a8016e4f8784384a23e5d1b088",
       "version_major": 2,
       "version_minor": 0
      },
      "text/plain": [
       "HBox(children=(IntProgress(value=0, max=3), HTML(value='')))"
      ]
     },
     "metadata": {},
     "output_type": "display_data"
    },
    {
     "name": "stdout",
     "output_type": "stream",
     "text": [
      "\n"
     ]
    }
   ],
   "source": [
    "def sigmoid(x):\n",
    "    return 1 / (1 + np.exp(-x))\n",
    "\n",
    "\n",
    "y_true = []\n",
    "y_pred = []\n",
    "\n",
    "for x, target in tqdm_notebook(memLoader_val):\n",
    "    pred = simnet(x.cuda())\n",
    "    for i, j in zip(pred.cpu().squeeze().detach().numpy(), target.detach().numpy()):\n",
    "        y_pred.append(sigmoid(i))\n",
    "        y_true.append(j)\n",
    "\n",
    "y_true = np.row_stack(y_true)\n",
    "y_pred = np.row_stack(y_pred)\n"
   ]
  },
  {
   "cell_type": "code",
   "execution_count": 27,
   "metadata": {},
   "outputs": [
    {
     "data": {
      "text/plain": [
       "(73, 359)"
      ]
     },
     "execution_count": 27,
     "metadata": {},
     "output_type": "execute_result"
    }
   ],
   "source": [
    "y_pred.shape"
   ]
  },
  {
   "cell_type": "code",
   "execution_count": 33,
   "metadata": {},
   "outputs": [],
   "source": [
    "y_predictions = np.argsort(y_pred)[:, -3::]\n",
    "y_true_h = np.argsort(y_true)[:, -2::]"
   ]
  },
  {
   "cell_type": "code",
   "execution_count": 34,
   "metadata": {},
   "outputs": [
    {
     "data": {
      "text/plain": [
       "(73, 3)"
      ]
     },
     "execution_count": 34,
     "metadata": {},
     "output_type": "execute_result"
    }
   ],
   "source": [
    "y_predictions.shape"
   ]
  },
  {
   "cell_type": "code",
   "execution_count": 36,
   "metadata": {},
   "outputs": [
    {
     "name": "stdout",
     "output_type": "stream",
     "text": [
      "pred ->  ✨ 🎉 😍 \t true ->  🐕 ©\n",
      "pred ->  ♀ 🙈 🍓 \t true ->  🙋 🏽\n",
      "pred ->  ❗ ⚡ ✨ \t true ->  ⚡ ❄\n",
      "pred ->  👀 📷 😍 \t true ->  🐕 📷\n",
      "pred ->  📷 💫 😉 \t true ->  🐕 😉\n",
      "pred ->  ☝ 💞 🏼 \t true ->  🤔 🍳\n",
      "pred ->  👆 🏼 ❤ \t true ->  🐕 💄\n",
      "pred ->  ❤ 🏼 😍 \t true ->  🐕 😉\n",
      "pred ->  ♎ ♊ ♏ \t true ->  📸 ♎\n",
      "pred ->  👼 💐 🎉 \t true ->  🐕 😍\n",
      "pred ->  💖 ❤ 🎉 \t true ->  🎊 ❤\n",
      "pred ->  ✨ 😏 ❤ \t true ->  🏼 🎬\n",
      "pred ->  👇 😏 💫 \t true ->  🍒 ❤\n",
      "pred ->  ♑ ♌ ♓ \t true ->  ♋ ♉\n",
      "pred ->  💕 💋 😉 \t true ->  🐬 🌞\n",
      "pred ->  💋 👌 😍 \t true ->  😍 👀\n",
      "pred ->  🏼 🏽 ✨ \t true ->  🎤 ✨\n",
      "pred ->  💫 🏻 😍 \t true ->  ✅ 🙀\n",
      "pred ->  👩 😍 💫 \t true ->  🌴 🔥\n",
      "pred ->  🎬 ❤ 🏻 \t true ->  🎤 💃\n",
      "pred ->  ♊ ♈ 😉 \t true ->  ♋ ♎\n",
      "pred ->  👼 😍 💫 \t true ->  ✔ ✨\n",
      "pred ->  ✨ 👏 🎉 \t true ->  💫 🎉\n",
      "pred ->  ♥ 👯 ✨ \t true ->  🐕 💟\n",
      "pred ->  👼 🎥 🔥 \t true ->  🐕 📹\n",
      "pred ->  🍭 🌞 🔥 \t true ->  😍 ☀\n",
      "pred ->  📷 💫 😉 \t true ->  🐕 😉\n",
      "pred ->  ♒ ♓ ♏ \t true ->  ♒ ♎\n",
      "pred ->  💫 🏻 💥 \t true ->  💙 👇\n",
      "pred ->  ♎ ♈ ♊ \t true ->  ♒ ♎\n",
      "pred ->  📷 🎂 ❤ \t true ->  ♋ ♎\n",
      "pred ->  ♋ ♌ ♐ \t true ->  ♒ ♉\n",
      "pred ->  💋 ❤ ✨ \t true ->  ✨ ❤\n",
      "pred ->  ❤ 📷 😍 \t true ->  🍒 ❤\n",
      "pred ->  😘 🎉 💫 \t true ->  🐕 👸\n",
      "pred ->  📷 💥 😍 \t true ->  🏻 🙀\n",
      "pred ->  💋 💥 🔥 \t true ->  💃 ✨\n",
      "pred ->  🥰 ❤ 🎉 \t true ->  🤔 🤦\n",
      "pred ->  🏻 😍 📷 \t true ->  🎉 🥂\n",
      "pred ->  🔥 😎 ✨ \t true ->  🐕 💫\n",
      "pred ->  ♀ 🏻 🌟 \t true ->  🙂 😬\n",
      "pred ->  💎 💫 ❗ \t true ->  ‼ ♥\n",
      "pred ->  👏 💫 😉 \t true ->  🐕 😉\n",
      "pred ->  ♒ ♋ ♏ \t true ->  ♒ 😜\n",
      "pred ->  💐 ✨ 🌸 \t true ->  😼 😏\n",
      "pred ->  💙 😋 ♥ \t true ->  🐕 📷\n",
      "pred ->  🤔 🎉 ✨ \t true ->  ⚡ 🎉\n",
      "pred ->  💫 👯 👪 \t true ->  😉 💗\n",
      "pred ->  😏 😘 🔥 \t true ->  📸 😍\n",
      "pred ->  📷 😏 🔥 \t true ->  😱 🙌\n",
      "pred ->  🥕 😎 ☀ \t true ->  😋 🍲\n",
      "pred ->  📷 ✌ ✨ \t true ->  ❤ 💄\n",
      "pred ->  ✨ 💕 😍 \t true ->  🐕 💕\n",
      "pred ->  🏻 🎄 ❤ \t true ->  🐕 😊\n",
      "pred ->  🙈 💄 © \t true ->  🐕 ©\n",
      "pred ->  🎉 😍 ❤ \t true ->  👌 🏻\n",
      "pred ->  👏 💫 😉 \t true ->  🐕 😉\n",
      "pred ->  ♌ ♈ ♓ \t true ->  ✨ ♌\n",
      "pred ->  🎉 😏 🙌 \t true ->  😍 📷\n",
      "pred ->  ♐ ♎ ♋ \t true ->  📸 ♎\n",
      "pred ->  ❤ 🏼 🏻 \t true ->  😍 💍\n",
      "pred ->  🏻 🏼 🎉 \t true ->  💐 ⚡\n",
      "pred ->  💔 ✨ 🎈 \t true ->  ❗ 🌟\n",
      "pred ->  🏽 🏼 ❤ \t true ->  💋 ✨\n",
      "pred ->  💋 🏼 ✨ \t true ->  🐕 🥗\n",
      "pred ->  ✨ 💫 😉 \t true ->  🐕 😉\n",
      "pred ->  😍 📸 ❤ \t true ->  👌 📖\n",
      "pred ->  🌞 ☺ 🔥 \t true ->  🐕 😜\n",
      "pred ->  🤔 © 😍 \t true ->  🐕 ©\n",
      "pred ->  ♋ ♎ ♌ \t true ->  ♋ ♎\n",
      "pred ->  ✨ 💫 😉 \t true ->  🐕 😉\n",
      "pred ->  🤩 👶 💐 \t true ->  ✔ ✨\n",
      "pred ->  😏 ❤ 🏻 \t true ->  ‼ 👇\n"
     ]
    }
   ],
   "source": [
    "for pred, true in zip(y_predictions, y_true_h):\n",
    "    print('pred -> ', ' '.join([i2e[p] for p in pred]), '\\t true -> ', ' '.join([i2e[t] for t in true]))"
   ]
  },
  {
   "cell_type": "code",
   "execution_count": 27,
   "metadata": {},
   "outputs": [
    {
     "data": {
      "text/plain": [
       "array([230,   2,  97, 237, 130,  75, 257, 319,  56, 216, 172, 282, 139,\n",
       "        83, 318, 310, 179, 141, 285, 281,  67,  22, 247, 159, 154, 238,\n",
       "        91,  11,  87,  12, 278, 224, 111,  40,  74,  39,  71,  63, 299,\n",
       "       212, 265, 279, 314, 229,  20, 231, 327, 166, 357, 334, 217, 330,\n",
       "       236, 321, 145, 101, 226,  85, 100,   4, 174, 133, 343, 132,  25,\n",
       "       316, 322, 180, 223,  73, 193, 164,  59, 254,   9, 277,  19, 135,\n",
       "       211,   0, 143, 349, 204,  72, 213, 274, 276, 233, 308,  98,  61,\n",
       "       188,  78, 271, 335, 156, 113,  29, 272, 358, 157, 256, 328, 291,\n",
       "       292, 326, 131, 350, 161, 347, 186, 239, 144, 169, 246,  30, 263,\n",
       "        15,  32, 258,  65, 235, 313,  54,   8,  58, 250, 251, 191, 151,\n",
       "       162,  37,  36, 283,   7,  88,  44, 297, 110, 167, 128, 125,  53,\n",
       "       124, 222, 106, 261, 205, 317, 119, 117, 129, 192,  99, 352,  35,\n",
       "        27,  93,  82, 152, 286, 116, 189, 302, 296, 118, 126,  38, 149,\n",
       "       268,  57,  70,  52, 309, 185, 171, 120, 134, 107, 293, 136,  79,\n",
       "       155,  18, 148, 232, 150, 351,   5, 340,  84, 253, 337,  49,  21,\n",
       "       210, 105, 209, 242, 329,  28,  89,  33, 303, 342, 153, 173, 137,\n",
       "       249, 197, 112, 331, 181, 178, 234, 190,  80, 177, 225, 333, 301,\n",
       "       214,  77,  96, 109, 199, 304, 195, 196, 194, 243,  26, 215, 206,\n",
       "       280, 262, 264, 221, 294, 182,  76,  31, 127,  51, 240,  45,  10,\n",
       "       355, 312, 267, 140, 207, 284,  34, 147,  43, 345,  50, 122, 305,\n",
       "        17,  95, 356, 346,  55, 295,   1, 220, 339, 252,  47, 142, 187,\n",
       "       289, 288, 202, 324, 315,  62,   6, 163, 270, 203, 165, 255, 287,\n",
       "       138,  13, 300, 200, 123, 241,  64, 306, 311, 168,  86, 354, 332,\n",
       "        81, 176,  41, 201,  60, 218, 298, 228, 198, 115,  24, 160, 275,\n",
       "       273, 353, 103, 325, 219, 244, 341, 248,  94, 184, 336, 245, 114,\n",
       "        42, 348, 323,  46, 175,  68,  66, 344,   3, 259, 269, 307, 260,\n",
       "        23, 104, 266, 102, 170, 227, 320, 108,  14, 121, 338, 208, 183,\n",
       "       158,  16,  69,  92, 146,  90,  48, 290])"
      ]
     },
     "execution_count": 27,
     "metadata": {},
     "output_type": "execute_result"
    }
   ],
   "source": [
    "np.argsort(y_pred[0])"
   ]
  },
  {
   "cell_type": "code",
   "execution_count": 43,
   "metadata": {},
   "outputs": [
    {
     "data": {
      "text/plain": [
       "0.9974410774410775"
      ]
     },
     "execution_count": 43,
     "metadata": {},
     "output_type": "execute_result"
    }
   ],
   "source": [
    "from sklearn.metrics import roc_auc_score\n",
    "\n",
    "roc_auc_score(y_true, y_pred)"
   ]
  },
  {
   "cell_type": "code",
   "execution_count": null,
   "metadata": {},
   "outputs": [],
   "source": []
  },
  {
   "cell_type": "code",
   "execution_count": null,
   "metadata": {},
   "outputs": [],
   "source": []
  },
  {
   "cell_type": "code",
   "execution_count": 44,
   "metadata": {},
   "outputs": [],
   "source": [
    "with open('../data/mem-val.json', 'r') as f:\n",
    "    c = json.load(f)\n",
    "with open('../data/lenta-texts-small-val.json', 'r') as f:\n",
    "    l = json.load(f)\n",
    "    "
   ]
  },
  {
   "cell_type": "code",
   "execution_count": 48,
   "metadata": {},
   "outputs": [],
   "source": [
    "def test_strs(x):\n",
    "    x = vectorize(x)\n",
    "    if not x:\n",
    "        return None\n",
    "    x = torch.Tensor(x).long().unsqueeze(0)\n",
    "    ans = sigmoid(simnet(x.cuda()).item())\n",
    "    return ans"
   ]
  },
  {
   "cell_type": "code",
   "execution_count": 49,
   "metadata": {},
   "outputs": [
    {
     "data": {
      "text/plain": [
       "{'text': 'За кулисами съемки февральского Cosmo'}"
      ]
     },
     "execution_count": 49,
     "metadata": {},
     "output_type": "execute_result"
    }
   ],
   "source": [
    "c[80]"
   ]
  },
  {
   "cell_type": "code",
   "execution_count": 50,
   "metadata": {
    "scrolled": true
   },
   "outputs": [
    {
     "name": "stdout",
     "output_type": "stream",
     "text": [
      "{'text': 'Любите ли вы цветы так, как мы?)'} 0.134 \n",
      "{'text': 'Beauty-редактор нашего сайта теперь - лицо краски для волос:) Круто?'} 0.006 \n",
      "{'text': 'а вот и сигнал!!!!!!! лайк?'} 0.003 \n",
      "{'text': 'часть нашего фэшн-отдела уже завтра уедет в лееето!! для ярких фотоисторий. остальная редакция пока живет в зиме;))'} 0.129 \n",
      "{'text': 'а наши чудесные партнеры (по работе!!) продолжают нас радовать сюрпризами!! вот она, главная вещь для каждой cosmo-девушки;) спасибо, #trendsbrands!!'} 0.327 \n",
      "{'text': 'сегодня прислали очень красивый и очень cosmo (!!!) подарок;) спасибо! и всем прекрасных нескучных выходных!'} 0.072 \n",
      "{'text': 'Во-первых, С ПЕРВЫМ днем весны!!! Во-вторых, С ДНЕМ рождения, Алиса!!!!'} 0.165 \n",
      "{'text': 'Всем от привет Алины Красновой с иерусалимского марафона!'} 0.802 \n",
      "{'text': 'слева - кадр с юбкой до колен, не вошедший в мартовский номер, а справа - страничка из журнала. за какой вы лук?!) Еще больше о юбоках любой длины и том, как из носить, - в марте, понятное дело;)#cosmopolitan_russia'} 0.393 \n",
      "{'text': 'сегодня у Наташи день рождения, а она, как и обычно, вся в добрых делах;) Поздравляем, восторгаемся и присоедниямся к акциям. Подробности на #cosmoru'} 0.078 \n",
      "{'text': 'Финал показа Dolce&Gabbana впечатляет!'} 0.182 \n",
      "{'text': 'Marni в новом сезоне F/W 13-14 уже не до принтов, зато будет много интересного меха!'} 0.001 \n",
      "{'text': 'Вечно молодой Джоржио Армани после показа Emporio Armani'} 0.705 \n",
      "{'text': 'Ложная скромность мужчинам не к лицу. Туфли Philipp Plein украшены портретом самого дизайнера. Как вам?)'} 0.236 \n",
      "{'text': 'Эпичный показ Ermanno Scervino в Милане'} 0.003 \n",
      "{'text': 'Сегодня в Милане очень насыщенный день!'} 0.172 \n",
      "{'text': 'Случайно встретились с Аней Рыковой и Ириной Черняк (Collezioni) в салоне мобильной связи. Конечно, не на показах же встречаться, когда ты на Неделе моды в Милане:)'} 0.991 \n",
      "{'text': 'Всем привет! Как вам такое украшение?'} 0.009 \n",
      "{'text': 'Безоговорочно влюблены в новую коллекцию !'} 0.898 \n",
      "{'text': 'Элайджа Вуд в Москве!'} 0.011 \n",
      "{'text': 'Алина любимая понедельничная майка! Счастливая, между прочим;) с началом раб. недели вас!'} 0.062 \n",
      "{'text': 'как проходят ваши романтичные выходные?)'} 0.002 \n",
      "{'text': 'День святого Валентина принес нам новый номер! А вам?'} 0.013 \n",
      "{'text': 'и еще немного летнего манго. как вам? #mangofashion'} 0.017 \n",
      "{'text': 'интервью со Снежиной Куловой ищите на #cosmoru, а с Пелагеей - в апрельском номере #cosmopolitan_russia. Красавицы на показе #mangofashion'} 0.920 \n",
      "{'text': '... а мы на показе #mango_fashion, в прямом эфире;)'} 0.002 \n",
      "{'text': 'Times Square глазами нашего бьюти-директора. #ny'} 0.018 \n",
      "{'text': 'Интервью с прекрасной Галой Гонсалес - блогером и лицом Mango скоро на #cosmoru'} 0.521 \n",
      "{'text': 'Что случилось с космо?)'} 0.009 \n",
      "{'text': 'Наташа Шерстюк на показе DKNY. В NY;)'} 0.595 \n",
      "{'text': 'до 1 апреля осталось... много дней! но веселиться хочется прямо сейчас!! прекрасных вам и смешных выходных!!!;)'} 0.241 \n",
      "{'text': 'сколько нужно cosmo, чтобы полка рухнула? у британских ученых, наверняка есть ответ! а сколько номеров cosmopolitan храните вы у себя дома?'} 0.001 \n",
      "{'text': 'Продюсер отдела моды за работой. Ладно, за обедом:))'} 0.044 \n",
      "{'text': 'Лена Титок телеграфирует из Сочи'} 0.010 \n",
      "{'text': 'а к нам пришел мартовский сигнал!!!!! красив невероятно;)'} 0.016 \n",
      "{'text': 'Это не серьги, это произведение искусства!'} 0.000 \n",
      "{'text': 'будни фоторедактора #cosmopolitan_russia;) надеемся, все в теме! нескучного вам вечера)'} 0.001 \n",
      "{'text': 'А мы вам тут кое-что интересненькое готовим! Читайте Cosmopolitan в iPad:) @thestylejungle'} 0.002 \n",
      "{'text': 'Что-то в нашем fashion-отделе сегодня не густо, одна Юля (@modemoiselle_fiona) трудится!'} 0.000 \n",
      "{'text': 'а теперь реально ПЯТНИЦА!!!!!'} 0.005 \n",
      "{'text': 'отдел маркетинга #cosmopolitan_russia считает, что сегодня пятница!;)'} 0.002 \n",
      "{'text': 'совсем скоро!!! новые фэшн-съемки в #cosmopolitan_russia'} 0.426 \n",
      "{'text': 'прекрасные выходные!! чем занимаетесь? на чем катаетесь?)'} 0.000 \n",
      "{'text': 'LUBLU Kira Plastinina уже следующая осень-зима! @kiraplastinina нам очень нравится!'} 0.947 \n",
      "{'text': 'Ищи нас во всех книжных России!'} 0.000 \n",
      "{'text': 'жизнь в #cosmoru такая полосатая!!'} 0.004 \n",
      "{'text': 'Февральский Cosmo шикарно смотрится в iPad #cosmoru #cosmopolitanrussia #iPad #cosmoforiPad'} 0.054 \n",
      "{'text': 'Наша новая обложечка! Like, like:)'} 0.100 \n",
      "{'text': 'Талисман на удачу в 2013 году. Спасибо, R.S.V.P! @maryanaplatonova'} 0.010 \n",
      "{'text': 'Эта милая милость приехала к нам в редакцию от Sela! Очень кстати:) спасибо!'} 0.514 \n",
      "{'text': 'а Диснейленд Париж по-прежнему крутой!! с наступившим вас!)'} 0.001 \n",
      "{'text': 'cosmo-девушки всех времен поздравляют вас с Новым годом!!!!!'} 0.004 \n",
      "{'text': 'Спасибо нашей дорогой читательнице из Хабаровска за эти чудесные посылочки к новому году! Мечты сбываются:)'} 0.000 \n",
      "{'text': 'А у нас сейчас вот так... Ох уж этот #fashion - отдел:)'} 0.002 \n",
      "{'text': 'Спасибо отделу маркетинга за наше счастливое детство! И новогоднее настроение:) @kate_volgina'} 0.978 \n",
      "{'text': 'А нам подарили тортик с QR-кодом! Правда проверить его мы не успели, зато вкусно:)'} 0.002 \n",
      "{'text': 'Игрушки в подарок от нашей читательницы Юли Савиновой!'} 0.000 \n",
      "{'text': 'Sorry за четкость! Кира Пластинина вечна-лето 2013'} 0.039 \n",
      "{'text': 'самые красивые девушки на показе #kiraplastinina;))'} 0.974 \n",
      "{'text': 'А вот и сама Аля:)'} 0.048 \n",
      "{'text': 'Оля Данка - ведущая \"Стилистики\" взяла интервью у Али Баланиной и Ксюши Рузановой на презентации новой коллекции Киры Пластининой'} 0.900 \n",
      "{'text': 'За кулисами съемки февральского Cosmo'} 0.002 \n",
      "{'text': \"невероятно красивые серьги в #je t'ame\"} 0.812 \n",
      "{'text': 'продолжаем сходить с ума от новой коллекции #prada. и делаем ставки, приживутся ли носки-сапоги?)) как вам?'} 0.000 \n",
      "{'text': 'Наша новая любовь!!'} 0.657 \n",
      "{'text': 'Диана фон Фюрстенберг создала дизайн бутылочек Vittel'} 0.004 \n",
      "{'text': 'Презентация коллекции Elin Kling для Guess'} 0.404 \n",
      "{'text': 'Интервью с креативным директором Sportmax скоро на #cosmoru'} 0.024 \n",
      "{'text': 'Аля задумалась над темами для нового номера:) Да-да, планерка!'} 0.000 \n",
      "{'text': 'А у нас планерка, а у вас?:) 🙆'} 0.000 \n",
      "{'text': 'сегодня читала первую в своей жизни лецкию на журфаке мгу. 8 лет прошло после окончания, не верится)) студенты отличные, умные, интересующиеся. возможно, среди них будущие авторы и редакторы #cosmopolitan_russia. приятно, в общем! аля'} 1.000 \n",
      "{'text': 'Эпичная заколка, созданная Филипом Трейси. Сам гениальный шляпник сегодня тоже в Москве! Интервью на #cosmoru'} 0.000 \n",
      "{'text': 'Так странно смотреть летние коллекции на фоне заснеженной Москвы:)'} 0.016 \n",
      "{'text': 'Ксюша Рузанова выбрала покупку на следующий сезон:) #ss13'} 0.182 \n",
      "{'text': 'Бутику Алены Ахмадулиной снегопад не страшен:)'} 0.034 \n"
     ]
    }
   ],
   "source": [
    "for text in c:\n",
    "    ans = test_strs(text)\n",
    "    if ans:\n",
    "        print(text, '{0:.3f} '.format(ans))\n"
   ]
  },
  {
   "cell_type": "code",
   "execution_count": 51,
   "metadata": {
    "scrolled": true
   },
   "outputs": [
    {
     "name": "stdout",
     "output_type": "stream",
     "text": [
      "{'text': 'Явлинский связывает кремлевский скандал с\\xa0коллективным прозрением Запада'} 0.000 \n",
      "{'text': 'В Норильске четыре рабочих погибли в\\xa0результате взрыва'} 0.001 \n",
      "{'text': 'Еще одно назначение Путина'} 0.000 \n",
      "{'text': 'В \"Bank of\\xa0New York\" подчищали и\\xa0уничтожали документы'} 0.000 \n",
      "{'text': 'Трое террористов погибли во\\xa0время терактов в\\xa0Хайфе и\\xa0Тверии'} 0.004 \n",
      "{'text': 'В драке на\\xa0Манежной площади пострадали шесть человек'} 0.000 \n",
      "{'text': 'Сторонники Станислава Дерева не\\xa0подчинились Дереву'} 0.002 \n",
      "{'text': 'В Каму вытекло 100\\xa0тонн мазута'} 0.002 \n",
      "{'text': 'Правительство Чечни считает, что Россия начала войну'} 0.000 \n",
      "{'text': 'Эпидемия краснухи в\\xa0Белгородской области'} 0.001 \n",
      "{'text': 'Еще 11\\xa0заложников вернулись из\\xa0чеченского плена'} 0.000 \n",
      "{'text': 'В Непале в\\xa0авиакатастрофе погибли 15\\xa0человек'} 0.002 \n",
      "{'text': '\"Держава\" выходит из \"Отечества\"'} 0.000 \n",
      "{'text': 'Пентагон отключается от\\xa0Интернета, опасаясь российских хакеров'} 0.000 \n",
      "{'text': 'Спикер Госдумы Селезнев хочет отменить президента'} 0.000 \n",
      "{'text': 'Чеченский полевой командир Хаттаб связан с\\xa0Бин-Ладеном'} 0.003 \n",
      "{'text': 'Бомбу в \"Рамсторе\" не\\xa0нашли'} 0.001 \n",
      "{'text': 'Всеобщей мобилизации в\\xa0Дагестане не\\xa0будет'} 0.000 \n",
      "{'text': '200\\xa0сотрудников ООН покидают Восточный Тимор'} 0.000 \n",
      "{'text': 'В Южно-Сахалинске заболели холерой 14\\xa0человек'} 0.001 \n",
      "{'text': 'Новую смертоносную бактерию назвали \"Визой\"'} 0.001 \n",
      "{'text': 'На президента Египта совершено покушение'} 0.007 \n",
      "{'text': 'Российские миротворцы застрелили трех косовских сербов'} 0.001 \n",
      "{'text': 'Оползень в\\xa0Китае: более 200\\xa0человек погибли'} 0.000 \n",
      "{'text': 'Ельцину рассказали про Bank of\\xa0New York'} 0.000 \n",
      "{'text': 'Минпечати запретило вещание компании \"Петербург\"'} 0.000 \n",
      "{'text': 'В Москве повышаются цены на\\xa0телефон'} 0.000 \n",
      "{'text': 'Глобальное таяние льдов высвободит древние вирусы'} 0.000 \n",
      "{'text': 'Спецпредставитель президента РФ\\xa0Михаил Задорнов уходит со\\xa0своего поста'} 0.002 \n",
      "{'text': 'В Алтае больше половины школ закрыты на\\xa0забастовку'} 0.000 \n",
      "{'text': 'В Гонконге разгромлен синдикат по\\xa0производству поддельных компакт-дисков'} 0.001 \n",
      "{'text': 'Цены на\\xa0продукты первой необходимости вырастут вдвое'} 0.000 \n",
      "{'text': 'В Южно-Сахалинске выявлено 8\\xa0больных холерой'} 0.002 \n",
      "{'text': 'Владимир Путин встретился с\\xa0Эдуардом Росселем'} 0.000 \n",
      "{'text': 'Белый дом шлет секретные факсы новозеландским курицам'} 0.000 \n",
      "{'text': 'В Восточном Тиморе убивают сотрудников ООН'} 0.001 \n",
      "{'text': 'Боевики согласны отпустить заложников, захваченных в\\xa0Киргизии'} 0.001 \n",
      "{'text': 'В Севастополе отключают Черноморский флот'} 0.003 \n",
      "{'text': 'Полностью вытеснить боевиков из\\xa0Карамахи так и\\xa0не удалось'} 0.000 \n",
      "{'text': 'В Техасе из\\xa0мертвого быка сделали живого теленка'} 0.000 \n",
      "{'text': 'Деньги Кремля в\\xa0Швейцарии: названы 24\\xa0подозреваемых'} 0.008 \n",
      "{'text': 'Авария на\\xa0Ярославском вокзале'} 0.002 \n",
      "{'text': 'В Москве украли генерального директора'} 0.001 \n",
      "{'text': 'Бывший директор ОРТ назначен первым замом главы администрации президента'} 0.000 \n",
      "{'text': 'Запрет на\\xa0вещание ТРК \"Петербург\" снят'} 0.000 \n",
      "{'text': 'НАТО выдвигается на\\xa0Нобелевскую премию мира'} 0.009 \n",
      "{'text': 'Брюссельский \"Писающий мальчик\" будет писать пивом!'} 0.013 \n",
      "{'text': 'Экипажи двух российских самолетов стали заложниками ангольских партизан'} 0.000 \n",
      "{'text': 'Государство хочет контролировать Интернет'} 0.000 \n",
      "{'text': 'ФБР готовится к\\xa0кибер-войне и\\xa0терактам в\\xa0канун 2000\\xa0года'} 0.000 \n",
      "{'text': 'Паколли: Дель Понти предлагала мне взятку'} 0.000 \n",
      "{'text': 'Боевики вытеснены из\\xa0дагестанского села Карамахи'} 0.003 \n",
      "{'text': 'Илюхин и\\xa0Исаков отвернулись от\\xa0коммунистов'} 0.000 \n",
      "{'text': 'На Павелецком вокзале обнаружен предмет, напоминающий взрывное устройcтво'} 0.000 \n",
      "{'text': 'Курс доллара вырос на\\xa065\\xa0копеек'} 0.000 \n",
      "{'text': 'Ущерб от\\xa0взрыва на\\xa0Манежной оценивается в\\xa0500\\xa0000\\xa0долларов'} 0.000 \n",
      "{'text': 'В Чечне отключили ОРТ и\\xa0РТР'} 0.000 \n",
      "{'text': 'CША не\\xa0будут блокировать выделение России кредита МВФ'} 0.001 \n",
      "{'text': 'Авиакатастрофа в\\xa0Танзании: выживших нет'} 0.005 \n",
      "{'text': 'КНДР переносит свою морскую границу ближе к\\xa0берегам Южной Кореи'} 0.001 \n",
      "{'text': 'Минпечати запретило вещание компании \"Петербург\"'} 0.000 \n",
      "{'text': 'Курдская рабочая партия складывает оружие'} 0.010 \n",
      "{'text': 'В Баткенском районе Киргизии введен комендантский час'} 0.005 \n",
      "{'text': 'Ценные приборы с \"Мира\" отправят на\\xa0Землю'} 0.000 \n",
      "{'text': 'Колокола, похищенные из\\xa0Свято-Троицкого собора в\\xa0Сан-Франциско, возвращены'} 0.000 \n",
      "{'text': 'Возле еврейской школы в\\xa0Москве найдена мина'} 0.003 \n",
      "{'text': 'ФБР виновно в\\xa0гибели более 80\\xa0сектантов в\\xa0Уэйко'} 0.002 \n",
      "{'text': 'Космонавты сомневаются в\\xa0надежности \"Мира\"'} 0.003 \n",
      "{'text': 'Взрыв в\\xa0центре Москвы: пострадало 30\\xa0человек'} 0.001 \n",
      "{'text': 'Япония кредитует Россию на\\xa0полтора миллиарда долларов'} 0.000 \n",
      "{'text': 'Создан департамент ФСБ по\\xa0борьбе с\\xa0терроризмом'} 0.000 \n",
      "{'text': 'Федеральные силы в\\xa0Дагестане замкнули кольцо окружения'} 0.007 \n",
      "{'text': 'В Киргизии освобождены трое заложников'} 0.000 \n",
      "{'text': 'Британцы отмечают двухлетие смерти Дианы'} 0.001 \n",
      "{'text': 'На ММВБ произошел резкий скачок курса доллара'} 0.004 \n",
      "{'text': 'Отмытые через Bank of\\xa0NY деньги не\\xa0имели отношения к\\xa0МВФ'} 0.000 \n",
      "{'text': 'Американские миротворцы скрывали факт массового убийства'} 0.000 \n",
      "{'text': 'На ММВБ перестанут торговать немецкими марками'} 0.001 \n",
      "{'text': 'Швейцарец создал подпольную армию'} 0.000 \n",
      "{'text': 'В центре Буэнос-Айреса разбился самолет со\\xa0130\\xa0пассажирами на\\xa0борту'} 0.000 \n",
      "{'text': 'США хотят сделать паузу в\\xa0кредитовании России'} 0.000 \n",
      "{'text': 'Минюст готовится к\\xa0борьбе с\\xa0политическими экстремистами'} 0.012 \n",
      "{'text': 'Убит абхазский таможенник'} 0.000 \n",
      "{'text': 'Компания Apple выпустила \"настольный суперкомпьютер\" Power Mac G4'} 0.002 \n",
      "{'text': 'Взрыв на\\xa0Манежной: новые версии'} 0.010 \n",
      "{'text': '\"Окружение президента  не\\xa0желает  объективного расследования скандала вокруг Bank of\\xa0New York\"'} 0.000 \n",
      "{'text': 'Восточный Тимор после референдума: анархия и\\xa0стрельба'} 0.001 \n",
      "{'text': 'США заплатили Китаю 4,5\\xa0миллиона долларов за \"ошибочную бомбардировку\"'} 0.022 \n",
      "{'text': 'C 1\\xa0сентября вводится новая форма таможенной декларации'} 0.000 \n",
      "{'text': 'Еще одно землетрясение в\\xa0Турции: один человек погиб, около 70\\xa0ранены'} 0.006 \n",
      "{'text': 'Литва засудила участников переворота 91\\xa0года'} 0.000 \n",
      "{'text': 'Референдум по\\xa0вопросу о\\xa0самоопределении Восточного Тимора прошел успешно'} 0.019 \n",
      "{'text': 'Киргизия ведет бои на\\xa0границах с\\xa0Таджикистаном и\\xa0Узбекистаном'} 0.007 \n",
      "{'text': 'Российские национал-большевики убирают территорию Севастополя'} 0.000 \n",
      "{'text': 'Южно-Сахалинск объявлен очагом холеры'} 0.000 \n",
      "{'text': 'Леворадикалы создают предвыборный блок'} 0.001 \n",
      "{'text': 'В горах Дагестана идут активные боевые действия'} 0.000 \n",
      "{'text': 'Карачаево-Черкесия раскололась по\\xa0национальному признаку'} 0.000 \n",
      "{'text': 'Коржаков готов рассказать Генпрокуратуре про финансовое состояние Ельцина'} 0.000 \n"
     ]
    }
   ],
   "source": [
    "for text in l:\n",
    "    ans = test_strs(text)\n",
    "    if ans:\n",
    "        print(text, '{0:.3f} '.format(ans))\n"
   ]
  },
  {
   "cell_type": "code",
   "execution_count": null,
   "metadata": {},
   "outputs": [],
   "source": []
  },
  {
   "cell_type": "code",
   "execution_count": 17,
   "metadata": {},
   "outputs": [
    {
     "ename": "NameError",
     "evalue": "name 'test_strs' is not defined",
     "output_type": "error",
     "traceback": [
      "\u001b[0;31m---------------------------------------------------------------------------\u001b[0m",
      "\u001b[0;31mNameError\u001b[0m                                 Traceback (most recent call last)",
      "\u001b[0;32m<ipython-input-17-352fbbf96e85>\u001b[0m in \u001b[0;36m<module>\u001b[0;34m\u001b[0m\n\u001b[0;32m----> 1\u001b[0;31m test_strs({'text':\n\u001b[0m\u001b[1;32m      2\u001b[0m            'Вот такие дифирамбы поют Сашка поклонники 🤔А вы что скажете? Черно по делу выступает на Лобном или не всегда?'})\n",
      "\u001b[0;31mNameError\u001b[0m: name 'test_strs' is not defined"
     ]
    }
   ],
   "source": [
    "test_strs({'text':\n",
    "           'Вот такие дифирамбы поют Сашка поклонники 🤔А вы что скажете? Черно по делу выступает на Лобном или не всегда?'})"
   ]
  },
  {
   "cell_type": "code",
   "execution_count": null,
   "metadata": {},
   "outputs": [],
   "source": []
  },
  {
   "cell_type": "code",
   "execution_count": 70,
   "metadata": {},
   "outputs": [
    {
     "name": "stderr",
     "output_type": "stream",
     "text": [
      "/usr/local/lib/python3.5/dist-packages/torch/serialization.py:251: UserWarning: Couldn't retrieve source code for container of type SimilarityNet. It won't be checked for correctness upon loading.\n",
      "  \"type \" + obj.__name__ + \". It won't be checked \"\n"
     ]
    }
   ],
   "source": [
    "simnet.cpu()\n",
    "torch.save(simnet, '../models/simnet.torch')"
   ]
  },
  {
   "cell_type": "code",
   "execution_count": null,
   "metadata": {},
   "outputs": [],
   "source": []
  },
  {
   "cell_type": "code",
   "execution_count": 63,
   "metadata": {},
   "outputs": [],
   "source": [
    "import similarity as sim"
   ]
  },
  {
   "cell_type": "code",
   "execution_count": 69,
   "metadata": {},
   "outputs": [],
   "source": [
    "sim.process_str({'text':\n",
    "                 ' поклонники 🤔всегда?'})"
   ]
  },
  {
   "cell_type": "code",
   "execution_count": null,
   "metadata": {},
   "outputs": [],
   "source": []
  }
 ],
 "metadata": {
  "kernelspec": {
   "display_name": "Python 3",
   "language": "python",
   "name": "python3"
  },
  "language_info": {
   "codemirror_mode": {
    "name": "ipython",
    "version": 3
   },
   "file_extension": ".py",
   "mimetype": "text/x-python",
   "name": "python",
   "nbconvert_exporter": "python",
   "pygments_lexer": "ipython3",
   "version": "3.5.2"
  }
 },
 "nbformat": 4,
 "nbformat_minor": 2
}
